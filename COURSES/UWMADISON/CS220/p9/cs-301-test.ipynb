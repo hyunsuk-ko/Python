{
 "cells": [
  {
   "cell_type": "code",
   "execution_count": 1,
   "metadata": {},
   "outputs": [],
   "source": [
    "# project: p9\n",
    "# submitter: hko26\n",
    "# partner: dkim598"
   ]
  },
  {
   "cell_type": "code",
   "execution_count": 2,
   "metadata": {},
   "outputs": [],
   "source": [
    "import os, json, csv, pandas\n",
    "import pandas as pd"
   ]
  },
  {
   "cell_type": "code",
   "execution_count": 3,
   "metadata": {},
   "outputs": [
    {
     "data": {
      "text/plain": [
       "['sample_reviews.json',\n",
       " 'sample_reviews.csv',\n",
       " 'review5.json',\n",
       " 'review5.csv',\n",
       " 'review4.json',\n",
       " 'review4.csv',\n",
       " 'review3.json',\n",
       " 'review3.csv',\n",
       " 'review2.json',\n",
       " 'review2.csv',\n",
       " 'review1.json',\n",
       " 'review1.csv',\n",
       " 'products.json']"
      ]
     },
     "execution_count": 3,
     "metadata": {},
     "output_type": "execute_result"
    }
   ],
   "source": [
    "#Q1: What are the names of the files present in the data directory?\n",
    "def get_names(directory):\n",
    "    file_list = os.listdir(directory)\n",
    "    return sorted(file_list, reverse = True) \n",
    "get_names('data')"
   ]
  },
  {
   "cell_type": "code",
   "execution_count": 4,
   "metadata": {},
   "outputs": [],
   "source": [
    "def get_paths(data,file_type = 'all'):\n",
    "    file_list = os.listdir(data)\n",
    "    org_string = file_type.lower()\n",
    "    path_list = []\n",
    "    if file_type == 'all':\n",
    "        for paths in file_list:\n",
    "            path_list.append(os.path.join(data, paths))\n",
    "    elif org_string == 'json': \n",
    "        # https://stackoverflow.com/questions/21772194/how-to-differentiate-between-two-different-type-of-files-in-python-2-7\n",
    "        for paths in file_list:\n",
    "            if paths.endswith('.json'):\n",
    "                path_list.append(os.path.join(data, paths))\n",
    "    \n",
    "    elif org_string == 'csv':\n",
    "        for paths in file_list:\n",
    "            if paths.endswith('.csv'):\n",
    "                path_list.append(os.path.join(data, paths))\n",
    "    \n",
    "    return sorted(path_list, reverse = True) "
   ]
  },
  {
   "cell_type": "code",
   "execution_count": 5,
   "metadata": {},
   "outputs": [
    {
     "data": {
      "text/plain": [
       "['data\\\\sample_reviews.json',\n",
       " 'data\\\\sample_reviews.csv',\n",
       " 'data\\\\review5.json',\n",
       " 'data\\\\review5.csv',\n",
       " 'data\\\\review4.json',\n",
       " 'data\\\\review4.csv',\n",
       " 'data\\\\review3.json',\n",
       " 'data\\\\review3.csv',\n",
       " 'data\\\\review2.json',\n",
       " 'data\\\\review2.csv',\n",
       " 'data\\\\review1.json',\n",
       " 'data\\\\review1.csv',\n",
       " 'data\\\\products.json']"
      ]
     },
     "execution_count": 5,
     "metadata": {},
     "output_type": "execute_result"
    }
   ],
   "source": [
    "#Q2: What are the paths of all the files in the data directory?\n",
    "get_paths(\"data\")"
   ]
  },
  {
   "cell_type": "code",
   "execution_count": 6,
   "metadata": {},
   "outputs": [
    {
     "data": {
      "text/plain": [
       "['data\\\\sample_reviews.json',\n",
       " 'data\\\\review5.json',\n",
       " 'data\\\\review4.json',\n",
       " 'data\\\\review3.json',\n",
       " 'data\\\\review2.json',\n",
       " 'data\\\\review1.json',\n",
       " 'data\\\\products.json']"
      ]
     },
     "execution_count": 6,
     "metadata": {},
     "output_type": "execute_result"
    }
   ],
   "source": [
    "#Q3: What are the paths of all the JSON files present in data directory?\n",
    "get_paths(\"data\", 'json')"
   ]
  },
  {
   "cell_type": "code",
   "execution_count": 7,
   "metadata": {},
   "outputs": [
    {
     "data": {
      "text/plain": [
       "['data\\\\review5.json',\n",
       " 'data\\\\review5.csv',\n",
       " 'data\\\\review4.json',\n",
       " 'data\\\\review4.csv',\n",
       " 'data\\\\review3.json',\n",
       " 'data\\\\review3.csv',\n",
       " 'data\\\\review2.json',\n",
       " 'data\\\\review2.csv',\n",
       " 'data\\\\review1.json',\n",
       " 'data\\\\review1.csv']"
      ]
     },
     "execution_count": 7,
     "metadata": {},
     "output_type": "execute_result"
    }
   ],
   "source": [
    "#Q4: What are the paths of all the files present in data directory, that begin with the phrase 'review'?\n",
    "def get_paths_startswith(data, phrase):\n",
    "    file_list = get_paths('data')\n",
    "    inclusion_list = []\n",
    "    for path in file_list:\n",
    "        file_name = os.path.basename(path)\n",
    "        if file_name.startswith('review'):\n",
    "            inclusion_list.append(path)\n",
    "    return sorted(inclusion_list, reverse = True)\n",
    "\n",
    "def get_names_startswith(data, phrase):\n",
    "    file_list = get_names('data')\n",
    "    inclusion_list = []\n",
    "    for name in file_list:\n",
    "        if name.startswith(phrase):\n",
    "            inclusion_list.append(name)\n",
    "    return sorted(inclusion_list, reverse = True)\n",
    "\n",
    "get_paths_startswith(\"data\", \"review\")"
   ]
  },
  {
   "cell_type": "code",
   "execution_count": 8,
   "metadata": {},
   "outputs": [
    {
     "data": {
      "text/plain": [
       "{'B00QFQRELG': 'Amazon 9W PowerFast Official OEM USB Charger and Power Adapter for Fire Tablets and Kindle eReaders',\n",
       " 'B01BH83OOM': 'Amazon Tap Smart Assistant Alexa enabled (black) Brand New',\n",
       " 'B00ZV9PXP2': 'All-New Kindle E-reader - Black, 6\" Glare-Free Touchscreen Display, Wi-Fi - Includes Special Offers',\n",
       " 'B0751RGYJV': 'Amazon Echo (2nd Generation) Smart Assistant Oak Finish Priority Shipping',\n",
       " 'B00IOY8XWQ': 'Kindle Voyage E-reader, 6 High-Resolution Display (300 ppi) with Adaptive Built-in Light, PagePress Sensors, Wi-Fi - Includes Special Offers',\n",
       " 'B0752151W6': 'All-new Echo (2nd Generation) with improved sound, powered by Dolby, and a new design Walnut Finish',\n",
       " 'B018Y226XO': 'Fire Kids Edition Tablet, 7 Display, Wi-Fi, 16 GB, Pink Kid-Proof Case',\n",
       " 'B01ACEKAJY': 'All-New Fire HD 8 Tablet, 8 HD Display, Wi-Fi, 32 GB - Includes Special Offers, Black',\n",
       " 'B01AHB9CYG': 'All-New Fire HD 8 Tablet, 8 HD Display, Wi-Fi, 32 GB - Includes Special Offers, Magenta',\n",
       " 'B01AHB9CN2': 'All-New Fire HD 8 Tablet, 8 HD Display, Wi-Fi, 16 GB - Includes Special Offers, Magenta',\n",
       " 'B00VINDBJK': 'Kindle Oasis E-reader with Leather Charging Cover - Merlot, 6 High-Resolution Display (300 ppi), Wi-Fi - Includes Special Offers',\n",
       " 'B01AHB9C1E': 'Fire HD 8 Tablet with Alexa, 8 HD Display, 32 GB, Tangerine - with Special Offers',\n",
       " 'B018Y229OU': 'Fire Tablet, 7 Display, Wi-Fi, 8 GB - Includes Special Offers, Magenta'}"
      ]
     },
     "execution_count": 8,
     "metadata": {},
     "output_type": "execute_result"
    }
   ],
   "source": [
    "#Q5: What are the products in products.json?\n",
    "def read_json(json_filename):\n",
    "    f = open(os.path.join(\"data\", json_filename), encoding=\"utf-8\")\n",
    "    string = f.read()\n",
    "    json_str = json.loads(string)\n",
    "    f.close()\n",
    "    \n",
    "    return json_str\n",
    "\n",
    "read_json(\"products.json\")"
   ]
  },
  {
   "cell_type": "code",
   "execution_count": 9,
   "metadata": {},
   "outputs": [
    {
     "data": {
      "text/plain": [
       "'I would recommend this product. It works great and ver compact.'"
      ]
     },
     "execution_count": 9,
     "metadata": {},
     "output_type": "execute_result"
    }
   ],
   "source": [
    "#Q6: What is the review text of review with id 84440?\n",
    "def read_csv(csv_filename):\n",
    "    f = open(os.path.join(\"data\", csv_filename), encoding=\"utf-8\")\n",
    "    reader = csv.DictReader(f)\n",
    "    review_list = []\n",
    "    for row in reader:\n",
    "        review_list.append(row)\n",
    "    f.close()\n",
    "    return review_list\n",
    "\n",
    "def get_review(id, phrase = 'review'):\n",
    "    whole_csv = get_names_startswith(\"data\", phrase)\n",
    "    target_list = []\n",
    "    \n",
    "    for csv in whole_csv:\n",
    "        if csv.endswith('csv'):\n",
    "            target_list.append(csv)\n",
    "      \n",
    "    for review_files in target_list:\n",
    "        whole_review = read_csv(review_files)\n",
    "        for review in whole_review:\n",
    "            if review[\"review id\"] == id:\n",
    "                return review['review text']\n",
    "\n",
    "get_review(\"84440\")"
   ]
  },
  {
   "cell_type": "code",
   "execution_count": 10,
   "metadata": {},
   "outputs": [
    {
     "data": {
      "text/plain": [
       "'Loveeeeeeeee........................................'"
      ]
     },
     "execution_count": 10,
     "metadata": {},
     "output_type": "execute_result"
    }
   ],
   "source": [
    "#Q7: What is the review text of review with id 28615?\n",
    "get_review(\"28615\")"
   ]
  },
  {
   "cell_type": "code",
   "execution_count": 11,
   "metadata": {},
   "outputs": [
    {
     "data": {
      "text/plain": [
       "'review2.csv'"
      ]
     },
     "execution_count": 11,
     "metadata": {},
     "output_type": "execute_result"
    }
   ],
   "source": [
    "#Q8: What file contained the review with id 69273?\n",
    "def get_file_from_id(id, phrase = 'review'):\n",
    "    whole_csv = get_names_startswith(\"data\", phrase)\n",
    "    target_list = []\n",
    "    \n",
    "    for csv in whole_csv:\n",
    "        if csv.endswith('csv'):\n",
    "            target_list.append(csv)\n",
    "      \n",
    "    for review_files in target_list:\n",
    "        whole_review = read_csv(review_files)\n",
    "        for review in whole_review:\n",
    "            if review[\"review id\"] == id:\n",
    "                return review_files\n",
    "get_file_from_id('69273')"
   ]
  },
  {
   "cell_type": "code",
   "execution_count": 12,
   "metadata": {},
   "outputs": [
    {
     "data": {
      "text/plain": [
       "{'46663': ['Dmh1589', 'B018Y229OU'],\n",
       " '36363': ['Shoot2thril', 'B018Y229OU'],\n",
       " '15763': ['Barbara', 'B018Y229OU'],\n",
       " '5463': ['Elec8', 'B018Y229OU'],\n",
       " '54066': ['Silvrblur', 'B018Y229OU'],\n",
       " '33466': ['Trish', 'B018Y229OU'],\n",
       " '40869': ['airbear', 'B018Y229OU'],\n",
       " '30569': ['lorphe', 'B018Y229OU'],\n",
       " '89472': ['felix', 'B018Y229OU'],\n",
       " '48272': ['Bull99', 'B018Y229OU']}"
      ]
     },
     "execution_count": 12,
     "metadata": {},
     "output_type": "execute_result"
    }
   ],
   "source": [
    "#Q9: What is the data stored in sample_reviews.json?\n",
    "read_json(\"sample_reviews.json\")"
   ]
  },
  {
   "cell_type": "code",
   "execution_count": 13,
   "metadata": {},
   "outputs": [],
   "source": [
    "from collections import namedtuple"
   ]
  },
  {
   "cell_type": "code",
   "execution_count": 14,
   "metadata": {},
   "outputs": [
    {
     "data": {
      "text/plain": [
       "[Review(id=46663, username='Dmh1589', asin='B018Y229OU', title='Nice for kids', text='Easy to use. Memory fills up fast though. Battery life is decent.', rating=4, do_recommend=True, num_helpful=0, date='2016-12-23'),\n",
       " Review(id=36363, username='Shoot2thril', asin='B018Y229OU', title='Great tablet', text='Great tablet for the price. I already have 3 followers including the hd.', rating=5, do_recommend=True, num_helpful=0, date='2016-12-23'),\n",
       " Review(id=15763, username='Barbara', asin='B018Y229OU', title='Great tablet', text='Excellent tablet. Love the size. Fits perfectly in my purse. I would recommend this tablet.', rating=5, do_recommend=True, num_helpful=0, date='2016-12-23'),\n",
       " Review(id=5463, username='Elec8', asin='B018Y229OU', title='Great budget tablet', text='Great tablet for kids. Good for Netflix and YouTube.', rating=5, do_recommend=True, num_helpful=0, date='2016-12-23'),\n",
       " Review(id=54066, username='Silvrblur', asin='B018Y229OU', title='Great tablet for the price.', text='I bought this tablet for my 9 year old nephew and he loves it. It is easy to setup and very user friendly. Picked up a case for protection.Buy far the best bang for your buck for an entry level tablet.', rating=5, do_recommend=True, num_helpful=0, date='2016-12-23'),\n",
       " Review(id=33466, username='Trish', asin='B018Y229OU', title='Love it', text='My sister in law is in love with this. Best gift ever for her', rating=5, do_recommend=True, num_helpful=0, date='2016-12-23'),\n",
       " Review(id=40869, username='airbear', asin='B018Y229OU', title='Love it', text='Love it so much. So easy to use even for my little kids.', rating=5, do_recommend=True, num_helpful=0, date='2016-12-23'),\n",
       " Review(id=30569, username='lorphe', asin='B018Y229OU', title='Stand Amazon Tablet', text='Works well for the money. Got it from Black Friday deal. User friendly', rating=4, do_recommend=True, num_helpful=0, date='2016-12-23'),\n",
       " Review(id=89472, username='felix', asin='B018Y229OU', title='great ipad', text='i brought this for my kids and no regret. Make sure you buy a case protector along with it.', rating=5, do_recommend=True, num_helpful=0, date='2016-12-23'),\n",
       " Review(id=48272, username='Bull99', asin='B018Y229OU', title='Works great', text='This tablet is so compact and fit in my purse. It works very well.', rating=5, do_recommend=True, num_helpful=0, date='2016-12-23')]"
      ]
     },
     "execution_count": 14,
     "metadata": {},
     "output_type": "execute_result"
    }
   ],
   "source": [
    "#Q10: What is produced by your function get_reviews('sample_reviews.csv', 'sample_reviews.json')?\n",
    "def convert_to_boolean(string):\n",
    "    if string.lower() == 'true':\n",
    "        return True\n",
    "    elif string.lower() == 'false':\n",
    "        return False\n",
    "\n",
    "def get_reviews(review_csv, review_json):\n",
    "    Review = namedtuple('Review', ['id', 'username', 'asin', 'title', 'text','rating', 'do_recommend', 'num_helpful', 'date'])\n",
    "    review_list = []\n",
    "    try: # try~except for error in the process of reading review3.json\n",
    "        csv_data = read_csv(review_csv)\n",
    "        json_data = read_json(review_json)\n",
    "    except:\n",
    "        return []\n",
    "      \n",
    "    for review in csv_data:\n",
    "        try: # try~except for error-inducing cells from review2.csv\n",
    "            user_id = int(review['review id']) \n",
    "            user_username = json_data[review['review id']][0]\n",
    "            user_asin = json_data[review['review id']][1]\n",
    "            user_title = review['review title'] \n",
    "            user_text = review['review text'] \n",
    "            uesr_rating = int(review['review rating']) \n",
    "            user_do_recommend = convert_to_boolean(review['review do_recommend']) \n",
    "            user_num_helpful = int(review['review num_helpful'])\n",
    "            user_date = review['review date'] \n",
    "            \n",
    "            if user_title == '' or user_text == '' or user_date == '': # skip 'none' cells in review2\n",
    "                continue\n",
    "        except:\n",
    "            continue\n",
    "        \n",
    "        content = Review(user_id, user_username, user_asin ,user_title ,user_text , uesr_rating, \n",
    "              user_do_recommend, user_num_helpful, user_date)\n",
    "        review_list.append(content)\n",
    "    \n",
    "    return review_list\n",
    "\n",
    "          \n",
    "get_reviews('sample_reviews.csv', 'sample_reviews.json')"
   ]
  },
  {
   "cell_type": "code",
   "execution_count": 15,
   "metadata": {},
   "outputs": [
    {
     "data": {
      "text/plain": [
       "[Review(id=46663, username='Dmh1589', asin='B018Y229OU', title='Nice for kids', text='Easy to use. Memory fills up fast though. Battery life is decent.', rating=4, do_recommend=True, num_helpful=0, date='2016-12-23'),\n",
       " Review(id=36363, username='Shoot2thril', asin='B018Y229OU', title='Great tablet', text='Great tablet for the price. I already have 3 followers including the hd.', rating=5, do_recommend=True, num_helpful=0, date='2016-12-23'),\n",
       " Review(id=15763, username='Barbara', asin='B018Y229OU', title='Great tablet', text='Excellent tablet. Love the size. Fits perfectly in my purse. I would recommend this tablet.', rating=5, do_recommend=True, num_helpful=0, date='2016-12-23'),\n",
       " Review(id=5463, username='Elec8', asin='B018Y229OU', title='Great budget tablet', text='Great tablet for kids. Good for Netflix and YouTube.', rating=5, do_recommend=True, num_helpful=0, date='2016-12-23'),\n",
       " Review(id=54066, username='Silvrblur', asin='B018Y229OU', title='Great tablet for the price.', text='I bought this tablet for my 9 year old nephew and he loves it. It is easy to setup and very user friendly. Picked up a case for protection.Buy far the best bang for your buck for an entry level tablet.', rating=5, do_recommend=True, num_helpful=0, date='2016-12-23'),\n",
       " Review(id=33466, username='Trish', asin='B018Y229OU', title='Love it', text='My sister in law is in love with this. Best gift ever for her', rating=5, do_recommend=True, num_helpful=0, date='2016-12-23'),\n",
       " Review(id=40869, username='airbear', asin='B018Y229OU', title='Love it', text='Love it so much. So easy to use even for my little kids.', rating=5, do_recommend=True, num_helpful=0, date='2016-12-23'),\n",
       " Review(id=30569, username='lorphe', asin='B018Y229OU', title='Stand Amazon Tablet', text='Works well for the money. Got it from Black Friday deal. User friendly', rating=4, do_recommend=True, num_helpful=0, date='2016-12-23'),\n",
       " Review(id=89472, username='felix', asin='B018Y229OU', title='great ipad', text='i brought this for my kids and no regret. Make sure you buy a case protector along with it.', rating=5, do_recommend=True, num_helpful=0, date='2016-12-23'),\n",
       " Review(id=48272, username='Bull99', asin='B018Y229OU', title='Works great', text='This tablet is so compact and fit in my purse. It works very well.', rating=5, do_recommend=True, num_helpful=0, date='2016-12-23')]"
      ]
     },
     "execution_count": 15,
     "metadata": {},
     "output_type": "execute_result"
    }
   ],
   "source": [
    "#Q11: What are the first ten Review objects in the list produced by get_reviews('review4.csv', 'review4.json')?\n",
    "answer = get_reviews('review4.csv', 'review4.json')\n",
    "answer[:10]"
   ]
  },
  {
   "cell_type": "code",
   "execution_count": 16,
   "metadata": {},
   "outputs": [
    {
     "data": {
      "text/plain": [
       "[Review(id=25136, username='Angrydagg', asin='B018Y229OU', title='Nice features for the price.', text='For the price this tables does everything I need. so far.', rating=4, do_recommend=True, num_helpful=0, date='2015-12-30'),\n",
       " Review(id=84039, username='Appman2015', asin='B018Y229OU', title='Great for xmas', text='So far I have bought three of these of tablets and they love it', rating=4, do_recommend=True, num_helpful=1, date='2015-12-30'),\n",
       " Review(id=22239, username='SuzieQ', asin='B018Y229OU', title='great for pre teens', text='i am glad i got them for my grand children they r enjoying them', rating=5, do_recommend=True, num_helpful=0, date='2015-12-31'),\n",
       " Review(id=70842, username='Gracie', asin='B018Y229OU', title='Great kindle', text='Purchase was good. Very easy to set up and use. Clear screen. Easy to charge. Would like more storage.', rating=5, do_recommend=True, num_helpful=0, date='2015-12-31'),\n",
       " Review(id=60542, username='Jeremyjeepster', asin='B018Y229OU', title='Good entry level tablet reader.', text='His is a very economical entry level tablet. Great for kids or for first time users.', rating=4, do_recommend=True, num_helpful=0, date='2015-12-31'),\n",
       " Review(id=9042, username='kinglowe78', asin='B018Y229OU', title='Good Deal', text='Real good deal. Nice present for those who want a tablet', rating=4, do_recommend=True, num_helpful=1, date='2016-01-01'),\n",
       " Review(id=98845, username='jamal', asin='B018Y229OU', title='good basic', text='Good gift for basic Internet use browsing emails .', rating=3, do_recommend=True, num_helpful=1, date='2016-01-01'),\n",
       " Review(id=88545, username='Abc1', asin='B018Y229OU', title='Lots of apps to play with', text='This is a good beginning tablet. Works well and has lots of preloaded apps to start you off.', rating=4, do_recommend=True, num_helpful=2, date='2016-01-01'),\n",
       " Review(id=47345, username='4Thrifty', asin='B018Y229OU', title='Great tablet', text='Well priced. Easy to operate. Fast and efficient. Great product.', rating=4, do_recommend=False, num_helpful=0, date='2016-01-02'),\n",
       " Review(id=54748, username='Sandycat19', asin='B018Y229OU', title='Good product fair price', text='Good for little ones who are just getting started on apps.', rating=5, do_recommend=True, num_helpful=0, date='2016-01-02')]"
      ]
     },
     "execution_count": 16,
     "metadata": {},
     "output_type": "execute_result"
    }
   ],
   "source": [
    "#Q12: What are the last ten Review objects in the list produced by get_reviews('review2.csv', 'review2.json')?\n",
    "q12_answer = get_reviews('review2.csv', 'review2.json')\n",
    "q12_answer[-10:]"
   ]
  },
  {
   "cell_type": "code",
   "execution_count": 17,
   "metadata": {},
   "outputs": [
    {
     "data": {
      "text/plain": [
       "Review(id=25401, username='Brody16', asin='B018Y229OU', title='Wonderful for our grandsons', text='Love the ease of using them for our grandsons and they enjoyed them for Christmas', rating=1, do_recommend=True, num_helpful=0, date='2017-01-06')"
      ]
     },
     "execution_count": 17,
     "metadata": {},
     "output_type": "execute_result"
    }
   ],
   "source": [
    "#Q13: What is the Review object with review id 25401?\n",
    "def get_review_object(id):\n",
    "    object_csv = get_file_from_id(id, phrase = 'review')\n",
    "    object_json = object_csv.split(\".\")[0] + \".json\"\n",
    "    total_reviews = get_reviews(object_csv, object_json)\n",
    "    \n",
    "    for review in total_reviews:\n",
    "        if review.id == int(id):\n",
    "            return review\n",
    "    \n",
    "get_review_object(\"25401\")"
   ]
  },
  {
   "cell_type": "code",
   "execution_count": 18,
   "metadata": {},
   "outputs": [
    {
     "data": {
      "text/plain": [
       "Review(id=78626, username='Mijenx', asin='B01AHB9CN2', title='Ended up returning', text='I bought this tablet for my 4 year old daughter. Too many advertisements. I would rather pay more and not have a single ad.', rating=1, do_recommend=False, num_helpful=2, date='2016-11-25')"
      ]
     },
     "execution_count": 18,
     "metadata": {},
     "output_type": "execute_result"
    }
   ],
   "source": [
    "#Q14: What is the Review object with review id 78626?\n",
    "get_review_object(\"78626\")"
   ]
  },
  {
   "cell_type": "code",
   "execution_count": 19,
   "metadata": {},
   "outputs": [],
   "source": [
    "def get_review_file(input):\n",
    "    total_review_files = get_names_startswith(\"data\", \"review\")\n",
    "    new_list = []\n",
    "    if input == 'csv':\n",
    "        for file in total_review_files:\n",
    "            if file.endswith('csv'):\n",
    "                new_list.append(file) \n",
    "    elif input == 'json':\n",
    "        for file in total_review_files:\n",
    "            if file.endswith('json'):\n",
    "                new_list.append(file)\n",
    "    return new_list"
   ]
  },
  {
   "cell_type": "code",
   "execution_count": 20,
   "metadata": {},
   "outputs": [
    {
     "data": {
      "text/plain": [
       "[Review(id=77848, username='bijju', asin='B018Y229OU', title='Decent tablet', text='This tablet from Amazon is decent. The performance of the tablet is de end too.', rating=3, do_recommend=True, num_helpful=0, date='2016-01-06'),\n",
       " Review(id=57248, username='dirk', asin='B018Y229OU', title='GREAT', text='GREAT TABLET FOR THE PRICE. KIDS LOVE IT. CANT BEAT IT.', rating=4, do_recommend=True, num_helpful=0, date='2016-01-06'),\n",
       " Review(id=64651, username='TanJ', asin='B018Y229OU', title='Great device for a child.', text='Purchased this device for a three year old. He loves it.', rating=4, do_recommend=True, num_helpful=0, date='2016-01-06'),\n",
       " Review(id=72054, username='Patience', asin='B018Y229OU', title='Great tablet', text='I bought themail kindle for my daughter to use at school. It was very convenient for her. She was able to do her assignmentshe off of it.', rating=5, do_recommend=True, num_helpful=0, date='2016-01-06'),\n",
       " Review(id=41154, username='Notal', asin='B018Y229OU', title='Good tablet', text='I bought it for my mother for Christmas and she loved it and she has not put it down since she has gotten it', rating=4, do_recommend=True, num_helpful=0, date='2016-01-06'),\n",
       " Review(id=30854, username='Princeaiman68', asin='B018Y229OU', title='Amazon fire', text='This is an excellent product especially for the price', rating=5, do_recommend=True, num_helpful=0, date='2016-01-06'),\n",
       " Review(id=10254, username='At95', asin='B018Y229OU', title='Great beginner tablet', text='Got this as a gift for my grandmother and loaded it with games for her. Simple to use and easy for her once my son showed her the basics.', rating=5, do_recommend=True, num_helpful=0, date='2016-01-06'),\n",
       " Review(id=100057, username='Christinefamily', asin='B018Y229OU', title='1wasnt enough', text='We bought 3 of these both our sons and our granddaughter LOVE then easy to operate so far no glitches sturdy and not so expensive I have to worry about the kids breaking them and not being able to replace', rating=5, do_recommend=True, num_helpful=0, date='2016-01-06'),\n",
       " Review(id=79457, username='carm', asin='B018Y229OU', title='Great tablet for the cost', text='We purchased 3 of these tablets for all of our children. They are perfect for them with little worry that they will get destroyed. Still functional for everything they do on them.', rating=5, do_recommend=True, num_helpful=0, date='2016-01-06'),\n",
       " Review(id=27957, username='grammy', asin='B018Y229OU', title='affordable tablet for my tween', text='I bought this to replace my granddaughter broken tablet. Cheap enough but good quality', rating=5, do_recommend=True, num_helpful=0, date='2016-01-06'),\n",
       " Review(id=97160, username='ohionative', asin='B018Y229OU', title='I like the Kindle Fire. Still have alot to learn', text='I do like the camera. Sorry that is all I have to say.', rating=5, do_recommend=True, num_helpful=0, date='2016-01-05'),\n",
       " Review(id=76560, username='Ramesh', asin='B018Y229OU', title='Best one for low price', text='Best tab for kids with very low budget and as another good product from Amazon', rating=4, do_recommend=True, num_helpful=0, date='2016-01-05'),\n",
       " Review(id=55960, username='Iceman9mm', asin='B018Y229OU', title='Great tablet for new users', text='I liked that it is quick responsive and aduquate for most task the ability to add more space via Micro SD card up to 128gb is helpful.', rating=5, do_recommend=True, num_helpful=0, date='2016-01-05'),\n",
       " Review(id=45660, username='kaz1', asin='B018Y229OU', title='Good Tablet', text='Great tablet for grandson to watch videos. Good sound and picture.', rating=5, do_recommend=True, num_helpful=0, date='2016-01-05'),\n",
       " Review(id=83963, username='GiftToSis', asin='B018Y229OU', title='Grood', text='Good product. Can add apps to it. Sister loved it.', rating=5, do_recommend=True, num_helpful=0, date='2016-01-06'),\n",
       " Review(id=73663, username='JustAnotherShopper', asin='B018Y229OU', title='Yankee swap', text='We got this for the yankee swap and it was extremely popular. The person that picked it up was very happy.', rating=4, do_recommend=True, num_helpful=0, date='2016-01-06'),\n",
       " Review(id=53063, username='Ralph3420', asin='B018Y229OU', title='great tablet for price', text='bought this for my wife she loves the fact she can now expand the memory to 128 gig', rating=5, do_recommend=True, num_helpful=0, date='2016-01-06'),\n",
       " Review(id=81066, username='BAM2005', asin='B018Y229OU', title='Good tablet for the price', text='Bought two for the kids. They are very happy. My only problem it that I have not been able to download movies to the SD card. I keep getting a message saying that the Kindle does not support it.', rating=4, do_recommend=True, num_helpful=0, date='2016-01-06'),\n",
       " Review(id=70766, username='Bigdawg1025', asin='B018Y229OU', title='tablet', text='The kindle is a good tablet and would recommend to others', rating=4, do_recommend=True, num_helpful=0, date='2016-01-06'),\n",
       " Review(id=50166, username='Dugfireman', asin='B018Y229OU', title='Great tablet', text='7 year old son uses with ease. Older son already had a kindle and I also own on. Very good product.', rating=4, do_recommend=True, num_helpful=0, date='2016-01-05'),\n",
       " Review(id=19266, username='blueeyes', asin='B018Y229OU', title='Good tablet for older person', text='The tablet was nice. Lots of Amazon access. It would be a good thing for someone a little older.', rating=4, do_recommend=True, num_helpful=0, date='2016-01-05'),\n",
       " Review(id=36969, username='Patitoloco', asin='B018Y229OU', title='Excellent gift for anyone.', text='Great gift and excellent product for anyone. Easy to use and user friendly.', rating=4, do_recommend=True, num_helpful=0, date='2016-01-05'),\n",
       " Review(id=16369, username='MetallicaFan5', asin='B018Y229OU', title='Tablet is very user freindly', text='I wish ir had all the free aps on Google play store. I am finding I have to pay for alot of the free ones I am use to.', rating=4, do_recommend=True, num_helpful=0, date='2016-01-05'),\n",
       " Review(id=34072, username='cleanfreak', asin='B018Y229OU', title='Great starter tablet', text='This tablet was purchased for a 10 year old but anyone could benefit from it. Very easy to use. Processing speed is good for a bargain tablet. Battery lasts a long time. Overall a great starter tablet.', rating=5, do_recommend=True, num_helpful=0, date='2016-01-05'),\n",
       " Review(id=72375, username='sdecaf', asin='B018Y229OU', title='Christmas gift for the wife', text='My wifes last Kindle gave out after about 5 years so I went with the fire this time and she loves it.', rating=5, do_recommend=True, num_helpful=0, date='2016-01-05'),\n",
       " Review(id=51775, username='Lally', asin='B018Y229OU', title='Bought it as a gift for someone new to tablets', text='The receiver seems pleased and enjoys it. would buy.', rating=5, do_recommend=True, num_helpful=0, date='2016-01-05'),\n",
       " Review(id=31175, username='Naohs', asin='B018Y229OU', title='Great reading assistant', text='This device really helps my daughter improve in her reading and it is very simple to use.', rating=4, do_recommend=True, num_helpful=0, date='2016-01-05'),\n",
       " Review(id=10575, username='nene', asin='B018Y229OU', title='I like it', text='I like this product. I will recommend this product for friends and family. Thank you', rating=4, do_recommend=True, num_helpful=0, date='2016-01-05'),\n",
       " Review(id=275, username='MikeGA', asin='B018Y229OU', title='Great for Amazon', text='This product is a great entry level tablet. It is limited in both memory and function.', rating=5, do_recommend=True, num_helpful=0, date='2016-01-05'),\n",
       " Review(id=90078, username='sahyblu', asin='B018Y229OU', title='Great bought it for my niece she loves it', text='Easy to use and the kid friendly protector works great...', rating=5, do_recommend=True, num_helpful=1, date='2016-01-05'),\n",
       " Review(id=28278, username='Ketchup', asin='B018Y229OU', title='Old faithful', text='This was a replacement for my Son as he had one for about 4 years that just got broken .', rating=5, do_recommend=True, num_helpful=0, date='2016-01-04'),\n",
       " Review(id=97481, username='willy', asin='B018Y229OU', title='like it very much', text='I received this as a Christmas present. This is great to take on a trip or to work. It is great for watching movies or reading books. It was easy to setup.', rating=5, do_recommend=True, num_helpful=0, date='2016-01-04'),\n",
       " Review(id=76881, username='KittyCat', asin='B018Y229OU', title='Love it', text='My boss recommended getting a fire because she had one and so I got one too and i love that i can read my books from my kindle app on a bigger screen than my phone.', rating=5, do_recommend=True, num_helpful=0, date='2016-01-04'),\n",
       " Review(id=73984, username='CoolGuy12345', asin='B018Y229OU', title='Perfect beginner tablet', text='This is a great tablet for the beginner. Very light weight and easy to use.', rating=5, do_recommend=True, num_helpful=0, date='2016-01-05'),\n",
       " Review(id=53384, username='Jodie', asin='B018Y229OU', title='Good for games for elderly', text='Great buy used instead of using smart phone for games', rating=5, do_recommend=True, num_helpful=1, date='2016-01-05'),\n",
       " Review(id=32784, username='chipmunktoo', asin='B018Y229OU', title='Great gift', text='This was a gift to an employee and they absolutely love it.', rating=4, do_recommend=True, num_helpful=0, date='2016-01-05'),\n",
       " Review(id=88790, username='Alansg92', asin='B018Y229OU', title='Love it', text='I got it for my nephew and he very loves it.Great', rating=5, do_recommend=True, num_helpful=0, date='2016-01-04'),\n",
       " Review(id=57890, username='CountryDee', asin='B018Y229OU', title='No tech dad gets techy', text='The kindle is light and easy to use. Was able to get up and running within 10 minutes. Easy to charge. Programs are easy to view for older eyes. Perfect starter technology for the no tech generation.', rating=5, do_recommend=True, num_helpful=0, date='2016-01-04'),\n",
       " Review(id=37290, username='Momohead8', asin='B018Y229OU', title='Versatile', text='From web searches to Kindle Books this sleek device does it all.', rating=5, do_recommend=True, num_helpful=0, date='2016-01-04'),\n",
       " Review(id=75593, username='calsenior', asin='B018Y229OU', title='Purchased as a gift', text='I purchased it as a gift for my son and he is very pleased with it.', rating=4, do_recommend=True, num_helpful=1, date='2016-01-04'),\n",
       " Review(id=34393, username='Teddy', asin='B018Y229OU', title='Great for games', text='Got for my grand sons for Christmas and they had a blast. Uploaded favorite games and loloaded music.', rating=4, do_recommend=True, num_helpful=0, date='2016-01-04'),\n",
       " Review(id=82996, username='Joanne', asin='B018Y229OU', title='Excellent', text='Does everything I expected it to do. Definitely a great product for folks who want a good product with an affordable price.', rating=5, do_recommend=True, num_helpful=0, date='2016-01-04'),\n",
       " Review(id=31496, username='Marcol', asin='B018Y229OU', title='Great value', text='I wanted a tablet that would be easy to carry for reading. This exactly meets my needs and expectations. Great tablet', rating=4, do_recommend=True, num_helpful=0, date='2016-01-04'),\n",
       " Review(id=90399, username='Vuke', asin='B018Y229OU', title='Great for the price', text='Bought them for a 5 yr old and 7 yr old great for easy to use kid apps and learning games', rating=5, do_recommend=True, num_helpful=0, date='2016-01-04'),\n",
       " Review(id=28599, username='Nibor', asin='B018Y229OU', title='Easy to use. Good functionality. Inexpensive.', text='I bought for my wife who is not particularly technical. She enjoys reading eBooks now and likes the form factor and library of books available.', rating=4, do_recommend=True, num_helpful=0, date='2016-01-04'),\n",
       " Review(id=18299, username='Eminence', asin='B018Y229OU', title='Great tablet', text='Tablet was exactly what I was looking for at a very reasonable price.', rating=5, do_recommend=True, num_helpful=0, date='2016-01-04'),\n",
       " Review(id=25702, username='Danb', asin='B018Y229OU', title='Great for kids', text='I got it for my daughter for Christmas. I really liked the kids setting where she only had access to kid friendly apps and websites.', rating=5, do_recommend=True, num_helpful=0, date='2016-01-04'),\n",
       " Review(id=5102, username='BeeBoss09', asin='B018Y229OU', title='Great tablet at a great price', text='This is a great little tablet even with all the ads. Should have paid the extra money to not have the ads but still a great buy', rating=5, do_recommend=True, num_helpful=0, date='2016-01-04'),\n",
       " Review(id=94905, username='Happy2015', asin='B018Y229OU', title='Great item for a beginner', text='Got this for my mom so she can listen 2 music. Was simple to use.', rating=5, do_recommend=True, num_helpful=0, date='2016-01-04'),\n",
       " Review(id=84605, username='Simp', asin='B018Y229OU', title='Great inexpensive gift', text='I purchased this gift for my mom who loves to read and did not own a tablet. It was an inexpensive gift she will enjoy.', rating=5, do_recommend=True, num_helpful=0, date='2016-01-04'),\n",
       " Review(id=53705, username='Rosieroo', asin='B018Y229OU', title='Amazon Fire', text='I like this Fire very much. The background is bright so reading is easy. It would have been nice to have some instructions included.', rating=5, do_recommend=True, num_helpful=0, date='2016-01-04'),\n",
       " Review(id=43405, username='bunny720', asin='B018Y229OU', title='Great for teens', text='These are great for my teens to use at school. Now that their school uses online activities.', rating=5, do_recommend=True, num_helpful=0, date='2016-01-04'),\n",
       " Review(id=71408, username='dshenaut', asin='B018Y229OU', title='Great value', text='Very good value and easy to use. Wife loves it much better than using phone for her apps.', rating=5, do_recommend=True, num_helpful=0, date='2016-01-04'),\n",
       " Review(id=9608, username='bigboy', asin='B018Y229OU', title='the most sensible tablet', text='Easy to download apps and nice to watch movies and my daughter loves it', rating=3, do_recommend=True, num_helpful=0, date='2016-01-04'),\n",
       " Review(id=78811, username='cassie', asin='B018Y229OU', title='great phone ans tablet', text='love the products I bought for xmas presents they liked them alot', rating=5, do_recommend=True, num_helpful=0, date='2016-01-04'),\n",
       " Review(id=58211, username='sfisher0428', asin='B018Y229OU', title='NOT ENOUGH APPS', text='Its ok tablet but you dont have access to all the same apps that are in google play store. Also to really enjoy the tablet you should be memebr of amazon prime which I am not.', rating=1, do_recommend=False, num_helpful=1, date='2016-01-04'),\n",
       " Review(id=96514, username='Bmnsfld5', asin='B018Y229OU', title='Perfect tablet', text='I have really enjoyed by Amazon Fire. It does everything I need and is small enough for my purse.', rating=5, do_recommend=True, num_helpful=0, date='2016-01-04'),\n",
       " Review(id=65614, username='Cassieh', asin='B018Y229OU', title='Great for beginner', text='Good Christmas gift for a small time reader. Would buy again', rating=5, do_recommend=True, num_helpful=0, date='2016-01-29'),\n",
       " Review(id=55314, username='Pbwalker1213', asin='B018Y229OU', title='Good for kids', text='Good that it has parental control. Good for a simple tablet.', rating=4, do_recommend=True, num_helpful=0, date='2016-01-29'),\n",
       " Review(id=14114, username='Bigman', asin='B018Y229OU', title='Great tablet', text='Great tablet for the money kids love it great sound ease to use', rating=5, do_recommend=True, num_helpful=0, date='2016-01-29'),\n",
       " Review(id=3814, username='Raghava', asin='B018Y229OU', title='Worth buying', text='Good product to kids for playing games.sssssssssss', rating=5, do_recommend=True, num_helpful=0, date='2016-01-29'),\n",
       " Review(id=83317, username='jackie', asin='B018Y229OU', title='great buy', text='I love it and it is very easy to use I take it every where I go', rating=5, do_recommend=True, num_helpful=0, date='2016-01-29'),\n",
       " Review(id=73017, username='Babygirl1956', asin='B018Y229OU', title='Great my 4yr old grandson is very very happy', text='Great very easy to use clear picture my 4 yr old grandson is happy', rating=5, do_recommend=True, num_helpful=0, date='2016-01-29'),\n",
       " Review(id=52417, username='MiketheBrit', asin='B018Y229OU', title='great kinde', text='Excellent value for the money can not go wrong for the price', rating=5, do_recommend=True, num_helpful=0, date='2016-01-29'),\n",
       " Review(id=42117, username='CMS95', asin='B018Y229OU', title='Great value', text='The fire is a good product for its price. We bought it for travel and it worked like we wanted it to. The volume was lacking though. Trying to listen to a movie an the plane was very difficult.', rating=3, do_recommend=True, num_helpful=0, date='2016-01-29'),\n",
       " Review(id=31817, username='teneya', asin='B018Y229OU', title='great for a family', text='Love it. Its fast..the visual is great. It has plenty of room to download games and books on it. I love the mayday feature on it because its helped is when we got stuck. My 3 year old can use it very easily as can my elderly parent. The processor is fast and that makes doing anything on it', rating=5, do_recommend=True, num_helpful=0, date='2016-01-29'),\n",
       " Review(id=11217, username='Dedza', asin='B018Y229OU', title='Solid', text='This is a solid tablet that does everything you would want from a portable device to do', rating=4, do_recommend=True, num_helpful=0, date='2016-01-29'),\n",
       " Review(id=917, username='Deannie', asin='B018Y229OU', title='Awesome tablet', text='Bought this for my daughter for christmas. She is an David reader and just loves her new fire.', rating=5, do_recommend=True, num_helpful=0, date='2016-01-29'),\n",
       " Review(id=70120, username='Bigal', asin='B018Y229OU', title='Good tablet', text='I like the tablet. This is my 2 and tablet the first was a zeepad. Zeepad was a piece of you know what. I like the Fire though.', rating=4, do_recommend=True, num_helpful=0, date='2016-01-29'),\n",
       " Review(id=59820, username='Chuck', asin='B018Y229OU', title='Great birthday gift.', text='Got it for my grandson and he really does like it.', rating=4, do_recommend=True, num_helpful=0, date='2016-01-29'),\n",
       " Review(id=28920, username='Lashawn', asin='B018Y229OU', title='WORTH THE MONEY.', text='I bought 2 of these fire tablets for my children and I now want one for myself.', rating=4, do_recommend=True, num_helpful=0, date='2016-01-29'),\n",
       " Review(id=18620, username='Miller31', asin='B018Y229OU', title='Good for the kids', text='I wld buy this product again great pics and price is well worth it', rating=5, do_recommend=True, num_helpful=0, date='2016-01-29'),\n",
       " Review(id=46623, username='Debellis5', asin='B018Y229OU', title='Cool little tablet', text='Bought three of these during the Black Friday sale for family gifts. Everyone loved them. Cheap and fun little tablet to have.', rating=5, do_recommend=True, num_helpful=0, date='2016-01-29'),\n",
       " Review(id=64326, username='EricT', asin='B018Y229OU', title='Great budget tablet for the whole family', text='We purchased on of these tablets for the family during a black friday sale. my 8 year old son loves to play games on it and watch videos at home and on long car rides. My wife loves it to read books. We ended up buying a 2nd one because the use of the first was so much. we love it and cant beat the price', rating=5, do_recommend=True, num_helpful=0, date='2016-01-29'),\n",
       " Review(id=54026, username='Nicool', asin='B018Y229OU', title='Good for the price', text='I got this for 35 dollars as part of Thanksgiving promotion. Its normal price is 50. Its a good starting level tab for basic purpose. Its not as smooth as IPAD or Galaxy note but its ok for basic browsing. I specifically got this for my 3 year old to watch Youtube and play some light games and it works perfect. I am not much used to android so I found it a bit tricky to use. It also has a slot for microSD card so that solves your memory issues.', rating=4, do_recommend=True, num_helpful=1, date='2016-01-28'),\n",
       " Review(id=43726, username='datdude', asin='B018Y229OU', title='good cheap tablet', text='i purchased this for my wife to read books on she enjoys it', rating=5, do_recommend=True, num_helpful=0, date='2016-01-28'),\n",
       " Review(id=92329, username='Lane', asin='B018Y229OU', title='It is fair for the price', text='I bought this tablet because it was a cheap alternative to use it on roadtrips and watch movies. It also is perfect for the kids to play with it without worrying to much if they break it.', rating=5, do_recommend=True, num_helpful=0, date='2016-01-27'),\n",
       " Review(id=71729, username='yomama', asin='B018Y229OU', title='great but I hate the ads', text='Works great but I wishI could get rid of the ads on the home screen.', rating=4, do_recommend=True, num_helpful=0, date='2016-01-27'),\n",
       " Review(id=27632, username='gator', asin='B018Y229OU', title='Perfect starter tablet', text='Perfect tablet for the price. Easy to use good sound. We gave it to our 4yr old for his tablet.', rating=4, do_recommend=True, num_helpful=1, date='2016-01-24'),\n",
       " Review(id=76235, username='Mikesvikes', asin='B018Y229OU', title='Nice product', text='Lots of features at a great price. I would recommend this product.', rating=5, do_recommend=True, num_helpful=0, date='2016-01-24'),\n",
       " Review(id=14435, username='kate02', asin='B018Y229OU', title='great tablet', text='Good producti would tell a friend and family to buy', rating=5, do_recommend=True, num_helpful=0, date='2016-01-23'),\n",
       " Review(id=42438, username='Terpman', asin='B018Y229OU', title='Works great', text='Worked as expected and can use my old docking station', rating=4, do_recommend=True, num_helpful=0, date='2016-01-23'),\n",
       " Review(id=91041, username='wallymich', asin='B018Y229OU', title='Great value very functional tablet', text='Bought as a gift ... Great high quality tablet for the money.', rating=5, do_recommend=True, num_helpful=0, date='2016-01-23'),\n",
       " Review(id=80741, username='alfonsocruz73', asin='B018Y229OU', title='excelent', text='first tablet for my goddaughters they love it easy to use easy setup', rating=5, do_recommend=True, num_helpful=0, date='2016-01-23'),\n",
       " Review(id=60141, username='Sabre5000', asin='B018Y229OU', title='Great product', text='Bought two of these for our kids and they are loving them. Great value for the price.', rating=5, do_recommend=True, num_helpful=0, date='2016-01-23'),\n",
       " Review(id=8641, username='BigMamaDove', asin='B018Y229OU', title='Great gift', text='My daughter uses hers for college books. Best gift', rating=4, do_recommend=True, num_helpful=0, date='2016-01-23'),\n",
       " Review(id=98444, username='Daisy', asin='B018Y229OU', title='Great to put in purse.', text='Bought two for gifts. One for dad who spends a lot of time in the mall not by choice. Other fits in purse nicely.', rating=5, do_recommend=True, num_helpful=0, date='2016-01-23'),\n",
       " Review(id=77844, username='Wxstorm', asin='B018Y229OU', title='Solid low end tech item', text='The Amazon Fire Tablet is great for book reading and simple apps.', rating=4, do_recommend=True, num_helpful=0, date='2016-01-23'),\n",
       " Review(id=67544, username='TechGuy', asin='B018Y229OU', title='Nice tablet', text='I love the size. Easy to carry. Just like every other Kindle as far as features.', rating=5, do_recommend=True, num_helpful=0, date='2016-01-23'),\n",
       " Review(id=95547, username='Raka', asin='B018Y229OU', title='Great and cheap price', text='Great quality and cheap price I like this product and very friendly service', rating=5, do_recommend=True, num_helpful=0, date='2016-01-23'),\n",
       " Review(id=54347, username='MsUnique', asin='B018Y229OU', title='I Enjoyed It', text='I truly enjoyed it. I had it several months before buying an IPad.', rating=4, do_recommend=True, num_helpful=0, date='2016-01-22'),\n",
       " Review(id=44047, username='HHwelch', asin='B018Y229OU', title='Great Buy', text='I love that is great for kids and the parents can monitor it. The kids love it too.', rating=4, do_recommend=True, num_helpful=0, date='2016-01-22'),\n",
       " Review(id=23447, username='Kiki', asin='B018Y229OU', title='Great', text='Great gift for my sonEasy to useEasy set upLight weight', rating=5, do_recommend=True, num_helpful=0, date='2016-01-22'),\n",
       " Review(id=92650, username='Zekezombie', asin='B018Y229OU', title='Bad speaker', text='The product is good just the speaker came blown...', rating=3, do_recommend=True, num_helpful=0, date='2016-01-22'),\n",
       " Review(id=61750, username='Minnie', asin='B018Y229OU', title='Good tablet for kids', text='This tablet is very practical and easy to use for small kids and teens.', rating=4, do_recommend=True, num_helpful=0, date='2016-01-22'),\n",
       " Review(id=30850, username='NYCGal', asin='B018Y229OU', title='Great tablet for my 4 year old', text='I bought this as a gift for my four year old to read onand play educational games on. She loves it and it was a great price.', rating=4, do_recommend=True, num_helpful=0, date='2016-01-22'),\n",
       " Review(id=100053, username='Tank', asin='B018Y229OU', title='tablet was a great buy and kid friendly .', text='Xmas presents for grandkids they play games and they take lots of pictures . Good purchase .', rating=4, do_recommend=True, num_helpful=0, date='2016-01-22'),\n",
       " Review(id=69153, username='Annie1103', asin='B018Y229OU', title='Great gift', text='Loved the item..great for my autistic stepson.he was very happy.', rating=5, do_recommend=True, num_helpful=0, date='2016-01-22'),\n",
       " Review(id=38253, username='MrGrey', asin='B018Y229OU', title='Headphone did not work at first', text='headphone port did not work at first but after a hard reset the worked', rating=4, do_recommend=True, num_helpful=0, date='2016-01-22'),\n",
       " Review(id=27953, username='Anice183', asin='B018Y229OU', title='Well worth it', text='Exceeded my expectations would recommend to anyone who wants a good tablet for a good price.', rating=5, do_recommend=True, num_helpful=0, date='2016-01-22'),\n",
       " Review(id=97156, username='Bkaa', asin='B018Y229OU', title='Ads galore', text='I like the tablet but the ads can be a little offensive from time to time. I wish you could block ads for magazines and game with immodestly dressed people especially on the lock screen. The device is very nice for what I paid for it once you get passed the lock screen.', rating=4, do_recommend=True, num_helpful=0, date='2016-01-22'),\n",
       " Review(id=76556, username='steve2667', asin='B018Y229OU', title='nice tablet.', text='This amazon fire 7 tablet is good for web surfing.not so fast but its ok.', rating=5, do_recommend=True, num_helpful=0, date='2016-01-22'),\n",
       " Review(id=25056, username='Gjtv', asin='B018Y229OU', title='Perfect starter tablet', text='Great starter tablet. Not all apps are available. Good for reading.', rating=4, do_recommend=True, num_helpful=0, date='2016-01-22'),\n",
       " Review(id=94259, username='BestBuyShopper9', asin='B018Y229OU', title='Great device', text='Will be in the market to buy another one soon Great job Amazon', rating=5, do_recommend=True, num_helpful=0, date='2016-01-22'),\n",
       " Review(id=63359, username='Ohmerj', asin='B018Y229OU', title='Good for kids', text='This product is good for kids. Has options to put different users to have set up how each person wants it and can set parent controls.', rating=4, do_recommend=True, num_helpful=0, date='2016-01-22'),\n",
       " Review(id=22159, username='Keke', asin='B018Y229OU', title='Great for the price.', text='This was a gift for my 3 year old. I am so happy with my purchase. This try to keep some busy so I can now catch up with doing the things I loved.', rating=4, do_recommend=True, num_helpful=0, date='2016-01-22'),\n",
       " Review(id=1559, username='LadyA', asin='B018Y229OU', title='Great', text='Works great greatest of the year and I love it and it is the best thing ever I want to be the first half of the year before I go to sleep and wake', rating=5, do_recommend=True, num_helpful=0, date='2016-01-22'),\n",
       " Review(id=91362, username='Xmas', asin='B018Y229OU', title='Good Tablet', text='It is a decent tablet. Bought for my 12 year old. He is happy with it. Camera and video could be little better but it is ok.', rating=4, do_recommend=True, num_helpful=0, date='2016-01-22'),\n",
       " Review(id=81062, username='Queentori', asin='B018Y229OU', title='Great tablet', text='I bought this for my dad for christmas. He works long hours and like to watch movies and play games when he has a little break and this is perfect for just that.', rating=5, do_recommend=True, num_helpful=0, date='2016-01-22'),\n",
       " Review(id=70762, username='Tnrjarci', asin='B018Y229OU', title='Great price', text='Size is a little small and hard to type because characters are close together. Charge cord is positional so it is difficult to play with it while charging and cord is very short.The price is very good and it works well. I like the Amazon store and added benefit of Amazon coins', rating=4, do_recommend=True, num_helpful=0, date='2016-01-22'),\n",
       " Review(id=50162, username='Present', asin='B018Y229OU', title='Great present for my dad', text='Great tablet and easy to use for a beginner to use', rating=5, do_recommend=True, num_helpful=0, date='2016-01-22'),\n",
       " Review(id=29562, username='Sanbar', asin='B018Y229OU', title='Complete tablet for beginners and seasoned users', text='This is a great tablet for any user. The picture is beautiful and it is easy to navigate. It is compact and lightweight and simply elegant.', rating=5, do_recommend=True, num_helpful=0, date='2016-01-22'),\n",
       " Review(id=78165, username='Melaeng81', asin='B018Y229OU', title='Kindle fire', text='I love my kindle so much. It has a great screen clarity. Also the price was on point.', rating=5, do_recommend=True, num_helpful=0, date='2016-01-22'),\n",
       " Review(id=26665, username='chris', asin='B018Y229OU', title='good device for the price', text='its a good starter device for the kids but it has limitations for what you can download because its not an apple device.', rating=4, do_recommend=True, num_helpful=0, date='2016-01-22'),\n",
       " Review(id=16365, username='Trigger', asin='B018Y229OU', title='User friendly for a beginner', text='Gift suitable for an older person to spend time playing games. Visual size is reasonable.', rating=4, do_recommend=True, num_helpful=0, date='2016-01-22'),\n",
       " Review(id=95868, username='CJDT', asin='B018Y229OU', title='Wonderful Child Gift', text='Excellent buy as a gift for the young man it was purchased for.', rating=5, do_recommend=True, num_helpful=0, date='2016-01-22'),\n",
       " Review(id=64968, username='LucaBrassi', asin='B018Y229OU', title='great tablet', text='The Amazon Fire is a great tablet and it is very easy to use.', rating=5, do_recommend=True, num_helpful=0, date='2016-01-22'),\n",
       " Review(id=44368, username='Sunshines', asin='B018Y229OU', title='Freezes up.', text='The kindle continues to freeze up when watching a movie. It will also freeze randomly.', rating=1, do_recommend=False, num_helpful=2, date='2016-01-22'),\n",
       " Review(id=34068, username='tasselsandchrome', asin='B018Y229OU', title='Nice size', text='nice size and nice price for looking at my camera images on the go', rating=4, do_recommend=True, num_helpful=0, date='2016-01-22'),\n",
       " Review(id=72371, username='kindle', asin='B018Y229OU', title='nice tablet', text='It was a great purchase for my grandson. He enjoys the tablet and it seems to be easy for him to use.', rating=4, do_recommend=True, num_helpful=0, date='2016-01-21'),\n",
       " Review(id=41471, username='MarcM', asin='B018Y229OU', title='Great tablet', text='Great tablet for a very small price. Would buy again.', rating=5, do_recommend=True, num_helpful=0, date='2016-01-21'),\n",
       " Review(id=20871, username='Ammm', asin='B018Y229OU', title='Great tablet', text='Perfect deal for Black Friday weekend. Easy to buy on line and pick up in store.', rating=5, do_recommend=True, num_helpful=0, date='2016-01-21'),\n",
       " Review(id=271, username='NMGPRO', asin='B018Y229OU', title='Good little tablet', text='I purchased this to have a smaller footprint tablet. Could use more popular apps but still great for keeping the library at the tip of the fingers and a camera to boot.', rating=5, do_recommend=True, num_helpful=0, date='2016-01-21'),\n",
       " Review(id=69474, username='leee', asin='B018Y229OU', title='Great Buy', text='great buy. excellent product. Just need to buy a cover to protect', rating=5, do_recommend=True, num_helpful=1, date='2016-01-20'),\n",
       " Review(id=48874, username='matty', asin='B018Y229OU', title='great tablet', text='Love this tablet. Great for reading which is why I bought one.', rating=5, do_recommend=True, num_helpful=1, date='2016-01-20'),\n",
       " Review(id=38574, username='Rebe', asin='B018Y229OU', title='Excellent', text='The tablet is great and works perfectly for any use', rating=5, do_recommend=True, num_helpful=0, date='2016-01-20'),\n",
       " Review(id=35677, username='cateyes', asin='B018Y229OU', title='great tablet for the price', text='Great to have to keep the kids occupied in the car.', rating=4, do_recommend=True, num_helpful=0, date='2016-01-20'),\n",
       " Review(id=84280, username='JimiLee1', asin='B018Y229OU', title='Great Item', text='Got it for my future mother in law as a christmas gift she is enjoying being able to read books online', rating=5, do_recommend=True, num_helpful=0, date='2016-01-17'),\n",
       " Review(id=53380, username='Geniusactor', asin='B018Y229OU', title='First Experience', text='This is my first experience to use Amazon Tablet.This very useful in your life.You can use Android Market and Amazon Market too.I recommend this one. Cheap and convenient.', rating=5, do_recommend=True, num_helpful=0, date='2016-01-17'),\n",
       " Review(id=1880, username='TheWallyKingpin', asin='B018Y229OU', title='Great for kids.', text='Great for kids. Bought it for my daughter for Christmas and she loves it. For the cost it is a great tablet.', rating=4, do_recommend=True, num_helpful=0, date='2016-01-16'),\n",
       " Review(id=71083, username='BBCustomer', asin='B018Y229OU', title='Good tablet for the kids.', text='It is reasonably priced so you can replace if need be. The small size is perfect for kids especially when travelling.', rating=4, do_recommend=True, num_helpful=1, date='2016-01-16'),\n",
       " Review(id=40183, username='Vish', asin='B018Y229OU', title='Great Tablet for a beginner', text='Great Tablet for the price and works really well... Cannot go wrong with this Tablet', rating=4, do_recommend=True, num_helpful=0, date='2016-01-16'),\n",
       " Review(id=19583, username='RLD1', asin='B018Y229OU', title='Great product for the low price', text='A really low price for an amazing little pad. Quad chip', rating=4, do_recommend=True, num_helpful=0, date='2016-01-16'),\n",
       " Review(id=9283, username='polarbear1', asin='B018Y229OU', title='good', text='its okay it does freeze in a game and have to reboot it. but its okay.', rating=3, do_recommend=False, num_helpful=0, date='2016-01-16'),\n",
       " Review(id=78486, username='Maskstudio', asin='B018Y229OU', title='wondeful product', text='Great tablet for the beginner or young child. would recomend', rating=5, do_recommend=True, num_helpful=0, date='2016-01-16'),\n",
       " Review(id=75589, username='BRMemaw', asin='B018Y229OU', title='Great price.Great tablet.', text='I bought this for a 17 yr old.He absolutely loves it.The price for this tablet makes it so affordable.', rating=5, do_recommend=True, num_helpful=0, date='2016-01-16'),\n",
       " Review(id=54989, username='NoDak', asin='B018Y229OU', title='Bought as a gift', text='I purchased this item as a gift. She loves the tablet and uses it every day.', rating=5, do_recommend=True, num_helpful=0, date='2016-01-16'),\n",
       " Review(id=44689, username='Momof3', asin='B018Y229OU', title='Incredible Buy', text='Was looking for something for my son to play games on while traveling and this was very inexpensive and great quality. The charger is not nearly as long as it needs to be but otherwise it is a great product.', rating=5, do_recommend=True, num_helpful=0, date='2016-01-16'),\n",
       " Review(id=3489, username='tgrfan2', asin='B018Y229OU', title='Great for young grandkids', text='Surprisingly good picture quality and easy to use.', rating=5, do_recommend=True, num_helpful=0, date='2016-01-16'),\n",
       " Review(id=72692, username='RmH33', asin='B018Y229OU', title='Great Tablet', text='Really good for anyone all the best parts of amazon kindle fire but with new expandable storage which makes awesome plus cameras which were not available before', rating=5, do_recommend=True, num_helpful=0, date='2016-01-16'),\n",
       " Review(id=62392, username='Romaneyes4', asin='B018Y229OU', title='Cool tablet for books', text='Bought for my daughter. She likes it just for reading books.', rating=3, do_recommend=False, num_helpful=0, date='2016-01-16'),\n",
       " Review(id=41792, username='Maurice26', asin='B018Y229OU', title='My wife love her fire', text='I have no problems with it. Maybe a lil to small and to heavy', rating=4, do_recommend=True, num_helpful=0, date='2016-01-16'),\n",
       " Review(id=31492, username='rjcs', asin='B018Y229OU', title='goood kindle for the price', text='I bought this for a Christmas gift. She loved it. Went home that night and downloaded books.', rating=5, do_recommend=True, num_helpful=0, date='2016-01-16'),\n",
       " Review(id=69795, username='robo201038', asin='B018Y229OU', title='very nice for 50 bucks', text='nice little tablet cant go wrong with the price can watch movies browse the net all kids of apps and can expand the memory', rating=5, do_recommend=True, num_helpful=0, date='2016-01-15'),\n",
       " Review(id=38895, username='Bookpopcorn', asin='B018Y229OU', title='Amazon Fire Tablet', text='I really use it a lot. I take it with me everywhere. It fits perfectly in my purse. Love it for games and email.', rating=5, do_recommend=True, num_helpful=0, date='2016-01-15'),\n",
       " Review(id=18295, username='clarkbar', asin='B018Y229OU', title='Great for reading', text='Had to take first one back because the screen went haywire. The second one is doing great. Love how much it holds.', rating=5, do_recommend=True, num_helpful=0, date='2016-01-15'),\n",
       " Review(id=7995, username='Danlebroncafe', asin='B018Y229OU', title='Good', text='I like this tablet ...............................', rating=4, do_recommend=True, num_helpful=0, date='2016-01-15'),\n",
       " Review(id=56598, username='Sreeni', asin='B018Y229OU', title='Good one', text='good one..I liked it..even my kids enjoy this.use it for all games', rating=3, do_recommend=True, num_helpful=0, date='2016-01-15'),\n",
       " Review(id=35998, username='Theesunrise1', asin='B018Y229OU', title='Good tablet', text='So far so good seem like a good tablet for general stuff', rating=4, do_recommend=True, num_helpful=0, date='2016-01-15'),\n",
       " Review(id=15398, username='weslaco23', asin='B018Y229OU', title='Good tablet', text='Nice screen. Time limit for kids is a nice feature.', rating=4, do_recommend=True, num_helpful=0, date='2016-01-15'),\n",
       " Review(id=94901, username='twp1974', asin='B018Y229OU', title='Good starter tablet', text='Got it for Christmas for my 4yr old she loves it uses it to watch movies on it.. great for the little ones to use they have a great section of kid shows to buy at a very good price.', rating=5, do_recommend=True, num_helpful=0, date='2016-01-15'),\n",
       " Review(id=64001, username='mallard2920', asin='B018Y229OU', title='great product.', text='It has been a great tablet for my daughter. User friendly.', rating=5, do_recommend=True, num_helpful=0, date='2016-01-15'),\n",
       " Review(id=33101, username='Williemccorkle45', asin='B018Y229OU', title='Awesome tablet for child', text='This kindle fire tablet was perfect gift for child she is 3 years old bit can work it and loves it', rating=5, do_recommend=True, num_helpful=0, date='2016-01-15'),\n",
       " Review(id=2201, username='isela', asin='B018Y229OU', title='very disappointed', text='I thought this would be a good idea to buy my children. After I spoke with an associate at best buy and explained that I wanted this my my small children so they could play on YouTube he told me that it would work food for that. Well that was not the case I cannot ever get on you tube and my kids have not even used it after they initially tried.', rating=1, do_recommend=False, num_helpful=3, date='2016-01-15'),\n",
       " Review(id=30204, username='rafa', asin='B018Y229OU', title='Good tablet for kids', text='It was a good tablet really easy for kids with great security', rating=5, do_recommend=True, num_helpful=0, date='2016-01-15'),\n",
       " Review(id=9604, username='showman1023', asin='B018Y229OU', title='Great first time tablet.', text='It works well fast and easy to get to my email and Facebook too.', rating=4, do_recommend=True, num_helpful=0, date='2016-01-15'),\n",
       " Review(id=68507, username='Demented1914', asin='B018Y229OU', title='Excellent tablet for kids', text='Excellent tablet for kids. Does everything that an I Pad can do.', rating=4, do_recommend=True, num_helpful=0, date='2016-01-15'),\n",
       " Review(id=27307, username='Shadow', asin='B018Y229OU', title='The item was a good product', text='This was a gift for a mother. The mother loved the gift', rating=5, do_recommend=True, num_helpful=0, date='2016-01-15'),\n",
       " Review(id=96510, username='Themav01', asin='B018Y229OU', title='Great product', text='My kids each got one of these for Christmas. They like them much better than their Kindles', rating=5, do_recommend=True, num_helpful=0, date='2016-01-15'),\n",
       " Review(id=75910, username='Alex12', asin='B018Y229OU', title='Great', text='Bought this tablet for my brother for Xmas and he loved it. He is able to watch Netflix on his tablet. Recommend it for kids. I will be buying my sister one now too.', rating=5, do_recommend=True, num_helpful=0, date='2016-01-15'),\n",
       " Review(id=45010, username='mlafears', asin='B018Y229OU', title='Great products for kids', text='Great for streaming and learning games for kids. Good research tool for older kids.', rating=5, do_recommend=True, num_helpful=0, date='2016-01-15'),\n",
       " Review(id=93613, username='queen', asin='B018Y229OU', title='good', text='It was for my mother in law and she loves the tablet.', rating=4, do_recommend=True, num_helpful=0, date='2016-01-15'),\n",
       " Review(id=83313, username='mustang73', asin='B018Y229OU', title='daughter tablet', text='my daughter loves her tablet she got it for christmas and has lots of fun with her own games', rating=5, do_recommend=True, num_helpful=0, date='2016-01-15'),\n",
       " Review(id=52413, username='michc530', asin='B018Y229OU', title='Excellent', text='Excellent. Grandchildren love them. They were so excited to receive this and have not put it down since. Even my 2 year old is having a ball', rating=5, do_recommend=True, num_helpful=1, date='2016-01-15'),\n",
       " Review(id=913, username='Iowa1904', asin='B018Y229OU', title='I like it. It dose very thing I need', text='The price was right for what I needed and it dose what I need it to do.', rating=5, do_recommend=True, num_helpful=0, date='2016-01-15'),\n",
       " Review(id=80416, username='d1967g', asin='B018Y229OU', title='This was a great gift for my grandson.', text='it is easy for him to use. It has all the apps. that he wanted and can add more.', rating=5, do_recommend=True, num_helpful=0, date='2016-01-15'),\n",
       " Review(id=39216, username='rjnsb', asin='B018Y229OU', title='Great kindle', text='I got this kindle at a black Friday sale at a great price. My daughter loves it .She was able to set it up for more than one user so her and her boyfriend can both use it.', rating=5, do_recommend=True, num_helpful=0, date='2016-01-15'),\n",
       " Review(id=28916, username='glc1213', asin='B018Y229OU', title='Good product for the price', text='This was a gift to my sister in law and she loves it. Only comes with 8GB of memory but you can upgrade to 128 and she did.', rating=4, do_recommend=True, num_helpful=0, date='2016-01-15'),\n",
       " Review(id=8316, username='nikiscal', asin='B018Y229OU', title='AMAZON FIRE TABLET', text='BROUGHT FOR MY COWORKERS DAUGHTER FOR CHRISTMAS AND SHE LOVES IT. HE SAID ITS HER BEST GIFT.', rating=5, do_recommend=True, num_helpful=0, date='2016-01-15'),\n",
       " Review(id=77519, username='ivory', asin='B018Y229OU', title='eazy to use', text='a friend recommended the amazon fire tablet to me. its easy to use and i am very happy i brought the fire tablet', rating=5, do_recommend=True, num_helpful=0, date='2016-01-14'),\n",
       " Review(id=5419, username='Dawnok3', asin='B018Y229OU', title='Great tablet for my grandson', text='My grandson is 6 and he loves this tablet.. Easy for him to us and a great price.. Well worth it', rating=5, do_recommend=True, num_helpful=0, date='2016-01-14'),\n",
       " Review(id=95222, username='CEG4419', asin='B018Y229OU', title='Great gift for the kids', text='The process of creating profiles and tweaking parental controls was easy and painless.', rating=4, do_recommend=True, num_helpful=1, date='2016-01-13'),\n",
       " Review(id=84922, username='Falfan82', asin='B018Y229OU', title='Excellent tablet', text='Customer service rep took my sale was horrible. Would not recommend her as a customer friendly person', rating=5, do_recommend=True, num_helpful=0, date='2016-01-13'),\n",
       " Review(id=43722, username='jpensinger', asin='B018Y229OU', title='Great product', text='This was very easy to order online and pickup. Convenient and hastle free.', rating=5, do_recommend=True, num_helpful=0, date='2016-01-13'),\n",
       " Review(id=82025, username='Portiz23', asin='B018Y229OU', title='Great tablet for kids.', text='Good tablet so far. My kids have really enjoyed it and have not put down since they got it.', rating=4, do_recommend=True, num_helpful=1, date='2016-01-12'),\n",
       " Review(id=40825, username='tphillips', asin='B018Y229OU', title='kids love it', text='Purchased it for the kids and they love it. Easy to use', rating=4, do_recommend=True, num_helpful=0, date='2016-01-12'),\n",
       " Review(id=20225, username='cbuck', asin='B018Y229OU', title='Great Tablet', text='This is a great tablet for the price... Works excellent... Memory card capability makes it even better..', rating=5, do_recommend=True, num_helpful=0, date='2016-01-12'),\n",
       " Review(id=99728, username='jhm986', asin='B018Y229OU', title='Amazon fire is great does exactly what I purchased', text='Purchased it mostly to listen to music but it does so much more than I expected.', rating=5, do_recommend=True, num_helpful=0, date='2016-01-12'),\n",
       " Review(id=68828, username='AnnB', asin='B018Y229OU', title='Good tablet', text='Tablet works well and has all the functionality needed. Great Christmas deal.', rating=5, do_recommend=True, num_helpful=1, date='2016-01-12'),\n",
       " Review(id=27628, username='salsline3', asin='B018Y229OU', title='Love this reader', text='Love the screen great price and keeps my son entertained. He enjoys his short videos and pictures', rating=4, do_recommend=True, num_helpful=0, date='2016-01-12'),\n",
       " Review(id=86531, username='Ovid', asin='B018Y229OU', title='For the beginner', text='Someone who like to begin their journey to tab world that is absolutely one to get.', rating=4, do_recommend=True, num_helpful=0, date='2016-01-11'),\n",
       " Review(id=76231, username='Meme', asin='B018Y229OU', title='Great for kids.', text='My kids enjoy their tablets. They really enjoy the games the can download on it.', rating=4, do_recommend=True, num_helpful=0, date='2016-01-11'),\n",
       " Review(id=65931, username='janlern', asin='B018Y229OU', title='Great Tablet for beginner.', text='Bought this for my mother who has not used a tablet often and already she loves it and it helps to occupy her time since she has retired.', rating=5, do_recommend=True, num_helpful=0, date='2016-01-11'),\n",
       " Review(id=55631, username='Manny', asin='B018Y229OU', title='Great tablet', text='I would recommend this tablet to anyone very good tablet', rating=4, do_recommend=True, num_helpful=0, date='2016-01-11'),\n",
       " Review(id=35031, username='Cruise65', asin='B018Y229OU', title='Great Kindle', text='Love the kindle. Perfect size and very easy to use.', rating=5, do_recommend=True, num_helpful=0, date='2016-01-11'),\n",
       " Review(id=24731, username='Rufus08', asin='B018Y229OU', title='Great product at a great price', text='Best Buy always offers great products at great prices. There sales are outstanding and I always find their sales persons to be knowledgeable and friendly.', rating=5, do_recommend=True, num_helpful=0, date='2016-01-11'),\n",
       " Review(id=14431, username='k048', asin='B018Y229OU', title='Great tablet for the price', text='Great tablet for the price. Easy to read documents.', rating=5, do_recommend=True, num_helpful=0, date='2016-01-11'),\n",
       " Review(id=4131, username='rainbow52', asin='B018Y229OU', title='This is a budget tablet', text='I bought about four of these tablets as gifts for family members. This tablet does not come with a lot of features. Very affordable and Amazon builds a decent tablet.', rating=4, do_recommend=True, num_helpful=0, date='2016-01-11'),\n",
       " Review(id=93934, username='Klown', asin='B018Y229OU', title='Worth the Buy', text='Amazing product I bought 2 one for me and wife we read alot of books so perfect and the selection is great books a must buy.', rating=5, do_recommend=True, num_helpful=0, date='2016-01-11'),\n",
       " Review(id=52734, username='Coffee', asin='B018Y229OU', title='Great Gift.....', text='This was a great price and excellent gift. It has a lot of built in apps that both adults and kids will enjoy.', rating=4, do_recommend=True, num_helpful=0, date='2016-01-11'),\n",
       " Review(id=21834, username='Randy', asin='B018Y229OU', title='present', text='Was a present for my grandson. He uses it all the time and loves it.', rating=5, do_recommend=True, num_helpful=0, date='2016-01-11'),\n",
       " Review(id=11534, username='tbbulls', asin='B018Y229OU', title='Nice for the price', text='great buy for the price. Very vanilla and a little small but you cant beat the price for a beginners tablet or a cheap replacement.', rating=4, do_recommend=True, num_helpful=0, date='2016-01-11'),\n",
       " Review(id=1234, username='john', asin='B018Y229OU', title='Great Tablet for price.', text='Tablet is good for the price. A good tablet for beginner and does what we need it for.', rating=4, do_recommend=True, num_helpful=0, date='2016-01-11'),\n",
       " Review(id=91037, username='MaryD', asin='B018Y229OU', title='LOVE THIS TABLET', text='This tablet works just like expected. Great for the games I like to play. It is just the right size to carry in my purse. No problems.', rating=5, do_recommend=True, num_helpful=0, date='2016-01-11'),\n",
       " Review(id=49837, username='underdog', asin='B018Y229OU', title='Great tablet for the price', text='I never expected this small device could have so many features. Its good but you need to buy a memory extension', rating=4, do_recommend=True, num_helpful=0, date='2016-01-11'),\n",
       " Review(id=39537, username='Michelleroofs', asin='B018Y229OU', title='Purchased for niece and she loves it.', text='Great started tablet. I purchased this as a started tablet for my niece and she loves it.', rating=5, do_recommend=True, num_helpful=0, date='2016-01-11'),\n",
       " Review(id=18937, username='katherine', asin='B018Y229OU', title='They are for my grandkids that are three. Love TV', text='See above review summary Bought for my Grandkids and they love watching TV on it learning how to use. You should see their faces when the TV came on with Mickey on it.', rating=4, do_recommend=True, num_helpful=0, date='2016-01-11'),\n",
       " Review(id=57240, username='dani', asin='B018Y229OU', title='I love this kindle', text='I bought this for my 7 yr old and she just loves it.', rating=5, do_recommend=True, num_helpful=0, date='2016-01-11'),\n",
       " Review(id=5740, username='deon', asin='B018Y229OU', title='Great tablet for the low price', text='I bought this Tablet for my son and he loves it. The pictures are clear and the battery charge holds a long time. Excellent Tablet for the low price.', rating=3, do_recommend=True, num_helpful=0, date='2016-01-10'),\n",
       " Review(id=95543, username='Reeya', asin='B018Y229OU', title='excellent', text='Excellent speakers for home theater system satisfied', rating=4, do_recommend=True, num_helpful=0, date='2016-01-10'),\n",
       " Review(id=74943, username='levony', asin='B018Y229OU', title='great size', text='I like the size of this kindle and easy access to internet.', rating=5, do_recommend=True, num_helpful=0, date='2016-01-10'),\n",
       " Review(id=44043, username='TechBuyer', asin='B018Y229OU', title='Lives up to its hype. Nice product for the price.', text='Nice packaging. Easy setup. Great for a middle schooler.', rating=4, do_recommend=True, num_helpful=0, date='2016-01-10'),\n",
       " Review(id=33743, username='CesKindle', asin='B018Y229OU', title='Good cheap tablet for beginners', text='I bought it because it had great reviews yet was inexpensive. Worth every penny. The cases available r too pricey.', rating=4, do_recommend=True, num_helpful=0, date='2016-01-10'),\n",
       " Review(id=2843, username='monnaye', asin='B018Y229OU', title='Great tablets for kids.', text='I bought two for my kids for Christmas. They love it.', rating=5, do_recommend=True, num_helpful=0, date='2016-01-10'),\n",
       " Review(id=82346, username='Intothewoods', asin='B018Y229OU', title='Good for the price', text='The display is not great but can be used as a back up device for rough use', rating=4, do_recommend=True, num_helpful=0, date='2016-01-10'),\n",
       " Review(id=72046, username='go2school', asin='B018Y229OU', title='Very pleased', text='Excellent tablet at an exceptional price. I highly recommend this tablet.', rating=5, do_recommend=True, num_helpful=0, date='2016-01-10'),\n",
       " Review(id=30846, username='Jesus', asin='B018Y229OU', title='Great tablet for young teens', text='Great price and great for young one and a good tablets for beginners', rating=4, do_recommend=True, num_helpful=0, date='2016-01-10'),\n",
       " Review(id=10246, username='castillo111', asin='B018Y229OU', title='great for kids', text='great to use very easy to use for teens and greatprice', rating=5, do_recommend=True, num_helpful=0, date='2016-01-10'),\n",
       " Review(id=27949, username='jimy', asin='B018Y229OU', title='has everything i need it', text='esay to read screen and fast operating systemgreat for a young adult', rating=4, do_recommend=True, num_helpful=0, date='2016-01-10'),\n",
       " Review(id=17649, username='Pesha', asin='B018Y229OU', title='Wonderful wonderful tablet', text='I love the new kindle. It has many updates that make it more like a tablet. Great gaming options and is still the perfect device to read books from.', rating=5, do_recommend=True, num_helpful=0, date='2016-01-10'),\n",
       " Review(id=76552, username='Chicago', asin='B018Y229OU', title='loving the kindle', text='everything I was looking for and more. Clarity and brightness', rating=4, do_recommend=True, num_helpful=0, date='2016-01-10'),\n",
       " Review(id=45652, username='Byaga', asin='B018Y229OU', title='Very good', text='I have been using this for a couple of weeks now and very happy with it', rating=4, do_recommend=True, num_helpful=0, date='2016-01-10'),\n",
       " Review(id=14752, username='Pentonto666', asin='B018Y229OU', title='A lil different than traditional android but still', text='YouTube plays only in the desktop version not the mobile version', rating=4, do_recommend=True, num_helpful=2, date='2016-01-10'),\n",
       " Review(id=94255, username='desi34', asin='B018Y229OU', title='Great tablet', text='my kids love it. It fast and the camera is great. Easy to use', rating=5, do_recommend=True, num_helpful=0, date='2016-01-10'),\n",
       " Review(id=53055, username='Camt', asin='B018Y229OU', title='Good tablet buy terrible battery life', text='I bought this for my kids to play on. It fills that aspect great but the battery might last two hours of continuous use.', rating=4, do_recommend=True, num_helpful=0, date='2016-01-09'),\n",
       " Review(id=32455, username='Bach', asin='B018Y229OU', title='Gift', text='This item was purchased for a gift I red feedbackThe person enjoyed the gift', rating=5, do_recommend=True, num_helpful=0, date='2016-01-09'),\n",
       " Review(id=1555, username='tiger1', asin='B018Y229OU', title='wonderful first tablet', text='this is my first tablet and so far it has been great. Games and apps. all loaded fast and worked great. Wish battery was stronger but I use it around the house a lot and plugging it in is not a problem and it charges fast.', rating=5, do_recommend=True, num_helpful=0, date='2016-01-09'),\n",
       " Review(id=81058, username='Jasonfolsom', asin='B018Y229OU', title='Safe buy', text='Safe buy bought on Black Friday for 35 bucks super happy', rating=4, do_recommend=True, num_helpful=0, date='2016-01-09'),\n",
       " Review(id=8958, username='valley2', asin='B018Y229OU', title='A great deal', text='Was given to my husband as a gift. He loves it. Said it was a great gift. Purchase it at a great price.', rating=4, do_recommend=True, num_helpful=0, date='2016-01-09'),\n",
       " Review(id=98761, username='TnChick16', asin='B018Y229OU', title='Very nice tablet', text='Bought for my parents fur Christmas. They live them. Very simple and easy to use', rating=5, do_recommend=True, num_helpful=0, date='2016-01-09'),\n",
       " Review(id=47261, username='Pdavis5', asin='B018Y229OU', title='Great kindle HD for the price excellent gift for g', text='Excellent kindle for the price. Works great and ordering from Best Buy online was amazing.', rating=5, do_recommend=True, num_helpful=0, date='2016-01-09'),\n",
       " Review(id=36961, username='low2thaflo', asin='B018Y229OU', title='great book apps', text='The Fire 7 Tablet allows you to get a lot of free apps. It runs fast even with the amount of apps you have on there.', rating=4, do_recommend=True, num_helpful=0, date='2016-01-09'),\n",
       " Review(id=16361, username='Nannies', asin='B018Y229OU', title='Bought as a gift for my sons grandma', text='I have a couple kindle fires myself. I loved them and she was looking for a reader. So I got her this kindle fire. She loves it.', rating=5, do_recommend=True, num_helpful=0, date='2016-01-09'),\n",
       " Review(id=75264, username='brown530', asin='B018Y229OU', title='great tablet', text='kindle fire is a great product also caught it at a special price its super fast and takes great photos', rating=5, do_recommend=True, num_helpful=0, date='2016-01-09'),\n",
       " Review(id=64964, username='MRMULL', asin='B018Y229OU', title='Easy to use', text='Price was reasonable and it is easy to use. It is just the right size for traveling.', rating=4, do_recommend=True, num_helpful=0, date='2016-01-09'),\n",
       " Review(id=34064, username='pack1566', asin='B018Y229OU', title='ok tablet for a beginner', text='good tablet for a young person to begin with small to handle', rating=3, do_recommend=True, num_helpful=0, date='2016-01-09'),\n",
       " Review(id=23764, username='litu', asin='B018Y229OU', title='Great product for student', text='Overall good product and got everything I need to stay tune.', rating=4, do_recommend=True, num_helpful=0, date='2016-01-09'),\n",
       " Review(id=13464, username='Dillon0906', asin='B018Y229OU', title='Great product', text='I would highly reconmnd this product to anybody. I use it on a daily basis', rating=5, do_recommend=True, num_helpful=0, date='2016-01-09'),\n",
       " Review(id=92967, username='CBJR', asin='B018Y229OU', title='Bought 4 in all for Christmas', text='Bought four of these for nieces and nephews. Works great been several weeks all four going strong and these kids can break anything really easy.', rating=5, do_recommend=True, num_helpful=0, date='2016-01-09'),\n",
       " Review(id=82667, username='Coacheswife', asin='B018Y229OU', title='Great tablet for our kids', text='Great tablet for kids to play games and watch videos.', rating=4, do_recommend=True, num_helpful=0, date='2016-01-09'),\n",
       " Review(id=62067, username='STACIE', asin='B018Y229OU', title='GREAT TABLET FOR BEGINNERS.', text='My kids just Love there tablets and they are Very Much worth the price.', rating=5, do_recommend=True, num_helpful=0, date='2016-01-09'),\n",
       " Review(id=20867, username='sd78', asin='B018Y229OU', title='Awesome tab', text='Foe the Price... Its a steal. Awesome tablet for basic needs.', rating=5, do_recommend=True, num_helpful=0, date='2016-01-09'),\n",
       " Review(id=28270, username='1250', asin='B018Y229OU', title='Given as a christmas gift', text='We purchased the Kindle Fire as a Christmas gift forfpor Son in law and really not sure what he thinks about it since he has not said anything except thank you when he opened it on Christmas morning. Sorry.', rating=4, do_recommend=True, num_helpful=0, date='2016-01-09'),\n",
       " Review(id=17970, username='handyman26', asin='B018Y229OU', title='Good tab for the price', text='This is a good tab for the price not a big issue if you break it.', rating=3, do_recommend=False, num_helpful=0, date='2016-01-09'),\n",
       " Review(id=7670, username='computerdude', asin='B018Y229OU', title='Good starter tablet', text='I purchased this for an 11 year old. This was more than enough for his games and videos.', rating=4, do_recommend=True, num_helpful=0, date='2016-01-09'),\n",
       " Review(id=25373, username='Grittzngravy', asin='B018Y229OU', title='Gets the job done', text='Bought for a first time tablet user with little technology aptitude so works great to get there toe wet in using a touch screen simple easy and cheap', rating=4, do_recommend=True, num_helpful=0, date='2016-01-09'),\n",
       " Review(id=15073, username='Markanthony3602000', asin='B018Y229OU', title='Good deal for the price.', text='Perfect tablet for my 7 year old girl. She really enjoys it.', rating=4, do_recommend=True, num_helpful=0, date='2016-01-09'),\n",
       " Review(id=4773, username='Onoria', asin='B018Y229OU', title='Great gift', text='Was a gift for a friend who enjoys how convenient and light it is.', rating=5, do_recommend=True, num_helpful=0, date='2016-01-09'),\n",
       " Review(id=73976, username='Kyle', asin='B018Y229OU', title='Terrific Value', text='Amazon has the right idea with building an affordable yet quality tablet that provides wonderful access to Prime content.', rating=5, do_recommend=True, num_helpful=0, date='2016-01-09'),\n",
       " Review(id=53376, username='Eericksen', asin='B018Y229OU', title='Great value', text='I purchased two for my kids for Christmas. They are not as easy to maneuver as an IPad but they loved them', rating=4, do_recommend=True, num_helpful=0, date='2016-01-09'),\n",
       " Review(id=12176, username='MLORD', asin='B018Y229OU', title='requested Christmas gift', text='Gift was appreciated. Very affordable. Easy to shop online and pick up at store.', rating=4, do_recommend=True, num_helpful=0, date='2016-01-09'),\n",
       " Review(id=81379, username='grandmouse6', asin='B018Y229OU', title='great tablet for a 6 year old', text='grand son said he liked it .that it was fun to play with. he could do what he needed to do with it. glad he is happy with it.', rating=5, do_recommend=True, num_helpful=0, date='2016-01-09'),\n",
       " Review(id=60779, username='mquiroz', asin='B018Y229OU', title='Awesome Kindle Fire', text='I purchased the kindle fire for my six year old daughter and she loves it. She already knows how to work it.', rating=5, do_recommend=True, num_helpful=0, date='2016-01-09'),\n",
       " Review(id=40179, username='spunkymom', asin='B018Y229OU', title='Great starter tablet', text='My son likes the tablet well enough. He really only watches videos and plays games on it.', rating=4, do_recommend=True, num_helpful=0, date='2016-01-09'),\n",
       " Review(id=19579, username='Lynette', asin='B018Y229OU', title='Great beginner tablet', text='Bought for my grandson for Christmas. He loves it so much.', rating=5, do_recommend=True, num_helpful=0, date='2016-01-09'),\n",
       " Review(id=99082, username='packerbacker', asin='B018Y229OU', title='Great for the price', text='My husband loves how simple it is to use and he can take it anywhere', rating=5, do_recommend=True, num_helpful=0, date='2016-01-09'),\n",
       " Review(id=78482, username='DownAndOut', asin='B018Y229OU', title='Good for reading', text='I use my Kindle Fire mostly for reading Kindle books and I am pleased with this inexpensive little tablet.', rating=4, do_recommend=True, num_helpful=0, date='2016-01-09'),\n",
       " Review(id=37282, username='MsMelody', asin='B018Y229OU', title='Wonderful Kindle', text='The Kindle Fire has been my granddaughter favorite', rating=5, do_recommend=True, num_helpful=0, date='2016-01-09'),\n",
       " Review(id=26982, username='GabSol', asin='B018Y229OU', title='Great for kids', text='My twins love their tablets and I am able to down load lots of educational apps for them.', rating=5, do_recommend=True, num_helpful=0, date='2016-01-09'),\n",
       " Review(id=85885, username='mookie', asin='B018Y229OU', title='great style great size', text='Just love got it for my granddaughter just plain great', rating=5, do_recommend=True, num_helpful=0, date='2016-01-09'),\n",
       " Review(id=75585, username='Ruffryder', asin='B018Y229OU', title='Great beginner tablet', text='Great tablet for beginners at a great price point. Takes a little to get used to the Amazon operating system. Make sure you get a memory card with this as you have limited internal memory', rating=4, do_recommend=True, num_helpful=0, date='2016-01-09'),\n",
       " Review(id=52088, username='Vinnie', asin='B018Y229OU', title='Nice machine', text='My son loves this tablet. I love how you can regulate the time spent on this and control what your kids do on it.', rating=5, do_recommend=True, num_helpful=0, date='2016-07-24'),\n",
       " Review(id=90391, username='DinoFan', asin='B018Y229OU', title='Great tablet', text='Sons tablet stopped working so needed a replacement this tablet fits the bill .', rating=5, do_recommend=True, num_helpful=1, date='2016-07-23'),\n",
       " Review(id=38891, username='Bandit78', asin='B018Y229OU', title='Kids love it', text='Great alternative to Ipad mini and the out of pocket cost is much less.', rating=5, do_recommend=True, num_helpful=0, date='2016-07-23'),\n",
       " Review(id=28591, username='Americanmut', asin='B018Y229OU', title='Good tablet for price', text='This is a great value. A premium tablet at an economic price. User friendly.', rating=4, do_recommend=True, num_helpful=0, date='2016-07-23'),\n",
       " Review(id=66894, username='freedomlady47', asin='B018Y229OU', title='Amazon Tablet for an avid reader', text='I purchased this tablet as a gift for my son who is always up on any new books or games. He loves it and is always thanking me for getting it for him. The clarity and colors on the screen are amazing. This is a very good product and I would highly recommend it to anyone who is interested in buying a kindle.', rating=5, do_recommend=True, num_helpful=1, date='2016-07-23'),\n",
       " Review(id=56594, username='mawmaw', asin='B018Y229OU', title='great tablet for a child', text='when I bought the tablet I was not sure if she could advance on but she has done very well thanks', rating=4, do_recommend=True, num_helpful=0, date='2016-07-23'),\n",
       " Review(id=46294, username='Tomf', asin='B018Y229OU', title='Nice for the price', text='I use it primarily for movies. The audio is low while using ear buds. Othere wise a very nice tablet for the money.', rating=4, do_recommend=True, num_helpful=0, date='2016-07-23'),\n",
       " Review(id=25694, username='chritbit', asin='B018Y229OU', title='great product', text='staff was great my son was very pleased with his purchase we shop at your store quite often love best buy', rating=5, do_recommend=True, num_helpful=0, date='2016-07-23'),\n",
       " Review(id=43397, username='Gabhog1125', asin='B018Y229OU', title='Awesome', text='We are glad we bought this great for movies and everyday games', rating=5, do_recommend=True, num_helpful=0, date='2016-07-22'),\n",
       " Review(id=50800, username='Pat2015', asin='B018Y229OU', title='Omg unbelievable for price', text='This tablet is worth the money you spend. If you looking for your first tablet go ahead and buy it.. You will not regret', rating=5, do_recommend=True, num_helpful=0, date='2016-07-22'),\n",
       " Review(id=27303, username='Myboys', asin='B018Y229OU', title='Easy to use', text='Great tablet for everday use and the screen has nice resultion', rating=4, do_recommend=True, num_helpful=0, date='2016-07-22'),\n",
       " Review(id=75906, username='19rhonel72', asin='B018Y229OU', title='Great price', text='Its a great tablet for the price. I bought one for my wife and one for my daughter.', rating=4, do_recommend=True, num_helpful=0, date='2016-07-22'),\n",
       " Review(id=65606, username='TABLET', asin='B018Y229OU', title='EXCELLENT PRODUCT', text='MY KID LOVES IT. I LIKE IT BECAUSE I GET NOTIFIED OF EVERY SINGLE GAME HE IS PLAYING ONCE THE TABLET IS BEING REGISTER.', rating=4, do_recommend=True, num_helpful=0, date='2016-07-22'),\n",
       " Review(id=24406, username='Natvishnu', asin='B018Y229OU', title='Travel Companion', text='I bought this few months back. Its really useful which travelling. I connect to Wifi in flights and watch movies. No need to carry laptop. Its really affordable too.', rating=4, do_recommend=True, num_helpful=0, date='2016-07-22'),\n",
       " Review(id=83309, username='sterling', asin='B018Y229OU', title='perfect for my son', text='my son enjoy it so much. he is so happy with that tablet', rating=5, do_recommend=True, num_helpful=0, date='2016-07-20'),\n",
       " Review(id=52409, username='pics', asin='B018Y229OU', title='Good Tablet basic tablet', text='Good solid tablet with ability to use mcSD cards at a great price. Only down side is Amazon interface restricts full android platform.', rating=4, do_recommend=True, num_helpful=0, date='2016-07-20'),\n",
       " Review(id=31809, username='Frogstar', asin='B018Y229OU', title='For Grandson', text='Grandson wanted this for birthday and he loved it.', rating=5, do_recommend=True, num_helpful=0, date='2016-07-19'),\n",
       " Review(id=21509, username='Rocky', asin='B018Y229OU', title='Super item', text='I never thought of purchasing it until I viewed it at the store. The sales person was most helpful', rating=5, do_recommend=True, num_helpful=0, date='2016-07-19'),\n",
       " Review(id=28912, username='Lily', asin='B018Y229OU', title='Its small and thin to use it.', text='Its a very nice product to purchase. They give you 1 year of free stuff from amazon. You can download all kinds of apps. Great tablet.', rating=4, do_recommend=True, num_helpful=1, date='2016-07-18'),\n",
       " Review(id=18612, username='Rube', asin='B018Y229OU', title='Perfect size screen', text='I enjoy the ease i using the item and the case is perfect', rating=5, do_recommend=True, num_helpful=0, date='2016-07-18'),\n",
       " Review(id=67215, username='Vrex815', asin='B018Y229OU', title='Great buy', text='Great value for a tablet. I bought 2 for the kids.', rating=5, do_recommend=True, num_helpful=1, date='2016-07-25'),\n",
       " Review(id=56915, username='AlonzoSelvin', asin='B018Y229OU', title='Good', text='It gets the job done...................Great to buy......', rating=3, do_recommend=False, num_helpful=0, date='2016-07-25'),\n",
       " Review(id=74618, username='Tinam', asin='B018Y229OU', title='Great tablet', text='Very happy with tablet. Easy to use. Hooks up to WiFi immediately', rating=5, do_recommend=True, num_helpful=0, date='2016-07-18'),\n",
       " Review(id=64318, username='missre', asin='B018Y229OU', title='Tablet is great for my needs.', text='Enjoy my tablet. Easy to carry in purse. It was a great buy. Love reading from it.', rating=5, do_recommend=True, num_helpful=0, date='2016-07-18'),\n",
       " Review(id=33418, username='MaheshBabu', asin='B018Y229OU', title='Best Product', text='Amazon products are always good as expected. And I am totally satisfied with my purchase.', rating=4, do_recommend=True, num_helpful=0, date='2016-07-18'),\n",
       " Review(id=23118, username='Harry81', asin='B018Y229OU', title='Easy', text='Fast set up. Long battery life. Lots of options books. Music. Games..', rating=4, do_recommend=True, num_helpful=0, date='2016-07-18'),\n",
       " Review(id=12818, username='Dede', asin='B018Y229OU', title='Always wanted a fire', text='I love my fire i have always wanted one for when I read', rating=5, do_recommend=True, num_helpful=0, date='2016-07-18'),\n",
       " Review(id=92321, username='bbysonos', asin='B018Y229OU', title='like it', text='like this to stream.. but would be nice to have kodi support without hacks', rating=4, do_recommend=True, num_helpful=0, date='2016-07-18'),\n",
       " Review(id=61421, username='neyney', asin='B018Y229OU', title='my husband loves this fire', text='i purchased the fire for my self to play games and surf the web. then my husband took my fire so i purchased one for him.', rating=5, do_recommend=True, num_helpful=0, date='2016-07-18'),\n",
       " Review(id=30521, username='ljenkins', asin='B018Y229OU', title='Great price', text='Great product for playing games and watching movies on the go.', rating=4, do_recommend=True, num_helpful=0, date='2016-07-18'),\n",
       " Review(id=9921, username='Faithfulshopper', asin='B018Y229OU', title='Kindle Fire', text='I purchased a Fire in November 2015 holiday sale. I have been enjoying my Fire. A parent of mine purchased a Kindle when the device first came out. I persuaded my parent to buy an updated Kindle because of all the updates in 5 years time. Now she has to learn the newer technology.', rating=5, do_recommend=True, num_helpful=0, date='2016-07-17'),\n",
       " Review(id=68824, username='Alg101080', asin='B018Y229OU', title='Satisfied', text='Great tablet for the price. Good size and great value.', rating=4, do_recommend=True, num_helpful=0, date='2016-07-16'),\n",
       " Review(id=27624, username='daphne', asin='B018Y229OU', title='Great battery saving.', text='The power of battery lasts longer than any tablets.', rating=4, do_recommend=True, num_helpful=0, date='2016-07-16'),\n",
       " Review(id=96827, username='Chillers', asin='B018Y229OU', title='Good Product', text='Overall am very happy with the purchase. Both Quality and price made this hard to resist.', rating=4, do_recommend=True, num_helpful=0, date='2016-07-16'),\n",
       " Review(id=86527, username='JavPad', asin='B018Y229OU', title='good tablet for starters', text='good reliable tablet will recommend to others.not expensive at all.', rating=4, do_recommend=True, num_helpful=0, date='2016-07-16'),\n",
       " Review(id=76227, username='Gilphotography', asin='B018Y229OU', title='Great as gifts', text='A wonderful product for those who are not on the apple hype train. Easy to use and the price was on point. Expandable memory really makes this a million times better than the baser iPads', rating=5, do_recommend=True, num_helpful=0, date='2016-07-16'),\n",
       " Review(id=45327, username='2tru', asin='B018Y229OU', title='Great item for the price', text='This is a great buy I would recommend to anyone looking for a tablet.Plus a year free of Amazon prime', rating=5, do_recommend=True, num_helpful=0, date='2016-07-16'),\n",
       " Review(id=4127, username='REEREESHAW', asin='B018Y229OU', title='BEST TABLETS EVER', text='WE NEVER PUT THEM DOWN...HAVE LOTS OF GREAT GAMES TO PLAY', rating=5, do_recommend=True, num_helpful=0, date='2016-07-16'),\n",
       " Review(id=63030, username='Hiparkk', asin='B018Y229OU', title='Good for web surf.', text='Wanted to connect to Google play store. Limited to Amazon.good for shopping.', rating=3, do_recommend=True, num_helpful=0, date='2016-07-16'),\n",
       " Review(id=21830, username='Mkstamper', asin='B018Y229OU', title='Great tablet for travel', text='Always wanted something transportable bedsides my phone. This fits in my purse and is readily accessible for travel. Great product for internet accessibility.', rating=5, do_recommend=True, num_helpful=0, date='2016-07-15'),\n",
       " Review(id=91033, username='Sarah', asin='B018Y229OU', title='Perfect travel tablet', text='I bought the Kindle Fire after I upgraded my primary tablet to a 10 inch. The 10 inch was too big to take to a coffee shop to read or to use outside. This is perfect size. I put a 2gb as card in it to hold my books. I can down load a couple of books and take it on the road.', rating=5, do_recommend=True, num_helpful=1, date='2016-07-15'),\n",
       " Review(id=57236, username='Kathyo', asin='B018Y229OU', title='Great', text='The product works great as of now. It arrived as promised', rating=4, do_recommend=True, num_helpful=0, date='2016-07-15'),\n",
       " Review(id=46936, username='Icecar14', asin='B018Y229OU', title='Good starter tablet.', text='Bought for my son liked the price. He likes it but had some trouble with screen brightness and resetting it.', rating=4, do_recommend=True, num_helpful=0, date='2016-07-15'),\n",
       " Review(id=26336, username='Crystal212', asin='B018Y229OU', title='Great DVDs', text='I loved the movies and the tabletPerfect for my purposes. Jbl wireless were greatFor music but wereLacking for phone use.', rating=4, do_recommend=True, num_helpful=0, date='2016-07-15'),\n",
       " Review(id=95539, username='Ritann', asin='B018Y229OU', title='Good basic tablet', text='I bought 4 of these tablets for my 12 yr old Sunday School class to use during our lessons. They love them. The tablets are easy to use and a good size for that age group. Very much worth the price.', rating=5, do_recommend=True, num_helpful=0, date='2016-07-15'),\n",
       " Review(id=85239, username='Billk52880', asin='B018Y229OU', title='My First Fire', text='I am impressed at how easy it was to get started. I enjoy all the items that are available.', rating=5, do_recommend=True, num_helpful=0, date='2016-07-15'),\n",
       " Review(id=74939, username='sharris', asin='B018Y229OU', title='Great Tablet for size and price', text='I use this for my daughters educational apps. She loves it. perfect size for her hands and still big enough for her to enjoy Peppa Pig.', rating=5, do_recommend=True, num_helpful=0, date='2016-07-15'),\n",
       " Review(id=2839, username='gaminggram', asin='B018Y229OU', title='Easy to use', text='Got my Kindle to play games. Has a lot more that you can do with it. Was easy to set up.', rating=5, do_recommend=True, num_helpful=0, date='2016-07-14'),\n",
       " Review(id=82342, username='mikehenderson', asin='B018Y229OU', title='Great Device for a Great Price', text='Great Device and Great Value for the price that is paid. Perfect for reading ebooks and general internet activity.', rating=4, do_recommend=True, num_helpful=0, date='2016-07-14'),\n",
       " Review(id=72042, username='troyA', asin='B018Y229OU', title='Good for the price', text='Nice inexpensive tablet for my kid. I put some movies on it and she was very happy on a 4 hour trip.', rating=4, do_recommend=True, num_helpful=0, date='2016-07-14'),\n",
       " Review(id=20542, username='Brit', asin='B018Y229OU', title='Great for toddlers', text='I like it. Bought it as a birthday gift for a three year old and they love it', rating=3, do_recommend=True, num_helpful=0, date='2016-07-13'),\n",
       " Review(id=58845, username='Ksparks', asin='B018Y229OU', title='Okay', text='I did not use this product I gave it as a present.', rating=3, do_recommend=True, num_helpful=0, date='2016-07-13'),\n",
       " Review(id=38245, username='nook', asin='B018Y229OU', title='great tablet for kids', text='totally satisfied with performance of tablet. I would recommend to friends and family.', rating=5, do_recommend=True, num_helpful=0, date='2016-07-13'),\n",
       " Review(id=86848, username='Brandon', asin='B018Y229OU', title='Great Tablet', text='Tablet was for my 9yr old. It works great. It has good parental controls. It could use a little more memory but well worth the money paid. Ship to store worked perfectly.', rating=5, do_recommend=True, num_helpful=0, date='2016-07-13'),\n",
       " Review(id=73651, username='GeekDad', asin='B018Y229OU', title='Great for little kids', text='Bought 2 of these for my younger girls for travel. It is great. Only downfall was low storage but that was fixed by adding additional memory card.', rating=4, do_recommend=True, num_helpful=0, date='2016-07-13'),\n",
       " Review(id=32451, username='DjMiami01', asin='B018Y229OU', title='Beginner', text='Great for my 7 year old son. Has all his games and favorites apps installed. Easy navigation user friendly.', rating=5, do_recommend=True, num_helpful=0, date='2016-07-13'),\n",
       " Review(id=22151, username='Pam522', asin='B018Y229OU', title='Great tablet for the price', text='I bought this tablet mainly to use as an ereader. I now find myself checking emails and surfing the web too. Downloading an app is a simple process and there are lots to choose from. I use Overdrive and borrow books from my public library. I gave it a 4 because it seems a bit slow at times.', rating=4, do_recommend=True, num_helpful=0, date='2016-07-13'),\n",
       " Review(id=6057, username='Tinkerbell', asin='B018Y229OU', title='Love it', text='I can play all my games that I play on Facebook and much more.', rating=5, do_recommend=True, num_helpful=0, date='2016-07-09'),\n",
       " Review(id=95860, username='Tino', asin='B018Y229OU', title='Great Tablet', text='Very affordable. Excellent tablet and comes in different colors', rating=5, do_recommend=True, num_helpful=0, date='2016-07-08'),\n",
       " Review(id=85560, username='Kathi', asin='B018Y229OU', title='So easy to play games and read books from', text='So easy to read books from and play my different games that I enjoy. The set up was really easy did take a little while to get it going but probably more my fault than otherwise.', rating=4, do_recommend=True, num_helpful=0, date='2016-07-10'),\n",
       " Review(id=13460, username='Joannie', asin='B018Y229OU', title='good product', text='Affordable price awesome quality I love my Amazon fire tablet', rating=5, do_recommend=True, num_helpful=1, date='2016-07-09'),\n",
       " Review(id=20863, username='Yellie', asin='B018Y229OU', title='Great tablet', text='My 10 year old absolutely loves his fire. He can download his favorite games as well as his favorite books to read.', rating=5, do_recommend=True, num_helpful=0, date='2016-07-08'),\n",
       " Review(id=263, username='aram58', asin='B018Y229OU', title='love the tablet', text='I would recommend this tablet to anyone that is interested in one. It is just as good as a Samsung one and half the price.', rating=5, do_recommend=True, num_helpful=0, date='2016-07-08'),\n",
       " Review(id=90066, username='Bestbuyer', asin='B018Y229OU', title='I like it', text='The quality is awesome for the price. Amazon products are always cool.', rating=5, do_recommend=True, num_helpful=0, date='2016-07-08'),\n",
       " Review(id=79766, username='have89', asin='B018Y229OU', title='Great gift for kids at a great price', text='My kids are growing out of their ipod touch and I wanted to get them something bigger. The kindle fire tablet is such a great deal so it was a no brainer to get all three of my kids one.', rating=5, do_recommend=True, num_helpful=0, date='2016-07-08'),\n",
       " Review(id=69466, username='AnarchyAngel', asin='B018Y229OU', title='Pretty neat', text='We actually bought this for my son as a replacement tablet. He likes it but does not like the fact that not every game that is available in the google play store is available on this one. Overall it is a great tablet. Works quickly and he enjoys it.', rating=3, do_recommend=True, num_helpful=0, date='2016-07-08'),\n",
       " Review(id=28266, username='Jcrp', asin='B018Y229OU', title='Gift', text='This was a gift for my girlfriend a she loves it wow', rating=5, do_recommend=True, num_helpful=0, date='2016-07-06'),\n",
       " Review(id=73972, username='Mommy09', asin='B018Y229OU', title='Absolutely love the tablet', text='I love the tablet . now i have time to catch up with my reading and tv shows and also facebook and magazines', rating=5, do_recommend=True, num_helpful=1, date='2016-07-02'),\n",
       " Review(id=63672, username='Hlmaloney', asin='B018Y229OU', title='Great deal for the money', text='This by far is one of the greatest tablets out there for kids. Cost is affordable and there is a lot for them to do. Keeps my 8 year old busy in drs offices. Lightweight and easy to use.', rating=5, do_recommend=True, num_helpful=0, date='2016-07-02'),\n",
       " Review(id=43072, username='tunasalad', asin='B018Y229OU', title='Great Buy', text='I bought one for both my kids and they love it. We are very happy with the purchase.', rating=5, do_recommend=True, num_helpful=1, date='2016-07-02'),\n",
       " Review(id=12172, username='Carlarco', asin='B018Y229OU', title='Great tablet.', text='My 11 year old nephew actually had a tablet before I bought the kindle for his graduation. Now he only uses the kindle.', rating=5, do_recommend=True, num_helpful=0, date='2016-07-02'),\n",
       " Review(id=99078, username='Greenbean', asin='B018Y229OU', title='Great product', text='I got it for my daughter to use for entertainment and she uses it everyday', rating=5, do_recommend=True, num_helpful=0, date='2016-07-01'),\n",
       " Review(id=78478, username='Ivrobin', asin='B018Y229OU', title='Great tablet for a beginner', text='the kindle fire tablet was easy to use and very simple to set up. Great tablet', rating=5, do_recommend=True, num_helpful=0, date='2016-07-01'),\n",
       " Review(id=26978, username='nani', asin='B018Y229OU', title='great tablet', text='Bought this for my daughter and she loves it . It works well and very easy to understand.', rating=4, do_recommend=True, num_helpful=0, date='2016-07-01'),\n",
       " Review(id=16678, username='mafitzz', asin='B018Y229OU', title='The product itself was great and at a great price.', text='My daughter has a great time reading and researching and playing games on this.', rating=5, do_recommend=True, num_helpful=0, date='2016-07-01'),\n",
       " Review(id=65281, username='Unknown77', asin='B018Y229OU', title='Great for kids', text='The tablet is small and a great tool for road trip with the kids. It keeps them entertained and is small enough for them to carry in a small backpack.', rating=5, do_recommend=True, num_helpful=0, date='2016-07-01'),\n",
       " Review(id=13781, username='1HappyPat', asin='B018Y229OU', title='Happy', text='It is a lot more then I was after. I can watch my Netfix and do more', rating=3, do_recommend=True, num_helpful=0, date='2016-07-01'),\n",
       " Review(id=72684, username='Saucey64', asin='B018Y229OU', title='I am loving my Amazon Fire 7', text='Will Suggest this tablet to my friends. Yes I would suggest this product to my friends. I will purchase some for Christmas Gifts.', rating=5, do_recommend=True, num_helpful=0, date='2016-07-01'),\n",
       " Review(id=52084, username='Marty', asin='B018Y229OU', title='Bought as a gift', text='Bought this as a gift for a child. They love it for playing games and watching videos.', rating=5, do_recommend=True, num_helpful=0, date='2016-07-01'),\n",
       " Review(id=21184, username='HRTOperator', asin='B018Y229OU', title='Nice tablet for the money', text='Really impressed with what this tablet is capable of doing for price. At only 49 dollars it is pretty snappy accessing the internet and playing videos are sharp and clear. Most of the apps I need to use are available and free. It seems to run similar to Android tablets which should be easy for someone familiar with how android operates. This might be for kids to use but it fits with what I need to use.', rating=4, do_recommend=True, num_helpful=0, date='2016-07-01'),\n",
       " Review(id=10884, username='Andrew', asin='B018Y229OU', title='Nice', text='Good price within batter quality love it works perfectly', rating=5, do_recommend=True, num_helpful=0, date='2016-07-01'),\n",
       " Review(id=584, username='Pself18', asin='B018Y229OU', title='Love it', text='Love the kindle. Easy to use and lots of free books to read', rating=5, do_recommend=True, num_helpful=0, date='2016-07-01'),\n",
       " Review(id=69787, username='Videoman', asin='B018Y229OU', title='Exellent to surf the net', text='I have bought many of these tablets for family members and had no complaints', rating=5, do_recommend=True, num_helpful=1, date='2016-06-27'),\n",
       " Review(id=38887, username='ALCADILLAC', asin='B018Y229OU', title='great for email and intrnet', text='this great for catching up on facebook or going over email', rating=5, do_recommend=True, num_helpful=0, date='2016-06-27'),\n",
       " Review(id=97790, username='mattb', asin='B018Y229OU', title='Fire', text='Great cheap tablet. Even better after you side load the Google Play Store.', rating=4, do_recommend=True, num_helpful=0, date='2016-06-26'),\n",
       " Review(id=87490, username='STST', asin='B018Y229OU', title='a', text='This might be the best product that I have ever purchased.', rating=5, do_recommend=True, num_helpful=1, date='2016-06-25'),\n",
       " Review(id=66890, username='MomBarb', asin='B018Y229OU', title='Fun to Use', text='The best tablet I have purchased from Best Buy. Will buy more', rating=5, do_recommend=True, num_helpful=2, date='2016-06-25'),\n",
       " Review(id=74293, username='tinagina', asin='B018Y229OU', title='Cost less than before', text='I bought this for my 8 year old. Very cost effective and lots of fun for him.', rating=4, do_recommend=True, num_helpful=0, date='2016-06-26'),\n",
       " Review(id=33093, username='Atilaye2005', asin='B018Y229OU', title='Great kindle for a beginner', text='My kids had a good time with the kindle and now I feel like best buy is the best store ever.', rating=5, do_recommend=False, num_helpful=2, date='2016-06-26'),\n",
       " Review(id=91996, username='nick', asin='B018Y229OU', title='good', text='like it works for what i need for my son very easy to use and', rating=5, do_recommend=True, num_helpful=0, date='2016-06-24'),\n",
       " Review(id=71396, username='bims', asin='B018Y229OU', title='Brother loves it', text='Bought it for my brother and he just loves it also the price is very reasonable. Highly recommended if you just need a regular tablet', rating=5, do_recommend=True, num_helpful=0, date='2016-06-24'),\n",
       " Review(id=61096, username='anamoaman', asin='B018Y229OU', title='Good', text='Reasonable for its price. My grandson enjoys using it and has it going all day.', rating=4, do_recommend=True, num_helpful=0, date='2016-06-24'),\n",
       " Review(id=50796, username='AshM', asin='B018Y229OU', title='Great for leisure entertainment', text='This is a great device for leisure entertainment. I really enjoy the games and applications that allow me to surf the web.', rating=4, do_recommend=True, num_helpful=0, date='2016-06-24'),\n",
       " Review(id=19896, username='Joelm', asin='B018Y229OU', title='Dependable and value tablet.', text='The products were great. I was able to access the books that I had been craving for.', rating=5, do_recommend=True, num_helpful=0, date='2016-06-24'),\n",
       " Review(id=37599, username='tjd28', asin='B018Y229OU', title='Very happy', text='We are very happy with this tablet. It is much better then the RCA', rating=5, do_recommend=True, num_helpful=0, date='2016-06-24'),\n",
       " Review(id=27299, username='SamS', asin='B018Y229OU', title='Great tablet for kids', text='Great stable tablet for kids. Throw in a guard for the tablet and your kid will have the same tablet for months together', rating=5, do_recommend=True, num_helpful=0, date='2016-06-24'),\n",
       " Review(id=16999, username='MsLee27', asin='B018Y229OU', title='Nice gadget', text='It allows me to have many apps and still take a good amount of pictures without running out of storage .', rating=3, do_recommend=True, num_helpful=0, date='2016-06-24'),\n",
       " Review(id=86202, username='KitKat', asin='B018Y229OU', title='Great Tablet', text='My daughter has been enjoying it since her birthday', rating=4, do_recommend=True, num_helpful=0, date='2016-06-23'),\n",
       " Review(id=75902, username='toria', asin='B018Y229OU', title='great tablet', text='This is a great and functional tablet for a low price.', rating=5, do_recommend=True, num_helpful=0, date='2016-06-23'),\n",
       " Review(id=65602, username='Busymomy', asin='B018Y229OU', title='Great for family', text='My 3 yr. old loves this and is the perfect size for our needs', rating=5, do_recommend=True, num_helpful=1, date='2016-06-23'),\n",
       " Review(id=45002, username='Tdms', asin='B018Y229OU', title='Great for my child', text='My 11 year loves the Amazon Fire. It is user friendly.', rating=5, do_recommend=True, num_helpful=0, date='2016-06-22'),\n",
       " Review(id=34702, username='Gc75067', asin='B018Y229OU', title='Kids love them', text='Our child has had one for a few years now and his cousin wanted one so we bought one as a gift. Cannot get the two of them to put them down.', rating=5, do_recommend=True, num_helpful=1, date='2016-06-22'),\n",
       " Review(id=21505, username='Russ', asin='B018Y229OU', title='Great for tablet', text='You will get your money worth. Great to carry anywhere', rating=5, do_recommend=True, num_helpful=0, date='2016-06-22'),\n",
       " Review(id=80408, username='marigodi', asin='B018Y229OU', title='starter tablet', text='i originally purchased for 3 year old and it is great especially at this price i love the free amazon apps and the clarity of the tablet i just dont like the app arrangement and slideview app type', rating=4, do_recommend=True, num_helpful=0, date='2016-06-22'),\n",
       " Review(id=28908, username='CT78', asin='B018Y229OU', title='Great for the money', text='Purchased to use as a kiosk for an app. Great value.', rating=5, do_recommend=True, num_helpful=0, date='2016-06-22'),\n",
       " Review(id=8308, username='BlessedX3', asin='B018Y229OU', title='Great tablet', text='This tablet was purchased for a present. It is the second one that I have purchased.', rating=5, do_recommend=True, num_helpful=0, date='2016-06-22'),\n",
       " Review(id=67211, username='snj8', asin='B018Y229OU', title='Great Deal for An Entry Amazon tablet', text='Great Deal for An Entry Amazon tablet. Unbeatable entry level tablet for use in the Amazon eco system.', rating=5, do_recommend=True, num_helpful=1, date='2016-06-21'),\n",
       " Review(id=36311, username='mmaria452', asin='B018Y229OU', title='Gift for my nephew', text='This is perfect cause my nephew is more calm.. this tablet is awesome. He loves it.', rating=5, do_recommend=True, num_helpful=0, date='2016-06-21'),\n",
       " Review(id=26011, username='RetiredScot21', asin='B018Y229OU', title='Great Tablet', text='Had the HD Fire 6 and was disappointed that it did not have an SD slot. This one has the slot and has worked flawlessly. My kids love it. I bought 3 of them.', rating=4, do_recommend=True, num_helpful=0, date='2016-06-21'),\n",
       " Review(id=84914, username='nobly5', asin='B018Y229OU', title='Best bank for your buck', text='This is probably the best bank for your buck. Skip a fancy dinner and get the Amazon fire you wont go wrong.', rating=5, do_recommend=True, num_helpful=0, date='2016-06-19'),\n",
       " Review(id=54014, username='badger', asin='B018Y229OU', title='gave as a gift', text='gave as a gift along with the cover. person seemed to like it', rating=4, do_recommend=True, num_helpful=0, date='2016-06-19'),\n",
       " Review(id=33414, username='Lpod0000', asin='B018Y229OU', title='Great tablet for the price.', text='This was a gift for my daughter. She wanted it to catch up on reading some books. Being able to browse the web was an added plus.', rating=4, do_recommend=True, num_helpful=0, date='2016-06-19'),\n",
       " Review(id=23114, username='Cachito', asin='B018Y229OU', title='Is good for a first tablet', text='At first I thought is was going to be great because of all the apps it had. Late I discover that all of those great apps I felt in love with needed to be purchased and pay a membership. Even though it was good for a first time tablet.', rating=3, do_recommend=False, num_helpful=0, date='2016-06-19'),\n",
       " Review(id=2514, username='intensity', asin='B018Y229OU', title='good case as well as keyboard', text='This keyboard works as a case as well for your ipad and when attached seems just like a net book...I really like it I think I will end up buying another for the mini ipad...', rating=5, do_recommend=True, num_helpful=0, date='2016-06-19'),\n",
       " Review(id=92317, username='Nadine', asin='B018Y229OU', title='Lovin the fire', text='I love mine so much I bought my grandkids all one.', rating=5, do_recommend=True, num_helpful=0, date='2016-06-18'),\n",
       " Review(id=51117, username='lagalaxy', asin='B018Y229OU', title='Tablet works well as I mostly use for a quick web', text='...browse. Buy a good case as this might slip thru your hands and fall.', rating=4, do_recommend=True, num_helpful=0, date='2016-06-18'),\n",
       " Review(id=30517, username='phantomf2008', asin='B018Y229OU', title='Great gift for a casual user', text='Bought this as a mothers day gift for mother in law she loves it', rating=5, do_recommend=True, num_helpful=0, date='2016-06-18'),\n",
       " Review(id=20217, username='Newbie', asin='B018Y229OU', title='Great value', text='Great price and easy to set up. Already read 4 books on my new fire. Graphics quality is pretty good too.', rating=4, do_recommend=True, num_helpful=0, date='2016-06-18'),\n",
       " Review(id=79120, username='lesli', asin='B018Y229OU', title='My grandson loves it', text='This is the third kindle fire that I have purchased so it is obvious that we absolutely love them. Now all three grandsons have one and they are on them constantly. Excellent gift for any age.', rating=5, do_recommend=True, num_helpful=0, date='2016-06-17'),\n",
       " Review(id=68820, username='Nina', asin='B018Y229OU', title='Great tablet when you travel', text='I love this tablet. It is easy to use. With him is very easy to travel', rating=5, do_recommend=True, num_helpful=0, date='2016-06-17'),\n",
       " Review(id=27620, username='par49013', asin='B018Y229OU', title='Easy to use.', text='Does what I wanted and then more. I would recommend this to others.', rating=5, do_recommend=True, num_helpful=1, date='2016-06-18'),\n",
       " Review(id=17320, username='Daniel', asin='B018Y229OU', title='Perfect for me', text='The Fire is great for me. I do a lot of reading and now have WiFi abilities to get more books directly onto the system.', rating=4, do_recommend=True, num_helpful=0, date='2016-06-18'),\n",
       " Review(id=7020, username='Itezme', asin='B018Y229OU', title='Have been wanting a Fire for a while', text='Fire is all that I was hoping for and much more...', rating=5, do_recommend=True, num_helpful=0, date='2016-06-18'),\n",
       " Review(id=96823, username='Mychalr43', asin='B018Y229OU', title='Super', text='I love my Kindle. It does everything I need it to do and then some.', rating=5, do_recommend=True, num_helpful=0, date='2016-06-18'),\n",
       " Review(id=76223, username='Canales2', asin='B018Y229OU', title='Great little tablet', text='My diss love their tablets. We had tried another brand but Kept having problems. Have not had any probls with these.', rating=5, do_recommend=True, num_helpful=0, date='2016-06-18'),\n",
       " Review(id=45323, username='Narwick', asin='B018Y229OU', title='Easy to use.', text='Great first tablet or just a great tablet in general.', rating=4, do_recommend=True, num_helpful=0, date='2016-06-17'),\n",
       " Review(id=24723, username='olayo48', asin='B018Y229OU', title='perfect for kids', text='My 7 yr old loves it. Easy for him to navigate and understand.', rating=4, do_recommend=True, num_helpful=0, date='2016-06-17'),\n",
       " Review(id=83626, username='sammy', asin='B018Y229OU', title='very good battery life', text='I like this device a lot. Very good battery life and like the fact this is linked to my Amazon account for books and music.', rating=4, do_recommend=True, num_helpful=0, date='2016-06-17'),\n",
       " Review(id=63026, username='joybell5', asin='B018Y229OU', title='Great buy', text='Have been reviewing this tablet on amazon for some time. Its an extra for us we keep it in the living room.', rating=4, do_recommend=True, num_helpful=0, date='2016-06-17'),\n",
       " Review(id=42426, username='Carrie', asin='B018Y229OU', title='Good for a kid', text='I bought this for my 5 year old to watch movies on. It does the job but it takes a while just to get Google Play. They tried to block this feature but you can go youtube on how to add it. Other than that I would never buy this for myself but good enough for a kid for movies.', rating=4, do_recommend=True, num_helpful=0, date='2016-06-17'),\n",
       " Review(id=80729, username='Star', asin='B018Y229OU', title='Great', text='I loved it it was fast and great fun for the kids that cannot put it down', rating=5, do_recommend=True, num_helpful=0, date='2016-06-17'),\n",
       " Review(id=29229, username='Fire7Tablet', asin='B018Y229OU', title='Great for Kids', text='This tablet is great for kids and maybe some adults too. I got it for my 7 year old niece and she loves it. Perfect for her books and games.', rating=4, do_recommend=True, num_helpful=0, date='2016-06-17'),\n",
       " Review(id=88132, username='cherbear1993', asin='B018Y229OU', title='great reader', text='Love it. Does more than just allow me read can go online', rating=5, do_recommend=True, num_helpful=0, date='2016-06-17'),\n",
       " Review(id=77832, username='Nablazed1', asin='B018Y229OU', title='Great Tablet', text='Bought this tablet as a birthday gift and the person loved it', rating=5, do_recommend=True, num_helpful=2, date='2016-06-17'),\n",
       " Review(id=26332, username='Aimee', asin='B018Y229OU', title='Summer Camp', text='We actually bought these for our summer camp program and the kids love them. They small enough for their hands to carry and they work like a charm. The staff was super helpful.', rating=4, do_recommend=True, num_helpful=0, date='2016-06-17'),\n",
       " Review(id=72038, username='Doctor', asin='B018Y229OU', title='Mother in law', text='Got this for my mother in law as a christmas gift she loves it', rating=5, do_recommend=True, num_helpful=0, date='2016-06-14'),\n",
       " Review(id=41138, username='excidian21', asin='B018Y229OU', title='Great Bang for the Buck', text='Great for the avid reader. Plenty of storage space and fun for basic internet activities.', rating=5, do_recommend=True, num_helpful=0, date='2016-06-13'),\n",
       " Review(id=30838, username='NMeyers', asin='B018Y229OU', title='Starter tablets for sons', text='My 9 year old and 4 year old sons love this tablet for games and watching Netflix and Hulu. Great size for them. I like the parental controls and easy to monitor their activity and how much time a day they can use it. Was a great price and able to get one each.', rating=5, do_recommend=True, num_helpful=1, date='2016-06-13'),\n",
       " Review(id=100041, username='billjw', asin='B018Y229OU', title='price is right', text='price is right easy to read books onlots of apps available', rating=4, do_recommend=True, num_helpful=0, date='2016-06-13'),\n",
       " Review(id=89741, username='Twan', asin='B018Y229OU', title='Great display', text='This is a great tablet. This was the best one i got', rating=4, do_recommend=True, num_helpful=0, date='2016-06-13'),\n",
       " Review(id=58841, username='DubberOne', asin='B018Y229OU', title='Good value for the money', text='Nice little tablet. Works well for watching movies and listening to music. Internet use and playing some games can create slow response times.', rating=4, do_recommend=True, num_helpful=0, date='2016-06-12'),\n",
       " Review(id=7341, username='Norma', asin='B018Y229OU', title='Good for kids', text='Ok for a kid tablet the size is good you can okly use there apps', rating=3, do_recommend=True, num_helpful=0, date='2016-06-11'),\n",
       " Review(id=86844, username='Body', asin='B018Y229OU', title='works great for elderly people', text='Great product and fits all my needs. Would definitely recommend this to anyone looking for a tablet for elderly people. They seem to have no problem using it.', rating=5, do_recommend=True, num_helpful=1, date='2016-06-11'),\n",
       " Review(id=76544, username='helenchris', asin='B018Y229OU', title='The camera is ok', text='This is ok for kids but the camera is not bright enough.', rating=4, do_recommend=True, num_helpful=0, date='2016-06-11'),\n",
       " Review(id=66244, username='dcarrnutt', asin='B018Y229OU', title='Great tablet for the money', text='This tablet is well constructed and light weight and is more than I expected. The eReader part of it is the best for reading on a screen because of its blue screen feature.', rating=4, do_recommend=True, num_helpful=0, date='2016-06-11'),\n",
       " Review(id=45644, username='CastJ', asin='B018Y229OU', title='Great tablet', text='I use my tablet for business and am very satisfied with it. It has excellent resolution and I have not experienced slowness. Good product.', rating=5, do_recommend=True, num_helpful=2, date='2016-06-11'),\n",
       " Review(id=94247, username='Page1', asin='B018Y229OU', title='Nice tablet', text='Good tablet for reading books and magazines. I like the tablet.', rating=5, do_recommend=True, num_helpful=0, date='2016-06-11'),\n",
       " Review(id=53047, username='12345', asin='B018Y229OU', title='Great product', text='I bought this for my mom and she loves it. I would reccommend .', rating=5, do_recommend=True, num_helpful=1, date='2016-06-11'),\n",
       " Review(id=1547, username='Labrenza0', asin='B018Y229OU', title='Bought the tablet for my daughter she loves it', text='The tablet is great has a lot of great features like access to kindle books and apps.', rating=5, do_recommend=True, num_helpful=2, date='2016-06-11'),\n",
       " Review(id=81050, username='Bell0001', asin='B018Y229OU', title='Great tablet', text='Great great great great great great great great tablet.', rating=5, do_recommend=True, num_helpful=0, date='2016-06-10'),\n",
       " Review(id=70750, username='Hynece', asin='B018Y229OU', title='great pad', text='This little device is great. It has a quick set up and easy instructions', rating=5, do_recommend=True, num_helpful=2, date='2016-06-10'),\n",
       " Review(id=50150, username='chuck', asin='B018Y229OU', title='7 inch fire', text='great item and at a great price. love using it daily.', rating=5, do_recommend=True, num_helpful=0, date='2016-06-10'),\n",
       " Review(id=57553, username='MrCipher', asin='B018Y229OU', title='Great to pass time.', text='The Amazon Fire is an okay product with a decent OS and a great price. Reccommend it for kids or the elderly.', rating=3, do_recommend=True, num_helpful=0, date='2016-06-10'),\n",
       " Review(id=36953, username='Headache', asin='B018Y229OU', title='Great For the price', text='Very easy to use. Great for putting music on to use with wireless speaker', rating=5, do_recommend=True, num_helpful=0, date='2016-06-10'),\n",
       " Review(id=54656, username='poohbear46', asin='B018Y229OU', title='third one', text='Kindle I like. This is the fourth one I have bought', rating=5, do_recommend=True, num_helpful=0, date='2016-06-10'),\n",
       " Review(id=44356, username='AmyL', asin='B018Y229OU', title='Great product for the price', text='Bought this for my son for occasional use. Was able to download Google Playstore which greatly expands apps availability. No issues with playing games and watching movies. Screen quality is more than acceptable. A solid performer.', rating=5, do_recommend=True, num_helpful=0, date='2016-06-10'),\n",
       " Review(id=13456, username='Lannyhammock', asin='B018Y229OU', title='Just wanted to try out a Kindle product', text='I am happy with this product thus far. I like the size and the screen quality is just okay. I am use to the iPad quality of screen.', rating=4, do_recommend=True, num_helpful=0, date='2016-06-10'),\n",
       " Review(id=3156, username='smileypinky', asin='B018Y229OU', title='very good', text='It work very well my nephew love it this is the second one is brought', rating=4, do_recommend=True, num_helpful=0, date='2016-06-10'),\n",
       " Review(id=92959, username='Mawmaw', asin='B018Y229OU', title='love it', text='Fits nicely in my hand. My third Kindle. Granddaughter likes it too.', rating=5, do_recommend=True, num_helpful=0, date='2016-06-10'),\n",
       " Review(id=10559, username='Charm', asin='B018Y229OU', title='Great kindle', text='Bought it for my daughter she reads a lot she had the reader version for years but went blank', rating=5, do_recommend=True, num_helpful=1, date='2016-06-08'),\n",
       " Review(id=48862, username='Briteladee', asin='B018Y229OU', title='Great tablet for the price', text='Great for the internet... ....Saves my phone battery', rating=5, do_recommend=True, num_helpful=1, date='2016-06-10'),\n",
       " Review(id=38562, username='Maxine', asin='B018Y229OU', title='Excellent', text='I love it. I enjoy playing games and reading on it.', rating=4, do_recommend=True, num_helpful=0, date='2016-06-10'),\n",
       " Review(id=76865, username='JESS', asin='B018Y229OU', title='Kindle Fire', text='Exactly what I orederd a great product I have ordered 3 of these from Best Buy.', rating=5, do_recommend=True, num_helpful=0, date='2016-06-07'),\n",
       " Review(id=56265, username='jecr', asin='B018Y229OU', title='good tablet for price', text='good tablet for the price. only drawback is the limited apps for the fire compared to android tablets', rating=4, do_recommend=True, num_helpful=0, date='2016-06-06'),\n",
       " Review(id=45965, username='mzles', asin='B018Y229OU', title='Great for kids', text='This kindle was a great price. It is easy to work and great for kids.', rating=5, do_recommend=True, num_helpful=0, date='2016-06-06'),\n",
       " Review(id=94568, username='ZenixMalano', asin='B018Y229OU', title='Why buy an ipad', text='I have no idea why someone would need to pay hundreds for a tablet when they can just get a fire.', rating=5, do_recommend=True, num_helpful=1, date='2016-06-06'),\n",
       " Review(id=84268, username='KatieB', asin='B018Y229OU', title='Awesome Tablet for Amazon Prime', text='Great tablet. This is the third Amazon Fire I have purchased. Purchased this for my 4 year old. Got tired of sharing my tablet with her. She has tons of games and watches movies on her tablet. She also takes a lot of pictures. We decided not to get the childrens version as many reviewers stated the parental controls were annoying.', rating=5, do_recommend=True, num_helpful=1, date='2016-06-06'),\n",
       " Review(id=73968, username='gondaa', asin='B018Y229OU', title='Great Parental Control', text='I bought this for my 7 yo and I highly recommend it. You can set a timer for learning activities they have to meet before they can play games. Easy to use and the size is perfect.', rating=5, do_recommend=True, num_helpful=0, date='2016-06-06'),\n",
       " Review(id=53368, username='Jaybeecruise', asin='B018Y229OU', title='Good stuff', text='Highly recommended to all. Battery is good. A lot of things to do just like any expensive tablet on a cheaper price.', rating=5, do_recommend=True, num_helpful=0, date='2016-06-05'),\n",
       " Review(id=1868, username='Chas', asin='B018Y229OU', title='Great tablet', text='Nice to listen to music and tv anywere in my home.', rating=5, do_recommend=True, num_helpful=0, date='2016-06-04'),\n",
       " Review(id=91671, username='Patsee', asin='B018Y229OU', title='Lovely starter for my grandchild.', text='Great product for price. Holds its own against many in Higher price range. Love it...', rating=5, do_recommend=True, num_helpful=0, date='2016-06-04'),\n",
       " Review(id=60771, username='Jordan', asin='B018Y229OU', title='Perfect tablet for everyday use.', text='Great bang for your buck. Can also be used for all ages.', rating=5, do_recommend=True, num_helpful=0, date='2016-06-04'),\n",
       " Review(id=19571, username='Jedi1234', asin='B018Y229OU', title='fire', text='Its a good tablet for being only 40 bucks usually people have to buy an expensive tablet for it be good.', rating=4, do_recommend=True, num_helpful=1, date='2016-06-04'),\n",
       " Review(id=78474, username='RNfromFL', asin='B018Y229OU', title='Great product', text='Really good small tablet. Small and very convenient. Great visual quality.', rating=5, do_recommend=True, num_helpful=0, date='2016-06-04'),\n",
       " Review(id=6374, username='Happilytaken', asin='B018Y229OU', title='Great tablet for the price', text='Bought for my kids. They each have one and love them.', rating=4, do_recommend=True, num_helpful=0, date='2016-06-04'),\n",
       " Review(id=96177, username='Bkzibda', asin='B018Y229OU', title='Not bad for simple browsing and gaming function', text='Great affordable device but does not have allow for android market app downloads and is basically good for simple browsing and games.', rating=3, do_recommend=True, num_helpful=0, date='2016-06-04'),\n",
       " Review(id=65277, username='Fireguy', asin='B018Y229OU', title='Great for a starter tablet', text='Good for the kids or the adult who just needs something for travel.', rating=4, do_recommend=True, num_helpful=0, date='2016-06-03'),\n",
       " Review(id=34377, username='AJW30', asin='B018Y229OU', title='good tablet for the price', text='I bought this for my mom because it is easy to use and she is able to play her games and and keep in contact with her friends and family with social media', rating=5, do_recommend=True, num_helpful=0, date='2016-06-03'),\n",
       " Review(id=13777, username='Leeah', asin='B018Y229OU', title='Nice gift for my mom', text='She loves the size and how easy it is to learn. I only wish they had more options for cases.', rating=5, do_recommend=True, num_helpful=0, date='2016-06-03'),\n",
       " Review(id=93280, username='Fakhrul', asin='B018Y229OU', title='Great tablet for Beginners', text='I bought this tablet for my 1.5 years old little sister. I downloaded youtube apps and kids apps on this tablet. She really likes it. Overall very good tablet for beginners in reasonable price.', rating=4, do_recommend=True, num_helpful=0, date='2016-06-03'),\n",
       " Review(id=31480, username='JAmazan', asin='B018Y229OU', title='Pretty good tablet for the price', text='This thing is not half bad for the price. Bought it as a gift for my wife and she loves it.', rating=4, do_recommend=True, num_helpful=0, date='2016-06-03'),\n",
       " Review(id=59483, username='Michael', asin='B018Y229OU', title='Great', text='Great tablet for a gift. Does everything it needs to do.', rating=4, do_recommend=True, num_helpful=0, date='2016-06-03'),\n",
       " Review(id=18283, username='dodgers', asin='B018Y229OU', title='Great Tablet for kids', text='I purchased this tablet for my grandkids and it was so easy to setup and also operate. They liked it so much that I will probably purchase two more so each grandkid will have their own.', rating=5, do_recommend=True, num_helpful=0, date='2016-06-03'),\n",
       " Review(id=97786, username='VAL1216', asin='B018Y229OU', title='INEXPENSIVE', text='INEXPENSIVE AND FULLY FUNCTIONAL. WORKS AS GOOD AS TOP BRANDS.', rating=5, do_recommend=True, num_helpful=0, date='2016-06-03'),\n",
       " Review(id=56586, username='Maria', asin='B018Y229OU', title='Great purchase', text='Love my new kindle fire. The price was very reasonable.', rating=5, do_recommend=True, num_helpful=0, date='2016-06-03'),\n",
       " Review(id=25686, username='rf23', asin='B018Y229OU', title='Great tablet for the price', text='Accomplishes the tasks of a bigger tablet at a much lower price.', rating=5, do_recommend=True, num_helpful=1, date='2016-06-03'),\n",
       " Review(id=15386, username='Emko68', asin='B018Y229OU', title='Good begginers tablet', text='Tablet is very good. Initial setup was easy.It connects fast to wireless network. There is also not much blotware installed. Verry good tablet for basic needs.', rating=5, do_recommend=True, num_helpful=0, date='2016-06-03'),\n",
       " Review(id=94889, username='Aznloki', asin='B018Y229OU', title='Easy navigation', text='Very good product. Portable and easy use. User friendly.', rating=5, do_recommend=True, num_helpful=0, date='2016-06-03'),\n",
       " Review(id=12489, username='R3dxk1ng', asin='B018Y229OU', title='Best tablet in its price range', text='Got this as a gift for my mom for mothers day. Its simple and easy enough to use and provides great performance for its price range.', rating=5, do_recommend=True, num_helpful=0, date='2016-06-03'),\n",
       " Review(id=91992, username='Baltimoreman', asin='B018Y229OU', title='Very easy to use', text='This was a good product for the money. Easy to set up and do things on.', rating=4, do_recommend=True, num_helpful=0, date='2016-06-03'),\n",
       " Review(id=71392, username='Rizwan', asin='B018Y229OU', title='Great tablet to buy for little kids', text='My nephews are always playing with my smartphone so I bought this for them and they are happy to have their own device to play with.', rating=5, do_recommend=True, num_helpful=0, date='2016-06-03'),\n",
       " Review(id=40492, username='Ngkih', asin='B018Y229OU', title='Good for a cheap price', text='This tablet is good. It has good specs but sometimes it is hard to get the USB charging cable out of the port and it should run on full android.', rating=4, do_recommend=True, num_helpful=0, date='2016-06-03'),\n",
       " Review(id=9592, username='SpeedyJ', asin='B018Y229OU', title='Great price for an 8g Amazon Fire tablet', text='I got a Great price for an 8g Amazon Fire tablet. It works great. It works for what I need it for.', rating=5, do_recommend=True, num_helpful=0, date='2016-06-03'),\n",
       " Review(id=78795, username='Deuces', asin='B018Y229OU', title='Great for kids', text='My grandchild grabbed it and giggled. I love anything that makes a loved one happy.', rating=5, do_recommend=True, num_helpful=0, date='2016-06-03'),\n",
       " Review(id=68495, username='KINYUANME14', asin='B018Y229OU', title='FIRE TABLET WAS EXCELLENT', text='THIS TABLE WAS PERFECT FOR WHAT I NEED IT FOR. IT HAS GREAT SPEED AND WHOLE ALL MY DOWNLOADS.', rating=5, do_recommend=True, num_helpful=0, date='2016-06-03'),\n",
       " Review(id=58195, username='Naddu', asin='B018Y229OU', title='Cheap tablet', text='Cheap tablet but solid built. Weak audio and poor camera.', rating=2, do_recommend=False, num_helpful=1, date='2016-06-03'),\n",
       " Review(id=47895, username='andersonshell1972', asin='B018Y229OU', title='Good tablet', text='Great tablet for the cost. I am going to buy more.', rating=5, do_recommend=True, num_helpful=0, date='2016-06-03'),\n",
       " Review(id=6695, username='tutidr3', asin='B018Y229OU', title='Works great', text='Love the size and quality. Good price and convinient size.', rating=4, do_recommend=True, num_helpful=0, date='2016-06-03'),\n",
       " Review(id=96498, username='Sean', asin='B018Y229OU', title='Nice while I had it', text='I bought this tablet and returned it the same day. The only reason why I bought it in the first place was so I could play certain games with it but it turned out that the games were not supported on this device.', rating=2, do_recommend=False, num_helpful=0, date='2016-06-03'),\n",
       " Review(id=55298, username='Wall', asin='B018Y229OU', title='About what I expected', text='Great value for the money. Good for checking email and browsing from time to time.', rating=4, do_recommend=True, num_helpful=0, date='2016-06-03'),\n",
       " Review(id=14098, username='Paul', asin='B018Y229OU', title='Good Value', text='Nice tablet for the price. Has all the features I need and adding a micro SD card gives it plenty of storage.', rating=5, do_recommend=True, num_helpful=1, date='2016-03-26'),\n",
       " Review(id=83301, username='DVDmastera', asin='B018Y229OU', title='Exelent Tablet', text='I had no problems with this tablet. Originally had a cheaper one that would crash every time I went to use it.', rating=4, do_recommend=True, num_helpful=2, date='2016-03-26'),\n",
       " Review(id=21501, username='Twilight', asin='B018Y229OU', title='Easy to use', text='I loved the kindle fire so much that I purchased a second one for my husband.', rating=5, do_recommend=True, num_helpful=1, date='2016-03-25'),\n",
       " Review(id=98107, username='Dutty', asin='B018Y229OU', title='Great beginner tablet', text='Really nice product surprise about how great and fast it works', rating=5, do_recommend=True, num_helpful=1, date='2016-03-25'),\n",
       " Review(id=67207, username='Nupe17', asin='B018Y229OU', title='Great for a young kid', text='This is a great starter tablet for an 11 year old.', rating=4, do_recommend=True, num_helpful=1, date='2016-03-25'),\n",
       " Review(id=26007, username='milty', asin='B018Y229OU', title='great Internet access', text='Excellent value and good WiFi access Video quality excellent', rating=5, do_recommend=True, num_helpful=1, date='2016-03-25'),\n",
       " Review(id=15707, username='Davees', asin='B018Y229OU', title='Great for beginner tablet', text='I really enjoy using. Loads fast and responsive. Good screen', rating=4, do_recommend=True, num_helpful=2, date='2016-03-25'),\n",
       " Review(id=74610, username='Thazin', asin='B018Y229OU', title='Good', text='Worth for what you pay for.. Basic use is ok......', rating=4, do_recommend=True, num_helpful=0, date='2016-03-25'),\n",
       " Review(id=54010, username='libraladi', asin='B018Y229OU', title='great for my grandson to play games and read books', text='a great price and lots of free games my grandson loves a wonderful pass time with all in one books and games and info', rating=4, do_recommend=True, num_helpful=1, date='2016-03-25'),\n",
       " Review(id=43710, username='greg', asin='B018Y229OU', title='The tablet is pretty easy to use.', text='Everything is ok with it. It is my first tablet but it seems adaquate.', rating=4, do_recommend=True, num_helpful=1, date='2016-03-25'),\n",
       " Review(id=23110, username='Bee504', asin='B018Y229OU', title='Great tablet', text='This tablet exceeded my expectations I thought it would be just a cheap tablet but it does more than a Thaler I bought for 200 buck great smart buy', rating=5, do_recommend=True, num_helpful=1, date='2016-03-25'),\n",
       " Review(id=12810, username='Dads', asin='B018Y229OU', title='Dad', text='Dad loves it love love love it love it love it love', rating=5, do_recommend=True, num_helpful=1, date='2016-03-25'),\n",
       " Review(id=2510, username='Wolfpack', asin='B018Y229OU', title='Sucks', text='Most apps you have to pay for basic apps like YouTube will not download without inputting credit card information what tablet for child not plausible to put in credit card information', rating=1, do_recommend=False, num_helpful=3, date='2016-03-25'),\n",
       " Review(id=92313, username='janbass', asin='B018Y229OU', title='Love it. Price was right.', text='With the 64G micro card I was able to load lot of my music. Use it in my truck with a Braven HD Bluetooth speaker.', rating=5, do_recommend=True, num_helpful=1, date='2016-03-25'),\n",
       " Review(id=30513, username='Yatta', asin='B018Y229OU', title='Good size', text='Great size for my 3 and four year old to handle even with the cases. Cases also durable', rating=5, do_recommend=True, num_helpful=1, date='2016-03-25'),\n",
       " Review(id=79116, username='BobJ', asin='B018Y229OU', title='got it for my son', text='I got this tablet for my son works good enough for his age. I recommend this tab for kids', rating=3, do_recommend=True, num_helpful=1, date='2016-03-25'),\n",
       " Review(id=27616, username='Beauty', asin='B018Y229OU', title='Great tablet', text='I bought two of it. I love the way the battery last for a long time.', rating=5, do_recommend=True, num_helpful=1, date='2016-03-25'),\n",
       " Review(id=7016, username='Kisha', asin='B018Y229OU', title='Great product', text='I like everything about this product I bought for daughter and she loves it', rating=5, do_recommend=True, num_helpful=1, date='2016-03-25'),\n",
       " Review(id=65919, username='Psycrow', asin='B018Y229OU', title='Great addition to modern mom', text='Great addition for reading on the go and shopping online. Compact and good battery life', rating=5, do_recommend=True, num_helpful=1, date='2016-03-25'),\n",
       " Review(id=45319, username='Lhale2016', asin='B018Y229OU', title='Great for kids', text='It is very easy to use and very durable.. I would recommend this to anyone looking to purchase a tablet.', rating=5, do_recommend=True, num_helpful=1, date='2016-03-25'),\n",
       " Review(id=35019, username='SIMSIM', asin='B018Y229OU', title='ok tablet', text='first tBlet that i got was defective and returened and got anothers one because when i powered on screen was totally white', rating=3, do_recommend=True, num_helpful=0, date='2016-03-25'),\n",
       " Review(id=24719, username='Debs01', asin='B018Y229OU', title='nice and cost was low', text='works for my purposes. It is easy to use and easy for my kids to use', rating=5, do_recommend=True, num_helpful=1, date='2016-03-25'),\n",
       " Review(id=4119, username='Momma36', asin='B018Y229OU', title='Great value and price', text='I am extremely satisfied with this tablet for the price I paid. It was inexpensive and it works wonderfully. I recommended it to my sister who also purchased one.', rating=5, do_recommend=True, num_helpful=1, date='2016-03-25'),\n",
       " Review(id=73322, username='sharp', asin='B018Y229OU', title='great', text='got this for my mom and she loves it good for games or reading on', rating=5, do_recommend=True, num_helpful=1, date='2016-03-25'),\n",
       " Review(id=52722, username='Yahya', asin='B018Y229OU', title='Great price', text='I have the old Kindle that is similar to this but was alot more. For the price this is a steal. I will buy a couple more for gifts. The only real complaint is the speaker is a little weak so invest in headphones or a plug in speaker.', rating=5, do_recommend=True, num_helpful=1, date='2016-03-25'),\n",
       " Review(id=32122, username='BillRich', asin='B018Y229OU', title='Great little tablet', text='Great graphics and lots of apps and memory for the price.', rating=5, do_recommend=True, num_helpful=2, date='2016-03-24'),\n",
       " Review(id=21822, username='baroto', asin='B018Y229OU', title='Awesome', text='Very light very well made feels durable Easy to use everything Amazon', rating=5, do_recommend=True, num_helpful=1, date='2016-03-24'),\n",
       " Review(id=39525, username='Viper0821', asin='B018Y229OU', title='Nice basic tablet', text='Purchase this tablet for my brother who is handicapped. Mostly so you can watch videos off of YouTube. Pretty easy for him to understand how to use a tablet. Quality of the screen and speakers are pretty decent. Really good value for how much it costs.', rating=5, do_recommend=True, num_helpful=1, date='2016-03-21'),\n",
       " Review(id=77828, username='Tessa94', asin='B018Y229OU', title='Great for reading', text='Works well also great for reading recommend 4 star', rating=4, do_recommend=True, num_helpful=1, date='2016-03-20'),\n",
       " Review(id=95531, username='Amad', asin='B018Y229OU', title='Great ereader', text='Great for reading books on. Has lots of other features as well.', rating=4, do_recommend=True, num_helpful=1, date='2016-03-19'),\n",
       " Review(id=54331, username='yoli', asin='B018Y229OU', title='Great Tablet for Reading and Games', text='Bought the Kindle fire for reading and for my kids gaming apps. Very user friendly with quick and easy access to amazon shopping', rating=5, do_recommend=True, num_helpful=2, date='2016-03-20'),\n",
       " Review(id=44031, username='nukecheese', asin='B018Y229OU', title='good value', text='No cheaper reader on the market. Great value. Good product.', rating=4, do_recommend=True, num_helpful=1, date='2016-03-19'),\n",
       " Review(id=33731, username='ArmyVeteran', asin='B018Y229OU', title='HP computer', text='The lady that helped me was very professional and knowledgeable. She understood what I was looking for let me know that she would have to order it. She did just that and it showed up 2 days earlier than originally told.', rating=5, do_recommend=True, num_helpful=1, date='2016-03-19'),\n",
       " Review(id=13131, username='matrixone13', asin='B018Y229OU', title='Great Price for Superior Shopping Device', text='I wanted a different gadget with a unique featured searchshopp and reading capacity.', rating=5, do_recommend=True, num_helpful=0, date='2016-03-19'),\n",
       " Review(id=82334, username='Sexxychocolate83', asin='B018Y229OU', title='Great tablet', text='Great tablet... Easy to operate and very durable..', rating=5, do_recommend=True, num_helpful=1, date='2016-03-19'),\n",
       " Review(id=58837, username='artsaves', asin='B018Y229OU', title='Starter tablet', text='Nice tablet to teach my nephew about computers however I wish I would have realized that you can not access the play store.', rating=4, do_recommend=True, num_helpful=1, date='2016-03-18'),\n",
       " Review(id=38237, username='Gabriel', asin='B018Y229OU', title='Great Tablet for a child', text='My child is very satisfy with his tablet. He really enjoy watching videos and play games. Is worth it.', rating=5, do_recommend=True, num_helpful=1, date='2016-03-18'),\n",
       " Review(id=17637, username='Bj13', asin='B018Y229OU', title='Great tablet', text='We really like this tablet. It has everything we need already installed with our purchase .', rating=5, do_recommend=True, num_helpful=1, date='2016-03-18'),\n",
       " Review(id=97140, username='Josem13', asin='B018Y229OU', title='Great cheap tablet', text='This is a great tablet for its price and it has many uses', rating=5, do_recommend=True, num_helpful=1, date='2016-03-18'),\n",
       " Review(id=86840, username='Beetle', asin='B018Y229OU', title='Great', text='Very good buy going to purchase one for all the family members.', rating=5, do_recommend=True, num_helpful=1, date='2016-03-18'),\n",
       " Review(id=76540, username='Nama', asin='B018Y229OU', title='Love them', text='Perfect gift for the grandkids. They have great parental controls. I would recommend it for anyone looking for a great gift for any age.', rating=5, do_recommend=True, num_helpful=1, date='2016-03-18'),\n",
       " Review(id=45640, username='Misnateli', asin='B018Y229OU', title='Great for readers', text='Love my kindle fire. Great size for reading. Battery long lasting.', rating=5, do_recommend=True, num_helpful=1, date='2016-03-18'),\n",
       " Review(id=73643, username='Margaret', asin='B018Y229OU', title='Love', text='This is the best tablet I have ever purchased. Very easy to operate', rating=4, do_recommend=True, num_helpful=1, date='2016-03-18'),\n",
       " Review(id=32443, username='Hemme11', asin='B018Y229OU', title='my kids love it', text='My kids love it ... could be a little more user friendly for kids.', rating=4, do_recommend=True, num_helpful=1, date='2016-03-18'),\n",
       " Review(id=60446, username='Max1225', asin='B018Y229OU', title='Great Tablet', text='This tablet works great for the price. This is my backup tablet for traveling since at the price is easy to replace', rating=5, do_recommend=True, num_helpful=1, date='2016-03-18'),\n",
       " Review(id=88449, username='MsPrescott', asin='B018Y229OU', title='Happy', text='This was the best thing to happen for me and my family with the way you can set up the kid mode is awesome and the overall functionality of it is very easy', rating=5, do_recommend=True, num_helpful=1, date='2016-03-18'),\n",
       " Review(id=47249, username='Nixs', asin='B018Y229OU', title='Good price for the tablet.', text='Very good price for this tablet. It is a gift for my son.', rating=4, do_recommend=True, num_helpful=1, date='2016-03-18'),\n",
       " Review(id=85552, username='Tymeka', asin='B018Y229OU', title='Great tablet for anyone.', text='This is amazing for the price. I purchased this for a teenager and he loves it.', rating=5, do_recommend=True, num_helpful=1, date='2016-03-18'),\n",
       " Review(id=75252, username='bmanno', asin='B018Y229OU', title='great price', text='does everything and more...very easy to operate and set up...', rating=4, do_recommend=True, num_helpful=1, date='2016-03-18'),\n",
       " Review(id=54652, username='Vincent', asin='B018Y229OU', title='Good tablet', text='Bargain for the price. Long battery life. The screen quality is good. I use this tablet everyday.', rating=4, do_recommend=True, num_helpful=1, date='2016-03-18'),\n",
       " Review(id=34052, username='Davidbtjr', asin='B018Y229OU', title='My kids love it', text='I got it for my kids and they love it they play with it every day', rating=5, do_recommend=True, num_helpful=1, date='2016-03-18'),\n",
       " Review(id=3152, username='Fede', asin='B018Y229OU', title='OS slow', text='Its a good product but the OS is kind of slow.Also when connected to the internet it will sometimes disconnect itself.', rating=4, do_recommend=False, num_helpful=1, date='2016-03-18'),\n",
       " Review(id=92955, username='RCroney', asin='B018Y229OU', title='great starter tablet', text='Great product for a great price. Would highly recommend', rating=5, do_recommend=True, num_helpful=1, date='2016-03-18'),\n",
       " Review(id=62055, username='lala40', asin='B018Y229OU', title='Easy to use features', text='Nice for all the basics Would have been nice to be able to download a mp3 music downloader', rating=4, do_recommend=True, num_helpful=1, date='2016-03-18'),\n",
       " Review(id=31155, username='Monkey', asin='B018Y229OU', title='Great', text='Brought for my four year old he loves it has no problems using it at all', rating=5, do_recommend=True, num_helpful=1, date='2016-03-18'),\n",
       " Review(id=10555, username='kaos21090', asin='B018Y229OU', title='Great item', text='Very portable. Easy to use. Well worth the price..', rating=5, do_recommend=True, num_helpful=1, date='2016-03-17'),\n",
       " Review(id=90058, username='Anand', asin='B018Y229OU', title='Display should have been better', text='Even though the price of the tablet matters the display and resolution should have been much better. Feels like working in the tablet without the charger connected. Amazon disappointed me with this product. Minor issues in installing the apps which are available in iOS too.', rating=3, do_recommend=False, num_helpful=0, date='2016-03-17'),\n",
       " Review(id=48858, username='Mauro', asin='B018Y229OU', title='I bought 4 of them', text='My nieces and nephews love it. Even my 40 yrs old cousin got one and he is thrilled about it. Really easy to use.', rating=5, do_recommend=True, num_helpful=0, date='2016-03-16'),\n",
       " Review(id=87161, username='brewerchic79', asin='B018Y229OU', title='amazon tablet', text='A great buy for the money. Very easy to set up and use. I recommend to anyone looking for a small tablet.', rating=4, do_recommend=True, num_helpful=0, date='2016-03-14'),\n",
       " Review(id=66561, username='JadeLow', asin='B018Y229OU', title='just what i wanted', text='I was looking for something basic to read on before bed and this fit the bill perfectly. Bonus it has camera lol', rating=5, do_recommend=True, num_helpful=0, date='2016-03-14'),\n",
       " Review(id=53364, username='Cheese', asin='B018Y229OU', title='Great', text='I bought this for my niece and she loves it. She can read all the books she wants and it is a perfect size.', rating=4, do_recommend=True, num_helpful=0, date='2016-03-13'),\n",
       " Review(id=91667, username='StacyJ', asin='B018Y229OU', title='Excellent value for the money', text='By far the best small tablet for the money that I could ever find. I bought one for my niece three years ago and she absolutely loves it a great buy.', rating=5, do_recommend=True, num_helpful=0, date='2016-03-13'),\n",
       " Review(id=50467, username='TheCollecter', asin='B018Y229OU', title='Great price', text='Great for the kids. Everyone in my family has one.', rating=4, do_recommend=True, num_helpful=0, date='2016-03-12'),\n",
       " Review(id=40167, username='Shopper', asin='B018Y229OU', title='Great product', text='This does everything I would expect out of s tablet. Like it better than the Kindle.', rating=5, do_recommend=True, num_helpful=0, date='2016-03-12'),\n",
       " Review(id=19567, username='Grim', asin='B018Y229OU', title='Awesome for all if my text books', text='Great way to have all of my text books in one and read on the go', rating=5, do_recommend=True, num_helpful=0, date='2016-03-12'),\n",
       " Review(id=9267, username='Bookworm', asin='B018Y229OU', title='3rd kindle', text='I started with a basic kindle four years ago After two years I purchased the kindle Fire HDX. I have been very satisfied with it. Now I also have the new kindle fire. So when one is charging I can use the other device', rating=5, do_recommend=True, num_helpful=0, date='2016-03-12'),\n",
       " Review(id=68170, username='Pick', asin='B018Y229OU', title='This tablet works like I wanted.', text='This tablet holds everything that I want and still has room to get through the net fast.', rating=4, do_recommend=True, num_helpful=0, date='2016-03-12'),\n",
       " Review(id=47570, username='prstar077', asin='B018Y229OU', title='Fun on the go', text='Only those who have an Amazon account can work with this tablet', rating=4, do_recommend=True, num_helpful=0, date='2016-03-12'),\n",
       " Review(id=37270, username='Guitarlistening', asin='B018Y229OU', title='Great tablet for the price', text='This is the second one I have purchased in the last 2 months for a gift.', rating=5, do_recommend=True, num_helpful=0, date='2016-03-12'),\n",
       " Review(id=75573, username='deacondave', asin='B018Y229OU', title='still learning', text='I bought it for work and play and it is working out great for both.', rating=4, do_recommend=True, num_helpful=0, date='2016-03-12'),\n",
       " Review(id=34373, username='Brenny', asin='B018Y229OU', title='Great tablet', text='Bought this for my grand daughter. Very easy to navigate. A very good price. No problems at all', rating=5, do_recommend=True, num_helpful=0, date='2016-03-12'),\n",
       " Review(id=13773, username='Dngrz4', asin='B018Y229OU', title='Awesome tablet for the price', text='Our youngest mostly uses it for games. Easy to navigate', rating=5, do_recommend=True, num_helpful=0, date='2016-03-12'),\n",
       " Review(id=3473, username='Jenny', asin='B018Y229OU', title='Nice for the price', text='Price was good. Great for reading. Needs more apps.', rating=4, do_recommend=True, num_helpful=0, date='2016-03-12'),\n",
       " Review(id=62376, username='Bobert', asin='B018Y229OU', title='great for our kids', text='when switched to the kid mode it takes the worry away of them getting on inappropriate sites. The 1 year warranty is cheaper than buying a case for it fyi', rating=4, do_recommend=True, num_helpful=0, date='2016-03-12'),\n",
       " Review(id=576, username='Ekhill', asin='B018Y229OU', title='Great tablet', text='I bought this tablet for my husband and son and both have not had any issues with it. Easy to use. Great over all.', rating=5, do_recommend=True, num_helpful=0, date='2016-03-12'),\n",
       " Review(id=80079, username='Cjam', asin='B018Y229OU', title='Great for kids', text='Purchased for 6 year old. Love free time. Parental controls are great. Can set to read books before playing games. Also can set time limits', rating=4, do_recommend=True, num_helpful=0, date='2016-03-11'),\n",
       " Review(id=77182, username='Sante', asin='B018Y229OU', title='Bought the Kindle for my grandkids', text='Bought the Kindle for my grandkids they just love they play with it all the time they use it to read books play games they just love it', rating=5, do_recommend=True, num_helpful=0, date='2016-03-11'),\n",
       " Review(id=15382, username='teresac50', asin='B018Y229OU', title='Great for reading books', text='I bought this when I was going on a trip and figured I needed something to read on the airplane and while sitting in the sun. I am pleased that I am able to read books but also have check email and be on internet. It is like a hand held computer and I love it. Great for when traveling and I am going to enjoy reading books and drinking my morning coffee on the deck at the lake this summer. Does everything a Kindle Fire does but costs so much less.', rating=5, do_recommend=True, num_helpful=0, date='2016-03-11'),\n",
       " Review(id=5082, username='birdie', asin='B018Y229OU', title='Small for everyday use', text='I love reading my books on it. It is comfortable to hold for long periods of time. I have prime so the music is great. I carry it with me everywhere', rating=5, do_recommend=True, num_helpful=0, date='2016-03-11'),\n",
       " Review(id=94885, username='richard', asin='B018Y229OU', title='Fantastic', text='Best tablet on the market for the price without a doubt', rating=5, do_recommend=True, num_helpful=0, date='2016-03-11'),\n",
       " Review(id=84585, username='wdws8', asin='B018Y229OU', title='smartly priced for great product', text='We had gotten some of the other Kindle fire tablets and they were all great to use. This one is no exception.', rating=5, do_recommend=True, num_helpful=0, date='2016-03-11'),\n",
       " Review(id=74285, username='rhonda', asin='B018Y229OU', title='great gift', text='Grandson loves it . He loves to play games and watch movies', rating=4, do_recommend=True, num_helpful=0, date='2016-03-11'),\n",
       " Review(id=22785, username='Firetab', asin='B018Y229OU', title='Good tablet for a beginner', text='Good if use of tablet is low and not very complex. Color quality is only average.', rating=3, do_recommend=True, num_helpful=0, date='2016-03-11'),\n",
       " Review(id=2185, username='Amu1', asin='B018Y229OU', title='Easy to use', text='This product is easy to use for beginners and has all the features and applications available for download like other expensive tablets.', rating=5, do_recommend=True, num_helpful=0, date='2016-03-11'),\n",
       " Review(id=40488, username='Thomas43', asin='B018Y229OU', title='Very good tablet.', text='I love the amazon tablets because you can get some many free kids games. My kids use this tablet all the time. Very reliable.', rating=5, do_recommend=True, num_helpful=0, date='2016-03-11'),\n",
       " Review(id=19888, username='649Bandit', asin='B018Y229OU', title='Great tablet for kids', text='The tablet was perfect for our kids. The easy to you features made it ideal for all ages.', rating=4, do_recommend=True, num_helpful=0, date='2016-03-11'),\n",
       " Review(id=89091, username='dukeandbuddy', asin='B018Y229OU', title='great little tablet', text='This is a great little tablet for the younger generation.', rating=4, do_recommend=True, num_helpful=0, date='2016-03-11'),\n",
       " Review(id=78791, username='retiree', asin='B018Y229OU', title='Wife likes it.', text='Bought it for my wife. Handy to read while exercising.', rating=5, do_recommend=True, num_helpful=0, date='2016-03-11'),\n",
       " Review(id=58191, username='ilovearrow', asin='B018Y229OU', title='Great tablet for my mother', text='This tablet was a gift for my mothers she is not into tech stuff she found it very user friendly and easy to navigate', rating=5, do_recommend=True, num_helpful=0, date='2016-03-11'),\n",
       " Review(id=27291, username='MsJuicy', asin='B018Y229OU', title='Sale', text='Got the tablet while it was on sale. Great choice.', rating=5, do_recommend=True, num_helpful=0, date='2016-03-11'),\n",
       " Review(id=86194, username='Rfinn', asin='B018Y229OU', title='Great for anyone', text='Awesome for young and old can work anywhere hooks up everywhere and kid friendly', rating=5, do_recommend=True, num_helpful=1, date='2016-03-11'),\n",
       " Review(id=55294, username='sleepy', asin='B018Y229OU', title='First tablet for my wife.', text='My wife is a email and facebook user. Her laptop was always needing updating and was not the best thing for her. She does do some web surfing and it works for her.', rating=4, do_recommend=True, num_helpful=0, date='2016-03-11'),\n",
       " Review(id=44994, username='Cmerri', asin='B018Y229OU', title='For Kids', text='Bought it for my kids and they love it. So then I bought myself one. I rake it every where', rating=4, do_recommend=True, num_helpful=0, date='2016-03-11'),\n",
       " Review(id=3794, username='handyman', asin='B018Y229OU', title='Great back up', text='This tablet is a great back up tablet for the money............', rating=5, do_recommend=True, num_helpful=0, date='2016-03-11'),\n",
       " Review(id=62697, username='Rays', asin='B018Y229OU', title='Excellant', text='Its great for small task and an excellent reader.I can even do my online school work.', rating=4, do_recommend=True, num_helpful=0, date='2016-03-11'),\n",
       " Review(id=52397, username='Jess791624', asin='B018Y229OU', title='Love it', text='I have been a book fan and was surprised how much I love this.', rating=5, do_recommend=True, num_helpful=0, date='2016-03-11'),\n",
       " Review(id=59800, username='Rona', asin='B018Y229OU', title='Another tablet for storage space for books', text='Had to purchase another kindle because my current one had reached its memory capacity.', rating=4, do_recommend=True, num_helpful=0, date='2016-03-11'),\n",
       " Review(id=18600, username='Nismo', asin='B018Y229OU', title='Great tablet for the price', text='The best gift for my 2 years old nieceGreat tablet', rating=4, do_recommend=True, num_helpful=0, date='2016-03-11'),\n",
       " Review(id=8300, username='EGould81', asin='B018Y229OU', title='Works good for the price', text='For low price it works great for everything that we need to use it for.', rating=4, do_recommend=True, num_helpful=0, date='2016-03-11'),\n",
       " Review(id=26003, username='kimi', asin='B018Y229OU', title='great tablet', text='was just the right size for my husband.and was just what he wanted.was a very good buy for him.thanks alot.', rating=5, do_recommend=True, num_helpful=0, date='2016-03-11'),\n",
       " Review(id=15703, username='sydfife', asin='B018Y229OU', title='Great tablet', text='Great tablet for the price. Good size. Easy to use.', rating=4, do_recommend=True, num_helpful=0, date='2016-03-11'),\n",
       " Review(id=54006, username='Sing', asin='B018Y229OU', title='Great tab for a price', text='This is a great tab for a price. I was looking for a inexpensive good tab it serve the purpose.', rating=4, do_recommend=True, num_helpful=0, date='2016-03-11'),\n",
       " Review(id=43706, username='Abnono', asin='B018Y229OU', title='Great cheap tablet', text='This is amazons cheapest tablet and probably oldest in the market. Good for the price.', rating=5, do_recommend=True, num_helpful=0, date='2016-03-11'),\n",
       " Review(id=9909, username='danny', asin='B018Y229OU', title='Great Tablet', text='I bought two of this tablets and they are great tablets with the best prize in the market.', rating=5, do_recommend=True, num_helpful=0, date='2016-03-11'),\n",
       " Review(id=99712, username='S1250', asin='B018Y229OU', title='Easy to use', text='Bought one for myself and then purchased two more for my grandsons. Great price.', rating=5, do_recommend=True, num_helpful=0, date='2016-03-11'),\n",
       " Review(id=58512, username='red79winter', asin='B018Y229OU', title='Great tablet for any level', text='Bought this for my son and he is enjoying it everyday. user friendly', rating=5, do_recommend=True, num_helpful=0, date='2016-03-09'),\n",
       " Review(id=17312, username='AggieDog', asin='B018Y229OU', title='Great product', text='Good price for a high quality product. Easy to use and navigate.', rating=5, do_recommend=True, num_helpful=0, date='2016-03-07'),\n",
       " Review(id=86515, username='neat', asin='B018Y229OU', title='easy setup and great product', text='Power ups within minutes and great instructions on how too setup. Plus comes with internet security for several months.', rating=4, do_recommend=True, num_helpful=0, date='2016-03-06'),\n",
       " Review(id=55615, username='Mstish', asin='B018Y229OU', title='Great Tablet for beginner', text='We purchase this for our son and he loves it. We are able to track his interaction online and he really loves it', rating=4, do_recommend=True, num_helpful=0, date='2016-03-09'),\n",
       " Review(id=24715, username='RICMEX', asin='B018Y229OU', title='an excelent tablet', text='its an excelent talber for the best price in market', rating=5, do_recommend=False, num_helpful=0, date='2016-03-08'),\n",
       " Review(id=14415, username='Jayson', asin='B018Y229OU', title='Awesome', text='Works great for everyday use. The family loves it.', rating=5, do_recommend=True, num_helpful=1, date='2016-03-08'),\n",
       " Review(id=4115, username='hairydawgmel', asin='B018Y229OU', title='Great tablet for kids', text='This is a great tablet for kids and is very easy to set up.', rating=5, do_recommend=True, num_helpful=0, date='2016-03-08'),\n",
       " Review(id=93918, username='Technology', asin='B018Y229OU', title='Awesome', text='I can read all my books great battery life and games', rating=4, do_recommend=True, num_helpful=0, date='2016-03-08'),\n",
       " Review(id=73318, username='lawyerman', asin='B018Y229OU', title='great tablet', text='I really like this tablet. Its fast and responsive and just the right size.', rating=5, do_recommend=True, num_helpful=0, date='2016-03-11'),\n",
       " Review(id=11518, username='aw71986', asin='B018Y229OU', title='Good cheap tablet', text='I got this for a cheap tablet and I love having it', rating=4, do_recommend=True, num_helpful=0, date='2016-03-11'),\n",
       " Review(id=1218, username='rosanne7648', asin='B018Y229OU', title='First Tablet', text='This is my first tablet. I has been fun learning how to use it. Great price.', rating=5, do_recommend=True, num_helpful=0, date='2016-03-11'),\n",
       " Review(id=91021, username='Mutie', asin='B018Y229OU', title='Great for travel', text='I bought this for the offline movie download capability. When I travel it is amazing', rating=3, do_recommend=True, num_helpful=0, date='2016-03-06'),\n",
       " Review(id=70421, username='corvidmortum', asin='B018Y229OU', title='Decent tablet', text='good tablet for day to day use. Not for those who want HD everything but shows decent video in SD.', rating=4, do_recommend=True, num_helpful=0, date='2016-03-06'),\n",
       " Review(id=60121, username='Juancarlos', asin='B018Y229OU', title='Awesome tablet', text='The tablet is good for the price is really being sold', rating=4, do_recommend=True, num_helpful=0, date='2016-03-06'),\n",
       " Review(id=49821, username='Spartaking', asin='B018Y229OU', title='Decent pad for basic use', text='The fire is a decent pad for basic uses. The only downside is the way the fire automatically links with your Amazon account. Also the ads are annoying and clearly designed to increase your Amazon purchases more than anything else.', rating=4, do_recommend=True, num_helpful=0, date='2016-03-06'),\n",
       " Review(id=95527, username='Sassy920', asin='B018Y229OU', title='Great tablet for its size', text='It is perfect for everything I need to be able to do on the go.', rating=5, do_recommend=True, num_helpful=0, date='2016-03-05'),\n",
       " Review(id=44027, username='jet1', asin='B018Y229OU', title='Great tablet for the beginner...', text='If your not sure of what your needs are..The Fire is a good place to start..', rating=4, do_recommend=True, num_helpful=0, date='2016-03-05'),\n",
       " Review(id=23427, username='Creese', asin='B018Y229OU', title='Great size for reading', text='Very happy with the overall design and the many options the fire has as far as the ability to assess different apps', rating=4, do_recommend=True, num_helpful=0, date='2016-03-05'),\n",
       " Review(id=13127, username='tnelson', asin='B018Y229OU', title='Great for kids', text='I bought this for my granddaughter so she could have it to watch movies and play games. She loves it and takes it everywhere she goes. It is way better than a leap pad and it can grow with her.', rating=5, do_recommend=True, num_helpful=0, date='2016-03-04'),\n",
       " Review(id=2827, username='Themetedundar', asin='B018Y229OU', title='A tablet for your kid', text='It is a cheap tablet. It is not for you but a very good option for little kids', rating=4, do_recommend=True, num_helpful=0, date='2016-03-04'),\n",
       " Review(id=92630, username='Petey', asin='B018Y229OU', title='Great tablet for kids.', text='i purchased the tablet for my son and he has pleasantly delighted with it up to this point.', rating=5, do_recommend=True, num_helpful=0, date='2016-03-04'),\n",
       " Review(id=82330, username='Js123', asin='B018Y229OU', title='Great tablet easy tip use', text='Great tablet fast and great resolution. Great with prime membership', rating=3, do_recommend=True, num_helpful=0, date='2016-03-04'),\n",
       " Review(id=41130, username='Betti', asin='B018Y229OU', title='Good 4 what its used 4', text='Average good 4 playibg games has a tendency to freeze', rating=4, do_recommend=True, num_helpful=0, date='2016-03-04'),\n",
       " Review(id=10230, username='Curly', asin='B018Y229OU', title='great', text='Easy to useBattery life is goodEasy to read a book', rating=4, do_recommend=True, num_helpful=0, date='2016-03-04'),\n",
       " Review(id=100033, username='Peterg', asin='B018Y229OU', title='Excellent product for the price.', text='I had researched the product thoroughly and it performed as expected.', rating=5, do_recommend=True, num_helpful=0, date='2016-03-04'),\n",
       " Review(id=79433, username='craiger', asin='B018Y229OU', title='Great tablet for the price', text='I bought this tablet for my grandson as a birthday present. You can set time a child use it and what your child can view on the Internet', rating=5, do_recommend=True, num_helpful=0, date='2016-03-01'),\n",
       " Review(id=38233, username='todo2le', asin='B018Y229OU', title='great price', text='we bought the amazon fire for my daughter. works great', rating=5, do_recommend=True, num_helpful=0, date='2016-02-29'),\n",
       " Review(id=17633, username='DiliGoRound', asin='B018Y229OU', title='Good tablet for the price', text='I was even able to get the Google play store on it. Returned though since there was no option to leave the display always on.', rating=4, do_recommend=True, num_helpful=1, date='2016-02-29'),\n",
       " Review(id=55936, username='Shi21', asin='B018Y229OU', title='Great kids zone', text='It was a birthday gift for my son. He loves it and I use it from time to time. I would recommend it and the price is nice.', rating=5, do_recommend=True, num_helpful=1, date='2016-02-27'),\n",
       " Review(id=35336, username='Jones', asin='B018Y229OU', title='Great camera', text='My kids love theirs. No problem out of this tablet.', rating=5, do_recommend=True, num_helpful=0, date='2016-02-27'),\n",
       " Review(id=14736, username='chasingchase', asin='B018Y229OU', title='great tablet', text='I love it and my two year old loves it to I love that it has parental locks on it', rating=5, do_recommend=True, num_helpful=1, date='2016-02-27'),\n",
       " Review(id=94239, username='oz73', asin='B018Y229OU', title='great product', text='This product does everything it said it would and more.', rating=5, do_recommend=True, num_helpful=0, date='2016-02-27'),\n",
       " Review(id=83939, username='Chexy123', asin='B018Y229OU', title='Really enjoy my kindle fire.', text='My kindle fire has been easy to use and allows me to read several books and magazines at a time with out the clutter.', rating=5, do_recommend=True, num_helpful=0, date='2016-02-27'),\n",
       " Review(id=6045, username='Neatgear', asin='B018Y229OU', title='Good one...', text='Its a good one for the normal songs and video viewing...', rating=4, do_recommend=True, num_helpful=1, date='2016-02-20'),\n",
       " Review(id=54648, username='Mtfdben', asin='B018Y229OU', title='Very nice tablet for the price', text='We wanted something you could read books on and watch shows through amazon and hulu. This meets those needs and then some.', rating=5, do_recommend=True, num_helpful=0, date='2016-02-19'),\n",
       " Review(id=44348, username='Gabe', asin='B018Y229OU', title='Great for the price', text='This is a good product for reading and browsing Internet.', rating=5, do_recommend=True, num_helpful=0, date='2016-02-19'),\n",
       " Review(id=34048, username='Redbird', asin='B018Y229OU', title='Love the tablet', text='The tablet is just the right size. The games are fun and has so many other uses', rating=5, do_recommend=True, num_helpful=1, date='2016-02-19'),\n",
       " Review(id=23748, username='granny1', asin='B018Y229OU', title='Easy to use even with arthritis', text='The ease of the touch screen makes for easy use with arthritis old granny nurse', rating=5, do_recommend=True, num_helpful=0, date='2016-02-19'),\n",
       " Review(id=72351, username='Wolfmanphil', asin='B018Y229OU', title='small and convenient', text='I like the size it fits right in my pocket and its not bulky', rating=4, do_recommend=True, num_helpful=0, date='2016-02-20'),\n",
       " Review(id=20851, username='HappyCustomer', asin='B018Y229OU', title='Good Tablet For Kids. Great Parental Controls', text='One thing I like most about the kindle fire product line are the extensive parental controls. The game play seems to be good and movie playback is as well. My kids love theirs...', rating=4, do_recommend=True, num_helpful=0, date='2016-02-19'),\n",
       " Review(id=10551, username='Polo', asin='B018Y229OU', title='Good for the right price', text='Is a great tablet the only bad thing is the lack of space and you have to buy an SD card for extra space', rating=4, do_recommend=True, num_helpful=0, date='2016-02-19'),\n",
       " Review(id=251, username='Cheechu821', asin='B018Y229OU', title='Great product for its price', text='I purchased the tablet as a screen for my drink and it worked just fine', rating=3, do_recommend=True, num_helpful=0, date='2016-02-19'),\n",
       " Review(id=90054, username='Smizer', asin='B018Y229OU', title='Great price for upgrading memory', text='I love this tablet for alot of reasons..Expandable memory slot of up to 128 mb SD card for music in the car an anywhere..Netflix for every1 in the family.Perfect for the 3 year olds phonics an movie time..', rating=5, do_recommend=True, num_helpful=0, date='2016-02-19'),\n",
       " Review(id=69454, username='Medmom', asin='B018Y229OU', title='Great for travel', text='Wanted a reader that I could just get and go on my way. Always have something to read. Apps are great. Easy for my 7 yr old grandson to enjoy too.', rating=4, do_recommend=True, num_helpful=0, date='2016-02-19'),\n",
       " Review(id=38554, username='TGoo', asin='B018Y229OU', title='Picture Quality', text='Not that great but a good tablet. No problems yet.', rating=4, do_recommend=True, num_helpful=0, date='2016-02-19'),\n",
       " Review(id=17954, username='Hwild2001', asin='B018Y229OU', title='Awesome tablet', text='This kindle is awesome. Great picture fast internet.', rating=5, do_recommend=True, num_helpful=0, date='2016-02-19'),\n",
       " Review(id=66557, username='Derek', asin='B018Y229OU', title='Good Tablet', text='Its a quick fast little tablet. Can do a lot of stuff a normal tablet does.', rating=5, do_recommend=True, num_helpful=0, date='2016-02-19'),\n",
       " Review(id=4757, username='Lupe', asin='B018Y229OU', title='Poor', text='The kindle fire I purchased does not work. It does not start or charge.', rating=1, do_recommend=False, num_helpful=2, date='2016-02-19'),\n",
       " Review(id=32760, username='NicoNana', asin='B018Y229OU', title='Great tablet for my grandson', text='I bought this tablet for my grandson who loves it. He can download books to read and play games as well. He carries it with him wherever he goes. Has really enjoyed having his own tablet.', rating=5, do_recommend=True, num_helpful=2, date='2016-02-18'),\n",
       " Review(id=91663, username='Magic', asin='B018Y229OU', title='Ok but i expected more.', text='Movee very slow but it is ok for the price that i paid for it.', rating=3, do_recommend=False, num_helpful=0, date='2016-02-13'),\n",
       " Review(id=71063, username='buddy', asin='B018Y229OU', title='Does not meet my needs', text='Can not print from this device...Using the touch screen is very difficult.', rating=1, do_recommend=False, num_helpful=3, date='2016-02-12'),\n",
       " Review(id=29863, username='Malibumary', asin='B018Y229OU', title='Great reader', text='I had wanted a kindle for a very long time. When I saw the price I could not resist', rating=5, do_recommend=True, num_helpful=0, date='2016-02-12'),\n",
       " Review(id=26966, username='SueAnn', asin='B018Y229OU', title='Pleasantly Surprised', text='Best gift for my 10yr. old. Even uses it for homework.', rating=5, do_recommend=True, num_helpful=0, date='2016-02-12'),\n",
       " Review(id=16666, username='LeaP', asin='B018Y229OU', title='Nice tablet for price', text='I enjoy this tablet and will buy another one for my daughter to use.', rating=4, do_recommend=True, num_helpful=0, date='2016-02-12'),\n",
       " Review(id=34369, username='Jerseymike', asin='B018Y229OU', title='Great tablet for everyday use', text='Great display and colors easy to use. Very good entry level tab great price seems to be very durable great apps. Would recommend to anyone wanting entry level tablet.', rating=5, do_recommend=True, num_helpful=0, date='2016-02-12'),\n",
       " Review(id=93272, username='Traci', asin='B018Y229OU', title='Gave it as a gift', text='They really enjoy it and I will buy it again for another gift', rating=5, do_recommend=True, num_helpful=0, date='2016-02-12'),\n",
       " Review(id=72672, username='Techgeek17', asin='B018Y229OU', title='Great tablet for the price', text='I purchased 3 tablets as gifts for family members. The price was great and the quality is outstanding. The video and sound are impressive for the value. Wonderful tablet at a low price.', rating=5, do_recommend=True, num_helpful=0, date='2016-02-12'),\n",
       " Review(id=41772, username='Louie', asin='B018Y229OU', title='excellent tablet', text='very easy to use and has met all of my xpectations', rating=4, do_recommend=True, num_helpful=0, date='2016-02-06'),\n",
       " Review(id=31472, username='DooDooMPB', asin='B018Y229OU', title='Great for Students', text='Bought these for my 3 college students. They love them', rating=4, do_recommend=True, num_helpful=1, date='2016-02-06'),\n",
       " Review(id=21172, username='Schmoltz', asin='B018Y229OU', title='Great tablet.', text='Seamless transition from old device. Easy to use. Completely happy.', rating=5, do_recommend=True, num_helpful=0, date='2016-02-06'),\n",
       " Review(id=90375, username='richie', asin='B018Y229OU', title='inexpensive for playing games.', text='Generally it is good. Sometimes the touch screen does not respond well.', rating=4, do_recommend=True, num_helpful=1, date='2016-02-05'),\n",
       " Review(id=80075, username='junebug66', asin='B018Y229OU', title='Great tablet for your money', text='This is a great tablet for the price. We have 3 of them now one for each family member. Easy to use and does everything that the high priced tablets do.love them never had a bad issue yet', rating=5, do_recommend=True, num_helpful=1, date='2016-02-05'),\n",
       " Review(id=59475, username='Jaca', asin='B018Y229OU', title='great for price', text='Not very fancy but works for what I need. I primarily got it for reading books. I like that you can switch to night light.', rating=5, do_recommend=True, num_helpful=0, date='2016-02-05'),\n",
       " Review(id=49175, username='WarEagle1', asin='B018Y229OU', title='Kindle fire', text='I would recommend this product great for web photo bible studying video tango and some much more.. Go and get you one trust me you would love it..', rating=5, do_recommend=True, num_helpful=1, date='2016-02-05'),\n",
       " Review(id=28575, username='bbshopper', asin='B018Y229OU', title='Everyone enjoying', text='This is an amazing item for the money. Cheaper then my first scientific calculator many years ago.', rating=5, do_recommend=True, num_helpful=0, date='2016-02-05'),\n",
       " Review(id=77178, username='jayjjm60', asin='B018Y229OU', title='got for my daughter', text='Excellent value great apps and movies. the price was perfect.', rating=5, do_recommend=True, num_helpful=2, date='2016-02-02'),\n",
       " Review(id=66878, username='eericksen', asin='B018Y229OU', title='Amazon Fire', text='This was a good investment. That being said do yourself a favor and buy a SD Micro card and add it on before you download anything. Makes it run that much smoother', rating=4, do_recommend=True, num_helpful=1, date='2016-02-02'),\n",
       " Review(id=46278, username='Geli', asin='B018Y229OU', title='Great tablet', text='A great tablet to read books on Amazon for prime members.', rating=4, do_recommend=True, num_helpful=0, date='2016-02-01'),\n",
       " Review(id=84581, username='Flash', asin='B018Y229OU', title='Great Deal', text='The tablet is durable and great for kids. The best part is the parental control.', rating=5, do_recommend=True, num_helpful=0, date='2016-02-01'),\n",
       " Review(id=53681, username='DRock', asin='B018Y229OU', title='Great gift for kids.', text='My kids loved it. They use it daily. I would recommend to any parent.', rating=4, do_recommend=True, num_helpful=0, date='2016-02-01'),\n",
       " Review(id=33081, username='Kingpat', asin='B018Y229OU', title='Easy to use', text='Very easy and dependable. It fits perfect in a purse or pocket to take to work to use on breaks.', rating=5, do_recommend=True, num_helpful=0, date='2016-02-01'),\n",
       " Review(id=22781, username='Xstobbi', asin='B018Y229OU', title='Loved it', text='Bought it for my niece over the Christmas and she absolutely loves it. Was worried about the quality since it was so cheap but it turned out great. As a matter of fact the quality was fantastic and easy to use too. Money well spent.', rating=5, do_recommend=True, num_helpful=0, date='2016-01-31'),\n",
       " Review(id=12481, username='shopgirl42', asin='B018Y229OU', title='It is a wonderful tablet.', text='I really enjoy using the Fire 7 tablet. It is light weight and fits in my purse for caring around. Now I always have a good book to read.', rating=5, do_recommend=True, num_helpful=0, date='2016-01-31'),\n",
       " Review(id=91984, username='Boughtformykids', asin='B018Y229OU', title='Great table for the price', text='Bought for my kids for Christmas and they both love them. Bought one for each kid.', rating=5, do_recommend=True, num_helpful=0, date='2016-01-31'),\n",
       " Review(id=19884, username='Stacey', asin='B018Y229OU', title='Great for a beginner', text='Seems to work great for my teenage son. He uses it to watch videos on it', rating=4, do_recommend=True, num_helpful=0, date='2016-01-30'),\n",
       " Review(id=9584, username='Drummer86', asin='B018Y229OU', title='Good general tablet', text='Tablet is good for all around use. My kids use most and like to buy music and books through Amazon.', rating=4, do_recommend=True, num_helpful=0, date='2016-01-30'),\n",
       " Review(id=68487, username='Buster1b', asin='B018Y229OU', title='great kindle fire', text='The Kindle fire was a xmas present for my son in law and he just loves it.', rating=5, do_recommend=True, num_helpful=0, date='2016-01-30'),\n",
       " Review(id=55290, username='tlowe91', asin='B018Y229OU', title='Great Tablet', text='Bought this tablet one for my daughter and one for my nephew. They seem to enjoy it a lot.', rating=5, do_recommend=True, num_helpful=0, date='2016-01-04'),\n",
       " Review(id=44990, username='Baseballnut73', asin='B018Y229OU', title='Christmas present', text='This item was purchased as a Christmas gift and the receiver loves it. They mostly play games and read books on it.', rating=4, do_recommend=True, num_helpful=0, date='2016-01-04'),\n",
       " Review(id=24390, username='Cmcclure92', asin='B018Y229OU', title='Great for Children', text='I purchased this thinking it would be a cheaper tablet for my son with great graphics. It is exactly that.', rating=4, do_recommend=True, num_helpful=0, date='2016-01-04'),\n",
       " Review(id=93593, username='llbrown89', asin='B018Y229OU', title='Great product', text='This was purchased for my 14 year old grand daughter and she loves it. The Kindle Fire does everything she needs it to do. We are very pleased.', rating=5, do_recommend=True, num_helpful=0, date='2016-01-04'),\n",
       " Review(id=83293, username='ruben', asin='B018Y229OU', title='good tablet for children', text='This is a nice tablet for children or beginners. Processing speed is adequate for playing games or watching videos.', rating=4, do_recommend=True, num_helpful=0, date='2016-01-04'),\n",
       " Review(id=52393, username='happy', asin='B018Y229OU', title='Great for a beginner', text='Gave this as a gift for my daughter so she can read and now she loves it.', rating=5, do_recommend=True, num_helpful=0, date='2016-01-04'),\n",
       " Review(id=11193, username='Mikeymike', asin='B018Y229OU', title='pretty cool tablet', text='It was pretty cheap and you can surf the web. a good buy for the bucks.', rating=4, do_recommend=True, num_helpful=0, date='2016-01-04'),\n",
       " Review(id=28896, username='Baconcheese', asin='B018Y229OU', title='Great tablet for novice', text='Great tablet for those new to tablets or just goofing around on', rating=4, do_recommend=True, num_helpful=0, date='2016-01-04'),\n",
       " Review(id=18596, username='dave', asin='B018Y229OU', title='execelent product', text='Very good and easy to handle the price was very good', rating=5, do_recommend=True, num_helpful=0, date='2016-01-04'),\n",
       " Review(id=77499, username='zcraig7', asin='B018Y229OU', title='Awesome picture quality', text='I bought two of these for black friday and the kids love them', rating=5, do_recommend=True, num_helpful=0, date='2016-01-04'),\n",
       " Review(id=56899, username='Nuna', asin='B018Y229OU', title='Excellent for users of different ages', text='This tablet is easy to use. It is also durable and the battery lasts a fair amount of time.', rating=4, do_recommend=True, num_helpful=0, date='2016-01-04'),\n",
       " Review(id=36299, username='Tuck', asin='B018Y229OU', title='Kid Friendly', text='I bought two of these during black Friday for my boys and they love them.', rating=4, do_recommend=True, num_helpful=0, date='2016-01-04'),\n",
       " Review(id=5399, username='jri6006', asin='B018Y229OU', title='great tablet', text='very nice tablet. very fast for the price. camera takes good quality pictures.', rating=4, do_recommend=True, num_helpful=0, date='2016-01-04'),\n",
       " Review(id=84902, username='Toody', asin='B018Y229OU', title='Great tablet for a beginner', text='I bought this for my mom for Christmas and she loves it.', rating=4, do_recommend=True, num_helpful=0, date='2016-01-04'),\n",
       " Review(id=74602, username='gc77441', asin='B018Y229OU', title='Bought this for our 8yr old son', text='He loves it. Using it with the Amazon Free Time app. Son uses is constantly. Easy to set up and use. Easy to keep kids from making purchases or accessing content outside of the Free Time app.', rating=5, do_recommend=True, num_helpful=0, date='2016-01-04'),\n",
       " Review(id=43702, username='sunflower', asin='B018Y229OU', title='Awesome', text='I will be buying another Amazon Fire in Feb. for my granddaughter for her birthday.', rating=5, do_recommend=True, num_helpful=0, date='2016-01-03'),\n",
       " Review(id=61405, username='Mommie', asin='B018Y229OU', title='Great price', text='This is my second one. I love it. The price was great. Bought one for my daughter.', rating=5, do_recommend=True, num_helpful=0, date='2016-01-03'),\n",
       " Review(id=79108, username='danababy50', asin='B018Y229OU', title='LOVE IT', text='THIS ITEM IS ONE OF THE BEST PURCHASES I MADE THIS SEASIN. I ABSOLUTLY LOVE IT', rating=5, do_recommend=True, num_helpful=0, date='2016-01-02'),\n",
       " Review(id=27608, username='photodena', asin='B018Y229OU', title='Great Tablet', text='This tablet is the perfect size and power for any work or home use.', rating=5, do_recommend=True, num_helpful=0, date='2016-01-02'),\n",
       " Review(id=76211, username='maf1021', asin='B018Y229OU', title='great gift', text='The perfect tablet for a beginner. Also at the super low price its hard to find a better bargain.', rating=5, do_recommend=True, num_helpful=0, date='2016-01-01'),\n",
       " Review(id=24711, username='Tommy7999', asin='B018Y229OU', title='Excellent Tablet', text='Got 2 of these for my grandsons and they love them.', rating=5, do_recommend=True, num_helpful=0, date='2015-12-31'),\n",
       " Review(id=32114, username='montiy', asin='B018Y229OU', title='Great tablet', text='Great little tablet for taken on my commute to work.', rating=4, do_recommend=True, num_helpful=0, date='2015-12-30'),\n",
       " Review(id=11514, username='SamIAm', asin='B018Y229OU', title='Great Tablet for Toddlers', text='We love this tablet for our toddler. The built in parental controls are awesome. Just wish that it was open to Android market outside of Amazon for more apps.', rating=4, do_recommend=True, num_helpful=0, date='2015-12-30'),\n",
       " Review(id=77820, username='jam0509', asin='B018Y229OU', title='Perfect', text='Great little tablet. Exactly what we needed for our daughter. It works great around the house and she can play games while we roadtrip. Perfect for our needs.', rating=5, do_recommend=True, num_helpful=0, date='2015-12-30'),\n",
       " Review(id=46920, username='JDR60', asin='B018Y229OU', title='Purchased for a book reader', text='Purchased this item for a book reader only. Kindle is one of the best as far as I am concerned.', rating=4, do_recommend=True, num_helpful=0, date='2015-12-30'),\n",
       " Review(id=26320, username='itfashionista', asin='B018Y229OU', title='Excellent value', text='Excellent value and popular for all ages.Great for reading books and browsing the internet', rating=4, do_recommend=True, num_helpful=0, date='2015-12-30'),\n",
       " Review(id=16020, username='waymo', asin='B018Y229OU', title='Good tablet for a beginner', text='Purchased this tablet for a nephew and they have thoroughly enjoyed it. They are able to do anything they want with it as well as it being an amazon product they have plenty of options to choose from when it comes to the games they want to play.', rating=5, do_recommend=True, num_helpful=0, date='2015-12-30'),\n",
       " Review(id=95523, username='rissa922', asin='B018Y229OU', title='great tablet', text='Got this for my 9 year old for Christmas and he loves it light weight and its able to do so much', rating=4, do_recommend=True, num_helpful=0, date='2015-12-30'),\n",
       " Review(id=64623, username='jrock99', asin='B018Y229OU', title='this is a great tablet for any age', text='The navigation on the tablet is easy to use. Its great for streaming movies. light weight and compact.', rating=5, do_recommend=True, num_helpful=0, date='2015-12-30'),\n",
       " Review(id=33723, username='Mani', asin='B018Y229OU', title='Good basic tablet.', text='Good basic tablet.Good basic tablet.Good basic tablet.', rating=5, do_recommend=True, num_helpful=0, date='2015-12-29'),\n",
       " Review(id=92626, username='Amandsa', asin='B018Y229OU', title='Got three fire tablets and the kids love them.', text='The service and shopping experience was great. The products are amazing.', rating=5, do_recommend=True, num_helpful=0, date='2015-12-29'),\n",
       " Review(id=100029, username='WILLIERIVERA', asin='B018Y229OU', title='GREAT TABLET AND YOU CAN ADD SPACE', text='GREAT FOR BUISNESS IF YOUR INTO WORKING CONSTRUCTION', rating=5, do_recommend=True, num_helpful=0, date='2015-12-29'),\n",
       " Review(id=69129, username='Audy', asin='B018Y229OU', title='Great tablet for the price', text='Bought it for my daughter 5 years old. Works great for her. She can do some reading and common core problems.', rating=5, do_recommend=True, num_helpful=0, date='2015-12-29'),\n",
       " Review(id=27929, username='Drea', asin='B018Y229OU', title='Love it', text='I went back to buy two more for a nephews and aunt.', rating=5, do_recommend=True, num_helpful=0, date='2015-12-29'),\n",
       " Review(id=17629, username='Ace33', asin='B018Y229OU', title='Great for teens', text='This is a great first tablet for someone. Very inexpensive and has everything you want on it', rating=5, do_recommend=True, num_helpful=0, date='2015-12-29'),\n",
       " Review(id=97132, username='Susie', asin='B018Y229OU', title='Grandchildren love it', text='I purchased 2 of the Amazon Fire and I am very pleased not only with the product but the price was fantastic. The children are thrilled and they have found it very easy to operate.', rating=5, do_recommend=True, num_helpful=0, date='2015-12-29'),\n",
       " Review(id=86832, username='Lacey', asin='B018Y229OU', title='Lacey', text='Good tablet for the money. Would purchase again. Very fast', rating=4, do_recommend=True, num_helpful=0, date='2015-12-29'),\n",
       " Review(id=45632, username='Lilly', asin='B018Y229OU', title='Good price for the tablet', text='Great price. Maybe too small for those who need reading glasses but refuse to wear them during usage of tablet.', rating=4, do_recommend=False, num_helpful=0, date='2015-12-29'),\n",
       " Review(id=94235, username='JellyAndCheese', asin='B018Y229OU', title='Sideloading apps works', text='I sideloaded the .apk file for the Opera web browser from GetJar.com. Works flawlessly since FireOS is based upon Android. Nice little tablet all around.', rating=5, do_recommend=True, num_helpful=0, date='2015-12-29'),\n",
       " Review(id=73635, username='Shanya', asin='B018Y229OU', title='Gift', text='This Kindle Fire tablet was a Christmas gift. The recipient is over joyed thus far.', rating=4, do_recommend=True, num_helpful=0, date='2015-12-29'),\n",
       " Review(id=63335, username='kilo', asin='B018Y229OU', title='problems', text='Had nothing but prblems wasnt satisfied at all and will never buy agian', rating=1, do_recommend=False, num_helpful=1, date='2015-12-29'),\n",
       " Review(id=1535, username='MzBarts', asin='B018Y229OU', title='Simple to use', text='Great tablet for beginners to use. Easy operating system', rating=5, do_recommend=True, num_helpful=0, date='2015-12-29'),\n",
       " Review(id=70738, username='Chele', asin='B018Y229OU', title='Great for a yound child', text='We like this product. I would definitely recommend this product.', rating=4, do_recommend=True, num_helpful=0, date='2015-12-29'),\n",
       " Review(id=29538, username='esolis0088', asin='B018Y229OU', title='Very Convinient', text='this is our go to when we are shopping online. It also has a very good functionality when dealing with kids it gives the admin the ability to limit what kids can see.', rating=5, do_recommend=True, num_helpful=0, date='2015-12-29'),\n",
       " Review(id=19238, username='melissa', asin='B018Y229OU', title='great for teenagers', text='great for teen agers and easy to use and set up small enough to take as you travel lots off apps to choose from long battery life as well would buy again and would reckomend this to every one even at a great price as well', rating=5, do_recommend=True, num_helpful=0, date='2015-12-29'),\n",
       " Review(id=8938, username='kevin', asin='B018Y229OU', title='for my 3yr old', text='this kindle was for my 3yr old so she would stop using mine. she really enjoys it and caught on really quickly to the updates compared to mine that was purchased 2 yrs prior.', rating=4, do_recommend=True, num_helpful=0, date='2015-12-29'),\n",
       " Review(id=88441, username='ToyToy', asin='B018Y229OU', title='Good', text='Great for kids and adults looking for a quick tablet. Was surprised at how fast it downloads games and etc.', rating=5, do_recommend=True, num_helpful=0, date='2015-12-29'),\n",
       " Review(id=67841, username='JayMusicLover', asin='B018Y229OU', title='Perfect for kids', text='My little girl loves it and she can do so many things with it and the sound was a little to good because now I have to buy her some bluetooth headphones', rating=4, do_recommend=True, num_helpful=0, date='2015-12-29'),\n",
       " Review(id=57541, username='marinofan', asin='B018Y229OU', title='Decent price', text='Backup tablet not a lot of apps to chose from battery life decent. Good tablet for kids', rating=4, do_recommend=True, num_helpful=0, date='2015-12-29'),\n",
       " Review(id=36941, username='DMcKay', asin='B018Y229OU', title='Dissatisfied', text='I have been a kindle user for years and I expect a certain level of quality. This version falls short. Constantly freezes.', rating=2, do_recommend=False, num_helpful=0, date='2015-12-29'),\n",
       " Review(id=6041, username='Housewarming', asin='B018Y229OU', title='Christmas gift', text='I have heard so many great things about the Fire so I bought it as a starter tablet for a relative.', rating=4, do_recommend=True, num_helpful=0, date='2015-12-29'),\n",
       " Review(id=85544, username='TICO414323', asin='B018Y229OU', title='TABLET', text='EXCELLENT PRODUCT THE PRICE AND THE QUALITY ARE GOOD', rating=4, do_recommend=True, num_helpful=0, date='2015-12-29'),\n",
       " Review(id=44344, username='Babydimp', asin='B018Y229OU', title='Great apps', text='Great apps for music and overall very fast and satisfying.', rating=5, do_recommend=True, num_helpful=0, date='2015-12-29'),\n",
       " Review(id=23744, username='mary', asin='B018Y229OU', title='ok', text='not as good as the first kindle fire I got and ok product.', rating=3, do_recommend=False, num_helpful=0, date='2015-12-29'),\n",
       " Review(id=13444, username='QMLW', asin='B018Y229OU', title='Kids app is awesome', text='I like it for my kids and think it is a great tablet for adults too', rating=4, do_recommend=True, num_helpful=0, date='2015-12-29'),\n",
       " Review(id=62047, username='ktran', asin='B018Y229OU', title='Great tablet.', text='Easy to use. Easy to setup. Great video quality...', rating=5, do_recommend=True, num_helpful=0, date='2015-12-29'),\n",
       " Review(id=41447, username='BigSpike', asin='B018Y229OU', title='Great for the price', text='Purchased for a friends 3 year old. The parental controls are great and the price was more than reasonable for this kind of gift.', rating=4, do_recommend=True, num_helpful=0, date='2015-12-29'),\n",
       " Review(id=10547, username='Skippy', asin='B018Y229OU', title='Best overall for my young beginner.', text='The Tablet was better than expected.Excellent Choice on my part.', rating=5, do_recommend=True, num_helpful=0, date='2015-12-29'),\n",
       " Review(id=247, username='rockydon1', asin='B018Y229OU', title='great', text='The Kindle fire is a great product. Will do so many things. Would recommend to anyone.', rating=5, do_recommend=True, num_helpful=0, date='2015-12-29'),\n",
       " Review(id=69450, username='Sueald84', asin='B018Y229OU', title='Perfect for newbies', text='We bought these for our grandchildren they were a hit.', rating=5, do_recommend=True, num_helpful=0, date='2015-12-29'),\n",
       " Review(id=38550, username='Grandmother1', asin='B018Y229OU', title='Great Tablet', text='I purchased these for my grandchilden and they have really enjoyed using them and downloading new games to play.', rating=5, do_recommend=True, num_helpful=0, date='2015-12-29'),\n",
       " Review(id=28250, username='hcj123', asin='B018Y229OU', title='Works well but is very small', text='Good purchase for the money but the screen is smaller than I anticipated.', rating=3, do_recommend=True, num_helpful=0, date='2015-12-29'),\n",
       " Review(id=97453, username='malqueche', asin='B018Y229OU', title='Good product', text='My daughter loves her new tablet no complaint she is happy and doing well I will probably buy one for me', rating=5, do_recommend=True, num_helpful=0, date='2015-12-29'),\n",
       " Review(id=25353, username='mickey31', asin='B018Y229OU', title='great for traveling', text='Easily stored very lightweight keeps me entertained', rating=4, do_recommend=True, num_helpful=0, date='2015-12-29'),\n",
       " Review(id=15053, username='Debi', asin='B018Y229OU', title='Easy to use', text='My first tablet and I really enjoy it. Portable and efficient', rating=4, do_recommend=True, num_helpful=0, date='2015-12-29'),\n",
       " Review(id=84256, username='Grod', asin='B018Y229OU', title='Great for kids', text='Really good tablet for kids. Easy for kids to used it.', rating=5, do_recommend=True, num_helpful=0, date='2015-12-29'),\n",
       " Review(id=63656, username='kaiser71', asin='B018Y229OU', title='good for a kid', text='Got this for my granddaughter she loves it was a hit at Christmas good first tablet', rating=4, do_recommend=True, num_helpful=0, date='2015-12-29'),\n",
       " Review(id=53356, username='Sickofschool', asin='B018Y229OU', title='Bought 2 for my grandkids. They love it', text='Grandkids love it. Got a great price. Bought as a replacement for their broken samsung.', rating=4, do_recommend=True, num_helpful=0, date='2015-12-29'),\n",
       " Review(id=22456, username='Dunk72', asin='B018Y229OU', title='Great alternative to an iPad', text='This is a great tablet for its price point. The Apps are easy to use and the durability of the tablet is great.', rating=5, do_recommend=True, num_helpful=0, date='2015-12-29'),\n",
       " Review(id=91659, username='1970charger', asin='B018Y229OU', title='Love the Kindle', text='This is fourth one.As I upgrade I give my old ones to my kids and bought some for the family.', rating=5, do_recommend=True, num_helpful=0, date='2015-12-29'),\n",
       " Review(id=60759, username='lovely', asin='B018Y229OU', title='The kids love it', text='The kids love there new tablet and it got here so fast that I was shocked I only like shopping at Best Buys', rating=5, do_recommend=True, num_helpful=0, date='2015-12-29'),\n",
       " Review(id=40159, username='Koko', asin='B018Y229OU', title='Great tablet for my daughter', text='The tablet is up to date technology. My daughter surf the internet fast and no slow download.', rating=5, do_recommend=True, num_helpful=0, date='2015-12-29'),\n",
       " Review(id=29859, username='1Customersopinion', asin='B018Y229OU', title='Great tablet for a small child', text='Got this as a christmas present for a 5 year old. The tablet has an excellent kids mode that he can navigate easily to play games or watch videos.', rating=4, do_recommend=True, num_helpful=0, date='2015-12-29'),\n",
       " Review(id=57862, username='MrSam', asin='B018Y229OU', title='It works', text='The the price and size it works well my mother loves it', rating=5, do_recommend=True, num_helpful=0, date='2015-12-29'),\n",
       " Review(id=26962, username='predsfan', asin='B018Y229OU', title='Great little tablet', text='Small but easy to use. Good selection of kid friendly apps.', rating=4, do_recommend=True, num_helpful=0, date='2015-12-29'),\n",
       " Review(id=65265, username='Deejay0623', asin='B018Y229OU', title='Awesome starter', text='I purchased this for my 3yr old and he loved it. No problems once so ever. For the price it was a still.', rating=5, do_recommend=True, num_helpful=0, date='2015-12-29'),\n",
       " Review(id=44665, username='jesbcauz', asin='B018Y229OU', title='love it', text='keeps me busy great tablet I am always home bored now I am stuck on Netflix and play my games do my homework log into to work', rating=5, do_recommend=True, num_helpful=0, date='2015-12-29'),\n",
       " Review(id=82968, username='Cindy', asin='B018Y229OU', title='Good tablet', text='Good tablet for the price. Easy to use. User friendly', rating=5, do_recommend=True, num_helpful=0, date='2015-12-29'),\n",
       " Review(id=72668, username='Juraiquest', asin='B018Y229OU', title='A nice tablet for little coin', text='I cant comment much on the operation of this device as it was bought as a gift. But the price is super and past experience with Kindle readers promices you will get a excellent bang for the buck.', rating=3, do_recommend=True, num_helpful=0, date='2015-12-29'),\n",
       " Review(id=52068, username='KC0048', asin='B018Y229OU', title='Good kids tablet', text='I purchased 2 of these for my kids. They work very good. No quite as solid as original kindle fire.', rating=4, do_recommend=True, num_helpful=0, date='2015-12-29'),\n",
       " Review(id=41768, username='Nicholphil', asin='B018Y229OU', title='Great alternative to laptop', text='My son received this as a gift and he enjoys it. It is used for playing games and watching YouTube videos. Great buy for cost.', rating=4, do_recommend=True, num_helpful=0, date='2015-12-29'),\n",
       " Review(id=59471, username='Nana', asin='B018Y229OU', title='Nice Kindle Fire', text='Very nice basic kindle fire. Amazon has improved the fire quite a bit.', rating=5, do_recommend=True, num_helpful=0, date='2015-12-29'),\n",
       " Review(id=49171, username='snoopyanks', asin='B018Y229OU', title='Love it', text='Just love my new tablet. I have had a kindle fire for 4 years and it was messing up badly so I needed a new one badly.', rating=5, do_recommend=True, num_helpful=0, date='2015-12-29'),\n",
       " Review(id=38871, username='Mouse', asin='B018Y229OU', title='Perfect gift', text='This was the perfect gift for my Neice and nephew I bought two', rating=5, do_recommend=True, num_helpful=0, date='2015-12-29'),\n",
       " Review(id=97774, username='3dmomma', asin='B018Y229OU', title='Good price', text='We gott this at a great price on black friday for my nephew. Lowest price we found anywhere.', rating=4, do_recommend=True, num_helpful=0, date='2015-12-29'),\n",
       " Review(id=56574, username='Piff188', asin='B018Y229OU', title='Great beginner device', text='This tablet is extremely easy to use. There are a wide selection of books and apps available.', rating=5, do_recommend=True, num_helpful=0, date='2015-12-29'),\n",
       " Review(id=63977, username='eahernandez1959', asin='B018Y229OU', title='good entry level tablet', text='I bought this tablet because it was on sale and i had heard it was a good entry level tablet. It is quick on the touch response. Camera is decent but not the best. Its good to view videos.', rating=4, do_recommend=True, num_helpful=0, date='2015-12-29'),\n",
       " Review(id=53677, username='Lashauwns', asin='B018Y229OU', title='So far so good', text='Bought 3 of these black Friday for my kids they seem to be doing good so far hopefully they last.', rating=3, do_recommend=True, num_helpful=0, date='2015-12-29'),\n",
       " Review(id=43377, username='maria', asin='B018Y229OU', title='Excellent for a very low price', text='Fire is still a good tablet and a great tablet for the price.', rating=4, do_recommend=True, num_helpful=0, date='2015-12-29'),\n",
       " Review(id=22777, username='2nd1', asin='B018Y229OU', title='amazon fire', text='the amazon fire sucks the pictures and camera sucks and blurry as can be', rating=1, do_recommend=False, num_helpful=2, date='2015-12-29'),\n",
       " Review(id=71380, username='Roxana', asin='B018Y229OU', title='Great everything', text='I really happy and satisface with all my thingsThank you so much..', rating=5, do_recommend=True, num_helpful=0, date='2015-12-29'),\n",
       " Review(id=30180, username='bighog', asin='B018Y229OU', title='great price', text='there was so much to choose from on black Friday that I wished I had enough money to buy everything. nice tablets amazing deal.', rating=4, do_recommend=True, num_helpful=0, date='2015-12-28'),\n",
       " Review(id=9580, username='Cubano', asin='B018Y229OU', title='Great tablet for my 4 year old', text='Works great also love how it it capable of more storage and child proof', rating=5, do_recommend=True, num_helpful=0, date='2015-12-28'),\n",
       " Review(id=99383, username='atul', asin='B018Y229OU', title='Good for price', text='Good quality touch compared to other low priced tabs .. Poor on apps .Good for children to play around.', rating=3, do_recommend=True, num_helpful=0, date='2015-12-28'),\n",
       " Review(id=89083, username='Jen87', asin='B018Y229OU', title='Love it', text='Got it for my daughter and she loves it and I love the child age range usage', rating=3, do_recommend=True, num_helpful=0, date='2015-12-28'),\n",
       " Review(id=68483, username='Zee06', asin='B018Y229OU', title='Great Video Games', text='Bought 3 PS4 games for a great price. And I just love my fire tablet', rating=4, do_recommend=True, num_helpful=0, date='2015-12-28'),\n",
       " Review(id=58183, username='SFGTWEET', asin='B018Y229OU', title='Made a great gift', text='Perfect gift for my nephew. He is 10 and loves to play games and his mom loves the parental control feature.', rating=4, do_recommend=True, num_helpful=0, date='2015-12-28'),\n",
       " Review(id=96486, username='Nokiauser', asin='B018Y229OU', title='Great for kids', text='Got this on Black Friday as a gift. Kids luv it.Touch response is not very smooth', rating=3, do_recommend=True, num_helpful=0, date='2015-12-28'),\n",
       " Review(id=65586, username='Rantnrate', asin='B018Y229OU', title='Great buy', text='Very simple design which makes it very easy for me to navigate through any screen.', rating=4, do_recommend=True, num_helpful=0, date='2015-12-28'),\n",
       " Review(id=3786, username='Hubb', asin='B018Y229OU', title='Tablet', text='My daughter is 6 and she plays with everyday and my son had one last year good quality', rating=5, do_recommend=True, num_helpful=0, date='2015-12-28'),\n",
       " Review(id=83289, username='chofer222005', asin='B018Y229OU', title='Black friday deal', text='35 dollar black friday day deal. My nephews love it.', rating=5, do_recommend=True, num_helpful=0, date='2015-12-28'),\n",
       " Review(id=62689, username='Bayo', asin='B018Y229OU', title='Great tablet for kids', text='Excellent screen to view movies and browse the net.', rating=5, do_recommend=True, num_helpful=0, date='2015-12-28'),\n",
       " Review(id=52389, username='Jags', asin='B018Y229OU', title='Great New Year Gift for my daughter.', text='This Tablet is awesome. Easy to set up and navigate.Compact. Easy to hold.', rating=4, do_recommend=True, num_helpful=0, date='2015-12-28'),\n",
       " Review(id=42089, username='Missy', asin='B018Y229OU', title='Love the tablet', text='This tablet had been great. So much better than the old tablet we had.', rating=5, do_recommend=True, num_helpful=0, date='2015-12-28'),\n",
       " Review(id=21489, username='Akshay', asin='B018Y229OU', title='Touch is not good', text='Touch is not good. Also very limited apps on amazon app store.', rating=3, do_recommend=False, num_helpful=0, date='2015-12-28'),\n",
       " Review(id=11189, username='slickster917', asin='B018Y229OU', title='Great Kindle fire', text='Recommended great electronic. Great for birthday or Christmas', rating=5, do_recommend=True, num_helpful=0, date='2015-12-28'),\n",
       " Review(id=90692, username='neolusions', asin='B018Y229OU', title='Great for the price', text='Bought as gifts for my parents. Good tablet for introducing them to smart devices.', rating=5, do_recommend=True, num_helpful=0, date='2015-12-28'),\n",
       " Review(id=80392, username='Baldy', asin='B018Y229OU', title='Good low cost tablet', text='For the price it seems like a very good tablet. I was disappointed that it came with absolutely NO instructions. So if you were new to tablets you could find yourself at a complete loss as to how to set it up.', rating=4, do_recommend=True, num_helpful=0, date='2015-12-28'),\n",
       " Review(id=70092, username='S74M', asin='B018Y229OU', title='Great amazon', text='I like the amazon stream with this tablet. Fast and good quality.', rating=5, do_recommend=True, num_helpful=0, date='2015-12-28'),\n",
       " Review(id=39192, username='Heavymay1224', asin='B018Y229OU', title='Great tab for price', text='Got it on Black Friday got a great deal nice little tablet', rating=5, do_recommend=True, num_helpful=0, date='2015-12-28'),\n",
       " Review(id=77495, username='shawty', asin='B018Y229OU', title='great tablet', text='Initially was purchasing this for my 2 yr old nephew but after I received it I could not part with it and bought him another cheaper brand.', rating=5, do_recommend=True, num_helpful=0, date='2015-12-28'),\n",
       " Review(id=25995, username='Kavi', asin='B018Y229OU', title='Feedback', text='Worth for the price paid. Love this product so much', rating=5, do_recommend=True, num_helpful=0, date='2015-12-28'),\n",
       " Review(id=84898, username='Debs', asin='B018Y229OU', title='great purchase.', text='I bought two of these for my great grand children. I charged them and played around on them before I have it to them and I wish I had bought one for myself. Everything worked great. I think this is a great purchase.', rating=4, do_recommend=True, num_helpful=0, date='2015-12-28'),\n",
       " Review(id=23098, username='Maureen', asin='B018Y229OU', title='Great Tablet', text='I purchased several of these for gifts. Everyone loved them. Works great and easy to use.', rating=5, do_recommend=True, num_helpful=0, date='2015-12-28'),\n",
       " Review(id=2498, username='Kittykarryall', asin='B018Y229OU', title='Good first tablet', text='Bought as a gift. It was a bit smaller then expected but measured as described. Good value for the price.', rating=4, do_recommend=True, num_helpful=0, date='2015-12-28'),\n",
       " Review(id=82001, username='Namish', asin='B018Y229OU', title='low in performance', text='It did not meet my expectations and was pretty slow.', rating=3, do_recommend=False, num_helpful=0, date='2015-12-28'),\n",
       " Review(id=40801, username='ForMom', asin='B018Y229OU', title='Great gifts', text='Easy to set up and navigate. Got two for my parents', rating=5, do_recommend=True, num_helpful=0, date='2015-12-28'),\n",
       " Review(id=99704, username='doolynupe', asin='B018Y229OU', title='Great tablet for the kids...', text='We bought 3 of these for niece and nephews and they absolutely love it. The price is very reasonable for the product.', rating=5, do_recommend=True, num_helpful=0, date='2015-12-28'),\n",
       " Review(id=79104, username='SMOKEY', asin='B018Y229OU', title='I live my Fire Tablet', text='The Amazon Fire Tables is really easy to read books on and play games and it stays charged for a long time...', rating=5, do_recommend=True, num_helpful=0, date='2015-12-28'),\n",
       " Review(id=27604, username='Linn', asin='B018Y229OU', title='Awesome little tablet', text='I bought this for my 3 year old daughter. It is a great tablet. She loves it and it works great.', rating=5, do_recommend=True, num_helpful=0, date='2015-12-28'),\n",
       " Review(id=17304, username='Kimmie95', asin='B018Y229OU', title='Great tablet for kids', text='Like the price. We have 5 kids so these tablets are the way to go. One of the negatives is that if you drop it its very fragile. And you can not get Instagram on these tablets which bummed my older kids.', rating=4, do_recommend=True, num_helpful=0, date='2015-12-28'),\n",
       " Review(id=96807, username='SpectorGadget1', asin='B018Y229OU', title='Amazon fire tablet 7', text='Awesome for the price and great for the kids when you are traveling', rating=5, do_recommend=True, num_helpful=0, date='2015-12-28'),\n",
       " Review(id=86507, username='Elemurqu', asin='B018Y229OU', title='Great product for a beginner', text='Great product for a beginner. I bought four in the past month.', rating=4, do_recommend=True, num_helpful=0, date='2015-12-28'),\n",
       " Review(id=65907, username='regularguy', asin='B018Y229OU', title='Great Tablet for Young Children', text='The amount of features on this tablet for the price makes it an easy pick for young readers.', rating=4, do_recommend=True, num_helpful=0, date='2015-12-28'),\n",
       " Review(id=24707, username='CHUNKY', asin='B018Y229OU', title='Great tablet', text='I love this new tablet because it has expandable memory.', rating=5, do_recommend=True, num_helpful=0, date='2015-12-28'),\n",
       " Review(id=14407, username='T714', asin='B018Y229OU', title='Great tablet at a great price', text='Bought a couple of these for gifts. Great for all ages. My 60 year old aunt loves it as does my 12 year old nephew.', rating=5, do_recommend=True, num_helpful=0, date='2015-12-28'),\n",
       " Review(id=4107, username='JoeG', asin='B018Y229OU', title='Great Buy', text='I purchased this at Christmas when they were on sale. Works great for what I need it for. Liked it so much bought two more for family.', rating=4, do_recommend=True, num_helpful=0, date='2015-12-28'),\n",
       " Review(id=63010, username='Bob64', asin='B018Y229OU', title='Tablet for my mother', text='My mom is 89 and has a hard time with technology. This Kindle is simple and easy for her to use. It has fulfilled all of her basic needs.', rating=4, do_recommend=True, num_helpful=0, date='2015-12-28'),\n",
       " Review(id=52710, username='LoneWolf33', asin='B018Y229OU', title='great tablet for a beginner', text='The tablet is going well for me and my son likes the app store', rating=5, do_recommend=True, num_helpful=0, date='2015-12-28'),\n",
       " Review(id=42410, username='Piggy', asin='B018Y229OU', title='Great tables', text='The amazon tables were great Christmas gift the kids love them', rating=5, do_recommend=True, num_helpful=0, date='2015-12-28'),\n",
       " Review(id=91013, username='Ranga', asin='B018Y229OU', title='Good', text='Price is affordable but Display pix is very less compared other products in the market for the same price.', rating=4, do_recommend=True, num_helpful=0, date='2015-12-28'),\n",
       " Review(id=70413, username='Steven', asin='B018Y229OU', title='Works great for reading books and surfing the web', text='Bought the fire for both my grandkids. They love being able to surf the web and play games.', rating=5, do_recommend=True, num_helpful=0, date='2015-12-28'),\n",
       " Review(id=60113, username='SplackMan', asin='B018Y229OU', title='Good for the price', text='Bought on Black Friday for at a decent discount. Would be a really nice product if I were an Amazon Prome member.', rating=4, do_recommend=True, num_helpful=0, date='2015-12-28'),\n",
       " Review(id=18913, username='Tripleccc', asin='B018Y229OU', title='Black Friday sale', text='Amazing price in black fire use it with an iPad to watch Amazon prime', rating=5, do_recommend=True, num_helpful=0, date='2015-12-28'),\n",
       " Review(id=77816, username='Garfield', asin='B018Y229OU', title='Brought for a friend who loves it', text='Great product for the money and a newbie who has never used a tablet', rating=5, do_recommend=True, num_helpful=0, date='2015-12-28'),\n",
       " Review(id=46916, username='Selwob', asin='B018Y229OU', title='Great starter tablet.', text='We purchased this for me primarily as a reader. Great size in my hand. This is a first tablet for me as well. It does so much more than a simple reader. We got a second Fire for my fatherl for Christmas. It is his first tablet. He is excited to learn how to use it well.', rating=4, do_recommend=True, num_helpful=0, date='2015-12-28'),\n",
       " Review(id=26316, username='buddski', asin='B018Y229OU', title='great for a beginner', text='Purchased for each grandchild to use. So far they seem very pleased', rating=4, do_recommend=True, num_helpful=0, date='2015-12-28'),\n",
       " Review(id=16016, username='Latty', asin='B018Y229OU', title='Good', text='It is okay does what it is suppose to amazon is kind of annoying but otherwise good buy', rating=3, do_recommend=True, num_helpful=0, date='2015-12-28'),\n",
       " Review(id=5716, username='Didi49', asin='B018Y229OU', title='Great', text='Great tablet great price nice clarity would recommend to others', rating=5, do_recommend=True, num_helpful=0, date='2015-12-28'),\n",
       " Review(id=74919, username='loverboi', asin='B018Y229OU', title='good price', text='Good for everyday use. But it better fits people who are a bit experienced', rating=4, do_recommend=True, num_helpful=0, date='2015-12-28'),\n",
       " Review(id=2819, username='Urai', asin='B018Y229OU', title='Great for reading', text='I like my new tablet which I use only for my reading.', rating=4, do_recommend=True, num_helpful=0, date='2015-12-28'),\n",
       " Review(id=41122, username='AG1grandma', asin='B018Y229OU', title='Great Tablet', text='I ordered these for all of my grandkids. Easy to use. Just turned them on and ready to go.', rating=5, do_recommend=True, num_helpful=0, date='2015-12-28'),\n",
       " Review(id=100025, username='NilP', asin='B018Y229OU', title='Nice tablet', text='Very good tablet to gift somebody. I bought for my niece.', rating=5, do_recommend=True, num_helpful=0, date='2015-12-28'),\n",
       " Review(id=17625, username='TripleX22', asin='B018Y229OU', title='great tablet for the price', text='For the price this is a great tablet kid friendly as easy to use', rating=4, do_recommend=True, num_helpful=0, date='2015-12-28'),\n",
       " Review(id=7325, username='Madhu', asin='B018Y229OU', title='Good tablet and work good', text='Fire tablet is very simple and sufficient for internet browsing. Amazan Fire is at reasonable cost and cheap.', rating=5, do_recommend=True, num_helpful=0, date='2015-12-28'),\n",
       " Review(id=86828, username='chardel', asin='B018Y229OU', title='instant hit', text='My niece was very excited with the use of this product. using it like table and comparing it to an ipad.', rating=5, do_recommend=True, num_helpful=0, date='2015-12-28'),\n",
       " Review(id=76528, username='dlnunu', asin='B018Y229OU', title='Gift for 3 year olds', text='I bought this for my 3 year old twins and they love it. It is very easy for them to use with kids free time.', rating=4, do_recommend=True, num_helpful=0, date='2015-12-28'),\n",
       " Review(id=25028, username='atg88', asin='B018Y229OU', title='Just what I wanted', text='Great price and cool gadget. Bigger then my phone which makes it easier to read eBooks.', rating=5, do_recommend=True, num_helpful=0, date='2015-12-28'),\n",
       " Review(id=73631, username='buzzk', asin='B018Y229OU', title='great tablet', text='had the fire hd 7inch reader.. love the new tablet can do so much more and great value for a tablet', rating=5, do_recommend=True, num_helpful=0, date='2015-12-28'),\n",
       " Review(id=63331, username='AlyO', asin='B018Y229OU', title='Great for price', text='It functions well and meets all my needs as an entry level tablet. The only downside is that everything on it is geared toward amazon but the price makes up for it.', rating=4, do_recommend=True, num_helpful=0, date='2015-12-28'),\n",
       " Review(id=42731, username='Battlecruiser', asin='B018Y229OU', title='Force update', text='Force update when turned it on for the first time. Have to wait for an hour with nothing to do on the tablet. Really bad user experience.', rating=3, do_recommend=False, num_helpful=0, date='2015-12-28'),\n",
       " Review(id=22131, username='1234', asin='B018Y229OU', title='Good tablet for kids', text='Tablet helps get children use to having a tablet.also good for alduts', rating=5, do_recommend=True, num_helpful=0, date='2015-12-28'),\n",
       " Review(id=11831, username='cheysmom', asin='B018Y229OU', title='Great tablet', text='Nice tablet for the price. Very easy to use and understand.', rating=5, do_recommend=True, num_helpful=0, date='2015-12-28'),\n",
       " Review(id=70734, username='MomofThree', asin='B018Y229OU', title='Great features.', text='My kids found this very easy to use. The Kindle has great features.', rating=5, do_recommend=True, num_helpful=0, date='2015-12-28'),\n",
       " Review(id=60434, username='SlipperyTex', asin='B018Y229OU', title='Easy to use tablet', text='The tablet is not incredibly easy to use and to load stuff onto.', rating=5, do_recommend=True, num_helpful=0, date='2015-12-28'),\n",
       " Review(id=29534, username='Daloper', asin='B018Y229OU', title='Nice tablet for the price', text='Needed a table to use for reading Kindle books. This one works great. I also purchased on for my daughter. Good selection of games that my grand daughter can play.', rating=5, do_recommend=True, num_helpful=0, date='2015-12-28'),\n",
       " Review(id=19234, username='Marr', asin='B018Y229OU', title='Great kindle', text='This kindle was a prize for a raffle for a union meeting. Excellent for beginners just starting off. Great price', rating=5, do_recommend=True, num_helpful=0, date='2015-12-28'),\n",
       " Review(id=98737, username='Maaz', asin='B018Y229OU', title='Works well', text='The product works well. Great price for the capabilities it offers.', rating=5, do_recommend=True, num_helpful=0, date='2015-12-28'),\n",
       " Review(id=67837, username='Pat1919', asin='B018Y229OU', title='Great product for what it cost me', text='Very nice product. Must buy. It is a great for kids as well.', rating=5, do_recommend=True, num_helpful=0, date='2015-12-28'),\n",
       " Review(id=57537, username='Maggieclass', asin='B018Y229OU', title='I like it', text='I like this tablet but you need to register a credit card to get free apps.', rating=4, do_recommend=True, num_helpful=0, date='2015-12-28'),\n",
       " Review(id=26637, username='Smartchic', asin='B018Y229OU', title='Great tablet at a great price', text='This Kindke is not only for reading books it acts as a great tablet with apps and can be used for dual purposes', rating=4, do_recommend=True, num_helpful=0, date='2015-12-28'),\n",
       " Review(id=6037, username='Tara', asin='B018Y229OU', title='Great for starter', text='My niece really enjoyed this tablet and she uses it alot.', rating=3, do_recommend=True, num_helpful=0, date='2015-12-28'),\n",
       " Review(id=85540, username='ray1', asin='B018Y229OU', title='my girls loved the fires', text='I didnt know much about the amazon fire your staff did t.y. the girls love them', rating=4, do_recommend=True, num_helpful=0, date='2015-12-28'),\n",
       " Review(id=75240, username='Lillielechat', asin='B018Y229OU', title='Great for how I use it.', text='I shop on amazon and watch Amazon shows. Does great for what I wanted it for.', rating=5, do_recommend=True, num_helpful=0, date='2015-12-28'),\n",
       " Review(id=54640, username='fitty', asin='B018Y229OU', title='great Tablet', text='Cheap reliable tablet easy to figure out. perfect for child or older person to understand.', rating=5, do_recommend=True, num_helpful=0, date='2015-12-28'),\n",
       " Review(id=34040, username='Review', asin='B018Y229OU', title='Great tablet', text='Purchased on thanksgiving great price for the tablet.', rating=4, do_recommend=True, num_helpful=0, date='2015-12-28'),\n",
       " Review(id=23740, username='Ander', asin='B018Y229OU', title='Perfect for the kiddo', text='She is loving being able to play all the games that we can download. Easy to use and the perfect size.', rating=4, do_recommend=True, num_helpful=0, date='2015-12-28'),\n",
       " Review(id=3140, username='Valiron', asin='B018Y229OU', title='Grear Phone', text='It is a great phone for a great price. It has the latest Android Lollipop 5.1.It also has 8Gb. of internal memory.', rating=5, do_recommend=True, num_helpful=0, date='2015-12-28'),\n",
       " Review(id=82643, username='carlos', asin='B018Y229OU', title='great product works really well', text='great products lots good appscompatible with many appsloves the speed and quality of priduct for the money', rating=5, do_recommend=True, num_helpful=0, date='2015-12-28'),\n",
       " Review(id=72343, username='cindy', asin='B018Y229OU', title='great tablet', text='i really like my fire it has a nice picture and is easy to operate', rating=5, do_recommend=True, num_helpful=0, date='2015-12-28'),\n",
       " Review(id=62043, username='joker75', asin='B018Y229OU', title='Fantastic for the price', text='Far surpasses my expectations. Would definitely recommend it as a beginner tablet.', rating=4, do_recommend=True, num_helpful=0, date='2015-12-28'),\n",
       " Review(id=51743, username='Rlippe', asin='B018Y229OU', title='qreat value', text='This basic Amazon Kindle is a great value considering its power and retail price.', rating=5, do_recommend=True, num_helpful=0, date='2015-12-28'),\n",
       " Review(id=41443, username='nettekay', asin='B018Y229OU', title='great tablets for kids', text='I bought 4 of these tablets for Christmas presents. 2 of them were for my 4 and 6 year old grandkids. I love how they have parental controls and how easy they are for the kids to use. We are still browsing the app store to find them games but all the ones they used to use my phone for were found right away.', rating=5, do_recommend=True, num_helpful=0, date='2015-12-28'),\n",
       " Review(id=48846, username='Valentina', asin='B018Y229OU', title='excellent', text='Love the Kindle great for my children...and also for my older kids', rating=5, do_recommend=True, num_helpful=0, date='2015-12-28'),\n",
       " Review(id=87149, username='Reeree', asin='B018Y229OU', title='Perfect for older adults', text='I got this for my mom who is 78. She hates it when football is on and she cant get the lottery numbers. Problem solved.', rating=5, do_recommend=True, num_helpful=0, date='2015-12-28'),\n",
       " Review(id=56249, username='kick89', asin='B018Y229OU', title='great tablet', text='my husband purchased a Fire tablet for me for my birthday I liked it so much I purchased one for him for a Christmas gift', rating=4, do_recommend=True, num_helpful=0, date='2015-12-28'),\n",
       " Review(id=4749, username='Yahaira7', asin='B018Y229OU', title='Great for a child', text='The tablet is great for what is being used for gan', rating=5, do_recommend=True, num_helpful=0, date='2015-12-28'),\n",
       " Review(id=94552, username='raulsarria', asin='B018Y229OU', title='Good for my little one', text='Good for my girl she use for reading play app and small carried', rating=5, do_recommend=True, num_helpful=0, date='2015-12-28'),\n",
       " Review(id=43052, username='Mceee', asin='B018Y229OU', title='Great for my two young children', text='I liked the price and am very pleased with the apps that are available. My children semm to be very happy with the tablet and it is very user friendly.', rating=4, do_recommend=True, num_helpful=0, date='2015-12-28'),\n",
       " Review(id=22452, username='Bauer', asin='B018Y229OU', title='Perfect', text='Love the size and quality. Easy to carry around and good screen quality', rating=5, do_recommend=True, num_helpful=0, date='2015-12-28'),\n",
       " Review(id=12152, username='Harris118', asin='B018Y229OU', title='Best deal around', text='I got this for 35 on black Friday which is the best deal for a tablet but still 0 getting this for 50 is a good deal', rating=5, do_recommend=True, num_helpful=0, date='2015-12-28'),\n",
       " Review(id=81355, username='mykids123', asin='B018Y229OU', title='Great for kids', text='My son loves this tablet. He can read books and play games on one device.', rating=5, do_recommend=True, num_helpful=0, date='2015-12-28'),\n",
       " Review(id=71055, username='Ceecee80', asin='B018Y229OU', title='Awesome for the price', text='I use this mainly to watch movies on amazon and netflix. Great addition to my household.', rating=4, do_recommend=True, num_helpful=0, date='2015-12-28'),\n",
       " Review(id=29855, username='Joshito', asin='B018Y229OU', title='Good device', text='I love this item. Meets my needs. Worthy. I recommend it.', rating=4, do_recommend=True, num_helpful=0, date='2015-12-28'),\n",
       " Review(id=19555, username='Twhite', asin='B018Y229OU', title='My grandkids love it', text='I bought two of these for Christmas presents. One for my grandson and one for my granddaughter. They both love them.', rating=4, do_recommend=True, num_helpful=0, date='2015-12-28'),\n",
       " Review(id=37258, username='yroc', asin='B018Y229OU', title='excellent bargain', text='Excellent bargain and works for all purposes that a tablet is needed for.', rating=5, do_recommend=True, num_helpful=0, date='2015-12-28'),\n",
       " Review(id=16658, username='Jaye', asin='B018Y229OU', title='Good product for the price.', text='Purchased for my 12 yo son. He loves it. I use it2', rating=5, do_recommend=True, num_helpful=0, date='2015-12-28'),\n",
       " Review(id=24061, username='suman', asin='B018Y229OU', title='its a good product from best buy. I recommend this', text='its a good product from best buy. I recommend this', rating=5, do_recommend=True, num_helpful=0, date='2015-12-28'),\n",
       " Review(id=93264, username='lginlock817', asin='B018Y229OU', title='Good', text='A very nice gift for all. My mother loves it. Super', rating=4, do_recommend=True, num_helpful=0, date='2017-02-03'),\n",
       " Review(id=52064, username='Christmas', asin='B018Y229OU', title='Great Fire 7', text='The fire 7 is easy to read books and stuff. The kids love playing games on it. We really love the tablet.', rating=5, do_recommend=True, num_helpful=0, date='2017-02-03'),\n",
       " Review(id=564, username='Fishfry', asin='B018Y229OU', title='A great gift', text='Gave as a Christmas gift. Recently learned that it stopped working within two weeks.', rating=1, do_recommend=False, num_helpful=0, date='2017-02-03'),\n",
       " Review(id=90367, username='Finemofo811', asin='B018Y229OU', title='Amazing for the price', text='The only thing is that Amazon has their own app store and you can not transfer unless you are really tech savvy', rating=4, do_recommend=True, num_helpful=0, date='2017-02-03'),\n",
       " Review(id=69767, username='sharmin', asin='B018Y229OU', title='Good tablet', text='I bought a kindle fire. It serves my purpose of reading pdf files.', rating=3, do_recommend=True, num_helpful=0, date='2017-02-03'),\n",
       " Review(id=49167, username='Liddy', asin='B018Y229OU', title='Great tablet', text='Brought for christmas gift mother loves it use all time', rating=5, do_recommend=True, num_helpful=0, date='2017-02-03'),\n",
       " Review(id=38867, username='Rowdyf90', asin='B018Y229OU', title='Great', text='It works well and is great for my daughter .I like how I can control how much she can use it', rating=5, do_recommend=True, num_helpful=0, date='2017-02-03'),\n",
       " Review(id=97770, username='Jedi', asin='B018Y229OU', title='Great tablet for the price', text='Great tablet for the money Would buy another Easy to use', rating=5, do_recommend=True, num_helpful=0, date='2017-02-03'),\n",
       " Review(id=87470, username='Rentz', asin='B018Y229OU', title='Very good tablet for the money', text='This has been the best cost effective tablet for my kids. Love the easy child protection options', rating=5, do_recommend=True, num_helpful=0, date='2017-02-03'),\n",
       " Review(id=77170, username='Dnelson', asin='B018Y229OU', title='Enjoy the amazon experience', text='Amazon fire is so awesome I bought two one for myself and one for my daughter who also has an ipad but now she always has her fire tablet with her', rating=5, do_recommend=True, num_helpful=0, date='2017-02-02'),\n",
       " Review(id=15370, username='Kate', asin='B018Y229OU', title='Good tablet for beginner.', text='This is a good tablet for someone just wanting to surf the internet. Would buy again if was only surfing.', rating=3, do_recommend=True, num_helpful=0, date='2017-02-02'),\n",
       " Review(id=5070, username='Misius', asin='B018Y229OU', title='Better than I thought', text='I was not expecting much and was a little afraid to purchase the fire tablet. I was quite surprised by the build quality and am extremely surprised by the performance. I am thinking of buying more for the family.', rating=5, do_recommend=True, num_helpful=0, date='2017-02-02'),\n",
       " Review(id=94873, username='JoeyD', asin='B018Y229OU', title='Great for the price', text='Easy setup..and for the price you get a solid company', rating=4, do_recommend=True, num_helpful=0, date='2017-02-01'),\n",
       " Review(id=81676, username='btillz', asin='B018Y229OU', title='entry level tablet', text='If your looking for an inexpensive tablet to get you started than this is the one. Quick set up and easy to use for all your basic needs.', rating=5, do_recommend=True, num_helpful=0, date='2017-01-31'),\n",
       " Review(id=89079, username='Candy', asin='B018Y229OU', title='Great tablet', text='This tablet is great for my kids. small enough for my toddler to hold and watch movies and play her games.', rating=5, do_recommend=True, num_helpful=0, date='2017-01-31'),\n",
       " Review(id=78779, username='dclawson24vols', asin='B018Y229OU', title='very nice', text='Excellent product. Got for my mother n law. She loves it', rating=5, do_recommend=True, num_helpful=0, date='2017-01-31'),\n",
       " Review(id=58179, username='Kken', asin='B018Y229OU', title='Great Product', text='Bought for my son as a bridge between phone and computer. Fits in perfect', rating=5, do_recommend=True, num_helpful=0, date='2017-01-30'),\n",
       " Review(id=37579, username='Mickyfinn', asin='B018Y229OU', title='Good value but', text='Good unit. But i have to reconnect the wifi often when using netflix', rating=3, do_recommend=True, num_helpful=0, date='2017-01-30'),\n",
       " Review(id=16979, username='Reyes', asin='B018Y229OU', title='Great tablet.', text='My kids love it. Got it for my kids. We use it too.', rating=4, do_recommend=True, num_helpful=0, date='2017-01-30'),\n",
       " Review(id=96482, username='Nessa', asin='B018Y229OU', title='Birthday gift', text='This was bought for my nephew for his birthday and he absolutely loves it..', rating=4, do_recommend=True, num_helpful=0, date='2017-01-30'),\n",
       " Review(id=44982, username='macdaddy', asin='B018Y229OU', title='solid tablet', text='gave up old tablet due to battery issues apps take getting used to but nice tablet', rating=5, do_recommend=True, num_helpful=0, date='2017-01-30'),\n",
       " Review(id=93585, username='Menmykiddos', asin='B018Y229OU', title='Great product great price', text='Perfect for my kiddos. Great value and easy to use and set parental controls on', rating=4, do_recommend=True, num_helpful=0, date='2017-01-30'),\n",
       " Review(id=62685, username='tom4965', asin='B018Y229OU', title='perfect size tablet', text='I actually bought for grandkids to use as they fight over iPad. they can each play abc mouse or nickjr. downloading apps is quick and easy with many to choose from. Sale price was awesome. I also plan to download apps for me as well as using for ebooks on vacation.', rating=5, do_recommend=True, num_helpful=0, date='2017-01-30'),\n",
       " Review(id=42085, username='Phillieb585', asin='B018Y229OU', title='Great tablet for price range', text='This is by far my favorite tablet on the market. Has all that high priced tablets ioffer', rating=5, do_recommend=True, num_helpful=0, date='2017-01-30'),\n",
       " Review(id=21485, username='Tink', asin='B018Y229OU', title='I love this product', text='I love this product it is simply amazing. I has so many options for adding games and apps.', rating=5, do_recommend=True, num_helpful=0, date='2017-01-30'),\n",
       " Review(id=70088, username='Mommyof4', asin='B018Y229OU', title='Awesome tablet.', text='Bought one for each of my kids. Unbelievable the thing you can do. This one was for my husband. He loves it', rating=5, do_recommend=True, num_helpful=0, date='2017-01-30'),\n",
       " Review(id=39188, username='Cherokeeslick', asin='B018Y229OU', title='Love it', text='Great buy. Cheaper than paying for overpriced cable', rating=4, do_recommend=True, num_helpful=0, date='2017-01-29'),\n",
       " Review(id=8288, username='Cg65', asin='B018Y229OU', title='Great little tablet', text='We had one when they first came out. Not quite as good but still works great for the kids.', rating=4, do_recommend=True, num_helpful=0, date='2017-01-29'),\n",
       " Review(id=77491, username='MzP2', asin='B018Y229OU', title='Great Tab', text='Great tab. Purchased as a give for a Christmas party.', rating=4, do_recommend=True, num_helpful=0, date='2017-01-28'),\n",
       " Review(id=5391, username='kwax', asin='B018Y229OU', title='this was a gift for my supervisor and she love it.', text='the reason i purchase the item because she love to watch movies on her phone.', rating=5, do_recommend=True, num_helpful=0, date='2017-01-28'),\n",
       " Review(id=23094, username='klewis121062', asin='B018Y229OU', title='Purchased this as a gift for Grandson', text='I purchased this tablet as a gift for my 7 year old grandson. He is thoroughly enjoying watching his favorite YouTube videos and playing minecraft.', rating=5, do_recommend=True, num_helpful=0, date='2017-01-27'),\n",
       " Review(id=2494, username='UpMom', asin='B018Y229OU', title='Great product', text='I bought this as a gift for my daughter to replace an older version. She was happy to have a new Kindle after about 5 years.', rating=4, do_recommend=True, num_helpful=0, date='2017-01-27'),\n",
       " Review(id=71697, username='Lizzy', asin='B018Y229OU', title='Great tablet', text='Gave ir to my nephew as a gift and he loves it....', rating=5, do_recommend=True, num_helpful=0, date='2017-01-27'),\n",
       " Review(id=51097, username='bestbuybuddy', asin='B018Y229OU', title='A nice starter tablet', text='Yes It is a very nice starter tablet. I would think it will bring a lot enjoyment to the owners.', rating=4, do_recommend=True, num_helpful=0, date='2017-01-27'),\n",
       " Review(id=40797, username='Scootchy', asin='B018Y229OU', title='good tablet for a non technical person.', text='Enjoying it. Still learning. Probably even better when I get used to it.', rating=5, do_recommend=True, num_helpful=0, date='2017-01-27'),\n",
       " Review(id=99700, username='Sandlill', asin='B018Y229OU', title='Great products staff knowledgeable', text='Staff. Courteous and knowledgeable. Would recommend store any time. Awesome sales', rating=5, do_recommend=True, num_helpful=0, date='2017-01-27'),\n",
       " Review(id=89400, username='Talisha', asin='B018Y229OU', title='Great', text='I got this as a Christmas gift for my son and he has really enjoyed it.', rating=4, do_recommend=True, num_helpful=0, date='2017-01-27'),\n",
       " Review(id=79100, username='Vipul', asin='B018Y229OU', title='Awesome product', text='I bought it for my daughter and she loved it. She is happy to have it and read books on it.', rating=5, do_recommend=True, num_helpful=0, date='2017-01-27'),\n",
       " Review(id=68800, username='Kristina', asin='B018Y229OU', title='My Son Loves His Tablet That Santa Got Him For Chr', text='My Son Loves His Tablet That Santa Got Him For Christmas', rating=5, do_recommend=True, num_helpful=0, date='2017-01-27'),\n",
       " Review(id=58500, username='Stinkfish', asin='B018Y229OU', title='Great value', text='Bought a couple of these for my kids. They love being able to watch videos and play games on their own tablets.', rating=5, do_recommend=True, num_helpful=0, date='2017-01-27'),\n",
       " Review(id=37900, username='Marquis', asin='B018Y229OU', title='Amazing', text='I brought this tablet as a present for my wife since her last tablet she had just died out. It seems to work well for her and she swems very happy with it.', rating=5, do_recommend=True, num_helpful=0, date='2017-01-27'),\n",
       " Review(id=17300, username='Djguy', asin='B018Y229OU', title='Great tablet for kids', text='Great tablet all around. Good for kids for the parental control options.', rating=5, do_recommend=True, num_helpful=0, date='2017-01-27'),\n",
       " Review(id=86503, username='Kiker', asin='B018Y229OU', title='The amazon fire tablet 7', text='It contains too many adds that cant be removed including the lock screen its not worth the money', rating=2, do_recommend=False, num_helpful=1, date='2017-01-27'),\n",
       " Review(id=65903, username='bigt', asin='B018Y229OU', title='Great tabletvfor the price', text='This was an awsome purchase glad i made it will recommend', rating=5, do_recommend=True, num_helpful=0, date='2017-01-27'),\n",
       " Review(id=45303, username='Coma', asin='B018Y229OU', title='Bought it for a Christmas gift', text='My few family members bought at least one or two as gift. All the kids seem to enjoy', rating=5, do_recommend=True, num_helpful=0, date='2017-01-27'),\n",
       " Review(id=35003, username='Smiley', asin='B018Y229OU', title='Great gift', text='Delivery was fast. The tablet has been good. My grandson loves the sports apps.', rating=5, do_recommend=True, num_helpful=0, date='2017-01-27'),\n",
       " Review(id=14403, username='doglover', asin='B018Y229OU', title='Good tablet for basic needs', text='I purchased this for my mom in hopes that she would learn to email. We are still working on it but the tablet is good for basic needs and the price was great.', rating=4, do_recommend=True, num_helpful=0, date='2017-01-27'),\n",
       " Review(id=63006, username='RodG', asin='B018Y229OU', title='Perfect Christmas gift', text='Got this little gem for a family member for Christmas. She travels a lot and this works perfectly for her on the plane. Screen quality is pretty good. Not high def but good. My niece loves her new tablet.', rating=5, do_recommend=True, num_helpful=0, date='2017-01-27'),\n",
       " Review(id=52706, username='Babylisa9981', asin='B018Y229OU', title='Great tablet', text='Love this tablet. Great for social games and videos. Cant beat the price', rating=5, do_recommend=True, num_helpful=0, date='2017-01-27'),\n",
       " Review(id=80709, username='Suzy', asin='B018Y229OU', title='Great tablet', text='It was a gift for christmas. Does everything the expensive ones do', rating=4, do_recommend=True, num_helpful=0, date='2017-01-26'),\n",
       " Review(id=49809, username='Sensei', asin='B018Y229OU', title='Nice entry level tab', text='Nice tab for young kids getting use to using Tabs. Fully functional and fairly easy to use.', rating=3, do_recommend=True, num_helpful=0, date='2017-01-26'),\n",
       " Review(id=39509, username='ultranero', asin='B018Y229OU', title='Great tablet', text='Great for the money spent. Yeah sure you can spend a lot more for it tablet.', rating=4, do_recommend=True, num_helpful=0, date='2017-01-26'),\n",
       " Review(id=98412, username='Chicken', asin='B018Y229OU', title='Pretty good tablet', text='My son really likes this tablet. He wishes it was a little bit bigger screen size', rating=3, do_recommend=True, num_helpful=0, date='2017-01-24'),\n",
       " Review(id=26312, username='stat13rn', asin='B018Y229OU', title='Just as described.', text='Great product for great price. As described.pleased with purchase', rating=5, do_recommend=True, num_helpful=0, date='2017-01-24'),\n",
       " Review(id=5712, username='MsChay', asin='B018Y229OU', title='Good for adults and kids.', text='We have 3 of these and we love them. They are easy to use and you can do lots of different things on them.', rating=5, do_recommend=True, num_helpful=0, date='2017-01-24'),\n",
       " Review(id=74915, username='Coop14', asin='B018Y229OU', title='child user option', text='The camera was very clean and being able to use the child user option is fantastic for toddlers.', rating=4, do_recommend=True, num_helpful=0, date='2017-01-24'),\n",
       " Review(id=64615, username='abisa07', asin='B018Y229OU', title='great tablet for the kids', text='I really love the tablets my kids love them.I recommend then to other people.', rating=5, do_recommend=True, num_helpful=0, date='2017-01-24'),\n",
       " Review(id=54315, username='nymir', asin='B018Y229OU', title='Great for kids', text='Brought amazon fire tablet for granddaughter she love it hours of fun', rating=5, do_recommend=True, num_helpful=0, date='2017-01-24'),\n",
       " Review(id=44015, username='Lovebug', asin='B018Y229OU', title='Great for kids', text='My kids loved the tablet small enough to take along every where I love the time limits I can set on them', rating=5, do_recommend=True, num_helpful=0, date='2017-01-24'),\n",
       " Review(id=33715, username='cryoperson', asin='B018Y229OU', title='pretty happy', text='Pretty happy with my tablet. i mostly use it to try and play games.', rating=3, do_recommend=True, num_helpful=0, date='2017-01-24'),\n",
       " Review(id=2815, username='Harley', asin='B018Y229OU', title='Love it', text='Received as a Christmas present and am enjoying it very much. Am still learning all the capabilities it has.', rating=5, do_recommend=True, num_helpful=0, date='2017-01-24'),\n",
       " Review(id=82318, username='BUMBLEBEE', asin='B018Y229OU', title='EXCELLENT TABLET FOR THE PRICE....', text='THE PRICE IS AFFORDABLE FOR ANY BUDGET..GREAT OVERALL TABLET', rating=5, do_recommend=True, num_helpful=0, date='2017-01-24'),\n",
       " Review(id=72018, username='noni', asin='B018Y229OU', title='purchased 3 for gifts', text='the kids really liked these for Christmas gifts. They started playing with them right away and really enjoyed them', rating=5, do_recommend=True, num_helpful=0, date='2017-01-24'),\n",
       " Review(id=10218, username='Sam2017', asin='B018Y229OU', title='Great tablet', text='This tablet is great. I purchased two for children at Christmas and they love it.', rating=4, do_recommend=True, num_helpful=0, date='2017-01-24'),\n",
       " Review(id=100021, username='cowboysfan91', asin='B018Y229OU', title='purchased for christmas gift', text='My mother loves the Kendal it was one that was rep', rating=4, do_recommend=True, num_helpful=0, date='2017-01-24'),\n",
       " Review(id=69121, username='frank', asin='B018Y229OU', title='Awesome Picture better than most', text='switched from a Toshiba 50 to Sony 48 and the clarity is outstanding', rating=5, do_recommend=True, num_helpful=0, date='2017-01-24'),\n",
       " Review(id=58821, username='JPace', asin='B018Y229OU', title='Great tablet', text='Good for kids And adults. I would recommend this tablet to anyone.', rating=4, do_recommend=True, num_helpful=0, date='2017-01-24'),\n",
       " Review(id=48521, username='Tim13', asin='B018Y229OU', title='GIFT', text='CHRISTMAS GIFT FOR MY GRAND KIDS AND NO COMPLANTES AS OF YET.', rating=4, do_recommend=True, num_helpful=0, date='2017-01-24'),\n",
       " Review(id=38221, username='Trav', asin='B018Y229OU', title='It works', text='Everything seems to work as intended. The available storage is small when you include the pre loaded apps. I should have known that would be the case.', rating=3, do_recommend=True, num_helpful=0, date='2017-01-24'),\n",
       " Review(id=17621, username='Mandy', asin='B018Y229OU', title='Great value', text='This is a great tablet. Great value . Great price. Good quality.', rating=5, do_recommend=True, num_helpful=0, date='2017-01-24'),\n",
       " Review(id=86824, username='Wizpiff88', asin='B018Y229OU', title='Great', text='Brought this for my daughter she loves it. Really like that she can make her own profile for all her pbs kids and Disney jr apps.', rating=5, do_recommend=True, num_helpful=0, date='2017-01-23'),\n",
       " Review(id=55924, username='EZE322', asin='B018Y229OU', title='Perfect gift', text='My niece and Sister loved this. It seemed to be a big hit and helped them with another way to watch netflix...', rating=5, do_recommend=True, num_helpful=0, date='2017-01-23'),\n",
       " Review(id=25024, username='goodwill', asin='B018Y229OU', title='Great tablet holds lots of info', text='verygood low end tablet rivals some of the more expensive. does everything it says.', rating=4, do_recommend=True, num_helpful=0, date='2017-01-23'),\n",
       " Review(id=4424, username='Ilovemusic', asin='B018Y229OU', title='Good for Basics', text='I bought this for my husband mainly for surfing the internet. Seems to do this fairly quickly. He likes it.', rating=4, do_recommend=True, num_helpful=0, date='2017-01-23'),\n",
       " Review(id=73627, username='Notffilc', asin='B018Y229OU', title='Easy and simple', text='For Christmas I bought to for my children and they love it.', rating=4, do_recommend=True, num_helpful=0, date='2017-01-23'),\n",
       " Review(id=32427, username='Jaymoma37', asin='B018Y229OU', title='Kids love it', text='Great for my girls. These tablets are great for smart 7 and 8 year old children.', rating=5, do_recommend=True, num_helpful=0, date='2017-01-23'),\n",
       " Review(id=22127, username='Omega2016', asin='B018Y229OU', title='Good for smaller kids', text='This is a basic tablet that is good for small kids to use', rating=4, do_recommend=True, num_helpful=0, date='2017-01-23'),\n",
       " Review(id=11827, username='Hunter', asin='B018Y229OU', title='Perfect at home tablet', text='Purchased as a gift to my wife. She loves the tablet. Easy blue tooth attachment to sound bar. Good solid construction. Great for so many uses. Paying bills balancing check book. Writing and reading. Nice compact size. Replace bulky home computer and laptops. So many uses.', rating=5, do_recommend=True, num_helpful=0, date='2017-01-23'),\n",
       " Review(id=81030, username='Mumof5', asin='B018Y229OU', title='Fire', text='The tablet has been a great gift for a 10 year old', rating=4, do_recommend=True, num_helpful=0, date='2017-01-23'),\n",
       " Review(id=60430, username='jacks85', asin='B018Y229OU', title='Great for online books', text='Loved the Amazon tablets. Able to take anywhere and it fits in most bags. Can play any games and able to use social media website with ease.', rating=5, do_recommend=True, num_helpful=0, date='2017-01-23'),\n",
       " Review(id=50130, username='catlover35', asin='B018Y229OU', title='really easy to use', text='Anyone should be able to run this tablet its really easy to use and good quality for low price', rating=5, do_recommend=True, num_helpful=0, date='2017-01-23'),\n",
       " Review(id=98733, username='Burton', asin='B018Y229OU', title='So so', text='Got this to read on the train. Too Man ads. iPad only from now on.', rating=5, do_recommend=True, num_helpful=0, date='2017-01-23'),\n",
       " Review(id=47233, username='Beazer', asin='B018Y229OU', title='Good for kids', text='Good storage and camera for younger children. Could have better battery life.', rating=3, do_recommend=True, num_helpful=0, date='2017-01-23'),\n",
       " Review(id=36933, username='Jose91304', asin='B018Y229OU', title='Tablet fire kindle', text='6year old son loves it. It is dependable and economical in price. All features are easy to use and makes reading fun if your child is into reading books on te web.', rating=4, do_recommend=True, num_helpful=0, date='2017-01-23'),\n",
       " Review(id=95836, username='Sandeep', asin='B018Y229OU', title='Excellent tablet for the price', text='It is a excellent tablet for the price. Works great. No issues and complains.', rating=5, do_recommend=True, num_helpful=0, date='2017-01-23'),\n",
       " Review(id=54636, username='itunescardpurchase', asin='B018Y229OU', title='Tablet good for a child', text='Tablet purchase good and affordable for the price.', rating=4, do_recommend=True, num_helpful=0, date='2017-01-23'),\n",
       " Review(id=44336, username='sunshine', asin='B018Y229OU', title='Great gift my boys love it.', text='I brought it for my boys and they love it. Great investment', rating=5, do_recommend=True, num_helpful=0, date='2017-01-23'),\n",
       " Review(id=62039, username='macadana', asin='B018Y229OU', title='User friendly', text='Simple tablet for beginners. Has everything you neef.', rating=5, do_recommend=True, num_helpful=0, date='2017-01-23'),\n",
       " Review(id=41439, username='JoeWhite149', asin='B018Y229OU', title='Tablet Fire', text='Ordered This product for the children and they love it i might purchase one for my self have it a week and seems stable', rating=4, do_recommend=True, num_helpful=0, date='2017-01-23'),\n",
       " Review(id=10539, username='overo', asin='B018Y229OU', title='Nice kindle', text='It is a good kindle for the money. to much junk on the carousel', rating=4, do_recommend=True, num_helpful=0, date='2017-01-23'),\n",
       " Review(id=69442, username='Marlo', asin='B018Y229OU', title='Awesome', text='Love what I got works perfect good for my son he loves it', rating=5, do_recommend=True, num_helpful=0, date='2017-01-23'),\n",
       " Review(id=48842, username='RickF', asin='B018Y229OU', title='Excellent tablet for books and browsing', text='Great tablet that works well for ebooks and basic apps such as internet browsers etc. Great bargain for the money.', rating=5, do_recommend=True, num_helpful=0, date='2017-01-23'),\n",
       " Review(id=28242, username='Jaysteward', asin='B018Y229OU', title='Great tablet for the price', text='Bought this tablet for my daughter and she loves it.', rating=5, do_recommend=True, num_helpful=0, date='2017-01-23'),\n",
       " Review(id=97445, username='Makoman', asin='B018Y229OU', title='Easy to use', text='Great little dash cam that does not get in the way. Bought two and 1 was defective out of the box but returned and got another. Nice color screen and a lot of bells and whistles for something this small', rating=5, do_recommend=True, num_helpful=0, date='2017-01-23'),\n",
       " Review(id=87145, username='techman7', asin='B018Y229OU', title='Great deal', text='Really enjoying this little guy bought two for my mom and daughter', rating=5, do_recommend=True, num_helpful=0, date='2017-01-23'),\n",
       " Review(id=66545, username='Bluetooth', asin='B018Y229OU', title='My Nephew loves it', text='The other kids got the kids fire but this is comparable.', rating=4, do_recommend=True, num_helpful=0, date='2017-01-23'),\n",
       " Review(id=35645, username='WildBill68', asin='B018Y229OU', title='Great Tablet for my Son', text='The tablet was easy to set up and the kids enjoy using it.', rating=5, do_recommend=True, num_helpful=0, date='2017-01-23'),\n",
       " Review(id=15045, username='Shea', asin='B018Y229OU', title='Good product for the price', text='I purchased this product for my 13yrs old niece for Christmas and she loves the apps available on the tablet.', rating=4, do_recommend=True, num_helpful=0, date='2017-01-23'),\n",
       " Review(id=4745, username='bert', asin='B018Y229OU', title='great for the price', text='excellent product for the pricelightweight user friendly', rating=5, do_recommend=True, num_helpful=0, date='2017-01-23'),\n",
       " Review(id=94548, username='Queenlibra143', asin='B018Y229OU', title='My Husband Loves it', text='We actually purchased this as a Christmas gift for our son. However my husband ending up keeping it for himself. He uses it at night to read books in bed.', rating=5, do_recommend=True, num_helpful=0, date='2017-01-23'),\n",
       " Review(id=73948, username='Roro311', asin='B018Y229OU', title='Love my fire', text='This is my 2nd fire and I was so sad when it crashed. Love my new one but giving 4 stars bc the need to update the charger at the bottom. It sticks and you can easily break the inside I wish they would change that', rating=4, do_recommend=True, num_helpful=0, date='2017-01-23'),\n",
       " Review(id=32748, username='Jazz', asin='B018Y229OU', title='Great tablet', text='Works very well for children and people of all ages.', rating=5, do_recommend=True, num_helpful=0, date='2017-01-23'),\n",
       " Review(id=12148, username='Chassy1', asin='B018Y229OU', title='Great screen quality', text='Good picture for video and reading. Wish amazon would expand app store or use Google play', rating=5, do_recommend=True, num_helpful=0, date='2017-01-23'),\n",
       " Review(id=1848, username='alabamaroberts', asin='B018Y229OU', title='Kids love this tablel', text='My kids each got one of these tablets for Christmas. They love it. I like how it has parental controls so I can control what apps are on the tablet.', rating=5, do_recommend=True, num_helpful=0, date='2017-01-23'),\n",
       " Review(id=81351, username='scoob', asin='B018Y229OU', title='Gift', text='Purchase tablet for my 14 yr old daughter for Christmas. She has enjoyed it every since opening it.', rating=4, do_recommend=True, num_helpful=0, date='2017-01-23'),\n",
       " Review(id=71051, username='tillfam04', asin='B018Y229OU', title='Great for reading', text='You cant download too many apps so would recommend for the average reader', rating=4, do_recommend=True, num_helpful=0, date='2017-01-23'),\n",
       " Review(id=50451, username='Chandler16', asin='B018Y229OU', title='Great for kids and adults', text='We bought them for our kids but they are good enough for us to play too', rating=5, do_recommend=True, num_helpful=0, date='2017-01-23'),\n",
       " Review(id=40151, username='Booby', asin='B018Y229OU', title='Great', text='reat product would greatly recommend this to my Freinds', rating=5, do_recommend=True, num_helpful=0, date='2017-01-23'),\n",
       " Review(id=16654, username='Kels', asin='B018Y229OU', title='Good Tablet but has a flaw', text='Good tablet but it does not include google play like i was told it does by an associate in your store', rating=3, do_recommend=True, num_helpful=0, date='2017-01-23'),\n",
       " Review(id=6354, username='NicoleR', asin='B018Y229OU', title='Good for what we wanted it for', text='I bought three of these for my kids ages 7 to 14 and it works great for what they use them for. My only wish is that it came with Google Play Store but we were able to install that separately and works well.', rating=4, do_recommend=True, num_helpful=0, date='2017-01-23'),\n",
       " Review(id=44657, username='Colosus', asin='B018Y229OU', title='Nice Tablet', text='This tablet is great for reading. It is also very snappy from app to app.', rating=4, do_recommend=True, num_helpful=0, date='2017-01-23'),\n",
       " Review(id=34357, username='Iceman', asin='B018Y229OU', title='Good starter tablet', text='I bought this product as a Christmas gift and the person who received it loves it. They use it for their kids entertainment.', rating=5, do_recommend=True, num_helpful=0, date='2017-01-23'),\n",
       " Review(id=24057, username='Char', asin='B018Y229OU', title='For kids', text='Its a great starter tablet for my kids. They love it and the price was right', rating=4, do_recommend=True, num_helpful=0, date='2017-01-23'),\n",
       " Review(id=3457, username='Ligieta', asin='B018Y229OU', title='Love my kindle', text='Gave this one as a gift. Never had any problems with mine.', rating=5, do_recommend=True, num_helpful=0, date='2017-01-21'),\n",
       " Review(id=41760, username='MyBB', asin='B018Y229OU', title='Easy Tablet Easy Price', text='I picked up this tablet primarily so my husband could access his favorite apps while at home without having to squint at a phone screen. Works great.', rating=5, do_recommend=True, num_helpful=0, date='2017-01-21'),\n",
       " Review(id=31460, username='jwilly', asin='B018Y229OU', title='Great for Reading', text='I was told by my wife to buy these as a gift for the kids.', rating=5, do_recommend=True, num_helpful=0, date='2017-01-20'),\n",
       " Review(id=10860, username='Tport', asin='B018Y229OU', title='Not the best tablet', text='Based on the price it is easy to see that this tablet is not something that will knock your socks off but is good for children that like to read books.', rating=3, do_recommend=True, num_helpful=0, date='2017-01-20'),\n",
       " Review(id=69763, username='Rickybobby1031', asin='B018Y229OU', title='Works amazing', text='Love it working good no lag or anything best gift I have so far', rating=5, do_recommend=True, num_helpful=0, date='2017-01-20'),\n",
       " Review(id=28563, username='Jamy', asin='B018Y229OU', title='Good for Grandma', text='I bought this tablet for my senior citizen mother and it is easy for her to use.', rating=4, do_recommend=True, num_helpful=0, date='2017-01-20'),\n",
       " Review(id=7963, username='Helen', asin='B018Y229OU', title='Tablet is user friendly', text='The tablet is easy to use and has nice features. It is small enough to carry around.', rating=5, do_recommend=True, num_helpful=0, date='2017-01-20'),\n",
       " Review(id=87466, username='Lavender14', asin='B018Y229OU', title='It is a good tablet', text='It is inexpensive tablet. The sound is not great too quiet.It is not the best but it is good price.', rating=3, do_recommend=True, num_helpful=0, date='2017-01-20'),\n",
       " Review(id=25666, username='nickname', asin='B018Y229OU', title='good deal', text='There are not enough functions on this tablet. But it has great battery life', rating=4, do_recommend=True, num_helpful=0, date='2017-01-20'),\n",
       " Review(id=53669, username='Sandrak', asin='B018Y229OU', title='Great for kids', text='Bought for son for Christmas very easy to use and durable', rating=5, do_recommend=True, num_helpful=0, date='2017-01-19'),\n",
       " Review(id=43369, username='Plum', asin='B018Y229OU', title='You get what you pay for.', text='Wanted a cheap tablet to read books and comics. I found the lack of apps to be disappointing. It seems the tabelt is designed to make one buy books from amazon or to buy apps.', rating=2, do_recommend=False, num_helpful=0, date='2017-01-19'),\n",
       " Review(id=22769, username='KGMan88', asin='B018Y229OU', title='Great tablet for beginners', text='Great tablet. I have a I pad and I am just as satisfied with this tablet as I am with my I pad', rating=5, do_recommend=True, num_helpful=0, date='2017-01-19'),\n",
       " Review(id=71372, username='Irma', asin='B018Y229OU', title='Fire table', text='Awesome tablet at a good price..I love the size of the tablet', rating=5, do_recommend=True, num_helpful=0, date='2017-01-19'),\n",
       " Review(id=61072, username='MeMa', asin='B018Y229OU', title='great size for movies', text='Bought this for my grandson to watch movies on the plane. Easy to use battery holds up well.', rating=5, do_recommend=True, num_helpful=0, date='2017-01-19'),\n",
       " Review(id=50772, username='Dwaniac', asin='B018Y229OU', title='Great tablet.', text='Great product for the price easy to use no problems.', rating=4, do_recommend=True, num_helpful=0, date='2017-01-19'),\n",
       " Review(id=99375, username='lovinit2', asin='B018Y229OU', title='Great product', text='I bought this for my granddaughter and she loves it. She watches Netflix and YouTube everyday and has had no issues. I would recommend this product to anyone.', rating=5, do_recommend=True, num_helpful=0, date='2017-01-19'),\n",
       " Review(id=16975, username='Cole', asin='B018Y229OU', title='Great', text='I bought this for my grandkids. It is easy to use and they Love it.', rating=5, do_recommend=True, num_helpful=0, date='2017-01-18'),\n",
       " Review(id=55278, username='cvhogan', asin='B018Y229OU', title='Filled a void', text='This was perfect for my 11 year old to take on our trip cross country.', rating=5, do_recommend=True, num_helpful=0, date='2017-01-18'),\n",
       " Review(id=34678, username='Kgautam', asin='B018Y229OU', title='good at this price', text='good at this price running smooth as expected and cheaper than amazon', rating=4, do_recommend=True, num_helpful=0, date='2017-01-18'),\n",
       " Review(id=62681, username='Bill', asin='B018Y229OU', title='Fantastic', text='I bought this one for myself. It works fine. It is fantastic.', rating=5, do_recommend=True, num_helpful=0, date='2017-01-18'),\n",
       " Review(id=70084, username='Marine1976', asin='B018Y229OU', title='Stocking stuffer', text='Excellent machine for children. Easy to use and download.', rating=4, do_recommend=True, num_helpful=0, date='2017-01-18'),\n",
       " Review(id=59784, username='Razz', asin='B018Y229OU', title='Nice Tablet', text='Bought this for a 6 year old to use. She still uses it and so far there has been no problems with it. She uses it a lot', rating=5, do_recommend=True, num_helpful=0, date='2017-01-18'),\n",
       " Review(id=87787, username='SBro', asin='B018Y229OU', title='I LOVE my tablet', text='I was skeptical of such a low price point tablet. My children broke a more expensive tablet that I owned and I needed a replacement. I absolutely love it.', rating=5, do_recommend=True, num_helpful=0, date='2017-01-18'),\n",
       " Review(id=67187, username='Jman', asin='B018Y229OU', title='Built Better than the Samsung Lite', text='Built solidly. Very slow. I bought this for my kids but I cant download kids YouTube on it', rating=3, do_recommend=True, num_helpful=0, date='2017-01-18'),\n",
       " Review(id=64290, username='Vern', asin='B018Y229OU', title='Fire 7', text='Kids love it comes with a case but purchased one anyway', rating=5, do_recommend=True, num_helpful=0, date='2017-01-18'),\n",
       " Review(id=33390, username='Marco', asin='B018Y229OU', title='Great tablet for a great price', text='I was looking to buy a tablet mostly to connect to my speakers to play music. I found the perfect one for a great price. It has many capacities as well such as the camera. All the apps you could ever want are on this amazon tablet as well. I would recommend to anyone trying to buy a small tablet.', rating=5, do_recommend=True, num_helpful=0, date='2017-01-18'),\n",
       " Review(id=12790, username='Rasajamo', asin='B018Y229OU', title='Excellent', text='Excellent item I just bay it from Best bay ita very good for the kids', rating=4, do_recommend=True, num_helpful=0, date='2017-01-18'),\n",
       " Review(id=92293, username='Burstin2shames', asin='B018Y229OU', title='Great', text='Good machine and good service. Displays color as it should', rating=5, do_recommend=True, num_helpful=0, date='2017-01-18'),\n",
       " Review(id=20193, username='shopper13', asin='B018Y229OU', title='blue tablet', text='Same as other tablet just has blue back witch i have not seen before in colors works really good', rating=5, do_recommend=True, num_helpful=0, date='2017-01-18'),\n",
       " Review(id=99696, username='jjpm', asin='B018Y229OU', title='Great tablet', text='This makes a great light weight tablet for kids. Durable and very good for setting up restrictions and time limits for kids too', rating=5, do_recommend=True, num_helpful=0, date='2017-01-18'),\n",
       " Review(id=68796, username='Johnny', asin='B018Y229OU', title='Great for the kids', text='For the price is great up to the minute on everything', rating=5, do_recommend=True, num_helpful=0, date='2017-01-18'),\n",
       " Review(id=58496, username='Jim54', asin='B018Y229OU', title='Kindle Fire', text='I tend to use this ore than my ipad. this has got to be the best bargain for a fully functional tablet I have ever seen. I now have three of these devices and may get another.', rating=5, do_recommend=True, num_helpful=0, date='2017-01-18'),\n",
       " Review(id=37896, username='Lena', asin='B018Y229OU', title='Great tablet', text='I bought this for my husband as a gift and he loves it. I just wished I would have bought him the next size up.', rating=4, do_recommend=True, num_helpful=0, date='2017-01-18'),\n",
       " Review(id=96799, username='Anita32', asin='B018Y229OU', title='Great gift', text='This tablet was a perfect gift and at the right price for my 6yr old niece. She absolutely loves it.', rating=5, do_recommend=True, num_helpful=0, date='2017-01-18'),\n",
       " Review(id=76199, username='Pipe', asin='B018Y229OU', title='Great small tablet', text='The table is good for someone that just need some entertainment and make amazon purchases', rating=3, do_recommend=True, num_helpful=0, date='2017-01-18'),\n",
       " Review(id=65899, username='Peaches1', asin='B018Y229OU', title='Works great', text='The tablet works great and charges with in on hour boight for my kids.', rating=4, do_recommend=True, num_helpful=0, date='2017-01-18'),\n",
       " Review(id=24699, username='Dante0905', asin='B018Y229OU', title='Great tablet for everyday use', text='Amazon Fire Tablet was an excellent purchase. Great display and very easy to use', rating=5, do_recommend=True, num_helpful=0, date='2017-01-18'),\n",
       " Review(id=93902, username='BigCountry1', asin='B018Y229OU', title='Great tablet', text='My grandson love this tablet. He always keep up with it and the color was perfect for him', rating=5, do_recommend=True, num_helpful=0, date='2017-01-18'),\n",
       " Review(id=63002, username='daja', asin='B018Y229OU', title='Granddaughter lovin it', text='all i can say it is awesome she was watching movies on her phone now she watch them on her tablet', rating=5, do_recommend=True, num_helpful=0, date='2017-01-18'),\n",
       " Review(id=60105, username='Jchcjd', asin='B018Y229OU', title='Great for the price', text='Super inexpensive and easy to use. Great for my kids.', rating=5, do_recommend=True, num_helpful=0, date='2017-01-18'),\n",
       " Review(id=88108, username='Onecimo', asin='B018Y229OU', title='Great product for starters', text='I would highly recommend this product for the money', rating=5, do_recommend=True, num_helpful=0, date='2017-01-18'),\n",
       " Review(id=77808, username='5465Rebel', asin='B018Y229OU', title='Great tablet for kids', text='Bought this for my 6 year old daughter and she has a blast on it. Be sure to get the kid proof case too. Got to protect your investment.', rating=5, do_recommend=True, num_helpful=0, date='2017-01-18'),\n",
       " Review(id=57208, username='Shep', asin='B018Y229OU', title='Excellent', text='This was the best purchase .. I highly recommend it', rating=5, do_recommend=True, num_helpful=0, date='2017-01-18'),\n",
       " Review(id=46908, username='Gullythebeast1', asin='B018Y229OU', title='Amazon tablet', text='My son is having a blast basic screen but very versatile', rating=5, do_recommend=True, num_helpful=0, date='2017-01-18'),\n",
       " Review(id=26308, username='John007', asin='B018Y229OU', title='It was average', text='Purchased for my kids but it was hard to navigate and ended up with purchasing an iPad', rating=2, do_recommend=False, num_helpful=0, date='2017-01-18'),\n",
       " Review(id=5708, username='JayR', asin='B018Y229OU', title='Not Bad at all', text='It is pretty good for the price. Good for a young teen or someone who does light web browsing or plays light games.', rating=4, do_recommend=True, num_helpful=0, date='2017-01-18'),\n",
       " Review(id=95511, username='Vlk18', asin='B018Y229OU', title='Great product', text='This is a great product. It works great and is fun to use.', rating=5, do_recommend=True, num_helpful=0, date='2017-01-18'),\n",
       " Review(id=64611, username='Gymrat', asin='B018Y229OU', title='Great for price', text='This tablet is great for the price. Gets everything done quick and easy', rating=5, do_recommend=True, num_helpful=0, date='2017-01-18'),\n",
       " Review(id=44011, username='Dconnors', asin='B018Y229OU', title='Not bad for the price', text='I bought this for my eight year old to use in the car. It works well for him.', rating=4, do_recommend=True, num_helpful=0, date='2017-01-18'),\n",
       " Review(id=33711, username='Mammie', asin='B018Y229OU', title='Great tablet for our ten year old', text='Bought four of these for our grand children and they love them. Great price too.', rating=5, do_recommend=True, num_helpful=0, date='2017-01-18'),\n",
       " Review(id=13111, username='Cz40', asin='B018Y229OU', title='Great table', text='like that fact I can read my books and play some apps', rating=5, do_recommend=True, num_helpful=0, date='2017-01-18'),\n",
       " Review(id=2811, username='Teeci', asin='B018Y229OU', title='Tablet', text='I am very pleased with this tablet. Small enough to take with me anywhere yet a large enough screen for reading anywhere.', rating=5, do_recommend=True, num_helpful=0, date='2017-01-18'),\n",
       " Review(id=92614, username='Rory837', asin='B018Y229OU', title='Great tablet for even a beginner', text='Got as a Christmas gift for my aunt and she loves it would highly recommend she thought she would just use it for books but now she is even using it for games and apps', rating=5, do_recommend=True, num_helpful=0, date='2017-01-18'),\n",
       " Review(id=30814, username='ThatGuy', asin='B018Y229OU', title='Cheap but good enough', text='Very cheap tablet that is relatively powerful. Makes good bathroom tablet.', rating=5, do_recommend=True, num_helpful=0, date='2017-01-18'),\n",
       " Review(id=20514, username='BossChi', asin='B018Y229OU', title='Great tablet for a young child.', text='I bought this same tablet for my children two years ago who were eleven and eight years of age. They enjoyed it so much that I bought one for my eight year old Godson.', rating=5, do_recommend=True, num_helpful=0, date='2017-01-17'),\n",
       " Review(id=10214, username='Kaykay', asin='B018Y229OU', title='My nephew loves it', text='I bought the tablet for my nephew for Christmas he really likes it', rating=5, do_recommend=True, num_helpful=0, date='2017-01-17'),\n",
       " Review(id=100017, username='Pbwhitlow', asin='B018Y229OU', title='Good deal for the buck', text='Grandkids love it now they have their own personal tablets and I love that it has parental control', rating=5, do_recommend=True, num_helpful=0, date='2017-01-17'),\n",
       " Review(id=86820, username='Milkman22', asin='B018Y229OU', title='Great for an entry level unit.', text='My wife uses this to read almost daily and she loves it.', rating=4, do_recommend=True, num_helpful=0, date='2017-01-17'),\n",
       " Review(id=45620, username='kingof804', asin='B018Y229OU', title='great tablet for an adult or child', text='The tablet was a great price i have recently brought expensive tablets but this one does the same job as the others', rating=5, do_recommend=True, num_helpful=0, date='2015-12-28'),\n",
       " Review(id=14720, username='Alyssa', asin='B018Y229OU', title='For the kids', text='We got this as a gift for our 2 and 5 year old. Love the parental control feature and it is fairly easy for the kids to navigate.', rating=4, do_recommend=True, num_helpful=0, date='2015-12-28'),\n",
       " Review(id=53023, username='TeachersEyewitnessNews', asin='B018Y229OU', title='Kindle Review', text='My daughter is really enjoying her new Kindle that was purchased as a Christmas present.', rating=5, do_recommend=True, num_helpful=0, date='2017-01-17'),\n",
       " Review(id=1523, username='Oneandlonely', asin='B018Y229OU', title='Great', text='Great product for children to enjoy for a low price.', rating=5, do_recommend=True, num_helpful=0, date='2015-12-28'),\n",
       " Review(id=81026, username='Rjbjr', asin='B018Y229OU', title='Great tablet for the money', text='Great tablet for kids I would buy more if I needed to', rating=5, do_recommend=True, num_helpful=0, date='2015-12-28'),\n",
       " Review(id=50126, username='tskraus', asin='B018Y229OU', title='Awesome tablet for the price', text='Awesome tablet for the price. Great experience in store there to help when I needed it and not hovering over me while I browsed', rating=5, do_recommend=True, num_helpful=0, date='2015-12-28'),\n",
       " Review(id=8926, username='elyce', asin='B018Y229OU', title='good tablet', text='I bought as a gift and it seems to be a pretty good tablet the only down side is the quality of the camera. The picture quality is not great', rating=4, do_recommend=True, num_helpful=0, date='2015-12-28'),\n",
       " Review(id=47229, username='ness', asin='B018Y229OU', title='Great Tablet for the price for any age', text='I purchased this tablet for my mother as a christmas present. She is not tech savy to say the least. Once she got it set up she has fallen in love with. I would highly recommend this tablet to anyone', rating=5, do_recommend=True, num_helpful=0, date='2015-12-28'),\n",
       " ...]"
      ]
     },
     "execution_count": 20,
     "metadata": {},
     "output_type": "execute_result"
    }
   ],
   "source": [
    "def get_total_reviews():\n",
    "    csv_list= get_review_file('csv')\n",
    "    json_list= get_review_file('json')\n",
    "    total_reviews = []\n",
    "    for i in range(5):\n",
    "        total_reviews += get_reviews(csv_list[i], csv_list[i][:-3]+\"json\")\n",
    "    return total_reviews\n",
    "\n",
    "get_total_reviews()"
   ]
  },
  {
   "cell_type": "code",
   "execution_count": 21,
   "metadata": {},
   "outputs": [
    {
     "data": {
      "text/plain": [
       "[Review(id=29325, username='zerofighterblue', asin='B018Y229OU', title='cant live without', text='have a kindle with a broken screen. bought originally for 99.00. now regular price is 49.99 and were on sale black Friday for 34.99. got 2 more.', rating=5, do_recommend=True, num_helpful=1, date='2015-12-10'),\n",
       " Review(id=96947, username='zedog83', asin='B01AHB9CN2', title='Great for kids', text='Bought this for our 6 year old daughter and she uses it daily. She enjoys watching movies on it and playing learning games. So far it has been very durable and battery life has been great.', rating=5, do_recommend=True, num_helpful=0, date='2017-01-18'),\n",
       " Review(id=77499, username='zcraig7', asin='B018Y229OU', title='Awesome picture quality', text='I bought two of these for black friday and the kids love them', rating=5, do_recommend=True, num_helpful=0, date='2016-01-04'),\n",
       " Review(id=48890, username='zarm7', asin='B018Y229OU', title='This is a nice tablet', text='I bought it for reading books. And it works very well for that purpose.', rating=4, do_recommend=True, num_helpful=0, date='2016-09-02'),\n",
       " Review(id=84641, username='zabintenn', asin='B018Y229OU', title='Good tablet', text='I bought this tablet as a gift for my granddaughter to play games on. It is very easy for her to use and it is just the right size.', rating=4, do_recommend=True, num_helpful=0, date='2016-12-15'),\n",
       " Review(id=15839, username='zRoyals', asin='B01AHB9CN2', title='One of the best', text='Easy to use and elegant in design. Perfect Gift for Kids.', rating=5, do_recommend=True, num_helpful=0, date='2016-12-07'),\n",
       " Review(id=48019, username='yuty', asin='B01AHB9CN2', title='Terrifico', text='Great tablet for the price point....especially if you are big Amazon user.Expandable memory is a great feature.', rating=5, do_recommend=True, num_helpful=0, date='2017-01-07'),\n",
       " Review(id=63046, username='yuri', asin='B018Y229OU', title='great and cheap', text='Easy to use. Durable great material very happy with it.', rating=4, do_recommend=True, num_helpful=0, date='2016-01-08'),\n",
       " Review(id=37258, username='yroc', asin='B018Y229OU', title='excellent bargain', text='Excellent bargain and works for all purposes that a tablet is needed for.', rating=5, do_recommend=True, num_helpful=0, date='2015-12-28'),\n",
       " Review(id=64466, username='yosi', asin='B018Y226XO', title='great', text='great table for kids and parents control great gre', rating=5, do_recommend=True, num_helpful=0, date='2016-12-19')]"
      ]
     },
     "execution_count": 21,
     "metadata": {},
     "output_type": "execute_result"
    }
   ],
   "source": [
    "#Q15: List the first ten Review objects in the entire dataset, when the usernames are sorted in the reverse alphabetical order.\n",
    "def get_ordered_reviews():\n",
    "    total_reviews = get_total_reviews()\n",
    "    # https://stackoverflow.com/questions/12087905/pythonic-way-to-sorting-list-of-namedtuples-by-field-name/54123931#54123931\n",
    "    return sorted(total_reviews, key=lambda x: x.username, reverse = True)\n",
    "get_ordered_reviews()[0:10]"
   ]
  },
  {
   "cell_type": "code",
   "execution_count": 22,
   "metadata": {},
   "outputs": [
    {
     "data": {
      "text/plain": [
       "{'Missy': 4,\n",
       " '1234': 4,\n",
       " 'Mike': 4,\n",
       " 'Susan': 4,\n",
       " 'Dave': 4,\n",
       " 'Manny': 3,\n",
       " 'Michael': 3,\n",
       " 'Susie': 3,\n",
       " 'Bill': 3,\n",
       " 'James': 3,\n",
       " 'Lisa': 3,\n",
       " 'Kathy': 3,\n",
       " 'paul': 3,\n",
       " 'steve': 3,\n",
       " 'John': 3,\n",
       " 'Angie': 3,\n",
       " 'Richard': 3,\n",
       " 'Steve': 3,\n",
       " 'Bubba': 3,\n",
       " 'Chris': 3,\n",
       " 'Grandma': 3,\n",
       " 'Frank': 3}"
      ]
     },
     "execution_count": 22,
     "metadata": {},
     "output_type": "execute_result"
    }
   ],
   "source": [
    "#Q16: Who are the top 22 prolific users in this dataset?\n",
    "def bucketize(number = 'all', order = False):\n",
    "    review_dict = {}\n",
    "    final_dict = {}\n",
    "    total_reviews = get_total_reviews()\n",
    "    for review in total_reviews:\n",
    "        username = review.username\n",
    "        if username in review_dict: \n",
    "            review_dict[username] += 1\n",
    "        else: \n",
    "            review_dict[username] = 1\n",
    "    if order == True:\n",
    "        review_dict = dict(sorted(review_dict.items(), key=lambda x: x[1], reverse = True))\n",
    "    \n",
    "    for data in review_dict:\n",
    "        if number == 'all':\n",
    "            final_dict[data] = review_dict[data]\n",
    "        else:\n",
    "            if len(final_dict) == number:\n",
    "                break\n",
    "            else:\n",
    "                final_dict[data] = review_dict[data]    \n",
    "    return final_dict\n",
    "bucketize(22, True)"
   ]
  },
  {
   "cell_type": "code",
   "execution_count": 23,
   "metadata": {},
   "outputs": [
    {
     "data": {
      "text/plain": [
       "{'Raza': 5,\n",
       " 'Rodge': 6,\n",
       " 'Ellen': 10,\n",
       " 'Karch': 5,\n",
       " 'FrankW': 5,\n",
       " 'Kime': 5,\n",
       " 'Mark': 5,\n",
       " '1Briansapp': 5,\n",
       " 'trouble': 5,\n",
       " 'Stuartc': 8,\n",
       " 'Earthdog': 27}"
      ]
     },
     "execution_count": 23,
     "metadata": {},
     "output_type": "execute_result"
    }
   ],
   "source": [
    "#Q17: Who are the users whose comments have been found helpful at least five times?\n",
    "def helpful_user():\n",
    "    total_reviews = get_total_reviews()\n",
    "    helpful_dict = {}\n",
    "    for review in total_reviews:\n",
    "        if review.num_helpful >= 5:\n",
    "            if review.username in helpful_dict:\n",
    "                helpful_dict[review.username] += review.num_helpful\n",
    "            else:\n",
    "                helpful_dict[review.username] = review.num_helpful\n",
    "    return helpful_dict\n",
    "helpful_user()"
   ]
  },
  {
   "cell_type": "code",
   "execution_count": 24,
   "metadata": {},
   "outputs": [],
   "source": [
    "%matplotlib inline"
   ]
  },
  {
   "cell_type": "code",
   "execution_count": 25,
   "metadata": {},
   "outputs": [],
   "source": [
    "def scatter(x, y, xlabel=\"please label me!\", ylabel=\"please label me!\"):\n",
    "    df = pd.DataFrame({\"x\":x, \"y\":y})\n",
    "    ax = df.plot.scatter(x=\"x\", y=\"y\", color=\"black\", fontsize=16, xlim=0, ylim=0)\n",
    "    ax.set_xlabel(xlabel, fontsize=16)\n",
    "    ax.set_ylabel(ylabel, fontsize=16)\n",
    "    ax.get_xaxis().get_major_formatter().set_scientific(False)\n",
    "    ax.get_yaxis().get_major_formatter().set_scientific(False)"
   ]
  },
  {
   "cell_type": "code",
   "execution_count": 26,
   "metadata": {},
   "outputs": [
    {
     "data": {
      "image/png": "[encoded data removed]",
      "text/plain": [
       "<Figure size 432x288 with 1 Axes>"
      ]
     },
     "metadata": {
      "needs_background": "light"
     },
     "output_type": "display_data"
    }
   ],
   "source": [
    "scatter([0.0, 0.0, 0.0, 1.0, 1.0, 1.0, 2.0, 2.0, 2.0, 3.0, 3.0, 3.0, 8.0, 8.0, 8.0],\n",
    "        [4.1, 4.3, 4.2, 5.8, 6.0, 6.4, 8.4, 8.0, 7.9, 8.3, 8.1, 8.2, 1.9, 2.1, 1.0])"
   ]
  },
  {
   "cell_type": "code",
   "execution_count": 27,
   "metadata": {},
   "outputs": [
    {
     "data": {
      "image/png": "[encoded data removed]",
      "text/plain": [
       "<Figure size 432x288 with 1 Axes>"
      ]
     },
     "metadata": {
      "needs_background": "light"
     },
     "output_type": "display_data"
    }
   ],
   "source": [
    "scatter([0.0, 0.0, 0.0, 1.0, 1.0, 1.0, 2.0, 2.0, 2.0, 3.0, 3.0, 3.0, 8.0, 8.0, 8.0],\n",
    "        [4.1, 4.3, 4.2, 5.8, 6.0, 6.4, 8.4, 8.0, 7.9, 8.3, 8.1, 8.2, 1.9, 2.1, 1.0],\n",
    "        xlabel=\"ice cream scoops eaten\", ylabel=\"happiness (out of 10)\")"
   ]
  },
  {
   "cell_type": "code",
   "execution_count": 28,
   "metadata": {},
   "outputs": [
    {
     "data": {
      "image/png": "[encoded data removed]",
      "text/plain": [
       "<Figure size 432x288 with 1 Axes>"
      ]
     },
     "metadata": {
      "needs_background": "light"
     },
     "output_type": "display_data"
    }
   ],
   "source": [
    "scatter([1.0, 2.0, 2.0, 3.0, 3.0],\n",
    "        [3.0, 2.0, 4.0, 1.0, 5.0],\n",
    "        xlabel=\"test-x\", ylabel=\"test-y\")"
   ]
  },
  {
   "cell_type": "code",
   "execution_count": 29,
   "metadata": {},
   "outputs": [],
   "source": [
    "import statistics\n",
    "\n",
    "def bucketize_rating_avg_text(attribute = 'rating'):\n",
    "    rating_dict = {}\n",
    "    final_dict = {}\n",
    "    total_reviews = get_total_reviews()\n",
    "    \n",
    "    for review in total_reviews:\n",
    "        rating = review.rating\n",
    "        text = review.text\n",
    "        if rating not in final_dict:\n",
    "            final_dict[rating] = [len(text)] \n",
    "        else:\n",
    "            final_dict[rating].append(len(text))\n",
    "    \n",
    "    for key in final_dict:\n",
    "        final_dict[key] = statistics.mean(final_dict[key])\n",
    "    \n",
    "    return final_dict"
   ]
  },
  {
   "cell_type": "code",
   "execution_count": 30,
   "metadata": {},
   "outputs": [
    {
     "data": {
      "image/png": "[encoded data removed]",
      "text/plain": [
       "<Figure size 432x288 with 1 Axes>"
      ]
     },
     "metadata": {
      "needs_background": "light"
     },
     "output_type": "display_data"
    }
   ],
   "source": [
    "#Q18: What is the relationship between the rating and the average text length?\n",
    "result = bucketize_rating_avg_text()\n",
    "Rating = []\n",
    "avg_text_len = []\n",
    "for rating_key in result:\n",
    "    Rating.append(rating_key)\n",
    "    avg_text_len.append(result[rating_key])\n",
    "    \n",
    "scatter(Rating, avg_text_len, xlabel=\"Rating\", ylabel=\"Average text length\")"
   ]
  },
  {
   "cell_type": "code",
   "execution_count": 31,
   "metadata": {},
   "outputs": [],
   "source": [
    "def bucketize_rating_review_likelihood():\n",
    "    rating_dict = {}\n",
    "    final_dict = {}\n",
    "    total_reviews = get_total_reviews()\n",
    "    \n",
    "    for review in total_reviews:\n",
    "        rating = review.rating\n",
    "        helpful = review.num_helpful\n",
    "        if rating not in final_dict:\n",
    "            final_dict[rating] = [helpful] \n",
    "        else:\n",
    "            final_dict[rating].append(helpful)\n",
    "    for number in final_dict:\n",
    "        count = 0\n",
    "        for i in range(len(final_dict[number])):\n",
    "            if final_dict[number][i] >= 1:\n",
    "                count += 1\n",
    "        final_dict[number] = count / len(final_dict[number])\n",
    "                \n",
    "    return final_dict"
   ]
  },
  {
   "cell_type": "code",
   "execution_count": 32,
   "metadata": {},
   "outputs": [
    {
     "data": {
      "image/png": "[encoded data removed]",
      "text/plain": [
       "<Figure size 432x288 with 1 Axes>"
      ]
     },
     "metadata": {
      "needs_background": "light"
     },
     "output_type": "display_data"
    }
   ],
   "source": [
    "#Q19: What is the relationship between the rating and the likelihood of the review being helpful?\n",
    "result = bucketize_rating_review_likelihood()\n",
    "Rating = []\n",
    "helpfulness = []\n",
    "\n",
    "for rating_key in result:\n",
    "    Rating.append(rating_key)\n",
    "    helpfulness.append(result[rating_key])\n",
    "scatter(Rating, helpfulness, xlabel=\"Rating\", ylabel=\"Percentage of helpful reviews\")"
   ]
  },
  {
   "cell_type": "code",
   "execution_count": 33,
   "metadata": {},
   "outputs": [
    {
     "data": {
      "text/plain": [
       "{'Amazon 9W PowerFast Official OEM USB Charger and Power Adapter for Fire Tablets and Kindle eReaders': 4.7272727272727275,\n",
       " 'Amazon Tap Smart Assistant Alexa enabled (black) Brand New': 4.6909090909090905,\n",
       " 'All-New Kindle E-reader - Black, 6\" Glare-Free Touchscreen Display, Wi-Fi - Includes Special Offers': 4.590163934426229,\n",
       " 'Amazon Echo (2nd Generation) Smart Assistant Oak Finish Priority Shipping': 5,\n",
       " 'Kindle Voyage E-reader, 6 High-Resolution Display (300 ppi) with Adaptive Built-in Light, PagePress Sensors, Wi-Fi - Includes Special Offers': 4.666666666666667,\n",
       " 'All-new Echo (2nd Generation) with improved sound, powered by Dolby, and a new design Walnut Finish': 5,\n",
       " 'Fire Kids Edition Tablet, 7 Display, Wi-Fi, 16 GB, Pink Kid-Proof Case': 4.603448275862069,\n",
       " 'All-New Fire HD 8 Tablet, 8 HD Display, Wi-Fi, 32 GB - Includes Special Offers, Black': 4.583333333333333,\n",
       " 'All-New Fire HD 8 Tablet, 8 HD Display, Wi-Fi, 32 GB - Includes Special Offers, Magenta': 4.574468085106383,\n",
       " 'All-New Fire HD 8 Tablet, 8 HD Display, Wi-Fi, 16 GB - Includes Special Offers, Magenta': 4.6,\n",
       " 'Kindle Oasis E-reader with Leather Charging Cover - Merlot, 6 High-Resolution Display (300 ppi), Wi-Fi - Includes Special Offers': 4.866666666666666,\n",
       " 'Fire HD 8 Tablet with Alexa, 8 HD Display, 32 GB, Tangerine - with Special Offers': 3.8333333333333335,\n",
       " 'Fire Tablet, 7 Display, Wi-Fi, 8 GB - Includes Special Offers, Magenta': 4.506039150354019}"
      ]
     },
     "execution_count": 33,
     "metadata": {},
     "output_type": "execute_result"
    }
   ],
   "source": [
    "#Q20: Find the average rating of each product.\n",
    "def get_avg_rating(name = 'english'):\n",
    "    products = read_json(\"products.json\")\n",
    "    product_dict = {}\n",
    "    final_dict = {}\n",
    "    total_reviews = get_total_reviews()\n",
    "    \n",
    "    for product in products:\n",
    "        product_dict[product] = []\n",
    "        \n",
    "    for review in total_reviews:\n",
    "        rating = review.rating\n",
    "        asin = review.asin\n",
    "        product_dict[asin].append(rating)\n",
    "    \n",
    "    for product in product_dict:\n",
    "        product_dict[product] = statistics.mean(product_dict[product])\n",
    "    \n",
    "    for product in products:\n",
    "        final_dict[products[product]] = product_dict[product]\n",
    "    \n",
    "    if name == 'code':\n",
    "        return product_dict\n",
    "    elif name == 'english':\n",
    "        return final_dict\n",
    "\n",
    "get_avg_rating('english')"
   ]
  },
  {
   "cell_type": "code",
   "execution_count": 34,
   "metadata": {},
   "outputs": [],
   "source": [
    "def num_reivews_with_avg_rating(outlier = \"No\"):\n",
    "    product_ratings = get_avg_rating('code')\n",
    "    total_reviews = get_total_reviews()\n",
    "    final_dict = {}\n",
    "    num_reviews_dict = {}\n",
    "    for product in product_ratings:\n",
    "        num_reviews_dict[product] = 0\n",
    "        \n",
    "    for review in total_reviews:\n",
    "        asin = review.asin\n",
    "        num_reviews_dict[asin] += 1\n",
    "    \n",
    "    for product in num_reviews_dict:\n",
    "        final_dict[num_reviews_dict[product]] = product_ratings[product]\n",
    "    \n",
    "    if outlier == \"No\":\n",
    "        return final_dict\n",
    "    \n",
    "    elif outlier == \"Yes\":\n",
    "        outlier_dict = {}\n",
    "        for num_review in final_dict:\n",
    "            if num_review <= 500:\n",
    "                outlier_dict[num_review] = final_dict[num_review]\n",
    "        return outlier_dict"
   ]
  },
  {
   "cell_type": "code",
   "execution_count": 35,
   "metadata": {},
   "outputs": [
    {
     "data": {
      "image/png": "[encoded data removed]",
      "text/plain": [
       "<Figure size 432x288 with 1 Axes>"
      ]
     },
     "metadata": {
      "needs_background": "light"
     },
     "output_type": "display_data"
    }
   ],
   "source": [
    "#Q21: What is the relationship between the number of reviews and the average rating of a product?\n",
    "result = num_reivews_with_avg_rating()\n",
    "num_reviews = []\n",
    "avg_rating = []\n",
    "\n",
    "for key in result:\n",
    "    num_reviews.append(key)\n",
    "    avg_rating.append(result[key])\n",
    "scatter(num_reviews, avg_rating, xlabel=\"Number of Reviews\", ylabel=\"Average Rating\")"
   ]
  },
  {
   "cell_type": "code",
   "execution_count": 36,
   "metadata": {},
   "outputs": [
    {
     "data": {
      "image/png": "[encoded data removed]",
      "text/plain": [
       "<Figure size 432x288 with 1 Axes>"
      ]
     },
     "metadata": {
      "needs_background": "light"
     },
     "output_type": "display_data"
    }
   ],
   "source": [
    "#Q22: Remove the outliers from the last plot.\n",
    "result = num_reivews_with_avg_rating(\"Yes\")\n",
    "num_reviews = []\n",
    "avg_rating = []\n",
    "\n",
    "for key in result:\n",
    "    num_reviews.append(key)\n",
    "    avg_rating.append(result[key])\n",
    "scatter(num_reviews, avg_rating, xlabel=\"Number of Reviews\", ylabel=\"Average Rating\")"
   ]
  },
  {
   "cell_type": "code",
   "execution_count": 37,
   "metadata": {},
   "outputs": [],
   "source": [
    "def plot_dict(d, label=\"Number of Reviews\"):\n",
    "    ax = pandas.Series(d).sort_index().plot.bar(color=\"black\", fontsize=16)\n",
    "    ax.set_ylabel(label, fontsize=16)"
   ]
  },
  {
   "cell_type": "code",
   "execution_count": 38,
   "metadata": {},
   "outputs": [],
   "source": [
    "def month_with_num_reviews(product):\n",
    "    total_reviews = get_total_reviews()\n",
    "    month_dict = {}\n",
    "    for review in total_reviews:\n",
    "        if review.asin == product:\n",
    "            date = review.date\n",
    "            month = review.date.split(\"-\")[1]\n",
    "            if month not in month_dict:\n",
    "                month_dict[month] = 1\n",
    "            else:\n",
    "                month_dict[month] += 1\n",
    "    return month_dict"
   ]
  },
  {
   "cell_type": "code",
   "execution_count": 39,
   "metadata": {},
   "outputs": [
    {
     "data": {
      "image/png": "[encoded data removed]",
      "text/plain": [
       "<Figure size 432x288 with 1 Axes>"
      ]
     },
     "metadata": {
      "needs_background": "light"
     },
     "output_type": "display_data"
    }
   ],
   "source": [
    "#Q23: What is the relationship between the month and the total number of reviews for the product 'Fire Kids Edition Tablet, \n",
    "# 7 Display, Wi-Fi, 16 GB, Pink Kid-Proof Case' for each month?\n",
    "result = month_with_num_reviews(\"B018Y226XO\")\n",
    "plot_dict(result, label=\"Number of Reviews\")"
   ]
  },
  {
   "cell_type": "code",
   "execution_count": 40,
   "metadata": {},
   "outputs": [
    {
     "data": {
      "image/png": "[encoded data removed]",
      "text/plain": [
       "<Figure size 432x288 with 1 Axes>"
      ]
     },
     "metadata": {
      "needs_background": "light"
     },
     "output_type": "display_data"
    }
   ],
   "source": [
    "#Q24: What is the relationship between the month and the total number of reviews for the product 'Fire Tablet, 7 Display, Wi-Fi, 8 GB - Includes Special Offers, Magenta' for each month\n",
    "result = month_with_num_reviews(\"B018Y229OU\")\n",
    "plot_dict(result, label=\"Number of Reviews\")"
   ]
  },
  {
   "cell_type": "code",
   "execution_count": 41,
   "metadata": {},
   "outputs": [
    {
     "data": {
      "text/plain": [
       "24"
      ]
     },
     "execution_count": 41,
     "metadata": {},
     "output_type": "execute_result"
    }
   ],
   "source": [
    "# Problem 1: Factorial\n",
    "def fact(n):\n",
    "    if n == 1:\n",
    "        return 1\n",
    "    return n * fact(n-1)\n",
    "fact(4)"
   ]
  },
  {
   "cell_type": "code",
   "execution_count": 42,
   "metadata": {},
   "outputs": [
    {
     "data": {
      "text/plain": [
       "'AMERICAN'"
      ]
     },
     "execution_count": 42,
     "metadata": {},
     "output_type": "execute_result"
    }
   ],
   "source": [
    "# Problem 2: String Reversal\n",
    "def reverse(s):\n",
    "    if len(s) <= 1:\n",
    "        return s\n",
    "    return reverse(s[1:]) + s[0]\n",
    "reverse('NACIREMA')"
   ]
  },
  {
   "cell_type": "code",
   "execution_count": 43,
   "metadata": {},
   "outputs": [
    {
     "data": {
      "text/plain": [
       "[3, 2, 1]"
      ]
     },
     "execution_count": 43,
     "metadata": {},
     "output_type": "execute_result"
    }
   ],
   "source": [
    "# Problem 3: List Reversal\n",
    "def list_reverse(list):\n",
    "    if len(list) <= 1:\n",
    "        return list\n",
    "    return list_reverse(list[1:]) + [list[0]]\n",
    "list_reverse([1,2,3])"
   ]
  },
  {
   "cell_type": "code",
   "execution_count": 44,
   "metadata": {},
   "outputs": [
    {
     "name": "stdout",
     "output_type": "stream",
     "text": [
      "Dictionary:\n",
      "A => 1\n",
      "B => Dictionary:\n",
      "  C => 2\n",
      "  D => 3\n",
      "  E => Dictionary:\n",
      "    F => 4\n",
      "G => 5\n"
     ]
    }
   ],
   "source": [
    "# Problem 4: Dictionary Printer\n",
    "def dprint(dictionary, indent=0):\n",
    "    print(\"Dictionary:\")\n",
    "    for key in dictionary:\n",
    "        # key = \"B\"\n",
    "        value = dictionary[key] # value =  {\"C\": 2, \"D\": 3, \"E\": {\"F\": 4}}\n",
    "        print(\" \" * indent, end=\"\")\n",
    "        print(key + \" => \", end=\"\") # A => B \n",
    "        if type(value) == dict:\n",
    "            dprint(value, indent + 2)\n",
    "        else:\n",
    "            print(value)\n",
    "dprint({\"A\": 1, \"B\": {\"C\": 2, \"D\": 3, \"E\": {\"F\": 4}}, \"G\": 5})"
   ]
  },
  {
   "cell_type": "code",
   "execution_count": 45,
   "metadata": {},
   "outputs": [
    {
     "data": {
      "text/plain": [
       "[501, 101, 201, 301, 401]"
      ]
     },
     "execution_count": 45,
     "metadata": {},
     "output_type": "execute_result"
    }
   ],
   "source": [
    "# List Comprehensions\n",
    "nums = [500, 100, 200, 300, 400]\n",
    "new_nums = []\n",
    "for x in nums:\n",
    "    new_nums.append(x+1)\n",
    "new_nums"
   ]
  },
  {
   "cell_type": "code",
   "execution_count": 46,
   "metadata": {},
   "outputs": [
    {
     "data": {
      "text/plain": [
       "[501, 101, 201, 301, 401]"
      ]
     },
     "execution_count": 46,
     "metadata": {},
     "output_type": "execute_result"
    }
   ],
   "source": [
    "nums = [500, 100, 200, 300, 400]\n",
    "new_nums = [x+1 for x in nums]\n",
    "new_nums"
   ]
  },
  {
   "cell_type": "code",
   "execution_count": 47,
   "metadata": {},
   "outputs": [
    {
     "data": {
      "text/plain": [
       "[1000, 200, 400, 600, 800]"
      ]
     },
     "execution_count": 47,
     "metadata": {},
     "output_type": "execute_result"
    }
   ],
   "source": [
    "nums = [500, 100, 200, 300, 400]\n",
    "doubles = [orig_num * 2 for orig_num in nums]\n",
    "doubles"
   ]
  },
  {
   "cell_type": "code",
   "execution_count": 48,
   "metadata": {},
   "outputs": [
    {
     "data": {
      "text/plain": [
       "['APPLE', 'BANANA', 'ORANGE']"
      ]
     },
     "execution_count": 48,
     "metadata": {},
     "output_type": "execute_result"
    }
   ],
   "source": [
    "words = [\"Apple\", \"banana\", \"ORANGE\"]\n",
    "upper_words = [word.upper() for word in words]\n",
    "upper_words"
   ]
  },
  {
   "cell_type": "code",
   "execution_count": 49,
   "metadata": {},
   "outputs": [
    {
     "name": "stdout",
     "output_type": "stream",
     "text": [
      "10\n"
     ]
    }
   ],
   "source": [
    "# Default Dictionaries\n",
    "fruit_counts = {}\n",
    "fruit_counts[\"apple\"] = 10    # line 1: works\n",
    "print(fruit_counts[\"apple\"])  # line 2: works\n",
    "#print(fruit_counts[\"banana\"]) # line 3: fails"
   ]
  },
  {
   "cell_type": "code",
   "execution_count": 50,
   "metadata": {},
   "outputs": [
    {
     "name": "stdout",
     "output_type": "stream",
     "text": [
      "10\n",
      "0\n"
     ]
    }
   ],
   "source": [
    "from collections import defaultdict\n",
    "\n",
    "fruit_counts = defaultdict(int)\n",
    "fruit_counts[\"apple\"] = 10    # line 1: works\n",
    "print(fruit_counts[\"apple\"])  # line 2: works\n",
    "print(fruit_counts[\"banana\"]) # line 3: works"
   ]
  },
  {
   "cell_type": "code",
   "execution_count": 51,
   "metadata": {},
   "outputs": [
    {
     "data": {
      "text/plain": [
       "{'alice': [5, 7], 'bob': [6, 8]}"
      ]
     },
     "execution_count": 51,
     "metadata": {},
     "output_type": "execute_result"
    }
   ],
   "source": [
    "rows = [\n",
    "     (\"alice\", 5),\n",
    "     (\"bob\", 6),\n",
    "     (\"alice\", 7),\n",
    "     (\"bob\", 8),\n",
    "]\n",
    "\n",
    "scores = dict()\n",
    "for row in rows:\n",
    "    if not row[0] in scores:\n",
    "        scores[row[0]] = [row[1]]\n",
    "    else:\n",
    "        scores[row[0]].append(row[1])\n",
    "\n",
    "scores"
   ]
  },
  {
   "cell_type": "code",
   "execution_count": 52,
   "metadata": {},
   "outputs": [
    {
     "data": {
      "text/plain": [
       "{'alice': [5, 7], 'bob': [6, 8]}"
      ]
     },
     "execution_count": 52,
     "metadata": {},
     "output_type": "execute_result"
    }
   ],
   "source": [
    "rows = [\n",
    "     (\"alice\", 5),\n",
    "     (\"bob\", 6),\n",
    "     (\"alice\", 7),\n",
    "     (\"bob\", 8),\n",
    "]\n",
    "\n",
    "scores = defaultdict(list)\n",
    "for row in rows:\n",
    "    scores[row[0]].append(row[1]) # creates a new list if necessary\n",
    "\n",
    "dict(scores)"
   ]
  },
  {
   "cell_type": "code",
   "execution_count": 53,
   "metadata": {},
   "outputs": [
    {
     "data": {
      "text/plain": [
       "{'b': 1, 'a': 3, 'n': 2}"
      ]
     },
     "execution_count": 53,
     "metadata": {},
     "output_type": "execute_result"
    }
   ],
   "source": [
    "from collections import defaultdict\n",
    "\n",
    "letter_counts = defaultdict(int)\n",
    "\n",
    "for letter in \"banana\":\n",
    "    letter_counts[letter] += 1\n",
    "\n",
    "dict(letter_counts)"
   ]
  },
  {
   "cell_type": "code",
   "execution_count": 54,
   "metadata": {},
   "outputs": [
    {
     "data": {
      "text/plain": [
       "['broken_file\\\\rating4\\\\very_helpful\\\\very_helpful.json']"
      ]
     },
     "execution_count": 54,
     "metadata": {},
     "output_type": "execute_result"
    }
   ],
   "source": [
    "#Q25: List the paths in the very_helpful directory of rating4 of broken_file.\n",
    "def get_paths2(directory):\n",
    "    file_list = os.listdir(directory)\n",
    "    #print(file_list)\n",
    "    total_file = []\n",
    "    for file in file_list:\n",
    "        #print(file)\n",
    "        path = os.path.join(directory, file)\n",
    "        #print(path)\n",
    "        if os.path.isdir(path):\n",
    "            if directory == os.path.join('broken_file', 'rating4') and file == 'very_helpful':\n",
    "                total_file = get_paths(path)\n",
    "                break\n",
    "            else:\n",
    "                total_file += get_paths2(path)\n",
    "        else:\n",
    "            total_file.append(path)\n",
    "    return sorted(total_file, reverse = True)\n",
    "\n",
    "get_paths2(os.path.join('broken_file', 'rating4'))"
   ]
  },
  {
   "cell_type": "code",
   "execution_count": 55,
   "metadata": {},
   "outputs": [
    {
     "data": {
      "text/plain": [
       "['broken_file\\\\rating5\\\\others.json',\n",
       " 'broken_file\\\\rating5\\\\helpful\\\\helpful.json']"
      ]
     },
     "execution_count": 55,
     "metadata": {},
     "output_type": "execute_result"
    }
   ],
   "source": [
    "#Q26: List the paths of all the files in the rating5 directory of broken_file.\n",
    "get_paths2(os.path.join('broken_file', 'rating5'))"
   ]
  },
  {
   "cell_type": "code",
   "execution_count": 56,
   "metadata": {},
   "outputs": [
    {
     "data": {
      "text/plain": [
       "['broken_file\\\\rating5\\\\others.json',\n",
       " 'broken_file\\\\rating5\\\\helpful\\\\helpful.json',\n",
       " 'broken_file\\\\rating4\\\\very_helpful\\\\very_helpful.json',\n",
       " 'broken_file\\\\rating4\\\\others\\\\short\\\\short.json',\n",
       " 'broken_file\\\\rating4\\\\others\\\\others\\\\others.json',\n",
       " 'broken_file\\\\rating4\\\\not_helpful.json',\n",
       " 'broken_file\\\\rating3\\\\others\\\\others.json',\n",
       " 'broken_file\\\\rating3\\\\long\\\\long.json',\n",
       " 'broken_file\\\\others.json']"
      ]
     },
     "execution_count": 56,
     "metadata": {},
     "output_type": "execute_result"
    }
   ],
   "source": [
    "#Q27: List the paths of all the files in the broken_file directory.\n",
    "def get_path3(directory):\n",
    "    file_list = os.listdir(directory)\n",
    "    total_file = []\n",
    "    for file in file_list:\n",
    "        path = os.path.join(directory, file)\n",
    "        if os.path.isdir(path):\n",
    "            total_file += get_path3(path)\n",
    "        else:\n",
    "            total_file.append(path)\n",
    "    return sorted(total_file, reverse = True)\n",
    "get_path3('broken_file')"
   ]
  },
  {
   "cell_type": "code",
   "execution_count": 57,
   "metadata": {},
   "outputs": [],
   "source": [
    "def read_json2(json_filename):\n",
    "    f = open(os.path.join(\"broken_file\", json_filename), encoding=\"utf-8\")\n",
    "    string = f.read()\n",
    "    json_str = json.loads(string)\n",
    "    f.close() \n",
    "    return json_str"
   ]
  },
  {
   "cell_type": "code",
   "execution_count": 58,
   "metadata": {},
   "outputs": [
    {
     "data": {
      "text/plain": [
       "1"
      ]
     },
     "execution_count": 58,
     "metadata": {},
     "output_type": "execute_result"
    }
   ],
   "source": [
    "#Q28: Combine all the files in broken_file directory and find the number of unique products being reviewed in these files.\n",
    "def json_get_unique_products():\n",
    "    json_list = get_path3('broken_file')\n",
    "    total_data = {}\n",
    "    products_list = []\n",
    "    for file in json_list:\n",
    "        file = file[12:]\n",
    "        data = read_json2(file)\n",
    "        for key in data:\n",
    "            if data[key][-1] not in products_list:\n",
    "                products_list.append(data[key][-1])\n",
    "    return len(products_list)\n",
    "        \n",
    "json_get_unique_products()     \n"
   ]
  },
  {
   "cell_type": "code",
   "execution_count": 59,
   "metadata": {},
   "outputs": [],
   "source": [
    "def broken_file_total_data():\n",
    "    json_list = get_path3('broken_file')\n",
    "    total_data = {}\n",
    "    products_list = []\n",
    "    for file in json_list:\n",
    "        file = file[12:]\n",
    "        data = read_json2(file)\n",
    "        for key in data:\n",
    "            total_data[key] = data[key]\n",
    "    return total_data"
   ]
  },
  {
   "cell_type": "code",
   "execution_count": 60,
   "metadata": {},
   "outputs": [
    {
     "data": {
      "text/plain": [
       "4995"
      ]
     },
     "execution_count": 60,
     "metadata": {},
     "output_type": "execute_result"
    }
   ],
   "source": [
    "#Q29: Combine all the files in the directories data and broken_file, and find the total number of reviews.\n",
    "def combine_all_data():\n",
    "    with open(os.path.join('data', 'broken_data.json'), \"w\") as json_file:\n",
    "        json.dump(broken_file_total_data(), json_file)\n",
    "    #https://rfriend.tistory.com/474 [R, Python 분석과 프로그래밍의 친구 (by R Friend)]\n",
    "    \n",
    "    data1 = get_reviews('review1.csv', 'review1.json')\n",
    "    data2 = get_reviews('review2.csv', 'review2.json')\n",
    "    data3 = get_reviews('review3.csv', 'broken_data.json')\n",
    "    data4 = get_reviews('review4.csv', 'review4.json')\n",
    "    data5 = get_reviews('review5.csv', 'review5.json')\n",
    "    data_list = [data1, data2, data3, data4, data5]\n",
    "    final_data = []\n",
    "    \n",
    "    for data in data_list:\n",
    "        final_data += data\n",
    "    \n",
    "    return len(final_data)\n",
    "combine_all_data()"
   ]
  },
  {
   "cell_type": "code",
   "execution_count": 61,
   "metadata": {},
   "outputs": [],
   "source": [
    "os.remove(os.path.join(\"data\", \"broken_data.json\"))"
   ]
  },
  {
   "cell_type": "code",
   "execution_count": 62,
   "metadata": {},
   "outputs": [],
   "source": [
    "def get_product_avg_rating(product_name):\n",
    "    products = read_json(\"products.json\")\n",
    "    product_dict = {}\n",
    "    total_reviews = get_total_reviews()\n",
    "    \n",
    "    for product in products:\n",
    "        if product == product_name:\n",
    "            product_dict[product] = []\n",
    "    \n",
    "    for review in total_reviews:\n",
    "        rating = review.rating\n",
    "        product_dict[product_name].append(rating)\n",
    "    \n",
    "    for product in product_dict:\n",
    "        product_dict[product] = statistics.mean(product_dict[product])\n",
    "    \n",
    "    return product_dict"
   ]
  },
  {
   "cell_type": "code",
   "execution_count": 63,
   "metadata": {},
   "outputs": [
    {
     "data": {
      "text/plain": [
       "0.0"
      ]
     },
     "execution_count": 63,
     "metadata": {},
     "output_type": "execute_result"
    }
   ],
   "source": [
    "#Q30: What is the percentage of change in the average rating changed for the product 'Fire Tablet, 7 Display', \n",
    "#because of the addition of the new data?\n",
    "def percent_rating_change(product):\n",
    "    before_avg = get_product_avg_rating(\"B018Y229OU\")[product]\n",
    "    combine_all_data()\n",
    "    after_avg = get_product_avg_rating(\"B018Y229OU\")[product]\n",
    "    \n",
    "    return (before_avg - after_avg) * 100 / before_avg\n",
    "\n",
    "percent_rating_change(\"B018Y229OU\")"
   ]
  },
  {
   "cell_type": "code",
   "execution_count": 64,
   "metadata": {},
   "outputs": [],
   "source": [
    "os.remove(os.path.join(\"data\", \"broken_data.json\"))"
   ]
  },
  {
   "cell_type": "code",
   "execution_count": null,
   "metadata": {},
   "outputs": [],
   "source": []
  }
 ],
 "metadata": {
  "kernelspec": {
   "display_name": "Python 3",
   "language": "python",
   "name": "python3"
  },
  "language_info": {
   "codemirror_mode": {
    "name": "ipython",
    "version": 3
   },
   "file_extension": ".py",
   "mimetype": "text/x-python",
   "name": "python",
   "nbconvert_exporter": "python",
   "pygments_lexer": "ipython3",
   "version": "3.8.1"
  }
 },
 "nbformat": 4,
 "nbformat_minor": 4
}
