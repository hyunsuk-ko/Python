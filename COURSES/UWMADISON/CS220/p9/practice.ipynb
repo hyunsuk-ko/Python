{
 "cells": [
  {
   "cell_type": "code",
   "execution_count": 1,
   "metadata": {},
   "outputs": [],
   "source": [
    "import os, json, csv"
   ]
  },
  {
   "cell_type": "code",
   "execution_count": 2,
   "metadata": {},
   "outputs": [
    {
     "data": {
      "text/plain": [
       "['.ipynb_checkpoints', 'data', 'fruit', 'jokbo.ipynb', 'practice.ipynb']"
      ]
     },
     "execution_count": 2,
     "metadata": {},
     "output_type": "execute_result"
    }
   ],
   "source": [
    "os.listdir(\".\")"
   ]
  },
  {
   "cell_type": "code",
   "execution_count": 3,
   "metadata": {},
   "outputs": [
    {
     "data": {
      "text/plain": [
       "'fruit\\\\apple.txt'"
      ]
     },
     "execution_count": 3,
     "metadata": {},
     "output_type": "execute_result"
    }
   ],
   "source": [
    "path = os.path.join(\"fruit\", \"apple.txt\")\n",
    "path"
   ]
  },
  {
   "cell_type": "code",
   "execution_count": 4,
   "metadata": {},
   "outputs": [
    {
     "name": "stdout",
     "output_type": "stream",
     "text": [
      "did not try to create fruit because it already existed\n"
     ]
    }
   ],
   "source": [
    "if not os.path.exists(\"fruit\"):\n",
    "    os.mkdir(\"fruit\")\n",
    "else:\n",
    "    print(\"did not try to create fruit because it already existed\")"
   ]
  },
  {
   "cell_type": "code",
   "execution_count": 5,
   "metadata": {},
   "outputs": [
    {
     "data": {
      "text/plain": [
       "'apple.txt'"
      ]
     },
     "execution_count": 5,
     "metadata": {},
     "output_type": "execute_result"
    }
   ],
   "source": [
    "basename = os.path.basename(path)\n",
    "basename"
   ]
  },
  {
   "cell_type": "code",
   "execution_count": 6,
   "metadata": {},
   "outputs": [
    {
     "data": {
      "text/plain": [
       "'fruit'"
      ]
     },
     "execution_count": 6,
     "metadata": {},
     "output_type": "execute_result"
    }
   ],
   "source": [
    "dirname = os.path.dirname(path)\n",
    "dirname"
   ]
  },
  {
   "cell_type": "code",
   "execution_count": 7,
   "metadata": {},
   "outputs": [],
   "source": [
    "f = open(path, \"w\", encoding=\"utf-8\")\n",
    "f.write(\"apples are red\\n\")\n",
    "f.close()"
   ]
  },
  {
   "cell_type": "code",
   "execution_count": 8,
   "metadata": {},
   "outputs": [
    {
     "data": {
      "text/plain": [
       "['apple.txt', 'good.csv', 'rotten.csv', 'summary.json']"
      ]
     },
     "execution_count": 8,
     "metadata": {},
     "output_type": "execute_result"
    }
   ],
   "source": [
    "os.listdir(\"fruit\")"
   ]
  },
  {
   "cell_type": "code",
   "execution_count": 9,
   "metadata": {},
   "outputs": [
    {
     "name": "stdout",
     "output_type": "stream",
     "text": [
      "banana\n",
      "fruit\\apple.txt\n",
      "apple.txt\n",
      "['apple.txt', 'good.csv', 'rotten.csv', 'summary.json']\n"
     ]
    },
    {
     "data": {
      "text/plain": [
       "'apples are red\\n'"
      ]
     },
     "execution_count": 9,
     "metadata": {},
     "output_type": "execute_result"
    }
   ],
   "source": [
    "def fruit_message(name):\n",
    "    f = open(path, encoding=\"utf-8\")\n",
    "    input_path = os.path.basename(path)\n",
    "    print(name)\n",
    "    print(path)\n",
    "    print(input_path)\n",
    "    print(os.listdir('fruit'))\n",
    "    \n",
    "    if input_path in os.listdir('fruit'):\n",
    "        msg = f.read()\n",
    "        f.close()\n",
    "        return msg\n",
    "    else:\n",
    "        return 'bad fruit'\n",
    "        \n",
    "\n",
    "fruit_message('banana')"
   ]
  },
  {
   "cell_type": "code",
   "execution_count": 10,
   "metadata": {},
   "outputs": [
    {
     "name": "stdout",
     "output_type": "stream",
     "text": [
      "Python structs: [{'name': 'apple', 'count': 50, 'tasty': True}, {'name': 'watermelon', 'count': 60, 'tasty': False}, {'name': 'kiwi', 'count': 55, 'tasty': True}]\n",
      "JSON string: [{\"name\": \"apple\", \"count\": 50, \"tasty\": true}, {\"name\": \"watermelon\", \"count\": 60, \"tasty\": false}, {\"name\": \"kiwi\", \"count\": 55, \"tasty\": true}]\n"
     ]
    }
   ],
   "source": [
    "# Python structures\n",
    "fruits = [\n",
    "    {\"name\": \"apple\", \"count\": 50, \"tasty\": True},\n",
    "    {\"name\": \"watermelon\", \"count\": 60, \"tasty\": False},\n",
    "    {\"name\": \"kiwi\", \"count\": 55, \"tasty\": True},\n",
    "]\n",
    "print(\"Python structs:\", fruits)\n",
    "\n",
    "# JSON string\n",
    "json_str = json.dumps(fruits)\n",
    "print(\"JSON string:\", json_str)\n",
    "\n",
    "# save to file\n",
    "f = open(os.path.join(\"fruit\", \"summary.json\"), \"w\", encoding=\"utf-8\")\n",
    "f.write(json_str)\n",
    "f.close()"
   ]
  },
  {
   "cell_type": "code",
   "execution_count": 11,
   "metadata": {},
   "outputs": [
    {
     "ename": "SyntaxError",
     "evalue": "invalid syntax (<ipython-input-11-c4a758bc1654>, line 3)",
     "output_type": "error",
     "traceback": [
      "\u001b[1;36m  File \u001b[1;32m\"<ipython-input-11-c4a758bc1654>\"\u001b[1;36m, line \u001b[1;32m3\u001b[0m\n\u001b[1;33m    ????\u001b[0m\n\u001b[1;37m    ^\u001b[0m\n\u001b[1;31mSyntaxError\u001b[0m\u001b[1;31m:\u001b[0m invalid syntax\n"
     ]
    }
   ],
   "source": [
    "# Python structures\n",
    "fruits = [\n",
    "    ????\n",
    "]\n",
    "print(\"Python structs:\", fruits)\n",
    "\n",
    "# save to file\n",
    "f = open(os.path.join(\"fruit\", ????), \"w\", encoding=\"utf-8\")\n",
    "json.dump(fruits, f)\n",
    "f.close()"
   ]
  },
  {
   "cell_type": "code",
   "execution_count": 12,
   "metadata": {},
   "outputs": [
    {
     "name": "stdout",
     "output_type": "stream",
     "text": [
      "[{'name': 'apple', 'count': 50, 'tasty': True}, {'name': 'watermelon', 'count': 60, 'tasty': False}, {'name': 'kiwi', 'count': 55, 'tasty': True}]\n"
     ]
    }
   ],
   "source": [
    "f = open(os.path.join(\"fruit\", \"summary.json\"), encoding=\"utf-8\")\n",
    "json_str = f.read()\n",
    "f.close()\n",
    "\n",
    "data = json.loads(json_str)\n",
    "print(data)"
   ]
  },
  {
   "cell_type": "code",
   "execution_count": 13,
   "metadata": {},
   "outputs": [],
   "source": [
    "f = open(os.path.join(\"fruit\", \"good.csv\"), \"w\", encoding=\"utf-8\")\n",
    "f.write(\"fruit,count\\n\")\n",
    "f.write(\"apple,10\\n\")\n",
    "f.write(\"banana,3\\n\")\n",
    "f.write(\"orange,0\\n\")\n",
    "f.close()\n",
    "\n",
    "f = open(os.path.join(\"fruit\", \"rotten.csv\"), \"w\", encoding=\"utf-8\")\n",
    "f.write(\"fruit,count\\n\")\n",
    "f.write(\"apple,10\\n\")\n",
    "f.write(\"banana,3\\n\")\n",
    "f.write(\"orange\\n\")\n",
    "f.close()"
   ]
  },
  {
   "cell_type": "code",
   "execution_count": 16,
   "metadata": {},
   "outputs": [
    {
     "name": "stdout",
     "output_type": "stream",
     "text": [
      "{'fruit': 'apple', 'count': '10'}\n",
      "{'fruit': 'banana', 'count': '3'}\n",
      "{'fruit': 'orange', 'count': '0'}\n"
     ]
    }
   ],
   "source": [
    "f = open(os.path.join(\"fruit\", \"good.csv\"), encoding=\"utf-8\")\n",
    "reader = csv.DictReader(f)\n",
    "for row in reader:\n",
    "    print(row)\n",
    "f.close()"
   ]
  },
  {
   "cell_type": "code",
   "execution_count": 17,
   "metadata": {},
   "outputs": [
    {
     "name": "stdout",
     "output_type": "stream",
     "text": [
      "apple 10\n",
      "banana 3\n",
      "orange 0\n"
     ]
    }
   ],
   "source": [
    "f = open(os.path.join(\"fruit\", \"good.csv\"), encoding=\"utf-8\")\n",
    "reader = csv.DictReader(f)\n",
    "for row in reader:\n",
    "    print(row[\"fruit\"], row[\"count\"])\n",
    "f.close()"
   ]
  },
  {
   "cell_type": "code",
   "execution_count": null,
   "metadata": {},
   "outputs": [],
   "source": []
  }
 ],
 "metadata": {
  "kernelspec": {
   "display_name": "Python 3",
   "language": "python",
   "name": "python3"
  },
  "language_info": {
   "codemirror_mode": {
    "name": "ipython",
    "version": 3
   },
   "file_extension": ".py",
   "mimetype": "text/x-python",
   "name": "python",
   "nbconvert_exporter": "python",
   "pygments_lexer": "ipython3",
   "version": "3.8.1"
  }
 },
 "nbformat": 4,
 "nbformat_minor": 4
}
