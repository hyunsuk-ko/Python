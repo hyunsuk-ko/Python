{
 "cells": [
  {
   "cell_type": "code",
   "execution_count": 1,
   "metadata": {},
   "outputs": [],
   "source": [
    "# project: p10\n",
    "# submitter: hko26\n",
    "# partner: yeo9"
   ]
  },
  {
   "cell_type": "code",
   "execution_count": 2,
   "metadata": {},
   "outputs": [
    {
     "data": {
      "text/html": [
       "<style>.container { width:100% !important; }</style>"
      ],
      "text/plain": [
       "<IPython.core.display.HTML object>"
      ]
     },
     "metadata": {},
     "output_type": "display_data"
    }
   ],
   "source": [
    "from IPython.core.display import display, HTML\n",
    "display(HTML(\"<style>.container { width:100% !important; }</style>\"))"
   ]
  },
  {
   "cell_type": "code",
   "execution_count": 3,
   "metadata": {},
   "outputs": [],
   "source": [
    "import time, requests, os, json, csv\n",
    "import pandas as pd\n",
    "from pandas import DataFrame, Series"
   ]
  },
  {
   "cell_type": "code",
   "execution_count": 4,
   "metadata": {},
   "outputs": [],
   "source": [
    "def download(filename, url):\n",
    "    # We do not download again if the file already exists\n",
    "    if os.path.exists(filename):\n",
    "        return (str(filename) + \" already exists!\")\n",
    "\n",
    "    # TODO: Write the code to download the file from URL\n",
    "    # and save it in `filename`\n",
    "    else:\n",
    "        r = requests.get(url)\n",
    "        r.raise_for_status()\n",
    "        data = r.text\n",
    "        f = open(filename, \"w\", encoding = \"utf-8\")\n",
    "        f.write(data)\n",
    "        f.close()\n",
    "        return (str(filename) + \" created!\")"
   ]
  },
  {
   "cell_type": "code",
   "execution_count": 5,
   "metadata": {},
   "outputs": [
    {
     "data": {
      "text/plain": [
       "'countries.json already exists!'"
      ]
     },
     "execution_count": 5,
     "metadata": {},
     "output_type": "execute_result"
    }
   ],
   "source": [
    "download(\"countries.json\", \"https://raw.githubusercontent.com/msyamkumar/cs220-projects/master/spring20/p10/countries.json\")"
   ]
  },
  {
   "cell_type": "code",
   "execution_count": 6,
   "metadata": {},
   "outputs": [
    {
     "data": {
      "text/html": [
       "<div>\n",
       "<style scoped>\n",
       "    .dataframe tbody tr th:only-of-type {\n",
       "        vertical-align: middle;\n",
       "    }\n",
       "\n",
       "    .dataframe tbody tr th {\n",
       "        vertical-align: top;\n",
       "    }\n",
       "\n",
       "    .dataframe thead th {\n",
       "        text-align: right;\n",
       "    }\n",
       "</style>\n",
       "<table border=\"1\" class=\"dataframe\">\n",
       "  <thead>\n",
       "    <tr style=\"text-align: right;\">\n",
       "      <th></th>\n",
       "      <th>area</th>\n",
       "      <th>birth-rate</th>\n",
       "      <th>coastline</th>\n",
       "      <th>continent</th>\n",
       "      <th>country</th>\n",
       "      <th>death-rate</th>\n",
       "      <th>gdp-per-capita</th>\n",
       "      <th>infant-mortality</th>\n",
       "      <th>literacy</th>\n",
       "      <th>net-migration</th>\n",
       "      <th>phones</th>\n",
       "      <th>population</th>\n",
       "      <th>region</th>\n",
       "    </tr>\n",
       "  </thead>\n",
       "  <tbody>\n",
       "    <tr>\n",
       "      <th>0</th>\n",
       "      <td>756950</td>\n",
       "      <td>15.23</td>\n",
       "      <td>0.85</td>\n",
       "      <td>South America</td>\n",
       "      <td>Chile</td>\n",
       "      <td>5.81</td>\n",
       "      <td>9900</td>\n",
       "      <td>8.80</td>\n",
       "      <td>96,2</td>\n",
       "      <td>0.00</td>\n",
       "      <td>213,0</td>\n",
       "      <td>16134219</td>\n",
       "      <td>LATIN AMER. &amp; CARIB</td>\n",
       "    </tr>\n",
       "    <tr>\n",
       "      <th>1</th>\n",
       "      <td>665</td>\n",
       "      <td>17.80</td>\n",
       "      <td>24.21</td>\n",
       "      <td>Asia</td>\n",
       "      <td>Bahrain</td>\n",
       "      <td>4.14</td>\n",
       "      <td>16900</td>\n",
       "      <td>17.27</td>\n",
       "      <td>89,1</td>\n",
       "      <td>1.05</td>\n",
       "      <td>281,3</td>\n",
       "      <td>698585</td>\n",
       "      <td>NEAR EAST</td>\n",
       "    </tr>\n",
       "    <tr>\n",
       "      <th>2</th>\n",
       "      <td>22966</td>\n",
       "      <td>28.84</td>\n",
       "      <td>1.68</td>\n",
       "      <td>North America</td>\n",
       "      <td>Belize</td>\n",
       "      <td>5.72</td>\n",
       "      <td>4900</td>\n",
       "      <td>25.69</td>\n",
       "      <td>94,1</td>\n",
       "      <td>0.00</td>\n",
       "      <td>115,7</td>\n",
       "      <td>287730</td>\n",
       "      <td>LATIN AMER. &amp; CARIB</td>\n",
       "    </tr>\n",
       "    <tr>\n",
       "      <th>3</th>\n",
       "      <td>582650</td>\n",
       "      <td>39.72</td>\n",
       "      <td>0.09</td>\n",
       "      <td>Africa</td>\n",
       "      <td>Kenya</td>\n",
       "      <td>14.02</td>\n",
       "      <td>1000</td>\n",
       "      <td>61.47</td>\n",
       "      <td>85,1</td>\n",
       "      <td>-0.10</td>\n",
       "      <td>8,1</td>\n",
       "      <td>34707817</td>\n",
       "      <td>SUB-SAHARAN AFRICA</td>\n",
       "    </tr>\n",
       "    <tr>\n",
       "      <th>4</th>\n",
       "      <td>11854</td>\n",
       "      <td>33.05</td>\n",
       "      <td>3.12</td>\n",
       "      <td>Australia</td>\n",
       "      <td>Marshall Islands</td>\n",
       "      <td>4.78</td>\n",
       "      <td>1600</td>\n",
       "      <td>29.45</td>\n",
       "      <td>93,7</td>\n",
       "      <td>-6.04</td>\n",
       "      <td>91,2</td>\n",
       "      <td>60422</td>\n",
       "      <td>OCEANIA</td>\n",
       "    </tr>\n",
       "  </tbody>\n",
       "</table>\n",
       "</div>"
      ],
      "text/plain": [
       "     area  birth-rate  coastline      continent           country  death-rate  \\\n",
       "0  756950       15.23       0.85  South America             Chile        5.81   \n",
       "1     665       17.80      24.21           Asia           Bahrain        4.14   \n",
       "2   22966       28.84       1.68  North America            Belize        5.72   \n",
       "3  582650       39.72       0.09         Africa             Kenya       14.02   \n",
       "4   11854       33.05       3.12      Australia  Marshall Islands        4.78   \n",
       "\n",
       "   gdp-per-capita  infant-mortality literacy  net-migration phones  \\\n",
       "0            9900              8.80     96,2           0.00  213,0   \n",
       "1           16900             17.27     89,1           1.05  281,3   \n",
       "2            4900             25.69     94,1           0.00  115,7   \n",
       "3            1000             61.47     85,1          -0.10    8,1   \n",
       "4            1600             29.45     93,7          -6.04   91,2   \n",
       "\n",
       "   population               region  \n",
       "0    16134219  LATIN AMER. & CARIB  \n",
       "1      698585            NEAR EAST  \n",
       "2      287730  LATIN AMER. & CARIB  \n",
       "3    34707817   SUB-SAHARAN AFRICA  \n",
       "4       60422              OCEANIA  "
      ]
     },
     "execution_count": 6,
     "metadata": {},
     "output_type": "execute_result"
    }
   ],
   "source": [
    "countries = pd.read_json('countries.json')\n",
    "countries.head()"
   ]
  },
  {
   "cell_type": "code",
   "execution_count": 7,
   "metadata": {},
   "outputs": [
    {
     "data": {
      "text/plain": [
       "174"
      ]
     },
     "execution_count": 7,
     "metadata": {},
     "output_type": "execute_result"
    }
   ],
   "source": [
    "#Q1: How many countries do we have in our dataset?\n",
    "countries['country'].count()"
   ]
  },
  {
   "cell_type": "code",
   "execution_count": 8,
   "metadata": {},
   "outputs": [
    {
     "data": {
      "text/plain": [
       "6261901793"
      ]
     },
     "execution_count": 8,
     "metadata": {},
     "output_type": "execute_result"
    }
   ],
   "source": [
    "#Q2: what is the total population across all the countries in our dataset?\n",
    "countries['population'].sum()"
   ]
  },
  {
   "cell_type": "code",
   "execution_count": 9,
   "metadata": {},
   "outputs": [
    {
     "data": {
      "text/plain": [
       "'capitals.json already exists!'"
      ]
     },
     "execution_count": 9,
     "metadata": {},
     "output_type": "execute_result"
    }
   ],
   "source": [
    "download(\"capitals.json\", \"https://raw.githubusercontent.com/msyamkumar/cs220-projects/master/spring20/p10/capitals.json\")"
   ]
  },
  {
   "cell_type": "code",
   "execution_count": 10,
   "metadata": {},
   "outputs": [
    {
     "data": {
      "text/html": [
       "<div>\n",
       "<style scoped>\n",
       "    .dataframe tbody tr th:only-of-type {\n",
       "        vertical-align: middle;\n",
       "    }\n",
       "\n",
       "    .dataframe tbody tr th {\n",
       "        vertical-align: top;\n",
       "    }\n",
       "\n",
       "    .dataframe thead th {\n",
       "        text-align: right;\n",
       "    }\n",
       "</style>\n",
       "<table border=\"1\" class=\"dataframe\">\n",
       "  <thead>\n",
       "    <tr style=\"text-align: right;\">\n",
       "      <th></th>\n",
       "      <th>country</th>\n",
       "      <th>capital</th>\n",
       "      <th>latitude</th>\n",
       "      <th>longitude</th>\n",
       "    </tr>\n",
       "  </thead>\n",
       "  <tbody>\n",
       "    <tr>\n",
       "      <th>0</th>\n",
       "      <td>Afghanistan</td>\n",
       "      <td>Kabul</td>\n",
       "      <td>34.516667</td>\n",
       "      <td>69.183333</td>\n",
       "    </tr>\n",
       "    <tr>\n",
       "      <th>1</th>\n",
       "      <td>Albania</td>\n",
       "      <td>Tirana</td>\n",
       "      <td>41.316667</td>\n",
       "      <td>19.816667</td>\n",
       "    </tr>\n",
       "    <tr>\n",
       "      <th>2</th>\n",
       "      <td>Algeria</td>\n",
       "      <td>Algiers</td>\n",
       "      <td>36.750000</td>\n",
       "      <td>3.050000</td>\n",
       "    </tr>\n",
       "    <tr>\n",
       "      <th>3</th>\n",
       "      <td>Anguilla</td>\n",
       "      <td>The Valley</td>\n",
       "      <td>18.216667</td>\n",
       "      <td>-63.050000</td>\n",
       "    </tr>\n",
       "    <tr>\n",
       "      <th>4</th>\n",
       "      <td>Argentina</td>\n",
       "      <td>Buenos Aires</td>\n",
       "      <td>-34.583333</td>\n",
       "      <td>-58.666667</td>\n",
       "    </tr>\n",
       "  </tbody>\n",
       "</table>\n",
       "</div>"
      ],
      "text/plain": [
       "       country       capital   latitude  longitude\n",
       "0  Afghanistan         Kabul  34.516667  69.183333\n",
       "1      Albania        Tirana  41.316667  19.816667\n",
       "2      Algeria       Algiers  36.750000   3.050000\n",
       "3     Anguilla    The Valley  18.216667 -63.050000\n",
       "4    Argentina  Buenos Aires -34.583333 -58.666667"
      ]
     },
     "execution_count": 10,
     "metadata": {},
     "output_type": "execute_result"
    }
   ],
   "source": [
    "capitals = pd.read_json('capitals.json')\n",
    "capitals.head()"
   ]
  },
  {
   "cell_type": "code",
   "execution_count": 11,
   "metadata": {},
   "outputs": [
    {
     "data": {
      "text/plain": [
       "['Abu Dhabi',\n",
       " 'Abuja',\n",
       " 'Accra',\n",
       " 'Addis Ababa',\n",
       " 'Algiers',\n",
       " 'Amman',\n",
       " 'Amsterdam',\n",
       " 'Ankara',\n",
       " 'Antananarivo',\n",
       " 'Apia',\n",
       " 'Ashgabat',\n",
       " 'Asmara',\n",
       " 'Astana',\n",
       " 'Asuncion',\n",
       " 'Athens',\n",
       " 'Baghdad',\n",
       " 'Baku',\n",
       " 'Bamako',\n",
       " 'Bangkok',\n",
       " 'Beijing',\n",
       " 'Beirut',\n",
       " 'Belmopan',\n",
       " 'Berlin',\n",
       " 'Bern',\n",
       " 'Bishkek',\n",
       " 'Bissau',\n",
       " 'Bogota',\n",
       " 'Brasilia',\n",
       " 'Bridgetown',\n",
       " 'Brussels',\n",
       " 'Bucharest',\n",
       " 'Budapest',\n",
       " 'Buenos Aires',\n",
       " 'Bujumbura',\n",
       " 'Cairo',\n",
       " 'Canberra',\n",
       " 'Caracas',\n",
       " 'Castries',\n",
       " 'Chisinau',\n",
       " 'Colombo',\n",
       " 'Conakry',\n",
       " 'Copenhagen',\n",
       " 'Dakar',\n",
       " 'Damascus',\n",
       " 'Dar es Salaam',\n",
       " 'Dhaka',\n",
       " 'Djibouti',\n",
       " 'Doha',\n",
       " 'Dublin',\n",
       " 'Dushanbe',\n",
       " 'Freetown',\n",
       " 'Gaborone',\n",
       " 'George Town',\n",
       " 'Georgetown',\n",
       " 'Guatemala City',\n",
       " 'Hagatna',\n",
       " 'Hamilton',\n",
       " 'Hanoi',\n",
       " 'Harare',\n",
       " 'Havana',\n",
       " 'Helsinki',\n",
       " 'Islamabad',\n",
       " 'Jakarta',\n",
       " 'Jamestown',\n",
       " 'Jerusalem',\n",
       " 'Kabul',\n",
       " 'Kampala',\n",
       " 'Kathmandu',\n",
       " 'Khartoum',\n",
       " 'Kigali',\n",
       " 'Kingston',\n",
       " 'Kingstown',\n",
       " 'Kuala Lumpur',\n",
       " 'Kuwait City',\n",
       " 'Kyiv',\n",
       " 'La Paz',\n",
       " 'Libreville',\n",
       " 'Lilongwe',\n",
       " 'Lima',\n",
       " 'Lisbon',\n",
       " 'Ljubljana',\n",
       " 'Lome',\n",
       " 'London',\n",
       " 'Lusaka',\n",
       " 'Luxembourg',\n",
       " 'Madrid',\n",
       " 'Majuro',\n",
       " 'Malabo',\n",
       " 'Male',\n",
       " 'Managua',\n",
       " 'Manama',\n",
       " 'Manila',\n",
       " 'Maputo',\n",
       " 'Maseru',\n",
       " 'Mbabane',\n",
       " 'Melekeok',\n",
       " 'Mexico City',\n",
       " 'Minsk',\n",
       " 'Mogadishu',\n",
       " 'Monaco',\n",
       " 'Monrovia',\n",
       " 'Montevideo',\n",
       " 'Moroni',\n",
       " 'Moscow',\n",
       " 'Muscat',\n",
       " 'Nairobi',\n",
       " 'New Delhi',\n",
       " 'Niamey',\n",
       " 'Nouakchott',\n",
       " 'Noumea',\n",
       " 'Nuku’alofa',\n",
       " 'N’Djamena',\n",
       " 'Oranjestad',\n",
       " 'Oslo',\n",
       " 'Ottawa',\n",
       " 'Ouagadougou',\n",
       " 'Panama City',\n",
       " 'Papeete',\n",
       " 'Paramaribo',\n",
       " 'Paris',\n",
       " 'Phnom Penh',\n",
       " 'Port Louis',\n",
       " 'Port Moresby',\n",
       " 'Port-Vila',\n",
       " 'Port-au-Prince',\n",
       " 'Porto-Novo',\n",
       " 'Prague',\n",
       " 'Praia',\n",
       " 'Pretoria',\n",
       " 'Quito',\n",
       " 'Rabat',\n",
       " 'Reykjavik',\n",
       " 'Riga',\n",
       " 'Riyadh',\n",
       " 'Rome',\n",
       " 'Roseau',\n",
       " 'Saint George’s',\n",
       " 'San Jose',\n",
       " 'San Juan',\n",
       " 'San Marino',\n",
       " 'San Salvador',\n",
       " 'Sanaa',\n",
       " 'Santiago',\n",
       " 'Santo Domingo',\n",
       " 'Singapore',\n",
       " 'Sofia',\n",
       " 'Stockholm',\n",
       " 'Suva',\n",
       " 'Taipei',\n",
       " 'Tallinn',\n",
       " 'Tashkent',\n",
       " 'Tbilisi',\n",
       " 'Tegucigalpa',\n",
       " 'Tehran',\n",
       " 'The Valley',\n",
       " 'Thimphu',\n",
       " 'Tirana',\n",
       " 'Tokyo',\n",
       " 'Tripoli',\n",
       " 'Tunis',\n",
       " 'Ulaanbaatar',\n",
       " 'Vaduz',\n",
       " 'Valletta',\n",
       " 'Victoria',\n",
       " 'Vienna',\n",
       " 'Vientiane',\n",
       " 'Vilnius',\n",
       " 'Warsaw',\n",
       " 'Washington, D.C.',\n",
       " 'Wellington',\n",
       " 'Windhoek',\n",
       " 'Yaounde',\n",
       " 'Yerevan',\n",
       " 'Zagreb']"
      ]
     },
     "execution_count": 11,
     "metadata": {},
     "output_type": "execute_result"
    }
   ],
   "source": [
    "#Q3: What are the capital names in capitals.json?\n",
    "capital_series = capitals[\"capital\"]\n",
    "sorted(list(capital_series))"
   ]
  },
  {
   "cell_type": "code",
   "execution_count": 12,
   "metadata": {},
   "outputs": [
    {
     "data": {
      "text/plain": [
       "'Rome'"
      ]
     },
     "execution_count": 12,
     "metadata": {},
     "output_type": "execute_result"
    }
   ],
   "source": [
    "#Q4: What is the capital of Italy?\n",
    "def get_capital_from_country(country):\n",
    "    target_country = capitals[capitals[\"country\"] == country]\n",
    "    return target_country[\"capital\"].iloc[0]\n",
    "get_capital_from_country(\"Italy\")"
   ]
  },
  {
   "cell_type": "code",
   "execution_count": 13,
   "metadata": {},
   "outputs": [
    {
     "data": {
      "text/plain": [
       "'Belgium'"
      ]
     },
     "execution_count": 13,
     "metadata": {},
     "output_type": "execute_result"
    }
   ],
   "source": [
    "#Q5: Which country's capital is Brussels?\n",
    "def get_country_from_capital(capital):\n",
    "    target_capital = capitals[capitals[\"capital\"] == capital]\n",
    "    return target_capital[\"country\"].iloc[0]\n",
    "get_country_from_capital(\"Brussels\")"
   ]
  },
  {
   "cell_type": "code",
   "execution_count": 14,
   "metadata": {},
   "outputs": [
    {
     "data": {
      "text/plain": [
       "['New Zealand',\n",
       " 'Australia',\n",
       " 'Uruguay',\n",
       " 'Argentina',\n",
       " 'Chile',\n",
       " 'Lesotho',\n",
       " 'Swaziland']"
      ]
     },
     "execution_count": 14,
     "metadata": {},
     "output_type": "execute_result"
    }
   ],
   "source": [
    "#Q6: Which 7 countries have the southern-most capitals?\n",
    "south_7 = capitals.sort_values(by = 'latitude')\n",
    "south_7.head(7).country.values.tolist()"
   ]
  },
  {
   "cell_type": "code",
   "execution_count": 15,
   "metadata": {},
   "outputs": [
    {
     "data": {
      "text/plain": [
       "['Iceland',\n",
       " 'Finland',\n",
       " 'Norway',\n",
       " 'Estonia',\n",
       " 'Sweden',\n",
       " 'Latvia',\n",
       " 'Russia',\n",
       " 'Denmark',\n",
       " 'Lithuania',\n",
       " 'Belarus']"
      ]
     },
     "execution_count": 15,
     "metadata": {},
     "output_type": "execute_result"
    }
   ],
   "source": [
    "#Q7: Which 10 countries have the capitals closest to the North Pole?\n",
    "north_10 = capitals.sort_values(by='latitude', ascending=False)\n",
    "north_10.head(10).country.values.tolist()"
   ]
  },
  {
   "cell_type": "code",
   "execution_count": 16,
   "metadata": {},
   "outputs": [
    {
     "data": {
      "text/plain": [
       "1.4349003699749172"
      ]
     },
     "execution_count": 16,
     "metadata": {},
     "output_type": "execute_result"
    }
   ],
   "source": [
    "#Q8: What is the distance between Camp Randall Stadium and the Wisconsin State Capital?\n",
    "from haversine import haversine, Unit\n",
    "# copied from https://pypi.org/project/haversine/\n",
    "randall = (43.070231,-89.411893) # (lat, lon)\n",
    "capital = ( 43.074645,-89.384113)\n",
    "\n",
    "haversine(randall, capital, unit = 'mi')"
   ]
  },
  {
   "cell_type": "code",
   "execution_count": 17,
   "metadata": {},
   "outputs": [
    {
     "data": {
      "text/plain": [
       "521.2217471002616"
      ]
     },
     "execution_count": 17,
     "metadata": {},
     "output_type": "execute_result"
    }
   ],
   "source": [
    "#Q9: What is the distance between Germany and Norway?\n",
    "def get_distance_2_countries(country1, country2):\n",
    "    country1_capital = capitals[capitals[\"country\"] == country1].iloc[0][\"capital\"]\n",
    "    country2_capital = capitals[capitals[\"country\"] == country2].iloc[0][\"capital\"]\n",
    "    country1 = (capitals[capitals[\"capital\"] == country1_capital].iloc[0][\"latitude\"], \n",
    "                capitals[capitals[\"capital\"] == country1_capital].iloc[0][\"longitude\"])\n",
    "    country2 = (capitals[capitals[\"capital\"] == country2_capital].iloc[0][\"latitude\"], \n",
    "                capitals[capitals[\"capital\"] == country2_capital].iloc[0][\"longitude\"])\n",
    "    return haversine(country1, country2, unit = 'mi')\n",
    "get_distance_2_countries(\"Germany\", \"Norway\")"
   ]
  },
  {
   "cell_type": "code",
   "execution_count": 18,
   "metadata": {},
   "outputs": [
    {
     "data": {
      "text/plain": [
       "2899.575619414493"
      ]
     },
     "execution_count": 18,
     "metadata": {},
     "output_type": "execute_result"
    }
   ],
   "source": [
    "get_distance_2_countries(\"Chile\", \"Guyana\")"
   ]
  },
  {
   "cell_type": "code",
   "execution_count": 19,
   "metadata": {},
   "outputs": [
    {
     "data": {
      "text/html": [
       "<div>\n",
       "<style scoped>\n",
       "    .dataframe tbody tr th:only-of-type {\n",
       "        vertical-align: middle;\n",
       "    }\n",
       "\n",
       "    .dataframe tbody tr th {\n",
       "        vertical-align: top;\n",
       "    }\n",
       "\n",
       "    .dataframe thead th {\n",
       "        text-align: right;\n",
       "    }\n",
       "</style>\n",
       "<table border=\"1\" class=\"dataframe\">\n",
       "  <thead>\n",
       "    <tr style=\"text-align: right;\">\n",
       "      <th></th>\n",
       "      <th>Switzerland</th>\n",
       "      <th>Netherlands</th>\n",
       "      <th>Spain</th>\n",
       "    </tr>\n",
       "  </thead>\n",
       "  <tbody>\n",
       "    <tr>\n",
       "      <th>Switzerland</th>\n",
       "      <td>NaN</td>\n",
       "      <td>392.302283</td>\n",
       "      <td>715.303408</td>\n",
       "    </tr>\n",
       "    <tr>\n",
       "      <th>Netherlands</th>\n",
       "      <td>392.302283</td>\n",
       "      <td>NaN</td>\n",
       "      <td>920.326050</td>\n",
       "    </tr>\n",
       "    <tr>\n",
       "      <th>Spain</th>\n",
       "      <td>715.303408</td>\n",
       "      <td>920.326050</td>\n",
       "      <td>NaN</td>\n",
       "    </tr>\n",
       "  </tbody>\n",
       "</table>\n",
       "</div>"
      ],
      "text/plain": [
       "             Switzerland  Netherlands       Spain\n",
       "Switzerland          NaN   392.302283  715.303408\n",
       "Netherlands   392.302283          NaN  920.326050\n",
       "Spain         715.303408   920.326050         NaN"
      ]
     },
     "execution_count": 19,
     "metadata": {},
     "output_type": "execute_result"
    }
   ],
   "source": [
    "#Q10: What are the distances between Switzerland, Netherlands and Spain?\n",
    "def get_distance_3_countries(country1, country2, country3):\n",
    "    one_to_two = get_distance_2_countries(country1, country2)\n",
    "    two_to_three = get_distance_2_countries(country2, country3)\n",
    "    three_to_one = get_distance_2_countries(country3, country1)\n",
    "    # You can use the function get_distance_2_countries above and store the data\n",
    "    # in variables.\n",
    "\n",
    "    distance_data = [\n",
    "     (None, one_to_two, three_to_one),\n",
    "     (one_to_two, None, two_to_three),\n",
    "     (three_to_one, two_to_three, None)]\n",
    "    # distance between the same country is definitely None\n",
    "\n",
    "    total_data = pd.DataFrame(distance_data, columns=[country1, country2, country3], \n",
    "                 index=[country1, country2, country3])\n",
    "    # As distance_data is list, you have to DataFramize it and design columns and indexes.\n",
    "    return total_data\n",
    "\n",
    "get_distance_3_countries(\"Switzerland\", \"Netherlands\", \"Spain\")"
   ]
  },
  {
   "cell_type": "code",
   "execution_count": 20,
   "metadata": {},
   "outputs": [],
   "source": [
    "south_america_countries = countries[countries[\"continent\"] == 'South America'][\"country\"]"
   ]
  },
  {
   "cell_type": "code",
   "execution_count": 21,
   "metadata": {},
   "outputs": [
    {
     "data": {
      "text/html": [
       "<div>\n",
       "<style scoped>\n",
       "    .dataframe tbody tr th:only-of-type {\n",
       "        vertical-align: middle;\n",
       "    }\n",
       "\n",
       "    .dataframe tbody tr th {\n",
       "        vertical-align: top;\n",
       "    }\n",
       "\n",
       "    .dataframe thead th {\n",
       "        text-align: right;\n",
       "    }\n",
       "</style>\n",
       "<table border=\"1\" class=\"dataframe\">\n",
       "  <thead>\n",
       "    <tr style=\"text-align: right;\">\n",
       "      <th></th>\n",
       "      <th>Chile</th>\n",
       "      <th>Guyana</th>\n",
       "      <th>Colombia</th>\n",
       "      <th>Suriname</th>\n",
       "      <th>Brazil</th>\n",
       "      <th>Bolivia</th>\n",
       "      <th>Venezuela</th>\n",
       "      <th>Argentina</th>\n",
       "      <th>Peru</th>\n",
       "      <th>Ecuador</th>\n",
       "      <th>Uruguay</th>\n",
       "      <th>Paraguay</th>\n",
       "    </tr>\n",
       "  </thead>\n",
       "  <tbody>\n",
       "    <tr>\n",
       "      <th>Chile</th>\n",
       "      <td>NaN</td>\n",
       "      <td>2899.575619</td>\n",
       "      <td>2638.485007</td>\n",
       "      <td>2897.832084</td>\n",
       "      <td>1871.042128</td>\n",
       "      <td>1181.566074</td>\n",
       "      <td>3045.782196</td>\n",
       "      <td>691.266343</td>\n",
       "      <td>1532.549180</td>\n",
       "      <td>2351.848259</td>\n",
       "      <td>833.984987</td>\n",
       "      <td>964.308163</td>\n",
       "    </tr>\n",
       "    <tr>\n",
       "      <th>Guyana</th>\n",
       "      <td>2899.575619</td>\n",
       "      <td>NaN</td>\n",
       "      <td>1105.837661</td>\n",
       "      <td>215.486643</td>\n",
       "      <td>1710.263969</td>\n",
       "      <td>1748.992635</td>\n",
       "      <td>647.421435</td>\n",
       "      <td>2859.515043</td>\n",
       "      <td>1839.142996</td>\n",
       "      <td>1484.229038</td>\n",
       "      <td>2880.647617</td>\n",
       "      <td>2215.833884</td>\n",
       "    </tr>\n",
       "    <tr>\n",
       "      <th>Colombia</th>\n",
       "      <td>2638.485007</td>\n",
       "      <td>1105.837661</td>\n",
       "      <td>NaN</td>\n",
       "      <td>1304.314926</td>\n",
       "      <td>2277.104622</td>\n",
       "      <td>1513.174731</td>\n",
       "      <td>639.807399</td>\n",
       "      <td>2887.369620</td>\n",
       "      <td>1168.320290</td>\n",
       "      <td>451.318925</td>\n",
       "      <td>2964.298613</td>\n",
       "      <td>2339.247649</td>\n",
       "    </tr>\n",
       "    <tr>\n",
       "      <th>Suriname</th>\n",
       "      <td>2897.832084</td>\n",
       "      <td>215.486643</td>\n",
       "      <td>1304.314926</td>\n",
       "      <td>NaN</td>\n",
       "      <td>1573.771977</td>\n",
       "      <td>1780.014578</td>\n",
       "      <td>862.058093</td>\n",
       "      <td>2801.840781</td>\n",
       "      <td>1946.107474</td>\n",
       "      <td>1662.858906</td>\n",
       "      <td>2811.705645</td>\n",
       "      <td>2155.358862</td>\n",
       "    </tr>\n",
       "    <tr>\n",
       "      <th>Brazil</th>\n",
       "      <td>1871.042128</td>\n",
       "      <td>1710.263969</td>\n",
       "      <td>2277.104622</td>\n",
       "      <td>1573.771977</td>\n",
       "      <td>NaN</td>\n",
       "      <td>1343.234012</td>\n",
       "      <td>2230.246330</td>\n",
       "      <td>1460.158229</td>\n",
       "      <td>1969.144041</td>\n",
       "      <td>2346.221468</td>\n",
       "      <td>1413.081994</td>\n",
       "      <td>908.819633</td>\n",
       "    </tr>\n",
       "    <tr>\n",
       "      <th>Bolivia</th>\n",
       "      <td>1181.566074</td>\n",
       "      <td>1748.992635</td>\n",
       "      <td>1513.174731</td>\n",
       "      <td>1780.014578</td>\n",
       "      <td>1343.234012</td>\n",
       "      <td>NaN</td>\n",
       "      <td>1866.433063</td>\n",
       "      <td>1380.418577</td>\n",
       "      <td>670.393988</td>\n",
       "      <td>1327.684748</td>\n",
       "      <td>1468.277797</td>\n",
       "      <td>907.432212</td>\n",
       "    </tr>\n",
       "    <tr>\n",
       "      <th>Venezuela</th>\n",
       "      <td>3045.782196</td>\n",
       "      <td>647.421435</td>\n",
       "      <td>639.807399</td>\n",
       "      <td>862.058093</td>\n",
       "      <td>2230.246330</td>\n",
       "      <td>1866.433063</td>\n",
       "      <td>NaN</td>\n",
       "      <td>3159.828108</td>\n",
       "      <td>1706.608404</td>\n",
       "      <td>1088.823598</td>\n",
       "      <td>3209.590944</td>\n",
       "      <td>2546.575870</td>\n",
       "    </tr>\n",
       "    <tr>\n",
       "      <th>Argentina</th>\n",
       "      <td>691.266343</td>\n",
       "      <td>2859.515043</td>\n",
       "      <td>2887.369620</td>\n",
       "      <td>2801.840781</td>\n",
       "      <td>1460.158229</td>\n",
       "      <td>1380.418577</td>\n",
       "      <td>3159.828108</td>\n",
       "      <td>NaN</td>\n",
       "      <td>1937.817464</td>\n",
       "      <td>2698.031533</td>\n",
       "      <td>143.169807</td>\n",
       "      <td>646.487382</td>\n",
       "    </tr>\n",
       "    <tr>\n",
       "      <th>Peru</th>\n",
       "      <td>1532.549180</td>\n",
       "      <td>1839.142996</td>\n",
       "      <td>1168.320290</td>\n",
       "      <td>1946.107474</td>\n",
       "      <td>1969.144041</td>\n",
       "      <td>670.393988</td>\n",
       "      <td>1706.608404</td>\n",
       "      <td>1937.817464</td>\n",
       "      <td>NaN</td>\n",
       "      <td>823.628992</td>\n",
       "      <td>2048.000119</td>\n",
       "      <td>1559.723181</td>\n",
       "    </tr>\n",
       "    <tr>\n",
       "      <th>Ecuador</th>\n",
       "      <td>2351.848259</td>\n",
       "      <td>1484.229038</td>\n",
       "      <td>451.318925</td>\n",
       "      <td>1662.858906</td>\n",
       "      <td>2346.221468</td>\n",
       "      <td>1327.684748</td>\n",
       "      <td>1088.823598</td>\n",
       "      <td>2698.031533</td>\n",
       "      <td>823.628992</td>\n",
       "      <td>NaN</td>\n",
       "      <td>2793.145008</td>\n",
       "      <td>2220.199607</td>\n",
       "    </tr>\n",
       "    <tr>\n",
       "      <th>Uruguay</th>\n",
       "      <td>833.984987</td>\n",
       "      <td>2880.647617</td>\n",
       "      <td>2964.298613</td>\n",
       "      <td>2811.705645</td>\n",
       "      <td>1413.081994</td>\n",
       "      <td>1468.277797</td>\n",
       "      <td>3209.590944</td>\n",
       "      <td>143.169807</td>\n",
       "      <td>2048.000119</td>\n",
       "      <td>2793.145008</td>\n",
       "      <td>NaN</td>\n",
       "      <td>668.165447</td>\n",
       "    </tr>\n",
       "    <tr>\n",
       "      <th>Paraguay</th>\n",
       "      <td>964.308163</td>\n",
       "      <td>2215.833884</td>\n",
       "      <td>2339.247649</td>\n",
       "      <td>2155.358862</td>\n",
       "      <td>908.819633</td>\n",
       "      <td>907.432212</td>\n",
       "      <td>2546.575870</td>\n",
       "      <td>646.487382</td>\n",
       "      <td>1559.723181</td>\n",
       "      <td>2220.199607</td>\n",
       "      <td>668.165447</td>\n",
       "      <td>NaN</td>\n",
       "    </tr>\n",
       "  </tbody>\n",
       "</table>\n",
       "</div>"
      ],
      "text/plain": [
       "                 Chile       Guyana     Colombia     Suriname       Brazil  \\\n",
       "Chile              NaN  2899.575619  2638.485007  2897.832084  1871.042128   \n",
       "Guyana     2899.575619          NaN  1105.837661   215.486643  1710.263969   \n",
       "Colombia   2638.485007  1105.837661          NaN  1304.314926  2277.104622   \n",
       "Suriname   2897.832084   215.486643  1304.314926          NaN  1573.771977   \n",
       "Brazil     1871.042128  1710.263969  2277.104622  1573.771977          NaN   \n",
       "Bolivia    1181.566074  1748.992635  1513.174731  1780.014578  1343.234012   \n",
       "Venezuela  3045.782196   647.421435   639.807399   862.058093  2230.246330   \n",
       "Argentina   691.266343  2859.515043  2887.369620  2801.840781  1460.158229   \n",
       "Peru       1532.549180  1839.142996  1168.320290  1946.107474  1969.144041   \n",
       "Ecuador    2351.848259  1484.229038   451.318925  1662.858906  2346.221468   \n",
       "Uruguay     833.984987  2880.647617  2964.298613  2811.705645  1413.081994   \n",
       "Paraguay    964.308163  2215.833884  2339.247649  2155.358862   908.819633   \n",
       "\n",
       "               Bolivia    Venezuela    Argentina         Peru      Ecuador  \\\n",
       "Chile      1181.566074  3045.782196   691.266343  1532.549180  2351.848259   \n",
       "Guyana     1748.992635   647.421435  2859.515043  1839.142996  1484.229038   \n",
       "Colombia   1513.174731   639.807399  2887.369620  1168.320290   451.318925   \n",
       "Suriname   1780.014578   862.058093  2801.840781  1946.107474  1662.858906   \n",
       "Brazil     1343.234012  2230.246330  1460.158229  1969.144041  2346.221468   \n",
       "Bolivia            NaN  1866.433063  1380.418577   670.393988  1327.684748   \n",
       "Venezuela  1866.433063          NaN  3159.828108  1706.608404  1088.823598   \n",
       "Argentina  1380.418577  3159.828108          NaN  1937.817464  2698.031533   \n",
       "Peru        670.393988  1706.608404  1937.817464          NaN   823.628992   \n",
       "Ecuador    1327.684748  1088.823598  2698.031533   823.628992          NaN   \n",
       "Uruguay    1468.277797  3209.590944   143.169807  2048.000119  2793.145008   \n",
       "Paraguay    907.432212  2546.575870   646.487382  1559.723181  2220.199607   \n",
       "\n",
       "               Uruguay     Paraguay  \n",
       "Chile       833.984987   964.308163  \n",
       "Guyana     2880.647617  2215.833884  \n",
       "Colombia   2964.298613  2339.247649  \n",
       "Suriname   2811.705645  2155.358862  \n",
       "Brazil     1413.081994   908.819633  \n",
       "Bolivia    1468.277797   907.432212  \n",
       "Venezuela  3209.590944  2546.575870  \n",
       "Argentina   143.169807   646.487382  \n",
       "Peru       2048.000119  1559.723181  \n",
       "Ecuador    2793.145008  2220.199607  \n",
       "Uruguay            NaN   668.165447  \n",
       "Paraguay    668.165447          NaN  "
      ]
     },
     "execution_count": 21,
     "metadata": {},
     "output_type": "execute_result"
    }
   ],
   "source": [
    "#Q11: What is the distance between every pair of countries in the South American continent?\n",
    "def get_multiple_distances(countries_list):\n",
    "    distance_dict = {}\n",
    "    for country1 in countries_list:\n",
    "        distance_dict[country1] = {}\n",
    "        # Ought to make dict in dict \n",
    "        for country2 in countries_list:\n",
    "            if country1 != country2:\n",
    "                distance_dict[country1][country2] = get_distance_2_countries(country1, country2)\n",
    "            else: \n",
    "                distance_dict[country1][country2] = None\n",
    "    \n",
    "    total_data = DataFrame(distance_dict)\n",
    "    # When you dataframize the dict, just surround it with DataFrame.\n",
    "    \n",
    "    return total_data\n",
    "\n",
    "get_multiple_distances(south_america_countries)                 "
   ]
  },
  {
   "cell_type": "code",
   "execution_count": 22,
   "metadata": {},
   "outputs": [
    {
     "data": {
      "text/plain": [
       "'Bolivia'"
      ]
     },
     "execution_count": 22,
     "metadata": {},
     "output_type": "execute_result"
    }
   ],
   "source": [
    "#Q12: What is the most central country in the South American continent?\n",
    "mean_distances = get_multiple_distances(south_america_countries).mean()\n",
    "# https://pandas.pydata.org/pandas-docs/stable/reference/api/pandas.DataFrame.mean.html\n",
    "\n",
    "sorted_distances = pd.Series.sort_values(mean_distances)\n",
    "#https://pandas.pydata.org/pandas-docs/stable/reference/api/pandas.Series.sort_values.html\n",
    "\n",
    "sorted_distances.index[0]"
   ]
  },
  {
   "cell_type": "code",
   "execution_count": 23,
   "metadata": {},
   "outputs": [
    {
     "data": {
      "text/plain": [
       "'Uruguay'"
      ]
     },
     "execution_count": 23,
     "metadata": {},
     "output_type": "execute_result"
    }
   ],
   "source": [
    "#Q13: What is the least central country in South America?\n",
    "sorted_distances.index[-1]"
   ]
  },
  {
   "cell_type": "code",
   "execution_count": 24,
   "metadata": {},
   "outputs": [],
   "source": [
    "min_countries = get_multiple_distances(south_america_countries).min()\n",
    "min_data = get_multiple_distances(south_america_countries).idxmin()"
   ]
  },
  {
   "cell_type": "code",
   "execution_count": 25,
   "metadata": {},
   "outputs": [
    {
     "data": {
      "text/html": [
       "<div>\n",
       "<style scoped>\n",
       "    .dataframe tbody tr th:only-of-type {\n",
       "        vertical-align: middle;\n",
       "    }\n",
       "\n",
       "    .dataframe tbody tr th {\n",
       "        vertical-align: top;\n",
       "    }\n",
       "\n",
       "    .dataframe thead th {\n",
       "        text-align: right;\n",
       "    }\n",
       "</style>\n",
       "<table border=\"1\" class=\"dataframe\">\n",
       "  <thead>\n",
       "    <tr style=\"text-align: right;\">\n",
       "      <th></th>\n",
       "      <th>nearest</th>\n",
       "      <th>distance</th>\n",
       "    </tr>\n",
       "    <tr>\n",
       "      <th>country</th>\n",
       "      <th></th>\n",
       "      <th></th>\n",
       "    </tr>\n",
       "  </thead>\n",
       "  <tbody>\n",
       "    <tr>\n",
       "      <th>Chile</th>\n",
       "      <td>Argentina</td>\n",
       "      <td>691.266</td>\n",
       "    </tr>\n",
       "    <tr>\n",
       "      <th>Guyana</th>\n",
       "      <td>Suriname</td>\n",
       "      <td>215.487</td>\n",
       "    </tr>\n",
       "    <tr>\n",
       "      <th>Colombia</th>\n",
       "      <td>Ecuador</td>\n",
       "      <td>451.319</td>\n",
       "    </tr>\n",
       "    <tr>\n",
       "      <th>Suriname</th>\n",
       "      <td>Guyana</td>\n",
       "      <td>215.487</td>\n",
       "    </tr>\n",
       "    <tr>\n",
       "      <th>Brazil</th>\n",
       "      <td>Paraguay</td>\n",
       "      <td>908.82</td>\n",
       "    </tr>\n",
       "    <tr>\n",
       "      <th>Bolivia</th>\n",
       "      <td>Peru</td>\n",
       "      <td>670.394</td>\n",
       "    </tr>\n",
       "    <tr>\n",
       "      <th>Venezuela</th>\n",
       "      <td>Colombia</td>\n",
       "      <td>639.807</td>\n",
       "    </tr>\n",
       "    <tr>\n",
       "      <th>Argentina</th>\n",
       "      <td>Uruguay</td>\n",
       "      <td>143.17</td>\n",
       "    </tr>\n",
       "    <tr>\n",
       "      <th>Peru</th>\n",
       "      <td>Bolivia</td>\n",
       "      <td>670.394</td>\n",
       "    </tr>\n",
       "    <tr>\n",
       "      <th>Ecuador</th>\n",
       "      <td>Colombia</td>\n",
       "      <td>451.319</td>\n",
       "    </tr>\n",
       "    <tr>\n",
       "      <th>Uruguay</th>\n",
       "      <td>Argentina</td>\n",
       "      <td>143.17</td>\n",
       "    </tr>\n",
       "    <tr>\n",
       "      <th>Paraguay</th>\n",
       "      <td>Argentina</td>\n",
       "      <td>646.487</td>\n",
       "    </tr>\n",
       "  </tbody>\n",
       "</table>\n",
       "</div>"
      ],
      "text/plain": [
       "             nearest distance\n",
       "country                      \n",
       "Chile      Argentina  691.266\n",
       "Guyana      Suriname  215.487\n",
       "Colombia     Ecuador  451.319\n",
       "Suriname      Guyana  215.487\n",
       "Brazil      Paraguay   908.82\n",
       "Bolivia         Peru  670.394\n",
       "Venezuela   Colombia  639.807\n",
       "Argentina    Uruguay   143.17\n",
       "Peru         Bolivia  670.394\n",
       "Ecuador     Colombia  451.319\n",
       "Uruguay    Argentina   143.17\n",
       "Paraguay   Argentina  646.487"
      ]
     },
     "execution_count": 25,
     "metadata": {},
     "output_type": "execute_result"
    }
   ],
   "source": [
    "#Q14: How close is each country in South America to it's nearest neighbor?\n",
    "DataFrame([min_data. values, min_countries.values], index = [\"nearest\", \"distance\"], columns = south_america_countries).T\n",
    "#https://stackoverflow.com/questions/17076705/invert-index-and-columns-in-a-pandas-dataframe"
   ]
  },
  {
   "cell_type": "code",
   "execution_count": 26,
   "metadata": {},
   "outputs": [
    {
     "data": {
      "text/html": [
       "<div>\n",
       "<style scoped>\n",
       "    .dataframe tbody tr th:only-of-type {\n",
       "        vertical-align: middle;\n",
       "    }\n",
       "\n",
       "    .dataframe tbody tr th {\n",
       "        vertical-align: top;\n",
       "    }\n",
       "\n",
       "    .dataframe thead th {\n",
       "        text-align: right;\n",
       "    }\n",
       "</style>\n",
       "<table border=\"1\" class=\"dataframe\">\n",
       "  <thead>\n",
       "    <tr style=\"text-align: right;\">\n",
       "      <th></th>\n",
       "      <th>furthest</th>\n",
       "      <th>distance</th>\n",
       "    </tr>\n",
       "    <tr>\n",
       "      <th>country</th>\n",
       "      <th></th>\n",
       "      <th></th>\n",
       "    </tr>\n",
       "  </thead>\n",
       "  <tbody>\n",
       "    <tr>\n",
       "      <th>Chile</th>\n",
       "      <td>Venezuela</td>\n",
       "      <td>3045.78</td>\n",
       "    </tr>\n",
       "    <tr>\n",
       "      <th>Guyana</th>\n",
       "      <td>Chile</td>\n",
       "      <td>2899.58</td>\n",
       "    </tr>\n",
       "    <tr>\n",
       "      <th>Colombia</th>\n",
       "      <td>Uruguay</td>\n",
       "      <td>2964.3</td>\n",
       "    </tr>\n",
       "    <tr>\n",
       "      <th>Suriname</th>\n",
       "      <td>Chile</td>\n",
       "      <td>2897.83</td>\n",
       "    </tr>\n",
       "    <tr>\n",
       "      <th>Brazil</th>\n",
       "      <td>Ecuador</td>\n",
       "      <td>2346.22</td>\n",
       "    </tr>\n",
       "    <tr>\n",
       "      <th>Bolivia</th>\n",
       "      <td>Venezuela</td>\n",
       "      <td>1866.43</td>\n",
       "    </tr>\n",
       "    <tr>\n",
       "      <th>Venezuela</th>\n",
       "      <td>Uruguay</td>\n",
       "      <td>3209.59</td>\n",
       "    </tr>\n",
       "    <tr>\n",
       "      <th>Argentina</th>\n",
       "      <td>Venezuela</td>\n",
       "      <td>3159.83</td>\n",
       "    </tr>\n",
       "    <tr>\n",
       "      <th>Peru</th>\n",
       "      <td>Uruguay</td>\n",
       "      <td>2048</td>\n",
       "    </tr>\n",
       "    <tr>\n",
       "      <th>Ecuador</th>\n",
       "      <td>Uruguay</td>\n",
       "      <td>2793.15</td>\n",
       "    </tr>\n",
       "    <tr>\n",
       "      <th>Uruguay</th>\n",
       "      <td>Venezuela</td>\n",
       "      <td>3209.59</td>\n",
       "    </tr>\n",
       "    <tr>\n",
       "      <th>Paraguay</th>\n",
       "      <td>Venezuela</td>\n",
       "      <td>2546.58</td>\n",
       "    </tr>\n",
       "  </tbody>\n",
       "</table>\n",
       "</div>"
      ],
      "text/plain": [
       "            furthest distance\n",
       "country                      \n",
       "Chile      Venezuela  3045.78\n",
       "Guyana         Chile  2899.58\n",
       "Colombia     Uruguay   2964.3\n",
       "Suriname       Chile  2897.83\n",
       "Brazil       Ecuador  2346.22\n",
       "Bolivia    Venezuela  1866.43\n",
       "Venezuela    Uruguay  3209.59\n",
       "Argentina  Venezuela  3159.83\n",
       "Peru         Uruguay     2048\n",
       "Ecuador      Uruguay  2793.15\n",
       "Uruguay    Venezuela  3209.59\n",
       "Paraguay   Venezuela  2546.58"
      ]
     },
     "execution_count": 26,
     "metadata": {},
     "output_type": "execute_result"
    }
   ],
   "source": [
    "#Q15: How far is each country in South America to it's furthest neighbor?\n",
    "max_countries = get_multiple_distances(south_america_countries).idxmax()\n",
    "max_data = get_multiple_distances(south_america_countries).max()\n",
    "DataFrame([max_countries.values, max_data.values], index = [\"furthest\", \"distance\"], columns = south_america_countries).T"
   ]
  },
  {
   "cell_type": "code",
   "execution_count": 27,
   "metadata": {},
   "outputs": [],
   "source": [
    "import sqlite3\n",
    "conn = sqlite3.connect('countries.db')\n",
    "countries.to_sql(\"countries\", conn, if_exists=\"replace\", index=False)\n",
    "capitals.to_sql(\"capitals\", conn, if_exists=\"replace\", index=False)\n",
    "\n",
    "# remember to do conn.close() at the end of your notebook"
   ]
  },
  {
   "cell_type": "code",
   "execution_count": 28,
   "metadata": {},
   "outputs": [],
   "source": [
    "def qry(sql):\n",
    "    return pd.read_sql(sql, conn)"
   ]
  },
  {
   "cell_type": "code",
   "execution_count": 29,
   "metadata": {},
   "outputs": [
    {
     "data": {
      "text/html": [
       "<div>\n",
       "<style scoped>\n",
       "    .dataframe tbody tr th:only-of-type {\n",
       "        vertical-align: middle;\n",
       "    }\n",
       "\n",
       "    .dataframe tbody tr th {\n",
       "        vertical-align: top;\n",
       "    }\n",
       "\n",
       "    .dataframe thead th {\n",
       "        text-align: right;\n",
       "    }\n",
       "</style>\n",
       "<table border=\"1\" class=\"dataframe\">\n",
       "  <thead>\n",
       "    <tr style=\"text-align: right;\">\n",
       "      <th></th>\n",
       "      <th>continent</th>\n",
       "      <th>number of countries</th>\n",
       "    </tr>\n",
       "  </thead>\n",
       "  <tbody>\n",
       "    <tr>\n",
       "      <th>0</th>\n",
       "      <td>Australia</td>\n",
       "      <td>12</td>\n",
       "    </tr>\n",
       "    <tr>\n",
       "      <th>1</th>\n",
       "      <td>South America</td>\n",
       "      <td>12</td>\n",
       "    </tr>\n",
       "    <tr>\n",
       "      <th>2</th>\n",
       "      <td>North America</td>\n",
       "      <td>24</td>\n",
       "    </tr>\n",
       "    <tr>\n",
       "      <th>3</th>\n",
       "      <td>Asia</td>\n",
       "      <td>38</td>\n",
       "    </tr>\n",
       "    <tr>\n",
       "      <th>4</th>\n",
       "      <td>Europe</td>\n",
       "      <td>41</td>\n",
       "    </tr>\n",
       "    <tr>\n",
       "      <th>5</th>\n",
       "      <td>Africa</td>\n",
       "      <td>47</td>\n",
       "    </tr>\n",
       "  </tbody>\n",
       "</table>\n",
       "</div>"
      ],
      "text/plain": [
       "       continent  number of countries\n",
       "0      Australia                   12\n",
       "1  South America                   12\n",
       "2  North America                   24\n",
       "3           Asia                   38\n",
       "4         Europe                   41\n",
       "5         Africa                   47"
      ]
     },
     "execution_count": 29,
     "metadata": {},
     "output_type": "execute_result"
    }
   ],
   "source": [
    "#Q16: In our dataset, how many countries are in each continent?\n",
    "num_countries_by_continents = qry(\"\"\"\n",
    "SELECT continent, count(*) AS \"number of countries\"\n",
    "FROM countries\n",
    "GROUP BY \"continent\" \n",
    "ORDER BY \"number of countries\" ASC\n",
    "\"\"\")\n",
    "num_countries_by_continents"
   ]
  },
  {
   "cell_type": "code",
   "execution_count": 30,
   "metadata": {},
   "outputs": [],
   "source": [
    "%matplotlib inline"
   ]
  },
  {
   "cell_type": "code",
   "execution_count": 31,
   "metadata": {},
   "outputs": [
    {
     "data": {
      "text/plain": [
       "Text(0.5, 0, 'continent')"
      ]
     },
     "execution_count": 31,
     "metadata": {},
     "output_type": "execute_result"
    },
    {
     "data": {
      "image/png": "[encoded data removed]",
      "text/plain": [
       "<Figure size 432x288 with 1 Axes>"
      ]
     },
     "metadata": {
      "needs_background": "light"
     },
     "output_type": "display_data"
    }
   ],
   "source": [
    "#Q17: How many countries are in each continent? (answer with a plot)\n",
    "num_countries_by_continents = num_countries_by_continents.set_index(\"continent\")\n",
    "countries_bar_ax = num_countries_by_continents.plot.bar(color = \"0\")\n",
    "countries_bar_ax.set_ylabel(\"number of countries\")\n",
    "countries_bar_ax.set_xlabel(\"continent\")"
   ]
  },
  {
   "cell_type": "code",
   "execution_count": 32,
   "metadata": {},
   "outputs": [
    {
     "data": {
      "text/html": [
       "<div>\n",
       "<style scoped>\n",
       "    .dataframe tbody tr th:only-of-type {\n",
       "        vertical-align: middle;\n",
       "    }\n",
       "\n",
       "    .dataframe tbody tr th {\n",
       "        vertical-align: top;\n",
       "    }\n",
       "\n",
       "    .dataframe thead th {\n",
       "        text-align: right;\n",
       "    }\n",
       "</style>\n",
       "<table border=\"1\" class=\"dataframe\">\n",
       "  <thead>\n",
       "    <tr style=\"text-align: right;\">\n",
       "      <th></th>\n",
       "      <th>continent</th>\n",
       "      <th>total area</th>\n",
       "    </tr>\n",
       "  </thead>\n",
       "  <tbody>\n",
       "    <tr>\n",
       "      <th>0</th>\n",
       "      <td>Asia</td>\n",
       "      <td>29731231</td>\n",
       "    </tr>\n",
       "    <tr>\n",
       "      <th>1</th>\n",
       "      <td>Africa</td>\n",
       "      <td>25199550</td>\n",
       "    </tr>\n",
       "    <tr>\n",
       "      <th>2</th>\n",
       "      <td>Europe</td>\n",
       "      <td>23708430</td>\n",
       "    </tr>\n",
       "    <tr>\n",
       "      <th>3</th>\n",
       "      <td>North America</td>\n",
       "      <td>22327685</td>\n",
       "    </tr>\n",
       "    <tr>\n",
       "      <th>4</th>\n",
       "      <td>South America</td>\n",
       "      <td>17715335</td>\n",
       "    </tr>\n",
       "    <tr>\n",
       "      <th>5</th>\n",
       "      <td>Australia</td>\n",
       "      <td>8488612</td>\n",
       "    </tr>\n",
       "  </tbody>\n",
       "</table>\n",
       "</div>"
      ],
      "text/plain": [
       "       continent  total area\n",
       "0           Asia    29731231\n",
       "1         Africa    25199550\n",
       "2         Europe    23708430\n",
       "3  North America    22327685\n",
       "4  South America    17715335\n",
       "5      Australia     8488612"
      ]
     },
     "execution_count": 32,
     "metadata": {},
     "output_type": "execute_result"
    }
   ],
   "source": [
    "#Q18: What is the total area of each continent?\n",
    "continent_area = qry(\"\"\"\n",
    "SELECT continent, SUM(area) AS \"total area\"\n",
    "FROM countries\n",
    "GROUP BY continent\n",
    "ORDER BY \"total area\" DESC\n",
    "\"\"\")\n",
    "continent_area"
   ]
  },
  {
   "cell_type": "code",
   "execution_count": 33,
   "metadata": {},
   "outputs": [
    {
     "data": {
      "text/plain": [
       "Text(0.5, 0, 'continent')"
      ]
     },
     "execution_count": 33,
     "metadata": {},
     "output_type": "execute_result"
    },
    {
     "data": {
      "image/png": "[encoded data removed]",
      "text/plain": [
       "<Figure size 432x288 with 1 Axes>"
      ]
     },
     "metadata": {
      "needs_background": "light"
     },
     "output_type": "display_data"
    }
   ],
   "source": [
    "#Q19: What is the total area of each continent? (answer with a plot)\n",
    "continent_area = continent_area.set_index(\"continent\")\n",
    "countries_bar_ax = continent_area.plot.bar(color = \"0\")\n",
    "countries_bar_ax.set_ylabel(\"total area\")\n",
    "countries_bar_ax.set_xlabel(\"continent\")"
   ]
  },
  {
   "cell_type": "code",
   "execution_count": 34,
   "metadata": {},
   "outputs": [
    {
     "data": {
      "text/html": [
       "<div>\n",
       "<style scoped>\n",
       "    .dataframe tbody tr th:only-of-type {\n",
       "        vertical-align: middle;\n",
       "    }\n",
       "\n",
       "    .dataframe tbody tr th {\n",
       "        vertical-align: top;\n",
       "    }\n",
       "\n",
       "    .dataframe thead th {\n",
       "        text-align: right;\n",
       "    }\n",
       "</style>\n",
       "<table border=\"1\" class=\"dataframe\">\n",
       "  <thead>\n",
       "    <tr style=\"text-align: right;\">\n",
       "      <th></th>\n",
       "      <th>country</th>\n",
       "      <th>area</th>\n",
       "    </tr>\n",
       "  </thead>\n",
       "  <tbody>\n",
       "    <tr>\n",
       "      <th>0</th>\n",
       "      <td>Brazil</td>\n",
       "      <td>8511965</td>\n",
       "    </tr>\n",
       "    <tr>\n",
       "      <th>1</th>\n",
       "      <td>Argentina</td>\n",
       "      <td>2766890</td>\n",
       "    </tr>\n",
       "    <tr>\n",
       "      <th>2</th>\n",
       "      <td>Peru</td>\n",
       "      <td>1285220</td>\n",
       "    </tr>\n",
       "    <tr>\n",
       "      <th>3</th>\n",
       "      <td>Colombia</td>\n",
       "      <td>1138910</td>\n",
       "    </tr>\n",
       "    <tr>\n",
       "      <th>4</th>\n",
       "      <td>Bolivia</td>\n",
       "      <td>1098580</td>\n",
       "    </tr>\n",
       "    <tr>\n",
       "      <th>5</th>\n",
       "      <td>Venezuela</td>\n",
       "      <td>912050</td>\n",
       "    </tr>\n",
       "    <tr>\n",
       "      <th>6</th>\n",
       "      <td>Chile</td>\n",
       "      <td>756950</td>\n",
       "    </tr>\n",
       "    <tr>\n",
       "      <th>7</th>\n",
       "      <td>Paraguay</td>\n",
       "      <td>406750</td>\n",
       "    </tr>\n",
       "    <tr>\n",
       "      <th>8</th>\n",
       "      <td>Ecuador</td>\n",
       "      <td>283560</td>\n",
       "    </tr>\n",
       "    <tr>\n",
       "      <th>9</th>\n",
       "      <td>Guyana</td>\n",
       "      <td>214970</td>\n",
       "    </tr>\n",
       "    <tr>\n",
       "      <th>10</th>\n",
       "      <td>Uruguay</td>\n",
       "      <td>176220</td>\n",
       "    </tr>\n",
       "    <tr>\n",
       "      <th>11</th>\n",
       "      <td>Suriname</td>\n",
       "      <td>163270</td>\n",
       "    </tr>\n",
       "  </tbody>\n",
       "</table>\n",
       "</div>"
      ],
      "text/plain": [
       "      country     area\n",
       "0      Brazil  8511965\n",
       "1   Argentina  2766890\n",
       "2        Peru  1285220\n",
       "3    Colombia  1138910\n",
       "4     Bolivia  1098580\n",
       "5   Venezuela   912050\n",
       "6       Chile   756950\n",
       "7    Paraguay   406750\n",
       "8     Ecuador   283560\n",
       "9      Guyana   214970\n",
       "10    Uruguay   176220\n",
       "11   Suriname   163270"
      ]
     },
     "execution_count": 34,
     "metadata": {},
     "output_type": "execute_result"
    }
   ],
   "source": [
    "#Q20: What is the area of each country in South America?\n",
    "qry(\"\"\"\n",
    "SELECT country, area\n",
    "FROM countries\n",
    "WHERE \"continent\" = \"South America\"\n",
    "ORDER BY \"area\" DESC\n",
    "\"\"\")"
   ]
  },
  {
   "cell_type": "code",
   "execution_count": 35,
   "metadata": {},
   "outputs": [
    {
     "data": {
      "text/html": [
       "<div>\n",
       "<style scoped>\n",
       "    .dataframe tbody tr th:only-of-type {\n",
       "        vertical-align: middle;\n",
       "    }\n",
       "\n",
       "    .dataframe tbody tr th {\n",
       "        vertical-align: top;\n",
       "    }\n",
       "\n",
       "    .dataframe thead th {\n",
       "        text-align: right;\n",
       "    }\n",
       "</style>\n",
       "<table border=\"1\" class=\"dataframe\">\n",
       "  <thead>\n",
       "    <tr style=\"text-align: right;\">\n",
       "      <th></th>\n",
       "      <th>country</th>\n",
       "      <th>real GDP (billion)</th>\n",
       "    </tr>\n",
       "  </thead>\n",
       "  <tbody>\n",
       "    <tr>\n",
       "      <th>0</th>\n",
       "      <td>United States</td>\n",
       "      <td>11281.0</td>\n",
       "    </tr>\n",
       "    <tr>\n",
       "      <th>1</th>\n",
       "      <td>China</td>\n",
       "      <td>6569.0</td>\n",
       "    </tr>\n",
       "    <tr>\n",
       "      <th>2</th>\n",
       "      <td>Japan</td>\n",
       "      <td>3594.0</td>\n",
       "    </tr>\n",
       "    <tr>\n",
       "      <th>3</th>\n",
       "      <td>India</td>\n",
       "      <td>3176.0</td>\n",
       "    </tr>\n",
       "    <tr>\n",
       "      <th>4</th>\n",
       "      <td>Germany</td>\n",
       "      <td>2274.0</td>\n",
       "    </tr>\n",
       "    <tr>\n",
       "      <th>5</th>\n",
       "      <td>France</td>\n",
       "      <td>1680.0</td>\n",
       "    </tr>\n",
       "    <tr>\n",
       "      <th>6</th>\n",
       "      <td>United Kingdom</td>\n",
       "      <td>1678.0</td>\n",
       "    </tr>\n",
       "    <tr>\n",
       "      <th>7</th>\n",
       "      <td>Italy</td>\n",
       "      <td>1552.0</td>\n",
       "    </tr>\n",
       "  </tbody>\n",
       "</table>\n",
       "</div>"
      ],
      "text/plain": [
       "          country  real GDP (billion)\n",
       "0   United States             11281.0\n",
       "1           China              6569.0\n",
       "2           Japan              3594.0\n",
       "3           India              3176.0\n",
       "4         Germany              2274.0\n",
       "5          France              1680.0\n",
       "6  United Kingdom              1678.0\n",
       "7           Italy              1552.0"
      ]
     },
     "execution_count": 35,
     "metadata": {},
     "output_type": "execute_result"
    }
   ],
   "source": [
    "#Q21: What are the top 8 countries that have the largest real GDP?\n",
    "gdp_of_top_8_countries = qry(\"\"\"\n",
    "SELECT country, cast(\"population\" * \"gdp-per-capita\"  / 1000000000 as float) AS \"real GDP (billion)\"\n",
    "FROM countries\n",
    "ORDER BY \"real GDP (billion)\" DESC\n",
    "LIMIT 8\n",
    "\"\"\")\n",
    "gdp_of_top_8_countries"
   ]
  },
  {
   "cell_type": "code",
   "execution_count": 36,
   "metadata": {},
   "outputs": [
    {
     "data": {
      "text/plain": [
       "31804.0"
      ]
     },
     "execution_count": 36,
     "metadata": {},
     "output_type": "execute_result"
    }
   ],
   "source": [
    "gdp_of_top_8_countries[\"real GDP (billion)\"].sum()"
   ]
  },
  {
   "cell_type": "code",
   "execution_count": 37,
   "metadata": {},
   "outputs": [
    {
     "data": {
      "text/html": [
       "<div>\n",
       "<style scoped>\n",
       "    .dataframe tbody tr th:only-of-type {\n",
       "        vertical-align: middle;\n",
       "    }\n",
       "\n",
       "    .dataframe tbody tr th {\n",
       "        vertical-align: top;\n",
       "    }\n",
       "\n",
       "    .dataframe thead th {\n",
       "        text-align: right;\n",
       "    }\n",
       "</style>\n",
       "<table border=\"1\" class=\"dataframe\">\n",
       "  <thead>\n",
       "    <tr style=\"text-align: right;\">\n",
       "      <th></th>\n",
       "      <th>real GDP (billion)</th>\n",
       "    </tr>\n",
       "  </thead>\n",
       "  <tbody>\n",
       "    <tr>\n",
       "      <th>0</th>\n",
       "      <td>51204.73523</td>\n",
       "    </tr>\n",
       "  </tbody>\n",
       "</table>\n",
       "</div>"
      ],
      "text/plain": [
       "   real GDP (billion)\n",
       "0         51204.73523"
      ]
     },
     "execution_count": 37,
     "metadata": {},
     "output_type": "execute_result"
    }
   ],
   "source": [
    "total_gdp = qry(\"\"\"\n",
    "SELECT SUM(cast(\"population\" * \"gdp-per-capita\"as float) / 1000000000) AS \"real GDP (billion)\"\n",
    "FROM countries\n",
    "ORDER BY \"real GDP (billion)\" \n",
    "\"\"\")\n",
    "total_gdp"
   ]
  },
  {
   "cell_type": "code",
   "execution_count": 38,
   "metadata": {},
   "outputs": [
    {
     "data": {
      "text/plain": [
       "19400.735229699967"
      ]
     },
     "execution_count": 38,
     "metadata": {},
     "output_type": "execute_result"
    }
   ],
   "source": [
    "total_gdp.iloc[0][\"real GDP (billion)\"] - gdp_of_top_8_countries[\"real GDP (billion)\"].sum()"
   ]
  },
  {
   "cell_type": "code",
   "execution_count": 39,
   "metadata": {},
   "outputs": [
    {
     "data": {
      "text/plain": [
       "country\n",
       "United States     11281.00000\n",
       "China              6569.00000\n",
       "Japan              3594.00000\n",
       "India              3176.00000\n",
       "Germany            2274.00000\n",
       "France             1680.00000\n",
       "United Kingdom     1678.00000\n",
       "Italy              1552.00000\n",
       "Others            19400.73523\n",
       "Name: real GDP (billion), dtype: float64"
      ]
     },
     "execution_count": 39,
     "metadata": {},
     "output_type": "execute_result"
    }
   ],
   "source": [
    "new_gdp = gdp_of_top_8_countries.set_index('country')\n",
    "new_total_gdp = new_gdp[\"real GDP (billion)\"].iloc[:8]\n",
    "new_total_gdp[\"Others\"] = total_gdp.iloc[0][\"real GDP (billion)\"] - gdp_of_top_8_countries[\"real GDP (billion)\"].sum()\n",
    "new_total_gdp"
   ]
  },
  {
   "cell_type": "code",
   "execution_count": 40,
   "metadata": {},
   "outputs": [
    {
     "data": {
      "text/plain": [
       "<matplotlib.axes._subplots.AxesSubplot at 0x275fb6cd460>"
      ]
     },
     "execution_count": 40,
     "metadata": {},
     "output_type": "execute_result"
    },
    {
     "data": {
      "image/png": "[encoded data removed]",
      "text/plain": [
       "<Figure size 432x288 with 1 Axes>"
      ]
     },
     "metadata": {
      "needs_background": "light"
     },
     "output_type": "display_data"
    }
   ],
   "source": [
    "#Q22: What are the top 8 countries that have the largest real GDP? (answer with a plot)\n",
    "new_total_gdp_ax = new_total_gdp.plot.bar(color = \"0\")\n",
    "new_total_gdp_ax.set_xlabel(\"country\")\n",
    "new_total_gdp_ax.set_ylabel(\"real GDP (billion)\")\n",
    "new_total_gdp_ax"
   ]
  },
  {
   "cell_type": "code",
   "execution_count": 41,
   "metadata": {},
   "outputs": [
    {
     "data": {
      "text/plain": [
       "<matplotlib.axes._subplots.AxesSubplot at 0x275fb7507f0>"
      ]
     },
     "execution_count": 41,
     "metadata": {},
     "output_type": "execute_result"
    },
    {
     "data": {
      "image/png": "[encoded data removed]",
      "text/plain": [
       "<Figure size 432x288 with 1 Axes>"
      ]
     },
     "metadata": {
      "needs_background": "light"
     },
     "output_type": "display_data"
    }
   ],
   "source": [
    "#Q23: What is the relationship between GDP per capita and net-migration?\n",
    "gdp_migration_df = qry(\"\"\"\n",
    "SELECT \"gdp-per-capita\", \"net-migration\"\n",
    "FROM countries\n",
    "\"\"\")\n",
    "gdp_migration_df.plot.scatter(x = \"gdp-per-capita\", y = \"net-migration\", color = \"0\")"
   ]
  },
  {
   "cell_type": "code",
   "execution_count": 42,
   "metadata": {},
   "outputs": [
    {
     "data": {
      "text/plain": [
       "0.4523211325011283"
      ]
     },
     "execution_count": 42,
     "metadata": {},
     "output_type": "execute_result"
    }
   ],
   "source": [
    "#Q24: What is the correlation between GDP per capita and net-migration?\n",
    "gdp_migration_df.corr().loc[\"net-migration\"].iloc[0]"
   ]
  },
  {
   "cell_type": "code",
   "execution_count": 43,
   "metadata": {},
   "outputs": [
    {
     "data": {
      "text/plain": [
       "<matplotlib.axes._subplots.AxesSubplot at 0x275fb7ba8e0>"
      ]
     },
     "execution_count": 43,
     "metadata": {},
     "output_type": "execute_result"
    },
    {
     "data": {
      "image/png": "[encoded data removed]",
      "text/plain": [
       "<Figure size 432x288 with 1 Axes>"
      ]
     },
     "metadata": {
      "needs_background": "light"
     },
     "output_type": "display_data"
    }
   ],
   "source": [
    "#Q25: What is the relationship between GDP per capita and death rates?:\n",
    "gdp_deathrate_df = qry(\"\"\"\n",
    "SELECT \"gdp-per-capita\", \"death-rate\"\n",
    "FROM countries\n",
    "\"\"\")\n",
    "gdp_deathrate_df.plot.scatter(x = \"gdp-per-capita\", y = \"death-rate\", color = \"0\")"
   ]
  },
  {
   "cell_type": "code",
   "execution_count": 44,
   "metadata": {},
   "outputs": [
    {
     "data": {
      "text/plain": [
       "<matplotlib.axes._subplots.AxesSubplot at 0x275fb80c9d0>"
      ]
     },
     "execution_count": 44,
     "metadata": {},
     "output_type": "execute_result"
    },
    {
     "data": {
      "image/png": "[encoded data removed]",
      "text/plain": [
       "<Figure size 432x288 with 1 Axes>"
      ]
     },
     "metadata": {
      "needs_background": "light"
     },
     "output_type": "display_data"
    }
   ],
   "source": [
    "#Q26: What is the relationship between GDP per capita and infant-mortality?\n",
    "gdp_infantmortality_df = qry(\"\"\"\n",
    "SELECT \"gdp-per-capita\", \"infant-mortality\"\n",
    "FROM countries\n",
    "\"\"\")\n",
    "gdp_infantmortality_df.plot.scatter(x = \"gdp-per-capita\", y = \"infant-mortality\", color = \"0\")"
   ]
  },
  {
   "cell_type": "code",
   "execution_count": 45,
   "metadata": {},
   "outputs": [
    {
     "data": {
      "text/plain": [
       "<matplotlib.axes._subplots.AxesSubplot at 0x275fb85ba60>"
      ]
     },
     "execution_count": 45,
     "metadata": {},
     "output_type": "execute_result"
    },
    {
     "data": {
      "image/png": "[encoded data removed]",
      "text/plain": [
       "<Figure size 432x288 with 1 Axes>"
      ]
     },
     "metadata": {
      "needs_background": "light"
     },
     "output_type": "display_data"
    }
   ],
   "source": [
    "#Q27: What is the relationship between GDP per capita and inverse of infant-mortality?\n",
    "inverse_gdp_infantmortality_df = qry(\"\"\"\n",
    "SELECT \"gdp-per-capita\", (1 / \"infant-mortality\") AS \"inverse\"\n",
    "FROM countries\n",
    "\"\"\")\n",
    "inverse_gdp_infantmortality_df.plot.scatter(x = \"gdp-per-capita\", y = \"inverse\", color = \"0\")"
   ]
  },
  {
   "cell_type": "code",
   "execution_count": 46,
   "metadata": {},
   "outputs": [
    {
     "data": {
      "text/plain": [
       "<matplotlib.axes._subplots.AxesSubplot at 0x275fc865760>"
      ]
     },
     "execution_count": 46,
     "metadata": {},
     "output_type": "execute_result"
    },
    {
     "data": {
      "image/png": "[encoded data removed]",
      "text/plain": [
       "<Figure size 432x288 with 1 Axes>"
      ]
     },
     "metadata": {
      "needs_background": "light"
     },
     "output_type": "display_data"
    }
   ],
   "source": [
    "import numpy as np\n",
    "df = DataFrame({\n",
    "    \"x\": [1,2,3,4],\n",
    "    \"y\": [2,5,6,5]\n",
    "})\n",
    "df[\"1\"] = 1\n",
    "\n",
    "res = np.linalg.lstsq(df[[\"x\", \"1\"]], df[\"y\"], rcond=None)\n",
    "\n",
    "# res is a tuple: (COEFFICIENTS, VALUE, VALUE, VALUE)\n",
    "coefficients = res[0] # coefficients is (m,n:\n",
    "m = coefficients[0] # slope\n",
    "n = coefficients[1] # intercept\n",
    "ax = df.plot.scatter(x='x', y='y')\n",
    "\n",
    "df[\"fit\"] = df[\"x\"] * m + n\n",
    "df.plot.line(x='x', y='fit', c='red', ax=ax)"
   ]
  },
  {
   "cell_type": "code",
   "execution_count": 47,
   "metadata": {},
   "outputs": [
    {
     "data": {
      "text/plain": [
       "(6.482983154848298e-06, 0.013237849092120857)"
      ]
     },
     "execution_count": 47,
     "metadata": {},
     "output_type": "execute_result"
    }
   ],
   "source": [
    "#Q28: fit a y = m * x + n line to the scatter plot in question 27 using the least-squares method; what are the coefficients m and n?\n",
    "inverse_gdp_infantmortality_df[\"1\"] = 1\n",
    "\n",
    "res = np.linalg.lstsq(inverse_gdp_infantmortality_df[[\"gdp-per-capita\", \"1\"]], inverse_gdp_infantmortality_df[\"inverse\"], rcond=None)\n",
    "\n",
    "# res is a tuple: (COEFFICIENTS, VALUE, VALUE, VALUE)\n",
    "coefficients = res[0] # coefficients is (m,n:\n",
    "m = coefficients[0] # slope\n",
    "n = coefficients[1] # intercept\n",
    "tuple(coefficients)"
   ]
  },
  {
   "cell_type": "code",
   "execution_count": 48,
   "metadata": {},
   "outputs": [
    {
     "data": {
      "text/plain": [
       "2.9639552790793418"
      ]
     },
     "execution_count": 48,
     "metadata": {},
     "output_type": "execute_result"
    }
   ],
   "source": [
    "#Q29: When gdp-per-capita = 50000, what is the expected value for infant-mortality?\n",
    "pinned_gdp = m * 50000 + n\n",
    "expected_mortality = 1 / pinned_gdp\n",
    "expected_mortality"
   ]
  },
  {
   "cell_type": "code",
   "execution_count": 49,
   "metadata": {},
   "outputs": [
    {
     "data": {
      "text/plain": [
       "<matplotlib.axes._subplots.AxesSubplot at 0x275fc8f3c40>"
      ]
     },
     "execution_count": 49,
     "metadata": {},
     "output_type": "execute_result"
    },
    {
     "data": {
      "image/png": "[encoded data removed]",
      "text/plain": [
       "<Figure size 432x288 with 1 Axes>"
      ]
     },
     "metadata": {
      "needs_background": "light"
     },
     "output_type": "display_data"
    }
   ],
   "source": [
    "#Q30: plot the regression line to the scatter plot\n",
    "ax = inverse_gdp_infantmortality_df.plot.scatter(x='gdp-per-capita', y='inverse', color = \"0\")\n",
    "inverse_gdp_infantmortality_df[\"fit\"] = inverse_gdp_infantmortality_df[\"gdp-per-capita\"] * m + n\n",
    "inverse_gdp_infantmortality_df.plot.line(x='gdp-per-capita', y='fit', c='red', ax=ax)"
   ]
  },
  {
   "cell_type": "code",
   "execution_count": 50,
   "metadata": {},
   "outputs": [],
   "source": [
    "conn.close()"
   ]
  },
  {
   "cell_type": "code",
   "execution_count": null,
   "metadata": {},
   "outputs": [],
   "source": []
  }
 ],
 "metadata": {
  "kernelspec": {
   "display_name": "Python 3",
   "language": "python",
   "name": "python3"
  },
  "language_info": {
   "codemirror_mode": {
    "name": "ipython",
    "version": 3
   },
   "file_extension": ".py",
   "mimetype": "text/x-python",
   "name": "python",
   "nbconvert_exporter": "python",
   "pygments_lexer": "ipython3",
   "version": "3.8.1"
  }
 },
 "nbformat": 4,
 "nbformat_minor": 4
}
