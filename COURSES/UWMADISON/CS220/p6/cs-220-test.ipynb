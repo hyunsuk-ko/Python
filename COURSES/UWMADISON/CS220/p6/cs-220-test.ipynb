{
 "cells": [
  {
   "cell_type": "code",
   "execution_count": 1,
   "metadata": {},
   "outputs": [],
   "source": [
    "# project: p6\n",
    "# submitter: hko26\n",
    "# partner: yeo9"
   ]
  },
  {
   "cell_type": "code",
   "execution_count": 2,
   "metadata": {},
   "outputs": [],
   "source": [
    "import csv"
   ]
  },
  {
   "cell_type": "code",
   "execution_count": 3,
   "metadata": {},
   "outputs": [],
   "source": [
    "# copied from https://automatetheboringstuff.com/chapter14/\n",
    "def process_csv(filename):\n",
    "    exampleFile = open(filename, encoding=\"utf-8\")\n",
    "    exampleReader = csv.reader(exampleFile)\n",
    "    exampleData = list(exampleReader)\n",
    "    exampleFile.close()\n",
    "    return exampleData"
   ]
  },
  {
   "cell_type": "code",
   "execution_count": 4,
   "metadata": {},
   "outputs": [],
   "source": [
    "# use process_csv to pull out the header and data rows\n",
    "csv_rows = process_csv(\"wine.csv\")\n",
    "csv_header = csv_rows[0]\n",
    "csv_data = csv_rows[1:]"
   ]
  },
  {
   "cell_type": "code",
   "execution_count": 5,
   "metadata": {},
   "outputs": [
    {
     "data": {
      "text/plain": [
       "['country', 'points', 'price', 'variety', 'winery', 'description']"
      ]
     },
     "execution_count": 5,
     "metadata": {},
     "output_type": "execute_result"
    }
   ],
   "source": [
    "csv_header"
   ]
  },
  {
   "cell_type": "code",
   "execution_count": 6,
   "metadata": {},
   "outputs": [
    {
     "data": {
      "text/plain": [
       "1501"
      ]
     },
     "execution_count": 6,
     "metadata": {},
     "output_type": "execute_result"
    }
   ],
   "source": [
    "len(csv_data)"
   ]
  },
  {
   "cell_type": "code",
   "execution_count": 7,
   "metadata": {},
   "outputs": [
    {
     "data": {
      "text/plain": [
       "[['US',\n",
       "  '96',\n",
       "  '235.0',\n",
       "  'Cabernet Sauvignon',\n",
       "  'Heitz',\n",
       "  'This tremendous 100% varietal wine hails from Oakville and was aged over three years in oak. Juicy red-cherry fruit and a compelling hint of caramel greet the palate, framed by elegant, fine tannins and a subtle minty tone in the background. Balanced and rewarding from start to finish, it has years ahead of it to develop further nuance. Enjoy 2022–2030.'],\n",
       " ['Spain',\n",
       "  '96',\n",
       "  '110.0',\n",
       "  'Tinta de Toro',\n",
       "  'Bodega Carmen Rodríguez',\n",
       "  'Ripe aromas of fig, blackberry and cassis are softened and sweetened by a slathering of oaky chocolate and vanilla. This is full, layered, intense and cushioned on the palate, with rich flavors of chocolaty black fruits and baking spices. A toasty, everlasting finish is heady but ideally balanced. Drink through 2023.'],\n",
       " ['US',\n",
       "  '96',\n",
       "  '90.0',\n",
       "  'Sauvignon Blanc',\n",
       "  'Macauley',\n",
       "  'Mac Watson honors the memory of a wine once made by his mother in this tremendously delicious, balanced and complex botrytised white. Dark gold in color, it layers toasted hazelnut, pear compote and orange peel flavors, reveling in the succulence of its 122 g/L of residual sugar.'],\n",
       " ['US',\n",
       "  '96',\n",
       "  '65.0',\n",
       "  'Pinot Noir',\n",
       "  'Ponzi',\n",
       "  \"This spent 20 months in 30% new French oak, and incorporates fruit from Ponzi's Aurora, Abetina and Madrona vineyards, among others. Aromatic, dense and toasty, it deftly blends aromas and flavors of toast, cigar box, blackberry, black cherry, coffee and graphite. Tannins are polished to a fine sheen, and frame a finish loaded with dark chocolate and espresso. Drink now through 2032.\"],\n",
       " ['France',\n",
       "  '95',\n",
       "  '66.0',\n",
       "  'Provence red blend',\n",
       "  'Domaine de la Bégude',\n",
       "  'This is the top wine from La Bégude, named after the highest point in the vineyard at 1200 feet. It has structure, density and considerable acidity that is still calming down. With 18 months in wood, the wine has developing an extra richness and concentration. Produced by the Tari family, formerly of Château Giscours in Margaux, it is a wine made for aging. Drink from 2020.']]"
      ]
     },
     "execution_count": 7,
     "metadata": {},
     "output_type": "execute_result"
    }
   ],
   "source": [
    "csv_data[:5]"
   ]
  },
  {
   "cell_type": "code",
   "execution_count": 8,
   "metadata": {},
   "outputs": [
    {
     "data": {
      "text/plain": [
       "['US',\n",
       " '96',\n",
       " '235.0',\n",
       " 'Cabernet Sauvignon',\n",
       " 'Heitz',\n",
       " 'This tremendous 100% varietal wine hails from Oakville and was aged over three years in oak. Juicy red-cherry fruit and a compelling hint of caramel greet the palate, framed by elegant, fine tannins and a subtle minty tone in the background. Balanced and rewarding from start to finish, it has years ahead of it to develop further nuance. Enjoy 2022–2030.']"
      ]
     },
     "execution_count": 8,
     "metadata": {},
     "output_type": "execute_result"
    }
   ],
   "source": [
    "csv_data[0]"
   ]
  },
  {
   "cell_type": "code",
   "execution_count": 9,
   "metadata": {},
   "outputs": [
    {
     "data": {
      "text/plain": [
       "'Cabernet Sauvignon'"
      ]
     },
     "execution_count": 9,
     "metadata": {},
     "output_type": "execute_result"
    }
   ],
   "source": [
    "csv_data[0][3]"
   ]
  },
  {
   "cell_type": "code",
   "execution_count": 10,
   "metadata": {},
   "outputs": [
    {
     "data": {
      "text/plain": [
       "3"
      ]
     },
     "execution_count": 10,
     "metadata": {},
     "output_type": "execute_result"
    }
   ],
   "source": [
    "csv_header.index(\"variety\")"
   ]
  },
  {
   "cell_type": "code",
   "execution_count": 11,
   "metadata": {},
   "outputs": [
    {
     "data": {
      "text/plain": [
       "'Cabernet Sauvignon'"
      ]
     },
     "execution_count": 11,
     "metadata": {},
     "output_type": "execute_result"
    }
   ],
   "source": [
    "csv_data[0][csv_header.index(\"variety\")]"
   ]
  },
  {
   "cell_type": "code",
   "execution_count": 12,
   "metadata": {},
   "outputs": [
    {
     "name": "stdout",
     "output_type": "stream",
     "text": [
      "2\n"
     ]
    }
   ],
   "source": [
    "letters = [\"A\", \"B\", \"C\", \"D\"]\n",
    "print(letters.index(\"C\"))"
   ]
  },
  {
   "cell_type": "code",
   "execution_count": 13,
   "metadata": {},
   "outputs": [
    {
     "data": {
      "text/plain": [
       "'US'"
      ]
     },
     "execution_count": 13,
     "metadata": {},
     "output_type": "execute_result"
    }
   ],
   "source": [
    "csv_data[0][csv_header.index(\"country\")]"
   ]
  },
  {
   "cell_type": "code",
   "execution_count": 14,
   "metadata": {},
   "outputs": [
    {
     "data": {
      "text/plain": [
       "'Bodega Carmen Rodríguez'"
      ]
     },
     "execution_count": 14,
     "metadata": {},
     "output_type": "execute_result"
    }
   ],
   "source": [
    "csv_data[1][csv_header.index(\"winery\")]"
   ]
  },
  {
   "cell_type": "code",
   "execution_count": 15,
   "metadata": {},
   "outputs": [
    {
     "data": {
      "text/plain": [
       "'Sauvignon Blanc'"
      ]
     },
     "execution_count": 15,
     "metadata": {},
     "output_type": "execute_result"
    }
   ],
   "source": [
    "csv_data[2][csv_header.index(\"variety\")]"
   ]
  },
  {
   "cell_type": "code",
   "execution_count": 16,
   "metadata": {},
   "outputs": [],
   "source": [
    "def cell(row_idx, col_name):\n",
    "    col_idx = csv_header.index(col_name)\n",
    "    val = csv_data[row_idx][col_idx]\n",
    "    if val == \"\":\n",
    "        return None\n",
    "    # optional: convert types based on column name?\n",
    "    return val"
   ]
  },
  {
   "cell_type": "code",
   "execution_count": 17,
   "metadata": {},
   "outputs": [
    {
     "data": {
      "text/plain": [
       "'US'"
      ]
     },
     "execution_count": 17,
     "metadata": {},
     "output_type": "execute_result"
    }
   ],
   "source": [
    "cell(0, \"country\")"
   ]
  },
  {
   "cell_type": "code",
   "execution_count": 18,
   "metadata": {},
   "outputs": [
    {
     "data": {
      "text/plain": [
       "'96'"
      ]
     },
     "execution_count": 18,
     "metadata": {},
     "output_type": "execute_result"
    }
   ],
   "source": [
    "cell(1, \"points\")"
   ]
  },
  {
   "cell_type": "code",
   "execution_count": 19,
   "metadata": {},
   "outputs": [
    {
     "data": {
      "text/plain": [
       "'90.0'"
      ]
     },
     "execution_count": 19,
     "metadata": {},
     "output_type": "execute_result"
    }
   ],
   "source": [
    "cell(2, \"price\")"
   ]
  },
  {
   "cell_type": "code",
   "execution_count": 20,
   "metadata": {},
   "outputs": [
    {
     "data": {
      "text/plain": [
       "'Pinot Noir'"
      ]
     },
     "execution_count": 20,
     "metadata": {},
     "output_type": "execute_result"
    }
   ],
   "source": [
    "cell(3, \"variety\")"
   ]
  },
  {
   "cell_type": "code",
   "execution_count": 21,
   "metadata": {},
   "outputs": [
    {
     "name": "stdout",
     "output_type": "stream",
     "text": [
      "original list: ['A', 'B', 'C']\n",
      "returned value: None\n"
     ]
    }
   ],
   "source": [
    "letters = [\"B\", \"C\", \"A\"]\n",
    "\n",
    "result = letters.sort()\n",
    "\n",
    "print(\"original list:\", letters)\n",
    "print(\"returned value:\", result)"
   ]
  },
  {
   "cell_type": "code",
   "execution_count": 22,
   "metadata": {},
   "outputs": [
    {
     "name": "stdout",
     "output_type": "stream",
     "text": [
      "original list: ['B', 'C', 'A']\n",
      "returned value: ['A', 'B', 'C']\n"
     ]
    }
   ],
   "source": [
    "letters = [\"B\", \"C\", \"A\"]\n",
    "\n",
    "result = sorted(letters)\n",
    "\n",
    "print(\"original list:\", letters)\n",
    "print(\"returned value:\", result)"
   ]
  },
  {
   "cell_type": "code",
   "execution_count": 23,
   "metadata": {},
   "outputs": [
    {
     "name": "stdout",
     "output_type": "stream",
     "text": [
      "original str: BCA\n",
      "returned value: ['A', 'B', 'C']\n"
     ]
    }
   ],
   "source": [
    "s = \"BCA\"\n",
    "\n",
    "result = sorted(s)\n",
    "\n",
    "print(\"original str:\", s)\n",
    "print(\"returned value:\", result)"
   ]
  },
  {
   "cell_type": "code",
   "execution_count": 24,
   "metadata": {},
   "outputs": [
    {
     "name": "stdout",
     "output_type": "stream",
     "text": [
      "original list: ['C', 'A']\n",
      "returned value: B\n"
     ]
    }
   ],
   "source": [
    "letters = [\"B\", \"C\", \"A\"]\n",
    "\n",
    "result = letters.pop(0)\n",
    "\n",
    "print(\"original list:\", letters)\n",
    "print(\"returned value:\", result)"
   ]
  },
  {
   "cell_type": "code",
   "execution_count": 25,
   "metadata": {},
   "outputs": [
    {
     "name": "stdout",
     "output_type": "stream",
     "text": [
      "['A', 'B', 'C']\n",
      "{'B', 'C', 'A'}\n"
     ]
    }
   ],
   "source": [
    "example_list = [\"A\", \"B\", \"C\"]\n",
    "print(example_list)\n",
    "example_set = {\"A\", \"B\", \"C\"}\n",
    "print(example_set)"
   ]
  },
  {
   "cell_type": "code",
   "execution_count": 26,
   "metadata": {},
   "outputs": [
    {
     "data": {
      "text/plain": [
       "True"
      ]
     },
     "execution_count": 26,
     "metadata": {},
     "output_type": "execute_result"
    }
   ],
   "source": [
    "\"A\" in example_list"
   ]
  },
  {
   "cell_type": "code",
   "execution_count": 27,
   "metadata": {},
   "outputs": [
    {
     "data": {
      "text/plain": [
       "True"
      ]
     },
     "execution_count": 27,
     "metadata": {},
     "output_type": "execute_result"
    }
   ],
   "source": [
    "\"A\" in example_set"
   ]
  },
  {
   "cell_type": "code",
   "execution_count": 28,
   "metadata": {},
   "outputs": [
    {
     "data": {
      "text/plain": [
       "'A'"
      ]
     },
     "execution_count": 28,
     "metadata": {},
     "output_type": "execute_result"
    }
   ],
   "source": [
    "example_list[0]  # works"
   ]
  },
  {
   "cell_type": "code",
   "execution_count": 29,
   "metadata": {},
   "outputs": [],
   "source": [
    "#example_set[0]   # crashes"
   ]
  },
  {
   "cell_type": "code",
   "execution_count": 30,
   "metadata": {},
   "outputs": [
    {
     "data": {
      "text/plain": [
       "False"
      ]
     },
     "execution_count": 30,
     "metadata": {},
     "output_type": "execute_result"
    }
   ],
   "source": [
    "[\"A\", \"B\", \"C\"] == [\"C\", \"B\", \"A\"]"
   ]
  },
  {
   "cell_type": "code",
   "execution_count": 31,
   "metadata": {},
   "outputs": [
    {
     "data": {
      "text/plain": [
       "True"
      ]
     },
     "execution_count": 31,
     "metadata": {},
     "output_type": "execute_result"
    }
   ],
   "source": [
    "{\"A\", \"B\", \"C\"} == {\"C\", \"B\", \"A\"}"
   ]
  },
  {
   "cell_type": "code",
   "execution_count": 32,
   "metadata": {},
   "outputs": [
    {
     "name": "stdout",
     "output_type": "stream",
     "text": [
      "{1, 2, 4}\n"
     ]
    }
   ],
   "source": [
    "items = [1,2,4]\n",
    "items_set = set(items)\n",
    "print(items_set)"
   ]
  },
  {
   "cell_type": "code",
   "execution_count": 33,
   "metadata": {},
   "outputs": [
    {
     "name": "stdout",
     "output_type": "stream",
     "text": [
      "[1, 2, 4]\n"
     ]
    }
   ],
   "source": [
    "items = {4,2,1}\n",
    "items_list = list(items)\n",
    "print(items_list)"
   ]
  },
  {
   "cell_type": "code",
   "execution_count": 34,
   "metadata": {},
   "outputs": [
    {
     "name": "stdout",
     "output_type": "stream",
     "text": [
      "3.0\n"
     ]
    }
   ],
   "source": [
    "x = 3.8\n",
    "y = float(int(x))\n",
    "print(y)"
   ]
  },
  {
   "cell_type": "code",
   "execution_count": 35,
   "metadata": {},
   "outputs": [
    {
     "name": "stdout",
     "output_type": "stream",
     "text": [
      "['B', 'C', 'A']\n"
     ]
    }
   ],
   "source": [
    "list_1 = [\"A\", \"A\", \"B\", \"B\", \"C\", \"B\", \"A\"] # try playing with different values here\n",
    "list_2 = list(set(list_1))\n",
    "print(list_2)"
   ]
  },
  {
   "cell_type": "code",
   "execution_count": 36,
   "metadata": {},
   "outputs": [],
   "source": [
    "def cell(row_idx, col_name):\n",
    "    col_idx = csv_header.index(col_name)\n",
    "    val = csv_data[row_idx][col_idx]\n",
    "    if val == \"\":\n",
    "        return None\n",
    "    if col_name == \"points\":\n",
    "        return int(val)\n",
    "    if col_name == \"price\":\n",
    "        return float(val)\n",
    "\n",
    "    return val"
   ]
  },
  {
   "cell_type": "code",
   "execution_count": 37,
   "metadata": {},
   "outputs": [
    {
     "data": {
      "text/plain": [
       "235.0"
      ]
     },
     "execution_count": 37,
     "metadata": {},
     "output_type": "execute_result"
    }
   ],
   "source": [
    "cell(0, \"price\")"
   ]
  },
  {
   "cell_type": "code",
   "execution_count": 38,
   "metadata": {},
   "outputs": [
    {
     "data": {
      "text/plain": [
       "['Morocco',\n",
       " 'Croatia',\n",
       " 'Hungary',\n",
       " 'Slovenia',\n",
       " 'Argentina',\n",
       " 'Israel',\n",
       " 'Chile',\n",
       " 'Austria',\n",
       " 'South Africa',\n",
       " 'Canada',\n",
       " 'India',\n",
       " 'Italy',\n",
       " 'Australia',\n",
       " 'Germany',\n",
       " 'New Zealand',\n",
       " 'Bulgaria',\n",
       " 'Moldova',\n",
       " 'Spain',\n",
       " 'France',\n",
       " 'Portugal',\n",
       " 'Romania',\n",
       " 'US',\n",
       " 'Greece']"
      ]
     },
     "execution_count": 38,
     "metadata": {},
     "output_type": "execute_result"
    }
   ],
   "source": [
    "#Q1: What countries are present in the wine dataset?\n",
    "def get_country_name():\n",
    "    country_name = []\n",
    "    data_length = len(csv_data)\n",
    "\n",
    "    for i in range(data_length):\n",
    "        if csv_data[i][0] != \"\":\n",
    "            country_name.append(csv_data[i][0])\n",
    "    set_country_name = set(country_name)\n",
    "            \n",
    "            \n",
    "    return list(set_country_name)\n",
    "\n",
    "get_country_name()\n",
    "    "
   ]
  },
  {
   "cell_type": "code",
   "execution_count": 39,
   "metadata": {},
   "outputs": [
    {
     "data": {
      "text/plain": [
       "39.40787623066104"
      ]
     },
     "execution_count": 39,
     "metadata": {},
     "output_type": "execute_result"
    }
   ],
   "source": [
    "#Q2: What is the average price of wine?\n",
    "def avg_price():\n",
    "    count = 0\n",
    "    price_list = []\n",
    "    for i in range(len(csv_data)):\n",
    "        if csv_data[i][2] != \"\":\n",
    "            price_list.append(csv_data[i][2])\n",
    "            count += 1\n",
    "        else:\n",
    "            continue\n",
    "    \n",
    "    sum = 0\n",
    "    for i in range(len(price_list)):\n",
    "        sum += float(price_list[i])\n",
    "\n",
    "    return sum / count\n",
    "\n",
    "avg_price()\n",
    "        "
   ]
  },
  {
   "cell_type": "code",
   "execution_count": 40,
   "metadata": {},
   "outputs": [
    {
     "data": {
      "text/plain": [
       "['Felton Road', 'Kumeu River', 'Spy Valley']"
      ]
     },
     "execution_count": 40,
     "metadata": {},
     "output_type": "execute_result"
    }
   ],
   "source": [
    "#Q3: List all wineries which produce wine in New Zealand?\n",
    "def get_wineries_from_country(country):\n",
    "    country_list = []\n",
    "    for i in range(len(csv_data)):\n",
    "        if csv_data[i][0] == country:\n",
    "            country_list.append(csv_data[i][4])\n",
    "    set_country_list = set(country_list)\n",
    "    \n",
    "    return list(set_country_list)\n",
    "\n",
    "get_wineries_from_country(\"New Zealand\")\n",
    "            "
   ]
  },
  {
   "cell_type": "code",
   "execution_count": 41,
   "metadata": {},
   "outputs": [
    {
     "data": {
      "text/plain": [
       "['Sangiovese',\n",
       " 'Aglianico',\n",
       " 'Meritage',\n",
       " 'Cabernet Franc',\n",
       " 'Nebbiolo',\n",
       " 'Merlot',\n",
       " 'Blaufränkisch',\n",
       " 'Rosé',\n",
       " 'Cabernet Sauvignon',\n",
       " 'Pinot Noir',\n",
       " 'Bordeaux-style Red Blend',\n",
       " 'Zinfandel',\n",
       " 'Lemberger']"
      ]
     },
     "execution_count": 41,
     "metadata": {},
     "output_type": "execute_result"
    }
   ],
   "source": [
    "#Q4: Which wine varieties contain the phrase \"cranberry\" in the description?\n",
    "def phrase_inclusion(phrase):\n",
    "    inclusion_list = []\n",
    "    for i in range(len(csv_data)):\n",
    "        if phrase in csv_data[i][5]:\n",
    "            inclusion_list.append(csv_data[i][3])\n",
    "    set_inclusion_list = set(inclusion_list)\n",
    "    return list(set_inclusion_list)\n",
    "\n",
    "phrase_inclusion(\"cranberry\")"
   ]
  },
  {
   "cell_type": "code",
   "execution_count": 42,
   "metadata": {},
   "outputs": [
    {
     "data": {
      "text/plain": [
       "['Pinot Grigio', 'Sparkling Blend', 'Chardonnay']"
      ]
     },
     "execution_count": 42,
     "metadata": {},
     "output_type": "execute_result"
    }
   ],
   "source": [
    "#Q5: Which wine varieties contain the phrase \"lemon-lime soda\" in the description?\n",
    "phrase_inclusion(\"lemon-lime soda\")"
   ]
  },
  {
   "cell_type": "code",
   "execution_count": 43,
   "metadata": {},
   "outputs": [
    {
     "data": {
      "text/plain": [
       "['Red Blend', 'Tempranillo', 'Cabernet Sauvignon', 'Castelão', 'Tinta de Toro']"
      ]
     },
     "execution_count": 43,
     "metadata": {},
     "output_type": "execute_result"
    }
   ],
   "source": [
    "#Q6: Which wine varieties contain the phrase \"black-fruit\" in their description?\n",
    "phrase_inclusion(\"black-fruit\")"
   ]
  },
  {
   "cell_type": "code",
   "execution_count": 44,
   "metadata": {},
   "outputs": [
    {
     "data": {
      "text/plain": [
       "['Cabernet Sauvignon']"
      ]
     },
     "execution_count": 44,
     "metadata": {},
     "output_type": "execute_result"
    }
   ],
   "source": [
    "#Q7: Which wine varieties are anagrams of the phrase \"antibus governance\"?\n",
    "def anagram(word):\n",
    "    character_list = []\n",
    "    for i in range(len(csv_data)):\n",
    "        if sorted(word) == sorted(csv_data[i][3].lower()):\n",
    "            character_list.append(csv_data[i][3])\n",
    "            break\n",
    "    \n",
    "    return character_list\n",
    "\n",
    "anagram(\"antibus governance\")"
   ]
  },
  {
   "cell_type": "code",
   "execution_count": 45,
   "metadata": {},
   "outputs": [
    {
     "name": "stdout",
     "output_type": "stream",
     "text": [
      "[' ', 'C', 'S', 'a', 'a', 'b', 'e', 'e', 'g', 'i', 'n', 'n', 'n', 'o', 'r', 't', 'u', 'v']\n",
      "[' ', 'a', 'a', 'b', 'c', 'e', 'e', 'g', 'i', 'n', 'n', 'n', 'o', 'r', 's', 't', 'u', 'v']\n"
     ]
    }
   ],
   "source": [
    "print(sorted(\"Cabernet Sauvignon\"))\n",
    "print(sorted(\"antibus governance\"))"
   ]
  },
  {
   "cell_type": "code",
   "execution_count": 46,
   "metadata": {},
   "outputs": [
    {
     "data": {
      "text/plain": [
       "123"
      ]
     },
     "execution_count": 46,
     "metadata": {},
     "output_type": "execute_result"
    }
   ],
   "source": [
    "#Q8: How many unique wineries, produce the wine variety \"Pinot Noir\"?\n",
    "def wineries_from_winevariety(wine_variety):\n",
    "    wineries_list = []\n",
    "    for i in range(len(csv_data)):\n",
    "        if csv_data[i][3] == wine_variety:\n",
    "            wineries_list.append(csv_data[i][4])\n",
    "    set_wineries_list = set(wineries_list)\n",
    "    \n",
    "    return len(list(set_wineries_list))\n",
    "\n",
    "wineries_from_winevariety(\"Pinot Noir\")   "
   ]
  },
  {
   "cell_type": "code",
   "execution_count": 47,
   "metadata": {},
   "outputs": [
    {
     "data": {
      "text/plain": [
       "['Tinta de Toro']"
      ]
     },
     "execution_count": 47,
     "metadata": {},
     "output_type": "execute_result"
    }
   ],
   "source": [
    "#Q9: What is the highest-rated wine variety made in \"Spain\"?\n",
    "def highest_rated_wine(country):\n",
    "    point = 0\n",
    "    best_wine_list = []\n",
    "    for i in range(len(csv_data)):\n",
    "        if csv_data[i][0] == country:\n",
    "            if int(csv_data[i][1]) > int(point):\n",
    "                point = csv_data[i][1]\n",
    "                best_wine = csv_data[i][3]\n",
    "            else:\n",
    "                continue\n",
    "        else:\n",
    "            continue\n",
    "    \n",
    "    best_wine_list.append(best_wine)\n",
    "    return best_wine_list\n",
    "\n",
    "highest_rated_wine(\"Spain\")    "
   ]
  },
  {
   "cell_type": "code",
   "execution_count": 48,
   "metadata": {},
   "outputs": [
    {
     "data": {
      "text/plain": [
       "['Gaja']"
      ]
     },
     "execution_count": 48,
     "metadata": {},
     "output_type": "execute_result"
    }
   ],
   "source": [
    "#Q10: Which winery produces the highest-priced wine in \"Italy\"?\n",
    "\n",
    "def highest_price_wine(country):\n",
    "    wine_price_list = []\n",
    "    for i in range(len(csv_data)):\n",
    "        if csv_data[i][2] == \"\":\n",
    "            continue\n",
    "        elif csv_data[i][0] == \"Italy\":\n",
    "            wine_price_list.append(float(csv_data[i][2]))\n",
    "    wine_price_list = sorted(wine_price_list)\n",
    "    highest_price = wine_price_list[-1]\n",
    "    \n",
    "    for i in range(len(csv_data)):\n",
    "        if csv_data[i][2] == \"\":\n",
    "            continue\n",
    "        elif float(csv_data[i][2]) == highest_price:\n",
    "            break\n",
    "    \n",
    "    final_list = []\n",
    "    final_list.append(csv_data[i][4])\n",
    "    return final_list\n",
    "        \n",
    "highest_price_wine(\"Italy\")"
   ]
  },
  {
   "cell_type": "code",
   "execution_count": 49,
   "metadata": {},
   "outputs": [
    {
     "data": {
      "text/plain": [
       "1.98628003003003"
      ]
     },
     "execution_count": 49,
     "metadata": {},
     "output_type": "execute_result"
    }
   ],
   "source": [
    "#Q11: What is the average points-per-dollar (PPD) ratio of the \"Patricia Green Cellars\" winery?\n",
    "def avg_points_per_dollar(winery):\n",
    "    avg_ppd_list = []\n",
    "    \n",
    "    for i in range(len(csv_data)):\n",
    "        \n",
    "        if csv_data[i][2] == \"\":\n",
    "            continue\n",
    "        \n",
    "        if csv_data[i][4] == winery:\n",
    "            points = int(csv_data[i][1])\n",
    "            price = float(csv_data[i][2]) \n",
    "            avg_ppd = points / price\n",
    "            avg_ppd_list.append(avg_ppd)\n",
    "    \n",
    "    sum = 0\n",
    "    for i in range(len(avg_ppd_list)):\n",
    "        sum += avg_ppd_list[i]\n",
    "    \n",
    "    return sum / len(avg_ppd_list)\n",
    "\n",
    "avg_points_per_dollar(\"Patricia Green Cellars\")"
   ]
  },
  {
   "cell_type": "code",
   "execution_count": 50,
   "metadata": {},
   "outputs": [
    {
     "data": {
      "text/plain": [
       "0.2923076923076923"
      ]
     },
     "execution_count": 50,
     "metadata": {},
     "output_type": "execute_result"
    }
   ],
   "source": [
    "#Q12: What is the average PPD of the \"Hall\" winery?\n",
    "avg_points_per_dollar(\"Hall\")"
   ]
  },
  {
   "cell_type": "code",
   "execution_count": 51,
   "metadata": {},
   "outputs": [
    {
     "data": {
      "text/plain": [
       "['Grand Pacific']"
      ]
     },
     "execution_count": 51,
     "metadata": {},
     "output_type": "execute_result"
    }
   ],
   "source": [
    "#Q13: Which wineries in US have the highest average PPD?\n",
    "def avg_ppd1(country):\n",
    "    wineries_list = []\n",
    "    for i in range(len(csv_data)):\n",
    "        if csv_data[i][0] == country:\n",
    "            if csv_data[i][2] == \"\":\n",
    "                continue\n",
    "            else:\n",
    "                wineries_list.append(csv_data[i][4])\n",
    "    wineries_list = set(wineries_list)\n",
    "    wineries_list = list(wineries_list)\n",
    "    \n",
    "    \n",
    "    ppd_list = []\n",
    "    for i in range(len(wineries_list)):\n",
    "        result = avg_points_per_dollar(wineries_list[i])\n",
    "        ppd_list.append(result)\n",
    "    \n",
    "    idx = 0\n",
    "    ppd = 0\n",
    "    idx_list = []\n",
    "    for i in range(len(ppd_list)):\n",
    "        if ppd_list[i] > ppd:\n",
    "            ppd = ppd_list[i]\n",
    "            idx = i\n",
    "    final = wineries_list[idx]\n",
    "    wineries_list.clear()\n",
    "    wineries_list.append(final)\n",
    "    return wineries_list\n",
    "    \n",
    "        \n",
    "avg_ppd1(\"US\")"
   ]
  },
  {
   "cell_type": "code",
   "execution_count": 52,
   "metadata": {},
   "outputs": [
    {
     "data": {
      "text/plain": [
       "['KWV', 'Long Neck', 'Robertson Winery', 'Essay']"
      ]
     },
     "execution_count": 52,
     "metadata": {},
     "output_type": "execute_result"
    }
   ],
   "source": [
    "#Q14: Which wineries in South Africa have the highest average PPD?\n",
    "def avg_ppd2(country):\n",
    "    wineries_list = []\n",
    "    for i in range(len(csv_data)):\n",
    "        if csv_data[i][0] == country:\n",
    "            if csv_data[i][2] == \"\":\n",
    "                continue\n",
    "            else:\n",
    "                wineries_list.append(csv_data[i][4])\n",
    "    wineries_list = set(wineries_list)\n",
    "    wineries_list = list(wineries_list)\n",
    "    \n",
    "    \n",
    "    ppd_list = []\n",
    "    for i in range(len(wineries_list)):\n",
    "        result = avg_points_per_dollar(wineries_list[i])\n",
    "        ppd_list.append(result)\n",
    "    \n",
    "    idx = 0\n",
    "    ppd = 5\n",
    "    idx_list = []\n",
    "    for i in range(len(ppd_list)):\n",
    "        if ppd_list[i] >= ppd:\n",
    "            ppd = ppd_list[i]\n",
    "            idx_list.append(i)\n",
    "    final_list = []\n",
    "    \n",
    "    for i in range(len(idx_list)):\n",
    "        final_list.append(wineries_list[idx_list[i]])\n",
    "    \n",
    "    return final_list\n",
    "avg_ppd2(\"South Africa\")"
   ]
  },
  {
   "cell_type": "code",
   "execution_count": 53,
   "metadata": {},
   "outputs": [
    {
     "name": "stdout",
     "output_type": "stream",
     "text": [
      "5.666666666666667\n",
      "8.5\n",
      "8.5\n"
     ]
    }
   ],
   "source": [
    "print(avg_points_per_dollar('Neil Ellis'))\n",
    "print(avg_points_per_dollar('Robertson Winery'))\n",
    "print(avg_points_per_dollar('Essay'))"
   ]
  },
  {
   "cell_type": "code",
   "execution_count": 54,
   "metadata": {},
   "outputs": [
    {
     "data": {
      "text/plain": [
       "['Bodega Las Cañitas']"
      ]
     },
     "execution_count": 54,
     "metadata": {},
     "output_type": "execute_result"
    }
   ],
   "source": [
    "#Q15: which wineies in Argentina have the lowest average PPD?\n",
    "def lowest_avg_ppd(country):\n",
    "    wineries_list = []\n",
    "    for i in range(len(csv_data)):\n",
    "        if csv_data[i][0] == country:\n",
    "            if csv_data[i][2] == \"\":\n",
    "                continue\n",
    "            else:\n",
    "                wineries_list.append(csv_data[i][4])\n",
    "    wineries_list = set(wineries_list)\n",
    "    wineries_list = list(wineries_list)\n",
    "    \n",
    "    \n",
    "    ppd_list = []\n",
    "    for i in range(len(wineries_list)):\n",
    "        result = avg_points_per_dollar(wineries_list[i])\n",
    "        ppd_list.append(result)\n",
    "    \n",
    "    idx = 0\n",
    "    ppd = 100\n",
    "    for i in range(len(ppd_list)):\n",
    "        if ppd_list[i] < ppd:\n",
    "            ppd = ppd_list[i]\n",
    "            idx = i\n",
    "    final = wineries_list[idx]\n",
    "    wineries_list.clear()\n",
    "    wineries_list.append(final)\n",
    "    return wineries_list\n",
    "lowest_avg_ppd(\"Argentina\")"
   ]
  },
  {
   "cell_type": "code",
   "execution_count": 55,
   "metadata": {},
   "outputs": [
    {
     "data": {
      "text/plain": [
       "['Cabernet Franc']"
      ]
     },
     "execution_count": 55,
     "metadata": {},
     "output_type": "execute_result"
    }
   ],
   "source": [
    "#Q16: Which wine varieties are produced by the \"Ironstone\" winery?\n",
    "def get_varieties_from_winery(winery):\n",
    "    varieties_list = []\n",
    "    for i in range(len(csv_data)):\n",
    "        if csv_data[i][4] == winery:\n",
    "            varieties_list.append(csv_data[i][3])\n",
    "    set_varieties_list = set(varieties_list)\n",
    "    return list(set_varieties_list)\n",
    "\n",
    "get_varieties_from_winery(\"Ironstone\")\n",
    "            "
   ]
  },
  {
   "cell_type": "code",
   "execution_count": 56,
   "metadata": {},
   "outputs": [
    {
     "data": {
      "text/plain": [
       "['Portuguese Rosé', 'Portuguese White', 'Portuguese Red']"
      ]
     },
     "execution_count": 56,
     "metadata": {},
     "output_type": "execute_result"
    }
   ],
   "source": [
    "#Q17: Which wine varieties are produced by the \"Quinta Nova de Nossa Senhora do Carmo\" winery?\n",
    "get_varieties_from_winery(\"Quinta Nova de Nossa Senhora do Carmo\")"
   ]
  },
  {
   "cell_type": "code",
   "execution_count": 57,
   "metadata": {},
   "outputs": [
    {
     "data": {
      "text/plain": [
       "7.6923076923076925"
      ]
     },
     "execution_count": 57,
     "metadata": {},
     "output_type": "execute_result"
    }
   ],
   "source": [
    "#Q18: What percentage of wine varieties that contain the word \"cranberry\" in its description \n",
    "# also contain the phrase \"black-fruit\" in its description? See Q4 and Q6.\n",
    "def word_inclusion_pct(word1, word2):\n",
    "    count = 0\n",
    "    word1_list = []\n",
    "    word2_list = []\n",
    "    \n",
    "    for i in range(len(csv_data)):\n",
    "        if word1 in csv_data[i][5] :\n",
    "            word1_list.append(csv_data[i][3])\n",
    "        if word2 in csv_data[i][5]:\n",
    "            word2_list.append(csv_data[i][3])\n",
    "    \n",
    "    word1_list = set(word1_list)\n",
    "    word2_list = set(word2_list)\n",
    "    word1_list = list(word1_list)\n",
    "    word2_list = list(word2_list)\n",
    "    \n",
    "    for i in range(len(word2_list)):\n",
    "        if word2_list[i] in word1_list:\n",
    "            count += 1\n",
    "    \n",
    "    return count * 100 / len(word1_list)\n",
    "\n",
    "word_inclusion_pct(\"cranberry\", \"black-fruit\" )"
   ]
  },
  {
   "cell_type": "code",
   "execution_count": 58,
   "metadata": {},
   "outputs": [
    {
     "data": {
      "text/plain": [
       "130.0"
      ]
     },
     "execution_count": 58,
     "metadata": {},
     "output_type": "execute_result"
    }
   ],
   "source": [
    "#Q19: What is the price of the most expensive wine that you could find in Portugal?\n",
    "def most_expensive_wine(country):\n",
    "    wine_list = []\n",
    "    for i in range(len(csv_data)):\n",
    "        if csv_data[i][2] == \"\":\n",
    "            continue\n",
    "        elif csv_data[i][0] == country:\n",
    "            wine_list.append(float(csv_data[i][2]))\n",
    "    wine_list = sorted(wine_list)\n",
    "    \n",
    "    return wine_list[-1]\n",
    "\n",
    "most_expensive_wine(\"Portugal\")"
   ]
  },
  {
   "cell_type": "code",
   "execution_count": 59,
   "metadata": {},
   "outputs": [
    {
     "data": {
      "text/plain": [
       "281.0"
      ]
     },
     "execution_count": 59,
     "metadata": {},
     "output_type": "execute_result"
    }
   ],
   "source": [
    "#Q20: What is the total cost of buy expensive wine and \n",
    "# three bottles of the cheapest wine in Portugal?ing two bottles of the most\n",
    "def all_wine_price(country):\n",
    "    wine_list = []\n",
    "    for i in range(len(csv_data)):\n",
    "        if csv_data[i][2] == \"\":\n",
    "            continue\n",
    "        elif csv_data[i][0] == country:\n",
    "            wine_list.append(float(csv_data[i][2]))\n",
    "    wine_list = sorted(wine_list)\n",
    "    \n",
    "    return wine_list\n",
    "    \n",
    "def first_second_expensive_wine(country):\n",
    "    wine_list = []\n",
    "    for i in range(len(csv_data)):\n",
    "        if csv_data[i][2] == \"\":\n",
    "            continue\n",
    "        elif csv_data[i][0] == country:\n",
    "            wine_list.append(float(csv_data[i][2]))\n",
    "    wine_list = sorted(wine_list)\n",
    "    result = float(wine_list[-1]) * 2\n",
    "    \n",
    "    return result\n",
    "\n",
    "def three_cheapest_wine(country):\n",
    "    wine_list = []\n",
    "    for i in range(len(csv_data)):\n",
    "        if csv_data[i][2] == \"\":\n",
    "            continue\n",
    "        elif csv_data[i][0] == country:\n",
    "            wine_list.append(float(csv_data[i][2]))\n",
    "    wine_list = sorted(wine_list)\n",
    "    result = float(wine_list[0]) * 3\n",
    "    \n",
    "    return result\n",
    "\n",
    "def calc_tc(): \n",
    "    final = first_second_expensive_wine(\"Portugal\") + three_cheapest_wine(\"Portugal\")\n",
    "    return final\n",
    "\n",
    "calc_tc()"
   ]
  }
 ],
 "metadata": {
  "kernelspec": {
   "display_name": "Python 3",
   "language": "python",
   "name": "python3"
  },
  "language_info": {
   "codemirror_mode": {
    "name": "ipython",
    "version": 3
   },
   "file_extension": ".py",
   "mimetype": "text/x-python",
   "name": "python",
   "nbconvert_exporter": "python",
   "pygments_lexer": "ipython3",
   "version": "3.8.1"
  }
 },
 "nbformat": 4,
 "nbformat_minor": 4
}
