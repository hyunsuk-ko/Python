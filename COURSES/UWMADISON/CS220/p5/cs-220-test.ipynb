{
 "cells": [
  {
   "cell_type": "code",
   "execution_count": 1,
   "metadata": {},
   "outputs": [],
   "source": [
    "import project"
   ]
  },
  {
   "cell_type": "code",
   "execution_count": 2,
   "metadata": {},
   "outputs": [
    {
     "data": {
      "text/plain": [
       "['__builtins__',\n",
       " '__cached__',\n",
       " '__doc__',\n",
       " '__file__',\n",
       " '__hurricane__',\n",
       " '__init__',\n",
       " '__loader__',\n",
       " '__name__',\n",
       " '__package__',\n",
       " '__spec__',\n",
       " 'count',\n",
       " 'get_damage',\n",
       " 'get_deaths',\n",
       " 'get_dissipated',\n",
       " 'get_formed',\n",
       " 'get_mph',\n",
       " 'get_name']"
      ]
     },
     "execution_count": 2,
     "metadata": {},
     "output_type": "execute_result"
    }
   ],
   "source": [
    "dir(project)"
   ]
  },
  {
   "cell_type": "code",
   "execution_count": 3,
   "metadata": {},
   "outputs": [],
   "source": [
    "def get_month(date):\n",
    "    '''Returns the month when the date is the in the 'mm/dd/yyyy' format'''\n",
    "    month = date.split(\"/\")\n",
    "    final_month = month[0]\n",
    "    return final_month\n",
    "\n",
    "def get_day(date):\n",
    "    '''Returns the day when the date is the in the 'mm/dd/yyyy' format'''\n",
    "    day = date.split(\"/\")\n",
    "    final_day = int(day[1])\n",
    "    return final_day\n",
    "\n",
    "def get_year(date):\n",
    "    '''Returns the year when the date is the in the 'mm/dd/yyyy' format''' # 09/16/2017 # 08/18/1950\n",
    "    year = date.split(\"/\")\n",
    "    final_year = int(year[2])\n",
    "    return final_year\n",
    "\n",
    "def get_name_from_deaths(death):\n",
    "    for i in range(project.count()):\n",
    "        if project.get_deaths(i) == death:\n",
    "            break\n",
    "        else:\n",
    "            continue\n",
    "    return project.get_name(i)\n",
    "\n",
    "def get_index_from_name(name):\n",
    "    for i in range(project.count()):\n",
    "        if project.get_name(i) == name:\n",
    "            break\n",
    "        else:\n",
    "            continue\n",
    "    return i"
   ]
  },
  {
   "cell_type": "code",
   "execution_count": 4,
   "metadata": {},
   "outputs": [],
   "source": [
    "def name_inclusion(name):\n",
    "    has_name = False\n",
    "    i = 0\n",
    "\n",
    "    for i in range(project.count()):\n",
    "        if project.get_name(i) == \"Bob\":\n",
    "            has_name = True\n",
    "            break\n",
    "\n",
    "        else:\n",
    "            has_name = False\n",
    "            continue \n",
    "    return has_name\n",
    "            "
   ]
  },
  {
   "cell_type": "code",
   "execution_count": 5,
   "metadata": {},
   "outputs": [],
   "source": [
    "def name_count(name):\n",
    "    same_name = 0\n",
    "    for i in range(project.count()):\n",
    "        if project.get_name(i) == \"Florence\" or project.get_name(i) == \"FLORENCE\" or project.get_name(i) == \"fLoReNce\" or project.get_name(i) == \"florence\":\n",
    "            same_name += 1\n",
    "        else:\n",
    "            continue\n",
    "    return same_name"
   ]
  },
  {
   "cell_type": "code",
   "execution_count": 6,
   "metadata": {},
   "outputs": [],
   "source": [
    "def max_speed():\n",
    "    max_mph = 0\n",
    "    for i in range(project.count()):\n",
    "        if project.get_mph(i) > max_mph:\n",
    "            max_mph = project.get_mph(i)\n",
    "        else:\n",
    "            continue\n",
    "    return max_mph"
   ]
  },
  {
   "cell_type": "code",
   "execution_count": 7,
   "metadata": {},
   "outputs": [],
   "source": [
    "def max_damage():\n",
    "    max_dmg = 0\n",
    "    for i in range(project.count()):\n",
    "        original_dmg = format_damage(project.get_damage(i))\n",
    "        if float(original_dmg) > float(max_dmg):\n",
    "            max_dmg = original_dmg\n",
    "        else:\n",
    "            continue\n",
    "    max_dmg = int(max_dmg)\n",
    "    return max_dmg"
   ]
  },
  {
   "cell_type": "code",
   "execution_count": 8,
   "metadata": {},
   "outputs": [],
   "source": [
    "def format_damage(damage):\n",
    "    if damage[-1] == \"B\": #2.55B\n",
    "        letter_dmg = damage[0:len(damage)-1]\n",
    "        new_dmg = float(letter_dmg) * 1000000000\n",
    "        return int(new_dmg)\n",
    "    elif damage[-1] == \"K\":\n",
    "        letter_dmg = damage[0:len(damage)-1]\n",
    "        new_dmg = float(letter_dmg) * 1000\n",
    "        return int(new_dmg)\n",
    "    elif damage[-1] == \"M\":\n",
    "        letter_dmg = damage[0:len(damage)-1]\n",
    "        new_dmg = float(letter_dmg) * 1000000\n",
    "        return int(new_dmg)\n"
   ]
  },
  {
   "cell_type": "code",
   "execution_count": 9,
   "metadata": {},
   "outputs": [],
   "source": [
    "def fastest_hc_name():\n",
    "    max_mph = max_speed()\n",
    "    for i in range(project.count()):\n",
    "        if project.get_mph(i) == max_mph:\n",
    "            break\n",
    "        else:\n",
    "            continue\n",
    "    \n",
    "    index_max_mph = i\n",
    "    return project.get_name(i)\n",
    "    "
   ]
  },
  {
   "cell_type": "code",
   "execution_count": 10,
   "metadata": {},
   "outputs": [],
   "source": [
    "def biggest_dmg_name():\n",
    "    max_dmg = max_damage()\n",
    "    for i in range(project.count()):\n",
    "        if project.get_damage(i) == max_dmg:\n",
    "            break\n",
    "        else:\n",
    "            continue\n",
    "    index_max_dmg = i\n",
    "    return project.get_name(i)"
   ]
  },
  {
   "cell_type": "code",
   "execution_count": 11,
   "metadata": {},
   "outputs": [],
   "source": [
    "def deadliest_in_range(year1, year2): # 1901 / 2000\n",
    "    deaths = 0\n",
    "    start_year = earliest_year() #1899\n",
    "    end_year = latest_year() # 2019\n",
    "    \n",
    "    if (start_year <= int(year1) <= end_year) and (start_year <= int(year2)):\n",
    "        for i in range(project.count()):\n",
    "            if (get_year(project.get_formed(i)) < year1) or (get_year(project.get_formed(i)) > year2):\n",
    "                continue\n",
    "            \n",
    "            else:\n",
    "                if deaths < project.get_deaths(i):  \n",
    "                    deaths = project.get_deaths(i)\n",
    "                else:\n",
    "                     continue\n",
    "        return get_name_from_deaths(deaths)"
   ]
  },
  {
   "cell_type": "code",
   "execution_count": 12,
   "metadata": {},
   "outputs": [],
   "source": [
    "def most_damage_in_range(year1, year2): # 2000 / 2099\n",
    "    damage = 0\n",
    "    \n",
    "    for i in range(project.count()):\n",
    "        if (get_year(project.get_formed(i)) >= year1) and (get_year(project.get_formed(i)) <= year2):\n",
    "            dmg_in_int = format_damage(project.get_damage(i))\n",
    "            if damage < dmg_in_int:  \n",
    "                damage = dmg_in_int\n",
    "            else:\n",
    "                continue\n",
    "                     \n",
    "        else:\n",
    "            continue\n",
    "    return damage"
   ]
  },
  {
   "cell_type": "code",
   "execution_count": 13,
   "metadata": {},
   "outputs": [],
   "source": [
    "def earliest_year():\n",
    "    oldest = 2020\n",
    "    for i in range(project.count()):\n",
    "        org_date = project.get_formed(i)\n",
    "        data_year = get_year(org_date)\n",
    "        if oldest > data_year:\n",
    "            oldest = data_year\n",
    "        else:\n",
    "            continue\n",
    "    return oldest    "
   ]
  },
  {
   "cell_type": "code",
   "execution_count": 14,
   "metadata": {},
   "outputs": [
    {
     "data": {
      "text/plain": [
       "1899"
      ]
     },
     "execution_count": 14,
     "metadata": {},
     "output_type": "execute_result"
    }
   ],
   "source": [
    "earliest_year()"
   ]
  },
  {
   "cell_type": "code",
   "execution_count": 15,
   "metadata": {},
   "outputs": [],
   "source": [
    "def latest_year():\n",
    "    latest = 1899\n",
    "    for i in range(project.count()):\n",
    "        org_date = project.get_formed(i)\n",
    "        data_year = get_year(org_date)\n",
    "        \n",
    "        if latest < data_year:\n",
    "            latest = data_year\n",
    "        else:\n",
    "            continue\n",
    "    return latest    \n"
   ]
  },
  {
   "cell_type": "code",
   "execution_count": 16,
   "metadata": {},
   "outputs": [
    {
     "data": {
      "text/plain": [
       "2019"
      ]
     },
     "execution_count": 16,
     "metadata": {},
     "output_type": "execute_result"
    }
   ],
   "source": [
    "latest_year()"
   ]
  },
  {
   "cell_type": "code",
   "execution_count": 17,
   "metadata": {},
   "outputs": [],
   "source": [
    "def total_deaths():\n",
    "    total_dmg = 0\n",
    "    for i in range(project.count()):\n",
    "        total_dmg += project.get_deaths(i)\n",
    "    return total_dmg"
   ]
  },
  {
   "cell_type": "code",
   "execution_count": 18,
   "metadata": {},
   "outputs": [],
   "source": [
    "def total_damage():\n",
    "    total_dmg = 0\n",
    "    for i in range(project.count()):\n",
    "        total_dmg += format_damage(project.get_damage(i))\n",
    "    return total_dmg"
   ]
  },
  {
   "cell_type": "code",
   "execution_count": 19,
   "metadata": {},
   "outputs": [],
   "source": [
    "def deadliest_hurricane():\n",
    "    name = deadliest_in_range(earliest_year(), latest_year())\n",
    "    for i in range (project.count()):\n",
    "        if project.get_name(i) == name:\n",
    "            break\n",
    "        else:\n",
    "            continue\n",
    "    return get_year(project.get_formed(i))"
   ]
  },
  {
   "cell_type": "code",
   "execution_count": 20,
   "metadata": {},
   "outputs": [],
   "source": [
    "def deadliest_hurricane_in_range(year1, year2): #  How much damage (in dollars) was \n",
    "    worst_idx = None\n",
    "    for i in range(project.count()):\n",
    "        if (get_year(project.get_formed(i)) >= year1) and (get_year(project.get_formed(i)) <= year2):\n",
    "            if worst_idx == None or project.get_deaths(worst_idx) < project.get_deaths(i):  # TODO: it is worse than previous?\n",
    "                worst_idx = i\n",
    "    return worst_idx"
   ]
  },
  {
   "cell_type": "code",
   "execution_count": 21,
   "metadata": {},
   "outputs": [],
   "source": [
    "\n",
    "def hc_form_in_range(year1, year2): # 1990 / 1999\n",
    "    count = 0\n",
    "    \n",
    "    for i in range(project.count()):\n",
    "        if (get_year(project.get_formed(i)) >= year1) and (get_year(project.get_formed(i)) <= year2):\n",
    "            count += 1                     \n",
    "        else:\n",
    "            continue\n",
    "    return count"
   ]
  },
  {
   "cell_type": "code",
   "execution_count": 22,
   "metadata": {},
   "outputs": [],
   "source": [
    "def hurricanes_in_month(month):\n",
    "    count = 0\n",
    "    for i in range(project.count()):\n",
    "        date = project.get_formed(i)\n",
    "        target_month = get_month(date)\n",
    "        if target_month == month:\n",
    "            count += 1\n",
    "        else:\n",
    "            continue\n",
    "    return count"
   ]
  },
  {
   "cell_type": "code",
   "execution_count": 23,
   "metadata": {},
   "outputs": [],
   "source": [
    "def most_form_months():\n",
    "    most_month = 0\n",
    "    for i in range(13):\n",
    "        if hurricanes_in_month(\"0\" + str(i)) > most_month:\n",
    "            most_month = i\n",
    "        else:\n",
    "            continue\n",
    "    return most_month"
   ]
  },
  {
   "cell_type": "code",
   "execution_count": 24,
   "metadata": {},
   "outputs": [],
   "source": [
    "def death_measurements(deaths):\n",
    "    year_list = []\n",
    "    \n",
    "    for i in range(project.count()):\n",
    "        if project.get_deaths(i) >= deaths:\n",
    "            date = project.get_formed(i)\n",
    "            year_list.append(get_year(date))\n",
    "        else:\n",
    "            continue\n",
    "    \n",
    "    year_list = list(set(year_list)) # copied from https://www.geeksforgeeks.org/python-ways-to-remove-duplicates-from-list/        \n",
    "    return len(year_list)"
   ]
  },
  {
   "cell_type": "code",
   "execution_count": 25,
   "metadata": {},
   "outputs": [],
   "source": [
    "def damage_measurements(damage):\n",
    "    input_formated_damage = format_damage(damage)\n",
    "    year_list = []\n",
    "    \n",
    "    for i in range(project.count()):\n",
    "        if format_damage(project.get_damage(i)) > input_formated_damage:\n",
    "            date = project.get_formed(i)\n",
    "            year_list.append(get_year(date))\n",
    "        \n",
    "        else:\n",
    "            continue\n",
    "    \n",
    "    year_list = list(set(year_list)) # copied from https://www.geeksforgeeks.org/python-ways-to-remove-duplicates-from-list/\n",
    "    return len(year_list)\n",
    "    "
   ]
  },
  {
   "cell_type": "code",
   "execution_count": 26,
   "metadata": {},
   "outputs": [
    {
     "data": {
      "text/plain": [
       "133"
      ]
     },
     "execution_count": 26,
     "metadata": {},
     "output_type": "execute_result"
    }
   ],
   "source": [
    "# Q1: How many records are in the dataset?\n",
    "project.count()"
   ]
  },
  {
   "cell_type": "code",
   "execution_count": 27,
   "metadata": {},
   "outputs": [
    {
     "data": {
      "text/plain": [
       "'Omar'"
      ]
     },
     "execution_count": 27,
     "metadata": {},
     "output_type": "execute_result"
    }
   ],
   "source": [
    "# Q2: What is the name of the hurricane at last index?\n",
    "project.get_name(project.count()-1)"
   ]
  },
  {
   "cell_type": "code",
   "execution_count": 28,
   "metadata": {},
   "outputs": [
    {
     "data": {
      "text/plain": [
       "72"
      ]
     },
     "execution_count": 28,
     "metadata": {},
     "output_type": "execute_result"
    }
   ],
   "source": [
    "# Q3: How many deaths were caused by the hurricane at index 10?\n",
    "project.get_deaths(10)"
   ]
  },
  {
   "cell_type": "code",
   "execution_count": 29,
   "metadata": {},
   "outputs": [
    {
     "data": {
      "text/plain": [
       "True"
      ]
     },
     "execution_count": 29,
     "metadata": {},
     "output_type": "execute_result"
    }
   ],
   "source": [
    "# Q4:Is there a hurricane named Bob?\n",
    "name_inclusion(\"Bob\")"
   ]
  },
  {
   "cell_type": "code",
   "execution_count": 30,
   "metadata": {},
   "outputs": [
    {
     "data": {
      "text/plain": [
       "3"
      ]
     },
     "execution_count": 30,
     "metadata": {},
     "output_type": "execute_result"
    }
   ],
   "source": [
    "# Q5: How many hurricanes named Florence are in the dataset?\n",
    "name_count(\"Florence\")"
   ]
  },
  {
   "cell_type": "code",
   "execution_count": 31,
   "metadata": {},
   "outputs": [
    {
     "data": {
      "text/plain": [
       "190"
      ]
     },
     "execution_count": 31,
     "metadata": {},
     "output_type": "execute_result"
    }
   ],
   "source": [
    "# Q6: What is the fastest MPH achieved by a hurricane in the dataset?\n",
    "max_speed()"
   ]
  },
  {
   "cell_type": "code",
   "execution_count": 32,
   "metadata": {},
   "outputs": [
    {
     "data": {
      "text/plain": [
       "'Allen'"
      ]
     },
     "execution_count": 32,
     "metadata": {},
     "output_type": "execute_result"
    }
   ],
   "source": [
    "# Q7: What is the name of that fastest hurricane?\n",
    "fastest_hc_name()"
   ]
  },
  {
   "cell_type": "code",
   "execution_count": 33,
   "metadata": {},
   "outputs": [
    {
     "data": {
      "text/plain": [
       "1570000000"
      ]
     },
     "execution_count": 33,
     "metadata": {},
     "output_type": "execute_result"
    }
   ],
   "source": [
    "# Q8: What is the damage (in dollars) caused by the fastest hurricane?\n",
    "format_damage(project.get_damage(get_index_from_name('Allen')))"
   ]
  },
  {
   "cell_type": "code",
   "execution_count": 34,
   "metadata": {},
   "outputs": [
    {
     "data": {
      "text/plain": [
       "18960"
      ]
     },
     "execution_count": 34,
     "metadata": {},
     "output_type": "execute_result"
    }
   ],
   "source": [
    "# Q9: What is the total number of deaths by all the hurricanes in the dataset?\n",
    "total_deaths()"
   ]
  },
  {
   "cell_type": "code",
   "execution_count": 35,
   "metadata": {},
   "outputs": [
    {
     "data": {
      "text/plain": [
       "'Maria'"
      ]
     },
     "execution_count": 35,
     "metadata": {},
     "output_type": "execute_result"
    }
   ],
   "source": [
    "# Q10: What was the deadliest hurricane between 2010 and 2020 (inclusive)?\n",
    "deadliest_in_range(2010, 2020)"
   ]
  },
  {
   "cell_type": "code",
   "execution_count": 36,
   "metadata": {},
   "outputs": [
    {
     "data": {
      "text/plain": [
       "'Inez'"
      ]
     },
     "execution_count": 36,
     "metadata": {},
     "output_type": "execute_result"
    }
   ],
   "source": [
    "# Q11: What was the deadliest hurricane of the 20th century (1901 to 2000, inclusive)?\n",
    "deadliest_in_range(1901, 2000)"
   ]
  },
  {
   "cell_type": "code",
   "execution_count": 37,
   "metadata": {},
   "outputs": [
    {
     "data": {
      "text/plain": [
       "1899"
      ]
     },
     "execution_count": 37,
     "metadata": {},
     "output_type": "execute_result"
    }
   ],
   "source": [
    "# Q12: In what year did the most deadly hurricane in the dataset form?\n",
    "deadliest_hurricane()"
   ]
  },
  {
   "cell_type": "code",
   "execution_count": 38,
   "metadata": {},
   "outputs": [
    {
     "data": {
      "text/plain": [
       "91610000000"
      ]
     },
     "execution_count": 38,
     "metadata": {},
     "output_type": "execute_result"
    }
   ],
   "source": [
    "# Q13: How much damage (in dollars) was done by the deadliest hurricane of the 21th century?\n",
    "format_damage(project.get_damage(deadliest_hurricane_in_range(2000, 2099)))"
   ]
  },
  {
   "cell_type": "code",
   "execution_count": 39,
   "metadata": {},
   "outputs": [
    {
     "data": {
      "text/plain": [
       "False"
      ]
     },
     "execution_count": 39,
     "metadata": {},
     "output_type": "execute_result"
    }
   ],
   "source": [
    "91610000000 < 80000000"
   ]
  },
  {
   "cell_type": "code",
   "execution_count": 40,
   "metadata": {},
   "outputs": [
    {
     "data": {
      "text/plain": [
       "864830464997"
      ]
     },
     "execution_count": 40,
     "metadata": {},
     "output_type": "execute_result"
    }
   ],
   "source": [
    "# Q14: What were the total damages across all hurricanes in the dataset, in dollars?\n",
    "total_damage()"
   ]
  },
  {
   "cell_type": "code",
   "execution_count": 41,
   "metadata": {},
   "outputs": [
    {
     "data": {
      "text/plain": [
       "4"
      ]
     },
     "execution_count": 41,
     "metadata": {},
     "output_type": "execute_result"
    }
   ],
   "source": [
    "# Q15: How many hurricanes were formed in the month of June?\n",
    "hurricanes_in_month(\"06\")"
   ]
  },
  {
   "cell_type": "code",
   "execution_count": 42,
   "metadata": {},
   "outputs": [
    {
     "data": {
      "text/plain": [
       "3"
      ]
     },
     "execution_count": 42,
     "metadata": {},
     "output_type": "execute_result"
    }
   ],
   "source": [
    "# Q16: How many hurricanes were formed in the month of January?\n",
    "hurricanes_in_month(\"01\")"
   ]
  },
  {
   "cell_type": "code",
   "execution_count": 43,
   "metadata": {},
   "outputs": [
    {
     "data": {
      "text/plain": [
       "9"
      ]
     },
     "execution_count": 43,
     "metadata": {},
     "output_type": "execute_result"
    }
   ],
   "source": [
    "# Q17: Which month experienced the formation of the most number of hurricanes?\n",
    "most_form_months()"
   ]
  },
  {
   "cell_type": "code",
   "execution_count": 44,
   "metadata": {},
   "outputs": [
    {
     "data": {
      "text/plain": [
       "25"
      ]
     },
     "execution_count": 44,
     "metadata": {},
     "output_type": "execute_result"
    }
   ],
   "source": [
    "# Q18: How many hurricanes were formed in the decade of 1990-1999 (inclusive)?\n",
    "hc_form_in_range(1990, 1999)"
   ]
  },
  {
   "cell_type": "code",
   "execution_count": 45,
   "metadata": {},
   "outputs": [
    {
     "data": {
      "text/plain": [
       "16"
      ]
     },
     "execution_count": 45,
     "metadata": {},
     "output_type": "execute_result"
    }
   ],
   "source": [
    "# Q19: How many years in the history experienced a hurricane that caused more than 200 in deaths?\n",
    "death_measurements(200)"
   ]
  },
  {
   "cell_type": "code",
   "execution_count": 46,
   "metadata": {},
   "outputs": [
    {
     "data": {
      "text/plain": [
       "11"
      ]
     },
     "execution_count": 46,
     "metadata": {},
     "output_type": "execute_result"
    }
   ],
   "source": [
    "# Q20: How many years in the history experienced a hurricane that caused more than 10 Billion in damage?\n",
    "damage_measurements(\"10B\")"
   ]
  },
  {
   "cell_type": "code",
   "execution_count": null,
   "metadata": {},
   "outputs": [],
   "source": []
  }
 ],
 "metadata": {
  "kernelspec": {
   "display_name": "Python 3",
   "language": "python",
   "name": "python3"
  },
  "language_info": {
   "codemirror_mode": {
    "name": "ipython",
    "version": 3
   },
   "file_extension": ".py",
   "mimetype": "text/x-python",
   "name": "python",
   "nbconvert_exporter": "python",
   "pygments_lexer": "ipython3",
   "version": "3.8.1"
  }
 },
 "nbformat": 4,
 "nbformat_minor": 4
}
