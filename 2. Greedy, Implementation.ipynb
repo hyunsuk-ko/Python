{
 "cells": [
  {
   "cell_type": "code",
   "execution_count": null,
   "metadata": {},
   "outputs": [],
   "source": [
    "'''\n",
    "< 그리디 알고리즘 (탐욕법) >\n",
    "- 현재 상황에서 지금 당장 좋은 것만 고르는 방법.\n",
    "- 일반적인 그리디 알고리즘은 문제를 풀기 위한 최소한의 아이디어를 떠올릴 수\n",
    "있는 능력을 요구.\n",
    "- 그리디 해법은 정당성 분석이 중요.\n",
    ": 단순히 가장 좋아 보이는 것을 반복적으로 선택해도 최적의 해 구할 수 있는지 검토.\n",
    "- 상당수 그리디 문제는 탐욕법으로 얻은 해가 최적의 해라는 것을 추론할 수 있어야\n",
    "풀리도록 출제.\n",
    "'''"
   ]
  },
  {
   "cell_type": "code",
   "execution_count": null,
   "metadata": {},
   "outputs": [],
   "source": [
    "'''\n",
    "Q) 거스름 돈 문제: 문제 해결 아이디어\n",
    ": 당신은 음식점의 계산을 도와주는 점원입니다. 카운터에는 거스름돈으로 사용할\n",
    "500원, 100원, 50원, 10원짜리 동전이 무한히 존재한다고 가정합니다. 손님에게 거슬러\n",
    "주어야 할 돈이 N원일 때 거슬러 주어야 할 동전의 최소 개수를 구하세요. 단, 거슬러\n",
    "줘야 할 돈 N은 항상 10의 배수입니다.\n",
    "'''\n",
    "\n",
    "'''\n",
    "- 최적의 해를 빠르게 구하기 위해서는 가장 큰 화폐 단위부터 거슬러 주면 됨.\n",
    "- N원을 거슬러 줘야 할 때, 가장 먼저 500원으로 거슬러 줄 수 있을 만큼 거슬러 줌.\n",
    "- 이후에 100원, 50원, 10원짜리 동전을 차례대로 거슬러 줄 수 있을 만큼 거슬러 주면 됨.\n",
    "- N = 1260일 때 예시...\n",
    ": 500원 x 2 + 100원 x 2 + 50원 x 1 + 10원 x 1 => 총 6개.\n",
    "'''"
   ]
  },
  {
   "cell_type": "code",
   "execution_count": null,
   "metadata": {},
   "outputs": [],
   "source": [
    "'''\n",
    "Q) 거스름 돈: 정당성 분석\n",
    "- 가장 크 화폐 단위부터 돈을 거슬러 주는 것이 최적의 해를 보장하는 이유?\n",
    ": 가지고 있는 동전 중에서는 큰 단위가 항상 작은 단위의 배수이므로 작은 단위의 동전\n",
    "들을 종합해 다른 해가 나올 수 없기 때문.\n",
    "- 만약 800원을 거슬러 줘야 하는데 화폐단위가 500원, 400원, 100원이라면?\n",
    "- 그리디 알고리즘 문제에서는 이처럼 문제 풀이를 위한 최소한의 아이디어를 떠올리고\n",
    "이것이 정당한지 검토할 수 있어야 함.\n",
    "'''"
   ]
  },
  {
   "cell_type": "code",
   "execution_count": 1,
   "metadata": {},
   "outputs": [
    {
     "name": "stdout",
     "output_type": "stream",
     "text": [
      "6\n"
     ]
    }
   ],
   "source": [
    "# 거스름돈 답안 예시\n",
    "money = 1260\n",
    "count = 0\n",
    "\n",
    "# 큰 단위의 화폐부터 차례대로 확인하기\n",
    "array = [500, 100, 50, 10]\n",
    "\n",
    "for coin in array:\n",
    "    count += money // coin # count = count + (money // coin) => 몫\n",
    "    money %= coin # money = money % coin => 나머지\n",
    "print(count)"
   ]
  },
  {
   "cell_type": "code",
   "execution_count": null,
   "metadata": {},
   "outputs": [],
   "source": [
    "'''\n",
    "Q) 거스름 돈: 시간 복잡도 분석\n",
    "- 화폐의 종류가 K라고 할 때, 소스코드의 시간 복잡도는 O(K).\n",
    "- 이 알고리즘의 시간 복잡도는 거슬러줘야 하는 금액과는 무관하며, 동전의 총 종류\n",
    "에만 영향을 받음.\n",
    "'''"
   ]
  },
  {
   "cell_type": "code",
   "execution_count": null,
   "metadata": {},
   "outputs": [],
   "source": [
    "'''\n",
    "Q) 1이 될 때까지\n",
    "- 어떠한 수 N이 1이 될 때까지 다음의 두 과정 중 하나를 반복적으로 수행하려고 함.\n",
    "- 단, 두번째 연산은 N이 K로 나누어 떨어질 때만 선택할 수 있음.\n",
    "    1. N에서 1을 뺌.\n",
    "    2. N을 K로 나눔.\n",
    "- 예를 들어 N이 17, K가 4라고 가정하자. 이때 1번의 과정을 수행하면 N은 16이 됨.\n",
    "이후에 2번의 과정을 두 번 수행하면 N은 1이 됨. 결과적으로 이 경우 전체 과정을 실행\n",
    "한 횟수는 3이 됨. 이는 N을 1로 만드는 최소 횟수.\n",
    "- N과 K가 주어질 때 N이 1이 될 때 까지 1번 혹은 2번의 과정을 수행해야 하는 최소 횟수\n",
    "를 구하는 프로그램을 작성하세요.\n",
    "'''"
   ]
  },
  {
   "cell_type": "code",
   "execution_count": null,
   "metadata": {},
   "outputs": [],
   "source": [
    "'''\n",
    "Q) 1이 될때까지: 문제 해결 아이디어\n",
    "- 주어진 N에 대하여 최대한 많이 나누기를 수행하면 됨.\n",
    "- N의 값을 줄일 때 2 이상의 수로 나누는 작업이 1을 빼는 작업보다 수를 훨씬 많이\n",
    "줄일 수 있음.\n",
    "- 예를 들어 N = 25, K= 3일 때는\n",
    "\n",
    "단계               N의 값\n",
    "0                    25\n",
    "1       N-1          24\n",
    "2       N / K         8\n",
    "3       N-1           7\n",
    "4       N-1           6\n",
    "5       N / K         2\n",
    "6       N-1           1\n",
    "'''"
   ]
  },
  {
   "cell_type": "code",
   "execution_count": null,
   "metadata": {},
   "outputs": [],
   "source": [
    "'''\n",
    "Q) 1이 될때까지: 정당성 분석\n",
    "- 가능하면 최대한 많이 나누는 작업이 최적의 해를 항상 보장할 수 있을까요?\n",
    "- N이 아무리 큰 수여도, K로 계속 나눈다면 기하급수적을 빠르게 줄일 수 있음.\n",
    "- 다시 말해, K가 2 이상이기만 하면, K 로 나누는 것이 1을 빼는 것보다 항상 빠르게\n",
    "N을 줄일 수 있음.\n",
    "- 또한 N은 항상 1에 도달하게 됨. (최적의 해 성립)\n",
    "'''"
   ]
  },
  {
   "cell_type": "code",
   "execution_count": 2,
   "metadata": {},
   "outputs": [
    {
     "name": "stdout",
     "output_type": "stream",
     "text": [
      "17 3\n",
      "6\n"
     ]
    }
   ],
   "source": [
    "''' My Answer...\n",
    "n, k = map(int, input().split())\n",
    "count = 0\n",
    "\n",
    "while n != 1:\n",
    "    if n % k == 0:\n",
    "        n /= k\n",
    "    else:\n",
    "        n -= -1\n",
    "    count += 1\n",
    "print(count)\n",
    "'''\n",
    "\n",
    "n, k = map(int, input().split())\n",
    "result = 0\n",
    "\n",
    "while True:\n",
    "    # N이 K로 나누어 떨어지는 수가 될 때까지만 1씩 빼기\n",
    "    target = (n // k) * k # 이렇게 되면 target은 항상 k의 배수가 됨.\n",
    "    result += (n - target)\n",
    "    n = target\n",
    "    \n",
    "    # N이 K보다 작을 때 (더 이상 나루 수 없을 때) 반복문 탈출\n",
    "    if n < k:\n",
    "        break\n",
    "    \n",
    "    # K로 나누기\n",
    "    result += 1\n",
    "    n //= k\n",
    "\n",
    "# 마지막으로 남은 수에 대하여 1씩 빼기\n",
    "result += (n-1)\n",
    "print(result)"
   ]
  },
  {
   "cell_type": "code",
   "execution_count": null,
   "metadata": {},
   "outputs": [],
   "source": [
    "'''\n",
    "Q) 곱하기 혹은 더하기\n",
    "\n",
    "- 각 자리가 숫자(0~9)로만 이루어진 문자열 S가 주어졌을 때, 왼쪽부터 오른쪽으로\n",
    "하나씩 모든 숫자를 확인하며 숫자 사이에 'X' 혹은 '+' 연산자를 넣어 결과적으로 \n",
    "만들어질 수 있는 가장 큰 수를 구하는 프로그램을 작성하여라.\n",
    "\n",
    "- 단, +보다 X를 먼저 계산하는 일반적인 방식과는 달리, 모든 연산은 왼쪽에서부터\n",
    "순서대로 이루어짐.\n",
    "- 예를 들어 02984라는 문자열로 만들 수 있는 가장 큰 수는\n",
    "((((0 + 2) x 9) x 8) x 4) = 576\n",
    "'''"
   ]
  },
  {
   "cell_type": "code",
   "execution_count": 1,
   "metadata": {},
   "outputs": [
    {
     "name": "stdout",
     "output_type": "stream",
     "text": [
      "76845\n",
      "6720\n"
     ]
    }
   ],
   "source": [
    "data = input()\n",
    "\n",
    "# 첫 번째 문자를 숫자로 변경하여 대입\n",
    "result = int(data[0])\n",
    "\n",
    "for i in range(1, len(data)):\n",
    "    # 두 수 중 하나라도 '0' 혹은 '1'인 경우, 곱하기보다는 더하기 수행.\n",
    "    num = int(data[i])\n",
    "    if num <= 1 or result <= 1:\n",
    "        result += num\n",
    "    else:\n",
    "        result *= num\n",
    "print(result)"
   ]
  },
  {
   "cell_type": "code",
   "execution_count": null,
   "metadata": {},
   "outputs": [],
   "source": [
    "'''\n",
    "< 구현: 시뮬레이션과 완전 탐색 >\n",
    "\n",
    "- 구현 = 머릿속에 있는 알고리즘을 소스코드로 바꾸는 과정.\n",
    "\n",
    "- 알고리즘 대회에서 구현 유형의 문제는 무엇?\n",
    ": 풀이를 떠올리는 것은 쉽지만 소스코드로 옮기기 어려운 문제를 지칭.\n",
    "\n",
    "- 구현의 예시\n",
    "    1. 알고리즘은 간단한데 코드가 지나칠 만큼 길어지는 문제\n",
    "    2. 실수 연산을 다루고, 특정 소수점 자리까지 출력해야 하는 문제\n",
    "    3. 문자열을 특정한 기준에 따라서 끊어 처리해야 하는 문제\n",
    "    4. 적절한 라이브러리를 찾아서 사용해야 하는 문제\n",
    "\n",
    "- 프로그래밍에서의 좌표계는 일반적인 대수학에서의 자표계와 다른 의미를 가질 때가 많음.\n",
    ": 일반적으로 알고리즘 문제에서의 2차원 공간은 행렬(Matrix)의 의미로 사용.\n",
    ": 코딩할 때는 x와 y가 반대! (x = 수직 / y = 수평)\n",
    "\n",
    "- 완전 탐색 문제에서는 2차원 공간에서의 방향 벡터가 자주 활용됨.\n",
    "'''"
   ]
  },
  {
   "cell_type": "code",
   "execution_count": null,
   "metadata": {},
   "outputs": [],
   "source": [
    "'''\n",
    "Q) 시각: 문제 설명\n",
    "\n",
    "- 정수 N이 입력되면 00시 00분 00초부터 N시 59분 59초까지의 모든 시각 중에서 3이\n",
    "하나라도 포함되는 모든 경우의 수를 구하는 프로그램을 작성하세요. 예를 들어 1을\n",
    "입력했을 때 다음은 3이 하나라도 포함되어 있으므로 세어야 하는 시각입니다.\n",
    ": 00시 00분 03초, 00시 13분 30초\n",
    "\n",
    "- 반면에 다음은 3이 하나도 포함되어 있지 않으므로 세면 안 되는 시각입니다.\n",
    ": 00시 02분 55초, 01시 27분 45초\n",
    "'''"
   ]
  },
  {
   "cell_type": "code",
   "execution_count": null,
   "metadata": {},
   "outputs": [],
   "source": [
    "'''\n",
    "Q) 시각: 문제 해결 아이디어\n",
    "- 이 문제는 가능한 모든 시각의 경우를 하나씩 모두 세서 풀 수 있는 문제.\n",
    "- 하루는 86,400초이므로, 00시 00분 00초부터 23시 59분 59초까지의 모든 경우는\n",
    "86,400가지. (24 * 60 * 60)\n",
    "- 따라서 단순히 시각을 1씩 증가시키면서 3이 하나라도 포함되어 있는지를 확인.\n",
    "- 이러한 유형은 완전 탐색(Brute Forcing) 문제 유형이라고 불림.\n",
    "- 가능한 경우의 수를 모두 검사해보는 탐색 방법.\n",
    "'''"
   ]
  },
  {
   "cell_type": "code",
   "execution_count": 2,
   "metadata": {},
   "outputs": [
    {
     "name": "stdout",
     "output_type": "stream",
     "text": [
      "7\n",
      "14625\n"
     ]
    }
   ],
   "source": [
    "# H 입력 받기\n",
    "h = int(input())\n",
    "\n",
    "count = 0\n",
    "for i in range(h+1):\n",
    "    for j in range(60):\n",
    "        for k in range(60):\n",
    "            # 매 시각 안에 '3'이 포함되어 있다면 카운트 증가.\n",
    "            if '3' in str(i) + str(j) + str(k):\n",
    "                count += 1\n",
    "print(count)"
   ]
  },
  {
   "cell_type": "code",
   "execution_count": null,
   "metadata": {},
   "outputs": [],
   "source": [
    "'''\n",
    "Q) 상하좌우: 문제 설명\n",
    "\n",
    "- 여행가 A는 N X N 크기의 정사각형 공간 위에 서있습니다. 이 공간은 1 X 1 크기의\n",
    "정사각형으로 나누어져 있습니다. 가장 왼쪽 위 좌표는 (1,1)이며, 가장 오른쪽 아래\n",
    "좌표는 (N,N)에 해당합니다. 여행가 A는 상,하,좌,우 방향으로 이동할 수 있으며, 시작\n",
    "좌표는 항상 (1,1)입니다. 우리 앞에는 여행가 A가 이동할 계획이 적힌 계획서가 놓여\n",
    "있습니다.\n",
    "\n",
    "- 계획서에는 하나의 줄에 띄어쓰기를 기준을 L,R,U,D 중 하나의 문자가 반복적으로 적혀\n",
    "있습니다. 각 문자의 의미는 다음과 같습니다.\n",
    "    L: 왼쪽으로 한 칸 이동\n",
    "    R: 오른쪽으로 한 칸 이동\n",
    "    U: 위쪽으로 한 칸 이동\n",
    "    D: 아래쪽으로 한 칸 이동\n",
    "\n",
    "- 이때 여행가 A가 N X N 크기의 정사각형 공간을 벗어나는 움직임은 무시됩니다. 예를\n",
    "들어 (1,1)의 위치에서 L 혹은 U를 만나면 무시됩니다.\n",
    "\n",
    "- 첫째 줄에 공간의 크기를 나타내는 N이 주어집니다. (1 <= N <= 100)\n",
    "\n",
    "- 둘째 줄에 여행가 A가 이동할 계획서 내용이 주어집니다. (1 <= 이동 횟수 <= 100)\n",
    "\n",
    "- 첫째 줄에 여행가 A가 최종적으로 도착할 지점의 좌표 (X, Y)를 공백을 기준으로 출력.\n",
    "'''"
   ]
  },
  {
   "cell_type": "code",
   "execution_count": null,
   "metadata": {},
   "outputs": [],
   "source": [
    "'''\n",
    "Q) 상하좌우: 문제 해결 아이디어\n",
    "\n",
    "- 이 문제는 요구사항대로 충실히 구현하면 되는 문제.\n",
    "\n",
    "- 일련의 명령에 따라서 개체를 차례대로 이동시킨다는 점에서 시뮬레이션 유형으로도\n",
    "분류되며 구현이 중요한 대표적인 문제 유형.\n",
    "\n",
    "- 다만, 알고리즘 교재나 문제풀이 사이트에 따라서 다르게 일컬을 수 있으므로,\n",
    "코딩 테스트에서의 시뮬레이션 유형, 구현 유형, 완전 탐색 유형은 서로 유사한 점이\n",
    "많다는 정도로만 기억.\n",
    "'''"
   ]
  },
  {
   "cell_type": "code",
   "execution_count": 6,
   "metadata": {},
   "outputs": [
    {
     "name": "stdout",
     "output_type": "stream",
     "text": [
      "5\n",
      "R R R U D D\n",
      "3 4\n"
     ]
    }
   ],
   "source": [
    "n = int(input())\n",
    "x, y = 1, 1\n",
    "plans = input().split()\n",
    "\n",
    "# L, R, U, D에 따른 이동 방향\n",
    "dx = [0, 0, -1, 1]\n",
    "dy = [-1, 1, 0, 0]\n",
    "move_types = ['L', 'R', 'U', 'D']\n",
    "\n",
    "# 이동 계획을 하나씩 확인하기\n",
    "for plan in plans:\n",
    "    # 이동 후 좌표 구하기\n",
    "    for i in range(len(move_types)):\n",
    "        if plan == move_types[i]:\n",
    "            nx = x + dx[i]\n",
    "            ny = y + dy[i]\n",
    "            \n",
    "    # 공간을 벗어나는 경우 무시\n",
    "    if nx < 1 or ny < 1 or nx > n or ny > n:\n",
    "        continue\n",
    "    \n",
    "    # 이동 수행\n",
    "    x, y = nx, ny\n",
    "\n",
    "print(x,y)"
   ]
  },
  {
   "cell_type": "code",
   "execution_count": 9,
   "metadata": {},
   "outputs": [
    {
     "name": "stdout",
     "output_type": "stream",
     "text": [
      "AJKDLSI412K4JSJ9D\n",
      "ADDIJJJKKLSS20\n"
     ]
    }
   ],
   "source": [
    "'''\n",
    "Q) 문자열 재정렬: 문제 설명\n",
    "\n",
    "- 알파벳 대문자와 숫자(0~9)로만 구성된 문자열이 입력으로 주어집니다. 이때 모든\n",
    "알파벳을 오름차순으로 정렬하여 이어서 출력한 뒤에, 그 모든 숫자를 더한 값을 이어서\n",
    "출력.\n",
    "\n",
    "- 예를 들어 K1KA5CB7이라는 값이 들어오면 ABCKK13을 출력.\n",
    "'''\n",
    "\n",
    "letters = input()\n",
    "alpha_list = []\n",
    "num_list = []\n",
    "\n",
    "for letter in letters:\n",
    "    if letter.isalpha() :\n",
    "        alpha_list.append(letter)\n",
    "    else:\n",
    "        num_list.append(int(letter))\n",
    "\n",
    "alpha_list.sort()\n",
    "number = str(sum(num_list))\n",
    "\n",
    "final_word = \"\"\n",
    "for alpha in alpha_list:\n",
    "    final_word += alpha\n",
    "\n",
    "print(final_word + number)"
   ]
  },
  {
   "cell_type": "code",
   "execution_count": null,
   "metadata": {},
   "outputs": [],
   "source": []
  }
 ],
 "metadata": {
  "kernelspec": {
   "display_name": "Python 3",
   "language": "python",
   "name": "python3"
  },
  "language_info": {
   "codemirror_mode": {
    "name": "ipython",
    "version": 3
   },
   "file_extension": ".py",
   "mimetype": "text/x-python",
   "name": "python",
   "nbconvert_exporter": "python",
   "pygments_lexer": "ipython3",
   "version": "3.8.1"
  }
 },
 "nbformat": 4,
 "nbformat_minor": 4
}
