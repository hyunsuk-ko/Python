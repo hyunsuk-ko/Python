{
 "cells": [
  {
   "cell_type": "code",
   "execution_count": 4,
   "metadata": {},
   "outputs": [
    {
     "data": {
      "text/plain": [
       "'\\n1. List\\n- 여러 개의 데이터를 연속적으로 담아 처리하기 위해 사용하는 자료형.\\n- 사용자의 입장에서 C나 자바에서의 배열(Array)의 기능 쁜 아니라 Linked List의 기능 지원.\\n- C++의 STL vector와 기능적으로 유사.\\n- 리스트 대신에 배열 혹은 테이블이라고 부르기도 함.\\n- 리스트는 [] 안에 원소를 넣어 초기화하며, 쉼표(,)로 원소 구분.\\n- 리스트의 원소에 접근할 때는 Index 값을 괄호에 넣음.\\n- 인덱스는 0부터 시작!\\n- 비어있는 리스트를 선언하고자 할 때는 list() 혹은 간단히 []를 이용 가능.\\n\\n< Indexing & Slicing >\\n- 인덱스 값을 입력하여 리스트의 특정한 원소에 접근하는 것 = Indexing\\n- 파이썬의 Index 값은 양의 정수와 음의 정수를 모두 사용할 수 있음.\\n- 음의 정수를 넣으면 원소를 거꾸로 탐색.\\n\\n- 리스트에서 연속적인 위치를 갖는 원소들을 가져와야 할 때는 Slicing 이용.\\n- 대괄호 안에 콜론(:)을 넣어서 시작 인덱스와 끝 인덱스를 설정.\\n- 끝 인덱스는 실제 인덱스보다 1을 더 크게 설정.\\n'"
      ]
     },
     "execution_count": 4,
     "metadata": {},
     "output_type": "execute_result"
    }
   ],
   "source": [
    "'''\n",
    "1. List\n",
    "- 여러 개의 데이터를 연속적으로 담아 처리하기 위해 사용하는 자료형.\n",
    "- 사용자의 입장에서 C나 자바에서의 배열(Array)의 기능 쁜 아니라 Linked List의 기능 지원.\n",
    "- C++의 STL vector와 기능적으로 유사.\n",
    "- 리스트 대신에 배열 혹은 테이블이라고 부르기도 함.\n",
    "- 리스트는 [] 안에 원소를 넣어 초기화하며, 쉼표(,)로 원소 구분.\n",
    "- 리스트의 원소에 접근할 때는 Index 값을 괄호에 넣음.\n",
    "- 인덱스는 0부터 시작!\n",
    "- 비어있는 리스트를 선언하고자 할 때는 list() 혹은 간단히 []를 이용 가능.\n",
    "\n",
    "< Indexing & Slicing >\n",
    "- 인덱스 값을 입력하여 리스트의 특정한 원소에 접근하는 것 = Indexing\n",
    "- 파이썬의 Index 값은 양의 정수와 음의 정수를 모두 사용할 수 있음.\n",
    "- 음의 정수를 넣으면 원소를 거꾸로 탐색.\n",
    "\n",
    "- 리스트에서 연속적인 위치를 갖는 원소들을 가져와야 할 때는 Slicing 이용.\n",
    "- 대괄호 안에 콜론(:)을 넣어서 시작 인덱스와 끝 인덱스를 설정.\n",
    "- 끝 인덱스는 실제 인덱스보다 1을 더 크게 설정.\n",
    "'''"
   ]
  },
  {
   "cell_type": "code",
   "execution_count": 12,
   "metadata": {},
   "outputs": [
    {
     "name": "stdout",
     "output_type": "stream",
     "text": [
      "[0, 1, 2, 3, 4, 5, 6, 7, 8, 9]\n",
      "[1, 3, 5, 7, 9, 11, 13, 15, 17, 19]\n",
      "[[0, 0, 0], [0, 0, 0], [0, 0, 0], [0, 0, 0]]\n",
      "[[0, 0, 0], [0, 0, 0], [0, 0, 0], [0, 0, 0]]\n"
     ]
    },
    {
     "data": {
      "text/plain": [
       "'\\narray[1][1] = 5\\nprint(array) -> error\\n'"
      ]
     },
     "execution_count": 12,
     "metadata": {},
     "output_type": "execute_result"
    }
   ],
   "source": [
    "'''\n",
    "< List Comprehension >\n",
    "- 리스트를 초기화하는 방법 중 하나.\n",
    "- 대괄호 안에 조건문과 반복문을 적용하여 리스트를 초기화 할 수 있음.\n",
    "'''\n",
    "\n",
    "array = [i for i in range(10)]\n",
    "print(array)\n",
    "\n",
    "a = [i for i in range(20) if i % 2 == 1]\n",
    "print(a)\n",
    "\n",
    "'''\n",
    "a = []\n",
    "for i in range(20):\n",
    "    if i % 2 == 1:\n",
    "        a.append(i)\n",
    "print(a)\n",
    "'''\n",
    "\n",
    "'''\n",
    "- List Comprehension은 2차원 리스트를 초기화할 때 효과적으로 사용 가능.\n",
    "- 특히 n x m 크기의 2차원 리스트를 한번에 초기화할 때 유용.\n",
    "- good example: array = [[0] * m for _ in range(n)]\n",
    "- 만약 2차원 리스트를 초기화할 때 다음과 같이 작성하면 이상한 결과.\n",
    "- bad example: array = [[0] * m] * n\n",
    "- 위 코드는 리스트 안에 포함된 리스트가 모두 같은 객체로 인식.\n",
    "'''\n",
    "\n",
    "n = 4\n",
    "m = 3\n",
    "\n",
    "array = [[0] * m for _ in range(n)] # _: 굳이 i 라고 쓸 필요 없을 때.\n",
    "print(array)\n",
    "\n",
    "\n",
    "array = [[0] * m] * n\n",
    "print(array) # 4개의 리스트가 각각 같은 reference를 갖게 됨.\n",
    "\n",
    "'''\n",
    "array[1][1] = 5\n",
    "print(array) -> error\n",
    "'''\n"
   ]
  },
  {
   "cell_type": "code",
   "execution_count": 15,
   "metadata": {},
   "outputs": [
    {
     "name": "stdout",
     "output_type": "stream",
     "text": [
      "[3, 4, 5, 9, 10]\n",
      "[5, 4, 3, 9, 10]\n",
      "[3, 4, 5, 9, 10]\n"
     ]
    }
   ],
   "source": [
    "'''\n",
    "< List Methods >\n",
    "함수명        사용법                    설명                시간 복잡도\n",
    "\n",
    "append()     변수명.append()      리스트에 원소 삽입할 때       O(1)\n",
    "\n",
    "sort()  변수명.sort()   기본 정렬 기능으로 오름차순으로 정렬  O(NlogN)\n",
    "\n",
    "reverse()  변수명.sort(reverse=True)   내림차순 정렬         O(NlogN)\n",
    "\n",
    "insert()  insert(삽입 위치 인덱스, 삽입값)                     O(N)\n",
    "\n",
    "count()    변수명.count(특정 값)  특정 값의 데이터 개수 카운트  O(N)\n",
    "\n",
    "remove()  변수명.remove(특정 값) 특정 원소 제거, 원소 여러개면  O(N)\n",
    "                                       하나만 제거\n",
    "'''\n",
    "\n",
    "a = [5, 4, 3, 9, 10]\n",
    "a.sort()\n",
    "print(a) # 메소드\n",
    "\n",
    "b = [5, 4, 3, 9, 10]\n",
    "result = sorted(b) # 함수\n",
    "\n",
    "print(b) # b 자체는 바뀌지 않음.\n",
    "print(result)"
   ]
  },
  {
   "cell_type": "code",
   "execution_count": 16,
   "metadata": {},
   "outputs": [
    {
     "name": "stdout",
     "output_type": "stream",
     "text": [
      "[1, 2, 4]\n"
     ]
    }
   ],
   "source": [
    "'''\n",
    "< 리스트에서 특정 값의 원소를 모두 제거하기>\n",
    "- remove_all() 함수가 없어서 이렇게 해야 함.\n",
    "'''\n",
    "\n",
    "a = [1,2,3,4,5,5,5]\n",
    "remove_set = {3,5}\n",
    "\n",
    "# remove_list에 포함되지 않은 값만을 저장.\n",
    "result = [i for i in a if i not in remove_set]\n",
    "print(result)"
   ]
  },
  {
   "cell_type": "code",
   "execution_count": 17,
   "metadata": {},
   "outputs": [
    {
     "data": {
      "text/plain": [
       "'\\n< 문자열 자료형 >\\n- 문자열 변수를 초기할 때는 \"나 \\' 이용.\\n- 문자여 ㄹ안에 \"\" 나 \\'\\'가 포함되어야 하는 경우가 있음.\\n- 전체 문자열을 \"\"로 구성하는 경우, 내부적으로 \\'\\'를 포함 가능.\\n- 전체 문자열을 \\'\\'로 구성하는 경우, 내부적으로 \"\"를 포함 가능.\\n- 혹은 \\\\를 사용하면, 큰따옴표나 작은따옴표를 원하는만큼 포함 가능.\\n'"
      ]
     },
     "execution_count": 17,
     "metadata": {},
     "output_type": "execute_result"
    }
   ],
   "source": [
    "'''\n",
    "< 문자열 자료형 >\n",
    "- 문자열 변수를 초기할 때는 \"나 ' 이용.\n",
    "- 문자여 ㄹ안에 \"\" 나 ''가 포함되어야 하는 경우가 있음.\n",
    "- 전체 문자열을 \"\"로 구성하는 경우, 내부적으로 ''를 포함 가능.\n",
    "- 전체 문자열을 ''로 구성하는 경우, 내부적으로 \"\"를 포함 가능.\n",
    "- 혹은 \\를 사용하면, 큰따옴표나 작은따옴표를 원하는만큼 포함 가능.\n",
    "'''"
   ]
  },
  {
   "cell_type": "code",
   "execution_count": 18,
   "metadata": {},
   "outputs": [
    {
     "name": "stdout",
     "output_type": "stream",
     "text": [
      "Hello World\n",
      "StringStringString\n",
      "CD\n"
     ]
    }
   ],
   "source": [
    "'''\n",
    "< 문자열 연산 >\n",
    "- 문자열 변수에 덧셈(+)을 이용하면 문자열이 더해져 연결(concatenate)됨.\n",
    "- 문자열 변수를 특정한 양의 정수와 곱하는 경우, 문자열이 그 값만큼\n",
    "여러 번 더해짐.\n",
    "- 파이썬 문자열은 내부적으로 튜플과 유사하게 처리됨.\n",
    "- 문자열에 대해서도 마차낙지로 인덱싱과 슬라이싱 가능.\n",
    "'''\n",
    "a = 'Hello'\n",
    "b = 'World'\n",
    "print(a + \" \" + b)\n",
    "\n",
    "a = 'String'\n",
    "print(a * 3)\n",
    "\n",
    "a = 'ABCDEF'\n",
    "print(a[2:4])"
   ]
  },
  {
   "cell_type": "code",
   "execution_count": 21,
   "metadata": {},
   "outputs": [
    {
     "name": "stdout",
     "output_type": "stream",
     "text": [
      "(1, 2, 3, 4)\n"
     ]
    }
   ],
   "source": [
    "'''\n",
    "2. Tuple\n",
    "-  튜플 자료형은 리스트와 유사하지만, 다음과 같은 문법적 차이.\n",
    "- 한번 선언된 값을 변경 불가.\n",
    "- 리스트는 []를 이용하지만, 튜플은 ()를 이용.\n",
    "- 리스트에 비해 상대적으로 공간 효율적.\n",
    "'''\n",
    "a = (1,2,3,4)\n",
    "print(a)\n",
    "# a[2] = 7"
   ]
  },
  {
   "cell_type": "code",
   "execution_count": 25,
   "metadata": {},
   "outputs": [
    {
     "name": "stdout",
     "output_type": "stream",
     "text": [
      "{'사과': 'Apple', '바나나': 'Banana', '코코넛': 'Coconut'}\n",
      "dict_keys(['사과', '바나나', '코코넛'])\n",
      "dict_values(['Apple', 'Banana', 'Coconut'])\n",
      "['사과', '바나나', '코코넛']\n",
      "['Apple', 'Banana', 'Coconut']\n"
     ]
    }
   ],
   "source": [
    "'''\n",
    "3. Dict\n",
    "- 사전 자료형은 Key와 Value의 쌍을 데이터로 가지는 자료형.\n",
    "- 앞서 다루었던 리스트나 튜플이 값을 순차적으로 저장하는 것과 대비.\n",
    "- 사전 자료형은 키와 값의 쌍을 데이터로 가지며, 원하는 '변경 불가능한(Immutable)\n",
    "자료형'을 키로 사용할 수 있음.\n",
    "- 파이썬의 사전 자료형은 해시 테이블(Hash Table)을 이용하므로 데이터\n",
    "의 검색 및 수정에 있어서 O(1)의 시간에 처리 가능.\n",
    "- 사전 자료형에서는 키와 값을 별도로 뽑아내기 위한 메소드 지원.\n",
    "- 키 데이터만 뽑아서 리스트로 이용할 때는 keys() 함수 이용.\n",
    "- 값 데이터만을 뽑아서 리스트로 이용할 때는 values() 함수 이용.\n",
    "'''\n",
    "data = dict()\n",
    "data['사과'] = 'Apple'\n",
    "data['바나나'] = 'Banana'\n",
    "data['코코넛'] = 'Coconut'\n",
    "\n",
    "print(data)\n",
    "print(data.keys())\n",
    "print(data.values())\n",
    "print(list(data.keys()))\n",
    "print(list(data.values()))"
   ]
  },
  {
   "cell_type": "code",
   "execution_count": 30,
   "metadata": {},
   "outputs": [
    {
     "name": "stdout",
     "output_type": "stream",
     "text": [
      "{1, 2, 3, 4, 5}\n",
      "{1, 2, 3, 4, 5}\n",
      "{1, 2, 3, 4, 5, 6, 7}\n",
      "{3, 4, 5}\n",
      "{1, 2}\n",
      "{1, 2, 3}\n",
      "{1, 2, 3, 4}\n",
      "{1, 2, 3, 4, 5, 6}\n",
      "{1, 2, 4, 5, 6}\n",
      "{0, 1, 2, 3}\n"
     ]
    }
   ],
   "source": [
    "'''\n",
    "4. Set\n",
    "- 중복 허용 X.\n",
    "- 순서 X.\n",
    "- 리스트나 튜플은 순서가 있기 때문에 인덱싱을 통해 자료형의 값 얻을\n",
    "수 있음.\n",
    "- Dict와 Set은 순서 없어서 인덱싱으로 값 얻을 수 없음.\n",
    "- Set은 리스트 혹은 문자열을 이용해서 쵝화 가능.\n",
    "- 이때, set() 함수 이용.\n",
    "- 혹은 {} 안에 각 원소를 ,를 기준으로 구분하여 삽입하여 초기화 가능.\n",
    "'''\n",
    "\n",
    "# set 초기화 방법 1\n",
    "data = set([1, 1, 2, 3, 4, 4, 5])\n",
    "print(data)\n",
    "\n",
    "# set 초기화 방법 2\n",
    "data = {1, 1, 2, 3, 4, 4, 5}\n",
    "print(data)\n",
    "\n",
    "a = set([1, 2, 3, 4, 5])\n",
    "b = set([3, 4, 5, 6, 7])\n",
    "\n",
    "# 합집합\n",
    "print(a | b)\n",
    "\n",
    "# 교집합\n",
    "print(a & b)\n",
    "\n",
    "# 차집합\n",
    "print(a - b)\n",
    "\n",
    "data = set([1,2,3])\n",
    "print(data)\n",
    "\n",
    "# 새로운 원소 추가\n",
    "data.add(4)\n",
    "print(data)\n",
    "\n",
    "# 새로운 원소 여러 개 추가\n",
    "data.update([5,6])\n",
    "print(data)\n",
    "\n",
    "# 특정한 값을 갖는 원소 삭제\n",
    "data.remove(3)\n",
    "print(data)\n",
    "\n",
    "a = {1,2,3}\n",
    "a.add(0) # 뒤쪽에 넣지 않음.\n",
    "print(a) "
   ]
  },
  {
   "cell_type": "code",
   "execution_count": 32,
   "metadata": {},
   "outputs": [
    {
     "name": "stdout",
     "output_type": "stream",
     "text": [
      "1 3 9 32 5\n",
      "1 3 9 32 5\n",
      "1 3 9 32 5\n",
      "[1, 3, 9, 32, 5]\n"
     ]
    }
   ],
   "source": [
    "'''\n",
    "< 기본 입출력>\n",
    "- 모든 프로그램은 적절한 (약속된) 입출력 양식 있음.\n",
    "- 프로그램 동작의 첫번째 단계는 데이터를 입력받거나 생성하는 것.\n",
    "\n",
    "< 자주 사용되는 표준 입력 방법 >\n",
    "- input() 함수는 한 줄의 문자열을 입력 받는 함수.\n",
    "- map() 함수는 리스트의 모든 원소에 각각 특정한 함수를 적용할 때 사용.\n",
    "- 공백을 기준으로 구분된 데이터를 입력받을 때는 다음과 같이\n",
    ": list(map(int, input.split()))\n",
    "- 공백을 기준으로 구분된 데이터의 개수가 많지 안핟면, 다음과 같이\n",
    ": a, b, c = map(int, input().split())\n",
    "'''\n",
    "\n",
    "# 입력: 1 2 3 4 5\n",
    "# input().split(): '1', '2', '3', '4', '5'\n",
    "# map(int, input().split()): map([1,2,3,4,5])\n",
    "a,b,c,d,e = map(int, input().split())\n",
    "print(a,b,c,d,e)\n",
    "print(\" \")\n",
    "\n",
    "# 리스트로 붙여서 받을 수도 있음.\n",
    "f = list(map(int, input().split()))\n",
    "print(f)"
   ]
  },
  {
   "cell_type": "code",
   "execution_count": 34,
   "metadata": {},
   "outputs": [
    {
     "name": "stdout",
     "output_type": "stream",
     "text": [
      "\n",
      "8\n",
      "10\n",
      " \n",
      "8 10\n"
     ]
    }
   ],
   "source": [
    "'''\n",
    "< 빠르게 입력 받기 >\n",
    "- 사용자로부터 입력을 최대한 빠르게 받아야 하는 경우\n",
    "- 파이썬의 경우 sys 라이브러리에 정의되어 있는 sys.stdin.readline()\n",
    "메소드 이용.\n",
    "- 단, 입력 후 엔터(Enter)가 줄바꿈 기호로 입력되므로 rstrip()메소드\n",
    "함께 사용.\n",
    "'''\n",
    "import sys\n",
    "\n",
    "# 문자열 입력 받기\n",
    "data = sys.stdin.readline().rstrip()\n",
    "print(data)\n",
    "\n",
    "'''\n",
    "< 자주 사용되는 표준 출력 방법 >\n",
    "- 파이썬에서 기본 출력은 print() 함수를 이용.\n",
    "- 각 변수를 콤마(,)를 이용하여 띄어쓰기로 구분하여 출력.\n",
    "- print()는 기본적으로 출력 이후에 줄바꿈을 수행.\n",
    "- 줄바꿈을 원치 않는 경우 'end' 속성 이용.\n",
    "'''\n",
    "print(8)\n",
    "print(10)\n",
    "\n",
    "print(\" \")\n",
    "\n",
    "print(8, end=' ')\n",
    "print(10)"
   ]
  },
  {
   "cell_type": "code",
   "execution_count": 36,
   "metadata": {},
   "outputs": [
    {
     "name": "stdout",
     "output_type": "stream",
     "text": [
      "Success\n"
     ]
    }
   ],
   "source": [
    "'''\n",
    "< 조건문의 간소화 >\n",
    "- 조건문에서 실행될 소스코드가 한 줄일 경우, 굳이 줄바꿈 하지 않고도\n",
    "간략하게 표현 가능.\n",
    "'''\n",
    "score = 85\n",
    "if score >= 80: result= 'Success'\n",
    "else: result = 'Fail'\n",
    "\n",
    "'''\n",
    "- 조건부 표현식(Conditional Expression)은 if~else문을\n",
    "한 줄에 작성할 수 있도록 해줌.\n",
    "'''\n",
    "score = 85\n",
    "result = \"Success\" if score >=80 else \"Fail\"\n",
    "print(result)"
   ]
  },
  {
   "cell_type": "code",
   "execution_count": 37,
   "metadata": {},
   "outputs": [
    {
     "name": "stdout",
     "output_type": "stream",
     "text": [
      "10\n"
     ]
    }
   ],
   "source": [
    "'''\n",
    "< global 키워드 >\n",
    "- global 키워드로 변수를 지정하면 해당 함수에서는 지역 변수를 만들지\n",
    "않고, 함수 바깥에 선언된 변수를 바로 참조하게 됨.\n",
    "'''\n",
    "a = 0\n",
    "def func():\n",
    "    global a\n",
    "    a += 1\n",
    "\n",
    "for i in range(10):\n",
    "    func()\n",
    "print(a)"
   ]
  },
  {
   "cell_type": "code",
   "execution_count": 40,
   "metadata": {},
   "outputs": [
    {
     "name": "stdout",
     "output_type": "stream",
     "text": [
      "10\n",
      "10\n",
      " \n",
      "[('이순신', 32), ('홍길동', 50), ('아무개', 74)]\n",
      "[('이순신', 32), ('홍길동', 50), ('아무개', 74)]\n",
      " \n",
      "[7, 9, 11, 13, 15]\n"
     ]
    }
   ],
   "source": [
    "'''\n",
    "< 람다 표현식 >\n",
    "- 람다 표현식을 이용하면 함수를 매우 간단하게 작성 가능.\n",
    "- 특정한 기능을 수해하는 함수를 한 줄에 작성할 수 있음.\n",
    "'''\n",
    "def add(a,b):\n",
    "    return a+b\n",
    "\n",
    "# 일반적인 add 메소드 이용.\n",
    "print(add(3,7))\n",
    "\n",
    "# 람다 표현식으로 구성한 add() 메소드\n",
    "print((lambda a, b: a+b)(3,7))\n",
    "print(\" \")\n",
    "\n",
    "'''\n",
    "<람다 표현식 예시: 내장 함수에서 자주 사용되는 람다 함수>\n",
    "'''\n",
    "array = [('홍길동', 50), ('이순신', 32), ('아무개', 74)]\n",
    "\n",
    "def my_key(x):\n",
    "    return x[1]\n",
    "\n",
    "print(sorted(array, key=my_key)) # 점수에 따라 오름차숨 정렬\n",
    "print(sorted(array, key=lambda x:x[1]))\n",
    "print(\" \")\n",
    "\n",
    "'''\n",
    "<람다 표현식 예시: 여러 개의 리스트에 적용>\n",
    "'''\n",
    "list1 = [1,2,3,4,5]\n",
    "list2 = [6,7,8,9,10]\n",
    "result = map(lambda a,b: a+b, list1, list2)\n",
    "print(list(result))"
   ]
  },
  {
   "cell_type": "code",
   "execution_count": 44,
   "metadata": {},
   "outputs": [
    {
     "name": "stdout",
     "output_type": "stream",
     "text": [
      "15\n",
      " \n",
      "56\n",
      " \n",
      "[1, 4, 5, 8, 9]\n",
      "[9, 8, 5, 4, 1]\n",
      " \n",
      "[('이순신', 75), ('아무개', 50), ('홍길동', 35)]\n"
     ]
    }
   ],
   "source": [
    "'''\n",
    "< 특히 유용한 표준 라이브러리 >\n",
    "- 내장 함수\n",
    ": print(), input()과 같은 기본 입출력 기능부터 sorted()와 같은 정렬 기능\n",
    "을 포함하고 있는 기본 내장 라이브러리, 파이썬 프로그램을 작성할 때 없어서\n",
    "는 안되는 필수 기능 포함하고 있음.\n",
    "\n",
    "- itertools\n",
    ": 파이썬에서 반복되는 형태의 데이터를 처리하는 기능을 제공하는 라이브러리.\n",
    "순열과 조합 라이브러리를 제공.\n",
    "\n",
    "- heapq\n",
    ": Heap 기능을 제공하는 라이브러리. 우선순위 큐 기능을 구현하기 위해 사용.\n",
    "\n",
    "- bisect\n",
    ": 이진 탐색(Binary Search) 기능을 제공하는 라이브러리.\n",
    "\n",
    "- collections\n",
    ": deque, Counter 등의 유용한 자료구조를 포함하고 있는 라이브러리.\n",
    "'''\n",
    "\n",
    "# 자주 사용되는 내장 함수\n",
    "\n",
    "# sum()\n",
    "print(sum([1,2,3,4,5]))\n",
    "print(\" \")\n",
    "\n",
    "# eval()\n",
    "result = eval(\"(3+5)*7\")\n",
    "print(result)\n",
    "print(\" \")\n",
    "\n",
    "# sorted()\n",
    "result = sorted([9,1,8,5,4])\n",
    "reverse_result = sorted([9,1,8,5,4], reverse=True)\n",
    "print(result)\n",
    "print(reverse_result)\n",
    "print(\" \")\n",
    "\n",
    "# sorted() with key\n",
    "array = [('홍길동', 35), ('이순신', 75), ('아무개', 50)]\n",
    "result = sorted(array, key=lambda x:x[1], reverse=True)\n",
    "print(result)"
   ]
  },
  {
   "cell_type": "code",
   "execution_count": 47,
   "metadata": {},
   "outputs": [
    {
     "name": "stdout",
     "output_type": "stream",
     "text": [
      "[('A', 'B', 'C'), ('A', 'C', 'B'), ('B', 'A', 'C'), ('B', 'C', 'A'), ('C', 'A', 'B'), ('C', 'B', 'A')]\n",
      "[('A', 'B'), ('A', 'C'), ('B', 'C')]\n",
      "[('A', 'A'), ('A', 'B'), ('A', 'C'), ('B', 'A'), ('B', 'B'), ('B', 'C'), ('C', 'A'), ('C', 'B'), ('C', 'C')]\n",
      "[('A', 'A'), ('A', 'B'), ('A', 'C'), ('B', 'B'), ('B', 'C'), ('C', 'C')]\n"
     ]
    }
   ],
   "source": [
    "'''\n",
    "< 순열과 조합 >\n",
    "- 모든 경우의 수를 고려해야 할 때 어떤 라이브러리를 효과적으로 사용?\n",
    "\n",
    "- 순열(nPr): 서로 다른 n개에서 서로 다른 r개를 선택하여 일렬로 나열하는 것.\n",
    "(A,B,C): 'ABC', 'ACB', 'BAC', 'BCA', 'CAB', 'CBA'\n",
    "\n",
    "- 조합(nCr): 서로 다른 n개에서 순서에 상관없이 서로 다른 r개를 선택하는 것.\n",
    "(A,B,C)에서 순서 고려하지 않고 두개 뽑는 경우: 'AB', 'AC', 'BC'\n",
    "'''\n",
    "\n",
    "from itertools import permutations, combinations, product, combinations_with_replacement\n",
    "\n",
    "data = ['A', 'B', 'C']\n",
    "result = list(permutations(data, 3)) # 모든 순열 구하기\n",
    "print(result)\n",
    "\n",
    "result = list(combinations(data, 2))\n",
    "print(result)\n",
    "\n",
    "result = list(product(data, repeat=2)) # 2개를 뽑는 모든 순열 (중복허용)\n",
    "print(result)\n",
    "\n",
    "result = list(combinations_with_replacement(data, 2))\n",
    "# 2개를 뽑는 모든 조합 구하기 (중복 허용)\n",
    "print(result)"
   ]
  },
  {
   "cell_type": "code",
   "execution_count": null,
   "metadata": {},
   "outputs": [],
   "source": []
  }
 ],
 "metadata": {
  "kernelspec": {
   "display_name": "Python 3",
   "language": "python",
   "name": "python3"
  },
  "language_info": {
   "codemirror_mode": {
    "name": "ipython",
    "version": 3
   },
   "file_extension": ".py",
   "mimetype": "text/x-python",
   "name": "python",
   "nbconvert_exporter": "python",
   "pygments_lexer": "ipython3",
   "version": "3.8.1"
  }
 },
 "nbformat": 4,
 "nbformat_minor": 4
}
